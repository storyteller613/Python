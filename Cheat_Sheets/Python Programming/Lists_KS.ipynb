{
 "cells": [
  {
   "cell_type": "markdown",
   "metadata": {},
   "source": [
    "**Contents:**\n",
    "* [Creating Lists](#0)\n",
    "* [Iterating Over A List](#1)\n",
    "* [List Methods: .append(), .extend(), .insert(index,)](#2)\n",
    "* [List Methods: .clear(), .pop(), .remove()](#3)\n",
    "* [List Methods: .index(), .count(), .sort(), .reverse(), .join()](#4)\n",
    "* [Slicing](#5)\n",
    "* [Swapping Values](#6)\n",
    "* [List Comprehension](#7)\n",
    "* [](#8)\n",
    "* [](#9)\n",
    "* [](#10)"
   ]
  },
  {
   "cell_type": "markdown",
   "metadata": {},
   "source": [
    "<a id='0'></a>\n",
    "## Creating Lists"
   ]
  },
  {
   "cell_type": "code",
   "execution_count": 37,
   "metadata": {
    "collapsed": true
   },
   "outputs": [],
   "source": [
    "#Creating List Exercise\n",
    "# Define my_stuff \n",
    "my_stuff = ['s', 7.5, True, 'f']\n",
    "\n",
    "# Define nums \n",
    "nums = list(range(1,100))"
   ]
  },
  {
   "cell_type": "code",
   "execution_count": 38,
   "metadata": {
    "collapsed": true
   },
   "outputs": [],
   "source": [
    "#Accessing List Data\n",
    "# DON'T TOUCH THIS PLEASE!\n",
    "people = [\"Hanna\",\"Louisa\",\"Claudia\", \"Angela\",\"Geoffrey\", \"aparna\"]\n",
    "# DON'T TOUCH THIS PLEASE!\n",
    "\n",
    "#Change \"Hanna\" to \"Hannah\"\n",
    "people[0] = \"Hannah\"\n",
    "\n",
    "#Change \"Geoffrey\" to \"Jeffrey\"\n",
    "people[-2] = \"Jeffrey\"\n",
    "\n",
    "#Change \"aparna\" to \"Aparna\" (capitalize it)\n",
    "people[-1] = \"Aparna\""
   ]
  },
  {
   "cell_type": "markdown",
   "metadata": {},
   "source": [
    "<a id='1'></a>\n",
    "## Iterating Over A List"
   ]
  },
  {
   "cell_type": "code",
   "execution_count": 39,
   "metadata": {},
   "outputs": [
    {
     "name": "stdout",
     "output_type": "stream",
     "text": [
      "1\n",
      "2\n",
      "3\n",
      "4\n"
     ]
    }
   ],
   "source": [
    "numbers = [1,2,3,4]\n",
    "i = 0\n",
    "\n",
    "while i < len(numbers):\n",
    "\tprint(numbers[i])\n",
    "\ti += 1"
   ]
  },
  {
   "cell_type": "code",
   "execution_count": 40,
   "metadata": {},
   "outputs": [
    {
     "name": "stdout",
     "output_type": "stream",
     "text": [
      "SUPERCALIFRAGILISTICEXPIALIDOCIOUS\n"
     ]
    }
   ],
   "source": [
    "sounds = [\"super\", \"cali\", \"fragil\", \"istic\", \"expi\", \"ali\", \"docious\"]\n",
    "\n",
    "result = ''\n",
    "# Define your code below:\n",
    "for item in sounds:\n",
    "    result += item.upper()\n",
    "print(result)"
   ]
  },
  {
   "cell_type": "markdown",
   "metadata": {},
   "source": [
    "<a id='2'></a>\n",
    "## List Methods: .append(), .extend(), .insert(index,)"
   ]
  },
  {
   "cell_type": "code",
   "execution_count": 41,
   "metadata": {},
   "outputs": [
    {
     "data": {
      "text/plain": [
       "['Colt', 'Blue', 'Lisa']"
      ]
     },
     "execution_count": 41,
     "metadata": {},
     "output_type": "execute_result"
    }
   ],
   "source": [
    "# Create a list called instructors\n",
    "\n",
    "# Add the following strings to the instructors list \n",
    "    # \"Colt\"\n",
    "    # \"Blue\"\n",
    "    # \"Lisa\"\n",
    "\n",
    "# Run the tests to make sure you've done this correctly!\n",
    "instructors = []\n",
    "instructors.extend(['Colt', 'Blue', 'Lisa'])\n",
    "instructors"
   ]
  },
  {
   "cell_type": "code",
   "execution_count": 42,
   "metadata": {},
   "outputs": [
    {
     "data": {
      "text/plain": [
       "['Colt', 'Blue', 'Lisa']"
      ]
     },
     "execution_count": 42,
     "metadata": {},
     "output_type": "execute_result"
    }
   ],
   "source": [
    "# Create a list called instructors\n",
    "\n",
    "# Add the following strings to the instructors list \n",
    "    # \"Colt\"\n",
    "    # \"Blue\"\n",
    "    # \"Lisa\"\n",
    "\n",
    "# Run the tests to make sure you've done this correctly!\n",
    "instructors = []\n",
    "instructors.append('Colt')\n",
    "instructors.append('Blue')\n",
    "instructors.append('Lisa')\n",
    "instructors"
   ]
  },
  {
   "cell_type": "markdown",
   "metadata": {},
   "source": [
    "<a id='3'></a>\n",
    "## List Methods: .clear(), .pop(), .remove()\n",
    "\n",
    ".clear(): removes all items from the list\n",
    ".pop(): remove the item at the given position or default remove last item\n",
    ".remove(): remove the first item from the list whose value is x"
   ]
  },
  {
   "cell_type": "markdown",
   "metadata": {},
   "source": [
    "<a id='4'></a>\n",
    "## List Methods: .index(), .count(), .sort(), .reverse(), .join()\n",
    "\n",
    "index: returns the index of the specified item in the list, can specify start and end\n",
    "\tnumbers.index(8, 6, 8) finds index of number from index 6 to index 8\n",
    "count: return the number of timex x appears in the list\n",
    "reverse: reverse the elements of the list (in-place)\n",
    "sort: sort the tiems of the list (in-place), default ascending order\n",
    "join: concatenates a copy of the base string between each item of the iterable\n",
    "\twords = ['Coding', 'Is', 'Fun!'], ' '.join(words) 'Coding is Fun!'"
   ]
  },
  {
   "cell_type": "code",
   "execution_count": 43,
   "metadata": {
    "collapsed": true
   },
   "outputs": [],
   "source": [
    "# Create a list called instructors\n",
    "instructors = []\n",
    " \n",
    "# Add the following strings to the instructors list \n",
    "    # \"Colt\"\n",
    "    # \"Blue\"\n",
    "    # \"Lisa\"\n",
    "instructors.extend([\"Colt\", \"Blue\", \"Lisa\"])\n",
    " \n",
    "# Remove the last value in the list\n",
    "instructors.pop()\n",
    " \n",
    "# Remove the first value in the list\n",
    "instructors.pop(0)\n",
    " \n",
    "# Add the string \"Done\" to the beginning of the list\n",
    "instructors.insert(0, 'Done')"
   ]
  },
  {
   "cell_type": "markdown",
   "metadata": {},
   "source": [
    "<a id='5'></a>\n",
    "## Slicing\n",
    "\n"
   ]
  },
  {
   "cell_type": "markdown",
   "metadata": {},
   "source": [
    "<a id='6'></a>\n",
    "## Swapping Values\n",
    "\n",
    "names = [\"James\", \"Michelle\"]\n",
    "names[0], names[1] = names[1], names[0]\n",
    "print(names)"
   ]
  },
  {
   "cell_type": "markdown",
   "metadata": {},
   "source": [
    "<a id='7'></a>\n",
    "## List Comprehension: \n",
    "\n",
    "[____ for ____ in _____]\n",
    "[x*10 for x in nums]"
   ]
  },
  {
   "cell_type": "code",
   "execution_count": 44,
   "metadata": {},
   "outputs": [
    {
     "name": "stdout",
     "output_type": "stream",
     "text": [
      "[2, 4, 6, 8, 10]\n"
     ]
    }
   ],
   "source": [
    "numbers = [1,2,3,4,5]\n",
    "doubled_numbers = []\n",
    "for num in numbers:\n",
    "    doubled_number = num * 2\n",
    "    doubled_numbers.append(doubled_number)\n",
    "print(doubled_numbers)"
   ]
  },
  {
   "cell_type": "code",
   "execution_count": 45,
   "metadata": {},
   "outputs": [
    {
     "name": "stdout",
     "output_type": "stream",
     "text": [
      "[2, 4, 6, 8, 10]\n"
     ]
    }
   ],
   "source": [
    "numbers = [1,2,3,4,5]\n",
    "doubled_numbers = [num * 2 for num in numbers]\n",
    "print(doubled_numbers)"
   ]
  },
  {
   "cell_type": "code",
   "execution_count": 46,
   "metadata": {},
   "outputs": [
    {
     "data": {
      "text/plain": [
       "['C', 'O', 'L', 'T']"
      ]
     },
     "execution_count": 46,
     "metadata": {},
     "output_type": "execute_result"
    }
   ],
   "source": [
    "name = 'colt'\n",
    "[char.upper() for char in name] #['C', 'O', 'L', 'T']"
   ]
  },
  {
   "cell_type": "code",
   "execution_count": 47,
   "metadata": {},
   "outputs": [
    {
     "data": {
      "text/plain": [
       "['A', 'M', 'M']"
      ]
     },
     "execution_count": 47,
     "metadata": {},
     "output_type": "execute_result"
    }
   ],
   "source": [
    "friends = ['ashley', 'matt', 'michael']\n",
    "[friend[0].upper() for friend in friends] #['Ashley', 'Matt', 'Michael']"
   ]
  },
  {
   "cell_type": "code",
   "execution_count": 48,
   "metadata": {},
   "outputs": [
    {
     "data": {
      "text/plain": [
       "[10, 20, 30, 40, 50]"
      ]
     },
     "execution_count": 48,
     "metadata": {},
     "output_type": "execute_result"
    }
   ],
   "source": [
    "[num*10 for num in range(1,6)] #[10,20,30,40,50]"
   ]
  },
  {
   "cell_type": "code",
   "execution_count": 49,
   "metadata": {},
   "outputs": [
    {
     "data": {
      "text/plain": [
       "[False, False, False]"
      ]
     },
     "execution_count": 49,
     "metadata": {},
     "output_type": "execute_result"
    }
   ],
   "source": [
    "[bool(val) for val in [0, [], '']] #[False, False, False]"
   ]
  },
  {
   "cell_type": "code",
   "execution_count": 50,
   "metadata": {},
   "outputs": [
    {
     "name": "stdout",
     "output_type": "stream",
     "text": [
      "['1', '2', '3', '4', '5']\n"
     ]
    }
   ],
   "source": [
    "numbers = [1,2,3,4,5]\n",
    "string_list = [str(num) for num in numbers]\n",
    "print(string_list) # ['1', '2', '3', '4', '5']"
   ]
  },
  {
   "cell_type": "code",
   "execution_count": null,
   "metadata": {
    "collapsed": true
   },
   "outputs": [],
   "source": []
  },
  {
   "cell_type": "code",
   "execution_count": null,
   "metadata": {
    "collapsed": true
   },
   "outputs": [],
   "source": []
  }
 ],
 "metadata": {
  "kernelspec": {
   "display_name": "Python 3",
   "language": "python",
   "name": "python3"
  },
  "language_info": {
   "codemirror_mode": {
    "name": "ipython",
    "version": 3
   },
   "file_extension": ".py",
   "mimetype": "text/x-python",
   "name": "python",
   "nbconvert_exporter": "python",
   "pygments_lexer": "ipython3",
   "version": "3.6.3"
  }
 },
 "nbformat": 4,
 "nbformat_minor": 2
}
