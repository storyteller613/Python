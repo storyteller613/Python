{
 "cells": [
  {
   "cell_type": "markdown",
   "metadata": {},
   "source": [
    "**Contents:**\n",
    "* [Reading Text Files: Open and Read](#0)\n",
    "* [Cursor Movement](#1)\n",
    "* [The With Statement](#2)\n",
    "* [Writing Files](#3)\n",
    "* [Modes for Opening Files](#4)\n",
    "* [](#5)\n",
    "* [](#6)\n",
    "* [](#7)\n",
    "* [](#8)\n",
    "* [](#9)\n",
    "* [](#10)"
   ]
  },
  {
   "cell_type": "markdown",
   "metadata": {},
   "source": [
    "<a id='0'></a>\n",
    "## Reading Text Files: Open and Read\n",
    "\n",
    "story.txt: This short story is really short.\n",
    "\n",
    "file = open(\"story.txt)\n",
    "file.read()\n",
    "file.close()\n",
    "file.closed #True or False"
   ]
  },
  {
   "cell_type": "markdown",
   "metadata": {},
   "source": [
    "<a id='1'></a>\n",
    "## Cursor Movement\n",
    "\n",
    "file.seek(0) #move cursor to beginning\n",
    "file.readline() #read one line\n",
    "file.readlines() #returns a list of lines"
   ]
  },
  {
   "cell_type": "markdown",
   "metadata": {},
   "source": [
    "<a id='2'></a>\n",
    "## The With Statement\n",
    "\n",
    "with open(\"story.txt\") as file:\n",
    "\tfile.read()\n",
    "\n",
    "file.closed #True, don't have to manual close file"
   ]
  },
  {
   "cell_type": "markdown",
   "metadata": {},
   "source": [
    "<a id='3'></a>\n",
    "## Writing Files"
   ]
  },
  {
   "cell_type": "code",
   "execution_count": 9,
   "metadata": {
    "collapsed": true
   },
   "outputs": [],
   "source": [
    "with open(\"haiku.txt\", \"w\") as file:\n",
    "\tfile.write(\"Writing files is great\\n\")\n",
    "\tfile.write(\"Here's another line of text\\n\")\n",
    "\tfile.write(\"Closing now, goodbye!\")"
   ]
  },
  {
   "cell_type": "code",
   "execution_count": 10,
   "metadata": {
    "collapsed": true
   },
   "outputs": [],
   "source": [
    "with open(\"lol.txt\", \"w\") as file:\n",
    "\tfile.write(\"haha\"*10000)"
   ]
  },
  {
   "cell_type": "markdown",
   "metadata": {
    "collapsed": true
   },
   "source": [
    "<a id='4'></a>\n",
    "## Modes for Opening Files\n",
    "\n",
    "r- Read a file (no writing) - this is the default\n",
    "w- write to a file (previous contents removed)\n",
    "a- Append to a file (previous contents not removed)\n",
    "r+ -Read and write to a file (writing based on cursor); only works with existing file"
   ]
  },
  {
   "cell_type": "code",
   "execution_count": 11,
   "metadata": {
    "collapsed": true
   },
   "outputs": [],
   "source": [
    "#append\n",
    "with open(\"haiku.txt\", \"a\") as file:\n",
    "\tfile.write(\"APPENDING LATER!!!!!\\n\")"
   ]
  },
  {
   "cell_type": "code",
   "execution_count": 12,
   "metadata": {
    "collapsed": true
   },
   "outputs": [],
   "source": [
    "#append\n",
    "with open(\"haiku.txt\", \"a\") as file:\n",
    "\tfile.write(\":)\\n\")"
   ]
  },
  {
   "cell_type": "code",
   "execution_count": 13,
   "metadata": {
    "collapsed": true
   },
   "outputs": [],
   "source": [
    "#appends to the end no matter what\n",
    "with open(\"haiku.txt\", \"a\") as file:\n",
    "    file.seek(0)\n",
    "    file.write(\":)\\n\")"
   ]
  },
  {
   "cell_type": "code",
   "execution_count": 14,
   "metadata": {
    "collapsed": true
   },
   "outputs": [],
   "source": [
    "#r+ to the end no matter what\n",
    "with open(\"haiku.txt\", \"r+\") as file:\n",
    "    file.write(\"ADDED USING r+\\n\")"
   ]
  },
  {
   "cell_type": "code",
   "execution_count": 15,
   "metadata": {
    "collapsed": true
   },
   "outputs": [],
   "source": [
    "#r+ to the end no matter what\n",
    "with open(\"haiku.txt\", \"r+\") as file:\n",
    "    file.write(\":(\")\n",
    "    file.seek(10)\n",
    "    file.write(\":(\")"
   ]
  }
 ],
 "metadata": {
  "kernelspec": {
   "display_name": "Python 3",
   "language": "python",
   "name": "python3"
  },
  "language_info": {
   "codemirror_mode": {
    "name": "ipython",
    "version": 3
   },
   "file_extension": ".py",
   "mimetype": "text/x-python",
   "name": "python",
   "nbconvert_exporter": "python",
   "pygments_lexer": "ipython3",
   "version": "3.6.3"
  }
 },
 "nbformat": 4,
 "nbformat_minor": 2
}
