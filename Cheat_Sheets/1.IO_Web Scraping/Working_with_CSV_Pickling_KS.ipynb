{
 "cells": [
  {
   "cell_type": "markdown",
   "metadata": {},
   "source": [
    "**Contents:**\n",
    "* [Reading CSV Files](#0)\n",
    "* [Writing to CSV Files](#1)\n",
    "* [Writing CSV FIles Using Dictionaries](#2)\n",
    "* [Pickling](#3)\n",
    "* [Extra Fancy JSON Pickling](#4)\n",
    "* [](#5)\n",
    "* [](#6)\n",
    "* [](#7)\n",
    "* [](#8)\n",
    "* [](#9)\n",
    "* [](#10)"
   ]
  },
  {
   "cell_type": "markdown",
   "metadata": {},
   "source": [
    "<a id='0'></a>\n",
    "## Reading CSV Files\n",
    "\n",
    "reader - lets you iterate over rows of the CSV as lists\n",
    "DictReader - lets you iterate over rows of the CSV as OrderedDicts"
   ]
  },
  {
   "cell_type": "code",
   "execution_count": 29,
   "metadata": {},
   "outputs": [
    {
     "name": "stdout",
     "output_type": "stream",
     "text": [
      "['Name', 'Country', 'Height (in cm)']\n",
      "['Ryu', 'Japan', '175']\n",
      "['Ken', 'USA', '175']\n",
      "['Chun-Li', 'China', '165']\n",
      "['Guile', 'USA', '182']\n",
      "['E. Honda', 'Japan', '185']\n",
      "['Dhalsim', 'India', '176']\n",
      "['Blanka', 'Brazil', '192']\n",
      "['Zangief', 'Russia', '214']\n"
     ]
    }
   ],
   "source": [
    "#reader\n",
    "from csv import reader\n",
    "with open(\"fighters.csv\") as file:\n",
    "\tcsv_reader = reader(file)\n",
    "\tfor row in csv_reader:\n",
    "\t\t#each row is a list!\n",
    "\t\tprint(row)"
   ]
  },
  {
   "cell_type": "code",
   "execution_count": 30,
   "metadata": {},
   "outputs": [
    {
     "name": "stdout",
     "output_type": "stream",
     "text": [
      "Name is from Country\n",
      "Ryu is from Japan\n",
      "Ken is from USA\n",
      "Chun-Li is from China\n",
      "Guile is from USA\n",
      "E. Honda is from Japan\n",
      "Dhalsim is from India\n",
      "Blanka is from Brazil\n",
      "Zangief is from Russia\n"
     ]
    }
   ],
   "source": [
    "from csv import reader\n",
    "with open(\"fighters.csv\") as file:\n",
    "\tcsv_reader = reader(file)\n",
    "\tfor fighters in csv_reader:\n",
    "\t\tprint(f\"{fighters[0]} is from {fighters[1]}\")\n",
    "\t\t#each row is a list!\n",
    "\t\t#print(row)"
   ]
  },
  {
   "cell_type": "code",
   "execution_count": 31,
   "metadata": {},
   "outputs": [
    {
     "name": "stdout",
     "output_type": "stream",
     "text": [
      "[['Name', 'Country', 'Height (in cm)'], ['Ryu', 'Japan', '175'], ['Ken', 'USA', '175'], ['Chun-Li', 'China', '165'], ['Guile', 'USA', '182'], ['E. Honda', 'Japan', '185'], ['Dhalsim', 'India', '176'], ['Blanka', 'Brazil', '192'], ['Zangief', 'Russia', '214']]\n"
     ]
    }
   ],
   "source": [
    "from csv import reader\n",
    "with open(\"fighters.csv\") as file:\n",
    "    csv_reader = reader(file)\n",
    "    data = list(csv_reader)\n",
    "    print(data)"
   ]
  },
  {
   "cell_type": "code",
   "execution_count": 32,
   "metadata": {},
   "outputs": [
    {
     "name": "stdout",
     "output_type": "stream",
     "text": [
      "OrderedDict([('Name', 'Ryu'), ('Country', 'Japan'), ('Height (in cm)', '175')])\n",
      "OrderedDict([('Name', 'Ken'), ('Country', 'USA'), ('Height (in cm)', '175')])\n",
      "OrderedDict([('Name', 'Chun-Li'), ('Country', 'China'), ('Height (in cm)', '165')])\n",
      "OrderedDict([('Name', 'Guile'), ('Country', 'USA'), ('Height (in cm)', '182')])\n",
      "OrderedDict([('Name', 'E. Honda'), ('Country', 'Japan'), ('Height (in cm)', '185')])\n",
      "OrderedDict([('Name', 'Dhalsim'), ('Country', 'India'), ('Height (in cm)', '176')])\n",
      "OrderedDict([('Name', 'Blanka'), ('Country', 'Brazil'), ('Height (in cm)', '192')])\n",
      "OrderedDict([('Name', 'Zangief'), ('Country', 'Russia'), ('Height (in cm)', '214')])\n"
     ]
    }
   ],
   "source": [
    "#DictReader\n",
    "from csv import DictReader\n",
    "with open(\"fighters.csv\") as file:\n",
    "\tcsv_reader = DictReader(file)\n",
    "\tfor row in csv_reader:\n",
    "\t\t#each row is an OrderedDict!\n",
    "\t\tprint(row)"
   ]
  },
  {
   "cell_type": "code",
   "execution_count": 33,
   "metadata": {},
   "outputs": [
    {
     "name": "stdout",
     "output_type": "stream",
     "text": [
      "Ryu\n",
      "Ken\n",
      "Chun-Li\n",
      "Guile\n",
      "E. Honda\n",
      "Dhalsim\n",
      "Blanka\n",
      "Zangief\n"
     ]
    }
   ],
   "source": [
    "from csv import DictReader\n",
    "with open(\"fighters.csv\") as file:\n",
    "\tcsv_reader = DictReader(file)\n",
    "\tfor row in csv_reader:\n",
    "\t\t#each row is an OrderedDict!\n",
    "\t\tprint(row['Name'])"
   ]
  },
  {
   "cell_type": "code",
   "execution_count": 34,
   "metadata": {},
   "outputs": [
    {
     "name": "stdout",
     "output_type": "stream",
     "text": [
      "['Name', 'Country', 'Height (in cm)']\n",
      "['Ryu', 'Japan', '175']\n",
      "['Ken', 'USA', '175']\n",
      "['Chun-Li', 'China', '165']\n",
      "['Guile', 'USA', '182']\n",
      "['E. Honda', 'Japan', '185']\n",
      "['Dhalsim', 'India', '176']\n",
      "['Blanka', 'Brazil', '192']\n",
      "['Zangief', 'Russia', '214']\n"
     ]
    }
   ],
   "source": [
    "from csv import reader\n",
    "with open(\"fighters_1.csv\") as file:\n",
    "\tcsv_reader = reader(file, delimiter=\"|\")\n",
    "\tfor row in csv_reader:\n",
    "\t\t#each row is a list!\n",
    "\t\tprint(row)"
   ]
  },
  {
   "cell_type": "markdown",
   "metadata": {},
   "source": [
    "<a id='1'></a>\n",
    "## Writing to CSV Files\n",
    "\n",
    "writer - creates a writer object for writing to CSV\n",
    "writerow - method on a writer to write a row to the CSV"
   ]
  },
  {
   "cell_type": "code",
   "execution_count": 35,
   "metadata": {},
   "outputs": [
    {
     "ename": "PermissionError",
     "evalue": "[Errno 13] Permission denied: 'cats.csv'",
     "output_type": "error",
     "traceback": [
      "\u001b[1;31m---------------------------------------------------------------------------\u001b[0m",
      "\u001b[1;31mPermissionError\u001b[0m                           Traceback (most recent call last)",
      "\u001b[1;32m<ipython-input-35-6bf2126e2ad6>\u001b[0m in \u001b[0;36m<module>\u001b[1;34m()\u001b[0m\n\u001b[0;32m      1\u001b[0m \u001b[1;32mfrom\u001b[0m \u001b[0mcsv\u001b[0m \u001b[1;32mimport\u001b[0m \u001b[0mwriter\u001b[0m\u001b[1;33m\u001b[0m\u001b[0m\n\u001b[1;32m----> 2\u001b[1;33m \u001b[1;32mwith\u001b[0m \u001b[0mopen\u001b[0m\u001b[1;33m(\u001b[0m\u001b[1;34m\"cats.csv\"\u001b[0m\u001b[1;33m,\u001b[0m \u001b[1;34m\"w\"\u001b[0m\u001b[1;33m)\u001b[0m \u001b[1;32mas\u001b[0m \u001b[0mfile\u001b[0m\u001b[1;33m:\u001b[0m\u001b[1;33m\u001b[0m\u001b[0m\n\u001b[0m\u001b[0;32m      3\u001b[0m         \u001b[0mcsv_writer\u001b[0m \u001b[1;33m=\u001b[0m \u001b[0mwriter\u001b[0m\u001b[1;33m(\u001b[0m\u001b[0mfile\u001b[0m\u001b[1;33m)\u001b[0m\u001b[1;33m\u001b[0m\u001b[0m\n\u001b[0;32m      4\u001b[0m         \u001b[0mcsv_writer\u001b[0m\u001b[1;33m.\u001b[0m\u001b[0mwriterow\u001b[0m\u001b[1;33m(\u001b[0m\u001b[1;33m[\u001b[0m\u001b[1;34m\"Name\"\u001b[0m\u001b[1;33m,\u001b[0m \u001b[1;34m\"Age\"\u001b[0m\u001b[1;33m]\u001b[0m\u001b[1;33m)\u001b[0m\u001b[1;33m\u001b[0m\u001b[0m\n\u001b[0;32m      5\u001b[0m         \u001b[0mcsv_writer\u001b[0m\u001b[1;33m.\u001b[0m\u001b[0mwriterow\u001b[0m\u001b[1;33m(\u001b[0m\u001b[1;33m[\u001b[0m\u001b[1;34m\"Blue\"\u001b[0m\u001b[1;33m,\u001b[0m \u001b[1;36m3\u001b[0m\u001b[1;33m]\u001b[0m\u001b[1;33m)\u001b[0m\u001b[1;33m\u001b[0m\u001b[0m\n",
      "\u001b[1;31mPermissionError\u001b[0m: [Errno 13] Permission denied: 'cats.csv'"
     ]
    }
   ],
   "source": [
    "from csv import writer\n",
    "with open(\"cats.csv\", \"w\") as file:\n",
    "\tcsv_writer = writer(file)\n",
    "\tcsv_writer.writerow([\"Name\", \"Age\"])\n",
    "\tcsv_writer.writerow([\"Blue\", 3])\n",
    "\tcsv_writer.writerow([\"Kitty\", 1])"
   ]
  },
  {
   "cell_type": "code",
   "execution_count": null,
   "metadata": {
    "collapsed": true
   },
   "outputs": [],
   "source": [
    "#capitalize fighers\n",
    "from csv import reader, writer\n",
    "# using nested with statements\n",
    "with open('fighters.csv') as file:\n",
    "\tcsv_reader = reader(file) #data never converted to list\n",
    "\twith open('screaming_fighters.csv', \"w\") as file:\n",
    "\t\tcsv_writer = writer(file)\n",
    "\t\tfor fighter in csv_reader:\n",
    "\t\t\tcsv_writer.writerow([s.upper() for s in fighter])"
   ]
  },
  {
   "cell_type": "code",
   "execution_count": null,
   "metadata": {
    "collapsed": true
   },
   "outputs": [],
   "source": [
    "# Other approach, with only 1 file open at a time\n",
    "with open('fighters.csv') as file:\n",
    "\tcsv_reader = reader(file)\n",
    "\t# data converted to list and saved to variable\n",
    "\tfighters = [[s.upper() for s in row] for row in csv_reader]\n",
    "\n",
    "with open('screaming_fighters.csv', \"w\") as file:\n",
    "\tcsv_writer = writer(file)\n",
    "\tfor fighter in fighters:\n",
    "\t\tcsv_writer.writerow(fighter)"
   ]
  },
  {
   "cell_type": "markdown",
   "metadata": {},
   "source": [
    "<a id='2'></a>\n",
    "## Writing CSV FIles Using Dictionaries\n",
    "\n",
    "DictWriter - creates a writer object for writing using dictionaries\n",
    "fieldnames - kwarg for the DictWriter specifying headers\n",
    "writeheader - method on a writr to write header row\n",
    "writerow - method on a writer to write a row based on a dictionary\n",
    "\n",
    "from csv import DictWriter\n",
    "with open (\"example.csv\", \"w\") as file:\n",
    "\theaders =  [\"Character\", \"Move\"]\n",
    "\tcsv_wrtier = DictWriter(file, fieldnames=headers)\n",
    "\tcsv_writer.writeheader()\n",
    "\tcsv_writer.writerow({\n",
    "\t\t\"Character\": \"Ryu\",\n",
    "\t\t\"Move\": \"Hadouken\"\n",
    "\t})"
   ]
  },
  {
   "cell_type": "code",
   "execution_count": null,
   "metadata": {
    "collapsed": true
   },
   "outputs": [],
   "source": [
    "from csv import DictWriter\n",
    "with open (\"example.csv\", \"w\") as file:\n",
    "\theaders =  [\"Character\", \"Move\"]\n",
    "\tcsv_wrtier = DictWriter(file, fieldnames=headers)\n",
    "\tcsv_writer.writeheader()\n",
    "\tcsv_writer.writerow({\n",
    "\t\t\"Character\": \"Ryu\",\n",
    "\t\t\"Move\": \"Hadouken\"\n",
    "\t})"
   ]
  },
  {
   "cell_type": "code",
   "execution_count": null,
   "metadata": {
    "collapsed": true
   },
   "outputs": [],
   "source": [
    "from csv import DictWriter\n",
    "with open (\"cats_1.csv\", \"w\") as file:\n",
    "\theaders =  [\"Name\", \"Breed\", \"Age\"]\n",
    "\tcsv_writer = DictWriter(file, fieldnames=headers)\n",
    "\tcsv_writer.writeheader()\n",
    "\tcsv_writer.writerow({\n",
    "\t\t\"Name\": \"Garfield\",\n",
    "\t\t\"Breed\": \"Orange Tabby\",\n",
    "\t\t\"Age\":10\n",
    "\t})"
   ]
  },
  {
   "cell_type": "code",
   "execution_count": null,
   "metadata": {
    "collapsed": true
   },
   "outputs": [],
   "source": [
    "def cm_to_in(cm):\n",
    "\treturn float(cm) * .393701\n",
    "\t\n",
    "with open(\"fighters.csv\") as file:\n",
    "\tcsv_reader = DictReader(file)\n",
    "\tfighters = list(csv_reader)\n",
    "\t\n",
    "with open(\"inches_fighters.csv\",\"w\") as file:\n",
    "\theaders = (\"Name\", \"Country\", \"Height\")\n",
    "\tcsv_writer = DictWriter(file, fieldnames=headers)\n",
    "\tcsv_writer.writeheader()\n",
    "\tfor f in fighters:\n",
    "\t\tcsv_writer.writerow({\n",
    "\t\t\t\"Name\": f[\"Name\"],\n",
    "\t\t\t\"Country\":f[\"Country\"],\n",
    "\t\t\t\"Height\":cm_to_in(f[\"Height (in cm)\"])\n",
    "\t\t})"
   ]
  },
  {
   "cell_type": "markdown",
   "metadata": {
    "collapsed": true
   },
   "source": [
    "<a id='3'></a>\n",
    "## Pickling"
   ]
  },
  {
   "cell_type": "code",
   "execution_count": null,
   "metadata": {},
   "outputs": [],
   "source": [
    "import pickle\n",
    "class Animal:\n",
    "\tdef __init__(self, name, species):\n",
    "\t\tself.name = name\n",
    "\t\tself.species = species\n",
    "\n",
    "\tdef __repr__(self):\n",
    "\t\treturn f\"{self.name} is a {self.species}\"\n",
    "\n",
    "\tdef make_sound(self, sound):\n",
    "\t\tprint(f\"this animal says {sound}\")\n",
    "\n",
    "\n",
    "class Cat(Animal):\n",
    "\tdef __init__(self, name, breed, toy):\n",
    "\t\tsuper().__init__(name, species=\"Cat\") # Call init on parent class\n",
    "\t\tself.breed = breed\n",
    "\t\tself.toy = toy\n",
    "\n",
    "\tdef play(self):\n",
    "\t\tprint(f\"{self.name} plays with {self.toy}\")\n",
    "\n",
    "\n",
    "blue = Cat(\"Blue\", \"Scottish Fold\", \"String\")\n",
    "rusty = Cat(\"Orange\", \"British Fold\", \"String\")\n",
    "\n",
    "# # To pickle an object:\n",
    "# with open(\"pets.pickle\", \"wb\") as file:\n",
    "# \tpickle.dump((blue,rusty), file)\n",
    "\n",
    "#To unpickle something:\n",
    "with open(\"pets.pickle\", \"rb\") as file:\n",
    "\tzombie_blue, zombie_rusty = pickle.load(file)\n",
    "\tprint(zombie_blue, \"\\n\", zombie_rusty)\n",
    "\tprint(zombie_blue.play(), zombie_rusty.play())"
   ]
  },
  {
   "cell_type": "markdown",
   "metadata": {
    "collapsed": true
   },
   "source": [
    "<a id='3'></a>\n",
    "## Extra Fancy JSON Pickling\n",
    "\n",
    "python3 -m pip install jsonpickle\n",
    "\n",
    "json.dumps formats a python object as a STRING of JSON"
   ]
  },
  {
   "cell_type": "code",
   "execution_count": null,
   "metadata": {
    "collapsed": true
   },
   "outputs": [],
   "source": [
    "import json\n",
    "\n",
    "class Cat:\n",
    "\tdef __init__(self, name, breed):\n",
    "\t\tself.name = name\n",
    "\t\tself.breed = breed\n",
    "c = Cat(\"Charles\", \"Tabby\")\n",
    "\n",
    "#j = json.dumps(['foo', {'bar': ('baz\", None, 1.0, 2)}])\n",
    "j = json.dumps(c.__dict__)\n",
    "\n",
    "print(j)"
   ]
  },
  {
   "cell_type": "code",
   "execution_count": null,
   "metadata": {
    "collapsed": true
   },
   "outputs": [],
   "source": [
    "import jsonpickle\n",
    "\n",
    "class Cat:\n",
    "\tdef __init__(self, name, breed):\n",
    "\t\tself.name = name\n",
    "\t\tself.breed = breed\n",
    "c = Cat(\"Charles\", \"Tabby\")\n",
    "\n",
    "with open(\"cat.json\", \"w\") as file:\n",
    "\tfrozen = jsonpickle.encode(c)\n",
    "\tfile.write(frozen)\n",
    "\n",
    "# with open(\"cat.json\", \"r\") as file:\n",
    "# \tcontents = file.read()\n",
    "# \tunfrozen = jsonpickle.decode(contents)\n",
    "# \tprint(unfrozen)"
   ]
  },
  {
   "cell_type": "code",
   "execution_count": null,
   "metadata": {
    "collapsed": true
   },
   "outputs": [],
   "source": [
    "import jsonpickle\n",
    "\n",
    "class Cat:\n",
    "\tdef __init__(self, name, breed):\n",
    "\t\tself.name = name\n",
    "\t\tself.breed = breed\n",
    "c = Cat(\"Charles\", \"Tabby\")\n",
    "\n",
    "# with open(\"cat.json\", \"w\") as file:\n",
    "# \tfrozen = jsonpickle.encode(c)\n",
    "# \tfile.write(frozen)\n",
    "\n",
    "with open(\"cat.json\", \"r\") as file:\n",
    "\tcontents = file.read()\n",
    "\tunfrozen = jsonpickle.decode(contents)\n",
    "\tprint(unfrozen)"
   ]
  }
 ],
 "metadata": {
  "kernelspec": {
   "display_name": "Python 3",
   "language": "python",
   "name": "python3"
  },
  "language_info": {
   "codemirror_mode": {
    "name": "ipython",
    "version": 3
   },
   "file_extension": ".py",
   "mimetype": "text/x-python",
   "name": "python",
   "nbconvert_exporter": "python",
   "pygments_lexer": "ipython3",
   "version": "3.6.3"
  }
 },
 "nbformat": 4,
 "nbformat_minor": 2
}
