{
 "cells": [
  {
   "cell_type": "code",
   "execution_count": null,
   "metadata": {
    "collapsed": true
   },
   "outputs": [],
   "source": [
    "**Contents:**\n",
    "* [Selecting with Beautiful Soup: find()](#0)\n",
    "* [](#1)\n",
    "* [](#2)\n",
    "* [](#3)\n",
    "* [](#4)\n",
    "* [](#5)\n",
    "* [](#6)\n",
    "* [](#7)\n",
    "* [](#8)\n",
    "* [](#9)\n",
    "* [](#10)"
   ]
  },
  {
   "cell_type": "markdown",
   "metadata": {},
   "source": [
    "<a id='0'></a>\n",
    "## Selecting with Beautiful Soup: find()\n",
    "\n",
    "pip install bs4\n",
    "-to extract from HTML, we'll use Beautiful Soup\n",
    "-install it with pip\n",
    "-Beautiful Soup lets us navigate through HTML with Python\n",
    "-Beautiful Soup does NOT download HTML -for this, we need the requests module!\n",
    "\n",
    "BeautifulSoup(html_string, \"html.parser\") -parse HTML\n",
    "once parsed, several ways to navigate:\n",
    "\tby Tag Name\n",
    "\tUsing find - returns one matching tag\n",
    "\tUsing find_all - returns a list of matching tags\n",
    "\n",
    "Navigating with CSS Selectors\t\n",
    "-Select: returns a list of elements matching a CSS selector"
   ]
  },
  {
   "cell_type": "code",
   "execution_count": 1,
   "metadata": {},
   "outputs": [
    {
     "name": "stdout",
     "output_type": "stream",
     "text": [
      "[<h3 data-example=\"yes\">hi</h3>, <div data-example=\"yes\">bye</div>]\n"
     ]
    }
   ],
   "source": [
    "from bs4 import BeautifulSoup\n",
    "html = \"\"\"\n",
    "<!DOCTYPE html>\n",
    "<html lang=\"en\">\n",
    "<head>\n",
    "  <meta charset=\"UTF-8\">\n",
    "  <title>First HTML Page</title>\n",
    "</head>\n",
    "<body>\n",
    "  <div id=\"first\">\n",
    "    <h3 data-example=\"yes\">hi</h3>\n",
    "    <p>more text.</p>\n",
    "  </div>\n",
    "  <ol>\n",
    "    <li class=\"special\">This list item is special.</li>\n",
    "    <li class=\"special\">This list item is also special.</li>\n",
    "    <li>This list item is not special.</li>\n",
    "  </ol>\n",
    "  <div data-example=\"yes\">bye</div>\n",
    "</body>\n",
    "</html>\n",
    "\"\"\"\n",
    "\n",
    "soup = BeautifulSoup(html, \"html.parser\")\n",
    "d = soup.select(\"[data-example]\")\n",
    "print(d)"
   ]
  },
  {
   "cell_type": "code",
   "execution_count": null,
   "metadata": {
    "collapsed": true
   },
   "outputs": [],
   "source": [
    "soup = BeautifulSoup(html, \"html.parser\")\n",
    "d = soup.select(\"[data-example]\")\n",
    "print(d)"
   ]
  },
  {
   "cell_type": "code",
   "execution_count": 3,
   "metadata": {},
   "outputs": [
    {
     "name": "stdout",
     "output_type": "stream",
     "text": [
      "\n",
      "<!DOCTYPE html>\n",
      "\n",
      "<html lang=\"en\">\n",
      "<head>\n",
      "<meta charset=\"utf-8\"/>\n",
      "<title>First HTML Page</title>\n",
      "</head>\n",
      "<body>\n",
      "<div id=\"first\">\n",
      "<h3 data-example=\"yes\">hi</h3>\n",
      "<p>more text.</p>\n",
      "</div>\n",
      "<ol>\n",
      "<li class=\"special\">This list item is special.</li>\n",
      "<li class=\"special\">This list item is also special.</li>\n",
      "<li>This list item is not special.</li>\n",
      "</ol>\n",
      "<div data-example=\"yes\">bye</div>\n",
      "</body>\n",
      "</html>\n",
      "\n",
      "<class 'bs4.BeautifulSoup'>\n"
     ]
    }
   ],
   "source": [
    "print(soup)\n",
    "print(type(soup))"
   ]
  },
  {
   "cell_type": "code",
   "execution_count": 4,
   "metadata": {},
   "outputs": [
    {
     "name": "stdout",
     "output_type": "stream",
     "text": [
      "<body>\n",
      "<div id=\"first\">\n",
      "<h3 data-example=\"yes\">hi</h3>\n",
      "<p>more text.</p>\n",
      "</div>\n",
      "<ol>\n",
      "<li class=\"special\">This list item is special.</li>\n",
      "<li class=\"special\">This list item is also special.</li>\n",
      "<li>This list item is not special.</li>\n",
      "</ol>\n",
      "<div data-example=\"yes\">bye</div>\n",
      "</body>\n"
     ]
    }
   ],
   "source": [
    "print(soup.body)"
   ]
  },
  {
   "cell_type": "code",
   "execution_count": 5,
   "metadata": {},
   "outputs": [
    {
     "name": "stdout",
     "output_type": "stream",
     "text": [
      "<div id=\"first\">\n",
      "<h3 data-example=\"yes\">hi</h3>\n",
      "<p>more text.</p>\n",
      "</div>\n"
     ]
    }
   ],
   "source": [
    "print(soup.body.div)"
   ]
  },
  {
   "cell_type": "code",
   "execution_count": 6,
   "metadata": {},
   "outputs": [
    {
     "name": "stdout",
     "output_type": "stream",
     "text": [
      "<div id=\"first\">\n",
      "<h3 data-example=\"yes\">hi</h3>\n",
      "<p>more text.</p>\n",
      "</div>\n"
     ]
    }
   ],
   "source": [
    "print(soup.find('div'))"
   ]
  },
  {
   "cell_type": "code",
   "execution_count": 8,
   "metadata": {},
   "outputs": [
    {
     "name": "stdout",
     "output_type": "stream",
     "text": [
      "<li class=\"special\">This list item is special.</li>\n"
     ]
    }
   ],
   "source": [
    "print(soup.find('li'))"
   ]
  },
  {
   "cell_type": "code",
   "execution_count": 9,
   "metadata": {},
   "outputs": [
    {
     "name": "stdout",
     "output_type": "stream",
     "text": [
      "<div id=\"first\">\n",
      "<h3 data-example=\"yes\">hi</h3>\n",
      "<p>more text.</p>\n",
      "</div>\n"
     ]
    }
   ],
   "source": [
    "print(soup.find(id=\"first\"))"
   ]
  },
  {
   "cell_type": "code",
   "execution_count": 7,
   "metadata": {},
   "outputs": [
    {
     "name": "stdout",
     "output_type": "stream",
     "text": [
      "[<div id=\"first\">\n",
      "<h3 data-example=\"yes\">hi</h3>\n",
      "<p>more text.</p>\n",
      "</div>, <div data-example=\"yes\">bye</div>]\n"
     ]
    }
   ],
   "source": [
    "print(soup.find_all('div'))"
   ]
  },
  {
   "cell_type": "code",
   "execution_count": 11,
   "metadata": {},
   "outputs": [
    {
     "name": "stdout",
     "output_type": "stream",
     "text": [
      "[<li class=\"special\">This list item is special.</li>, <li class=\"special\">This list item is also special.</li>]\n"
     ]
    }
   ],
   "source": [
    "print(soup.find_all(class_=\"special\"))"
   ]
  },
  {
   "cell_type": "code",
   "execution_count": 14,
   "metadata": {},
   "outputs": [
    {
     "name": "stdout",
     "output_type": "stream",
     "text": [
      "[<h3 data-example=\"yes\">hi</h3>, <div data-example=\"yes\">bye</div>]\n"
     ]
    }
   ],
   "source": [
    "d = soup.find_all(attrs={\"data-example\":\"yes\"})\n",
    "print(d)"
   ]
  },
  {
   "cell_type": "code",
   "execution_count": null,
   "metadata": {
    "collapsed": true
   },
   "outputs": [],
   "source": []
  }
 ],
 "metadata": {
  "kernelspec": {
   "display_name": "Python 3",
   "language": "python",
   "name": "python3"
  },
  "language_info": {
   "codemirror_mode": {
    "name": "ipython",
    "version": 3
   },
   "file_extension": ".py",
   "mimetype": "text/x-python",
   "name": "python",
   "nbconvert_exporter": "python",
   "pygments_lexer": "ipython3",
   "version": "3.6.3"
  }
 },
 "nbformat": 4,
 "nbformat_minor": 2
}
