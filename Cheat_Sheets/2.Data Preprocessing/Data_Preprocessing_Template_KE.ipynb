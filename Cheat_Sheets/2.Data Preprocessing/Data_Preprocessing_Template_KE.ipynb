{
 "cells": [
  {
   "cell_type": "markdown",
   "metadata": {},
   "source": [
    "# Data Preprocessing Template"
   ]
  },
  {
   "cell_type": "code",
   "execution_count": 1,
   "metadata": {
    "collapsed": true
   },
   "outputs": [],
   "source": [
    "# Importing the libraries\n",
    "import numpy as np\n",
    "import matplotlib.pyplot as plt\n",
    "import pandas as pd"
   ]
  },
  {
   "cell_type": "code",
   "execution_count": 2,
   "metadata": {
    "collapsed": true
   },
   "outputs": [],
   "source": [
    "# Importing the dataset; [rows,columns], index start with 0\n",
    "dataset = pd.read_csv('Data.csv')\n",
    "X = dataset.iloc[:, :-1].values\n",
    "y = dataset.iloc[:, 3].values"
   ]
  },
  {
   "cell_type": "code",
   "execution_count": null,
   "metadata": {
    "collapsed": true
   },
   "outputs": [],
   "source": [
    "# Taking care of missing data, \n",
    "from sklearn.preprocessing import Imputer #import Imputer class\n",
    "imputer = Imputer(missing_values = 'NaN', strategy = 'mean', axis = 0) #create object of the class\n",
    "imputer = imputer.fit(X[:, 1:3]) #upper bound is excluded, inputer object fitx to missing data X\n",
    "X[:, 1:3] = imputer.transform(X[:, 1:3])\n",
    "\n",
    "#The imputation strategy.\n",
    "#If “mean”, then replace missing values using the mean along the axis.\n",
    "#If “median”, then replace missing values using the median along the axis.\n",
    "#If “most_frequent”, then replace missing using the most frequent value along the axis.\n",
    "\n",
    "#axis : integer, optional (default=0)\n",
    "#The axis along which to impute.\n",
    "#If axis=0, then impute along columns.\n",
    "#If axis=1, then impute along rows."
   ]
  },
  {
   "cell_type": "code",
   "execution_count": null,
   "metadata": {
    "collapsed": true
   },
   "outputs": [],
   "source": [
    "# Encoding categorical data\n",
    "#Ordinal data need only LabelEncoder\n",
    "#Nominal data need LabelEncoder & OneHotEncoder\n",
    "\n",
    "# Encoding the Independent Variable\n",
    "from sklearn.preprocessing import LabelEncoder, OneHotEncoder\n",
    "labelencoder_X = LabelEncoder()\n",
    "X[:, 0] = labelencoder_X.fit_transform(X[:, 0])\n",
    "onehotencoder = OneHotEncoder(categorical_features = [0])\n",
    "X = onehotencoder.fit_transform(X).toarray() #can use X because already specified the column on the previous line\n",
    "\n",
    "#Avoiding dummy variable trap\n",
    "X = x[:, 1:]\n",
    "\n",
    "#categorical_features : “all” or array of indices or mask\n",
    "#Specify what features are treated as categorical.\n",
    "\n",
    "#‘all’ (default): All features are treated as categorical.\n",
    "#array of indices: Array of categorical feature indices.\n",
    "#mask: Array of length n_features and with dtype=bool.\n",
    "\n",
    "# Encoding the Dependent Variable, only use LabelEncoder because this is the dependent variable\n",
    "labelencoder_y = LabelEncoder()\n",
    "y = labelencoder_y.fit_transform(y)"
   ]
  },
  {
   "cell_type": "code",
   "execution_count": null,
   "metadata": {
    "collapsed": true
   },
   "outputs": [],
   "source": [
    "# Splitting the dataset into the Training set and Test set\n",
    "from sklearn.cross_validation import train_test_split\n",
    "X_train, X_test, y_train, y_test = train_test_split(X, y, test_size = 0.2, random_state = 613)"
   ]
  },
  {
   "cell_type": "code",
   "execution_count": null,
   "metadata": {
    "collapsed": true
   },
   "outputs": [],
   "source": [
    "# Feature Scaling, algorithm will converge much faster with scaling, i.e. decision trees\n",
    "from sklearn.preprocessing import StandardScaler\n",
    "sc_X = StandardScaler()\n",
    "X_train = sc_X.fit_transform(X_train)\n",
    "X_test = sc_X.transform(X_test) #already fit on train set\n",
    "sc_y = StandardScaler()\n",
    "y_train = sc_y.fit_transform(y_train)"
   ]
  },
  {
   "cell_type": "code",
   "execution_count": null,
   "metadata": {
    "collapsed": true
   },
   "outputs": [],
   "source": [
    "#Object-oriented programming\n",
    "\n",
    "#CLASS\n",
    "# A class is the model of something we want to build. The construction plan for a house is the class.\n",
    "\n",
    "#OBJECT\n",
    "# An object is an instance of the class. A house (the object) that was built by following the instructions of the \n",
    "#construction plan (the class). There can be many objects of the same class, because we can build many houses from the \n",
    "#construction plan.\n",
    "\n",
    "#METHOD\n",
    "# A method is a tool we can use on the object to complete a specific action.a tool can be to open the main door of the\n",
    "#house if a guest is coming."
   ]
  }
 ],
 "metadata": {
  "kernelspec": {
   "display_name": "Python 3",
   "language": "python",
   "name": "python3"
  },
  "language_info": {
   "codemirror_mode": {
    "name": "ipython",
    "version": 3
   },
   "file_extension": ".py",
   "mimetype": "text/x-python",
   "name": "python",
   "nbconvert_exporter": "python",
   "pygments_lexer": "ipython3",
   "version": "3.6.3"
  }
 },
 "nbformat": 4,
 "nbformat_minor": 2
}
