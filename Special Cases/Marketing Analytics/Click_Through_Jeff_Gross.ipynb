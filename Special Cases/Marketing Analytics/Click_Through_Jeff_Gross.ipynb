{
 "cells": [
  {
   "cell_type": "markdown",
   "metadata": {},
   "source": [
    "# Click-Through Rate Prediction by Jeff Gross"
   ]
  },
  {
   "cell_type": "markdown",
   "metadata": {},
   "source": [
    "**Contents:**\n",
    "* [Load Data](#0)\n",
    "    * [Train Data](#0.1)\n",
    "    * [Holdout Data](#0.2)\n",
    "\n",
    "\n",
    "* [Exploratory Data Anallysis](#1)\n",
    "    * [Missing Values](#1.1)\n",
    "    * [Which non-integer columns to keep](#1.2)\n",
    "    * [Drop Features](#1.3)\n",
    "    * [Target Feature EDA](#1.4)\n",
    "    * [Time Feaure](#1.5)\n",
    "    * [Correlation Analysis](#1.6)\n",
    "\n",
    "\n",
    "* [Pre-Procesing](#2)\n",
    "    * [Converting Categorical Variables](#2.1)\n",
    "        * [banner_pos](#2.1.1)\n",
    "        * [site_category](#2.1.2)        \n",
    "        * [app_category](#2.1.3)\n",
    "        * [device_type](#2.1.4) \n",
    "        * [device_conn_type](#2.1.5)\n",
    "        * [sitde_id](#2.1.6)\n",
    "        * [app_id](#2.1.7)\n",
    "        * [app_domain](#2.1.8)\n",
    "        * [device_id](#2.1.9)\n",
    "        * [device_ip](#2.1.10)\n",
    "        * [device_model](#2.1.11)\n",
    "\n",
    "* [Data Prep](#3)\n",
    "    * [Split Test Data](#3.1)\n",
    "    * [Scaling](#3.2)\n",
    "\n",
    "\n",
    "* [Models](#4)\n",
    "    * [Logistic Regression](#4.1)\n",
    "\n",
    "    * [Decision Tree](#4.2)\n",
    "\n",
    "    * [Random Forest Classifier](#4.3)\n",
    "\n",
    "    * [Extreme Gradient Boosting Classifier](#4.4)\n",
    "\n",
    "\n",
    "* [Results](#5)"
   ]
  },
  {
   "cell_type": "markdown",
   "metadata": {},
   "source": [
    "### Imports"
   ]
  },
  {
   "cell_type": "code",
   "execution_count": 1,
   "metadata": {
    "scrolled": true
   },
   "outputs": [
    {
     "name": "stderr",
     "output_type": "stream",
     "text": [
      "C:\\Users\\Y\\Anaconda3\\lib\\site-packages\\sklearn\\cross_validation.py:41: DeprecationWarning: This module was deprecated in version 0.18 in favor of the model_selection module into which all the refactored classes and functions are moved. Also note that the interface of the new CV iterators are different from that of this module. This module will be removed in 0.20.\n",
      "  \"This module will be removed in 0.20.\", DeprecationWarning)\n"
     ]
    },
    {
     "name": "stdout",
     "output_type": "stream",
     "text": [
      "Wall time: 7.26 s\n"
     ]
    }
   ],
   "source": [
    "%%time\n",
    "\n",
    "# Import winsound\n",
    "import winsound\n",
    "\n",
    "# Import pandas\n",
    "import pandas as pd\n",
    "\n",
    "# Import matplotlib.pyplot\n",
    "import matplotlib.pyplot as plt\n",
    "%matplotlib inline\n",
    "\n",
    "#Import ipywidgets\n",
    "from ipywidgets import interact\n",
    "\n",
    "# Import the regular expression module\n",
    "import re\n",
    "\n",
    "#import numpy\n",
    "import numpy as np\n",
    "\n",
    "#import seaborn\n",
    "import seaborn as sns\n",
    "\n",
    "from collections import Counter\n",
    "import warnings\n",
    "warnings.filterwarnings('ignore')\n",
    "import copy\n",
    "\n",
    "# Import classifiers\n",
    "from sklearn.linear_model import LogisticRegression\n",
    "from sklearn.multiclass import OneVsRestClassifier\n",
    "from sklearn.ensemble import RandomForestClassifier\n",
    "from xgboost.sklearn import XGBClassifier\n",
    "import xgboost as xgb\n",
    "\n",
    "# Import From Sklearn\n",
    "from sklearn.pipeline import Pipeline\n",
    "from sklearn.preprocessing import Imputer\n",
    "from sklearn.model_selection import train_test_split\n",
    "from sklearn.preprocessing import FunctionTransformer\n",
    "from sklearn.feature_extraction.text import CountVectorizer\n",
    "from sklearn.feature_selection import chi2, SelectKBest\n",
    "from sklearn.feature_extraction.text import HashingVectorizer\n",
    "from sklearn.preprocessing import minmax_scale\n",
    "from sklearn.metrics import classification_report, average_precision_score, precision_recall_fscore_support, accuracy_score \n",
    "from sklearn.metrics import roc_curve, auc, f1_score, confusion_matrix\n",
    "from sklearn.model_selection import cross_val_score\n",
    "from collections import Counter\n",
    "from sklearn.model_selection import GridSearchCV\n",
    "from sklearn.model_selection import RandomizedSearchCV\n",
    "from sklearn.metrics import roc_auc_score\n",
    "import scikitplot as skplt"
   ]
  },
  {
   "cell_type": "markdown",
   "metadata": {},
   "source": [
    "<a id='0'></a>\n",
    "### Load Data\n",
    "\n",
    "Problem: This data set is big, 40,428,967 rows. It is too big to work with locally.\n",
    "\n",
    "Solution:\n",
    "\n",
    "Pandas comes with a few features for handling big data sets. It allows you to read big data files in chunks or you can just load the first N lines. Neither of these approaches solves the aforementioned problems, as the result is not a small randomised sample of the data. \n",
    "\n",
    "I have chosen to load a sample of the data using the skiprows functino of the read_csv and function (skip 1 row every 10 rows). My plan is to use it for exploratory analysis and visualisation. After having an idea of what you’re looking for, you can run your thorough analyses on a dedicated server (e.g. a VM in the cloud). It allowed me to specify a list of line/row indices, which will not be loaded by pandas. Another approach was random selection. I chose the skiprows since the data since this data set is already ordered by time of event occurrence and thus such sampling will result in a representative sample. \n",
    "\n",
    "The reason that I have chosen this plan is that the memory on my laptop is limited. Therefore, loading all the data in memory would make my analyses run slowly, as all operations are performed on big DataFrames. This would be disruptive to my work process."
   ]
  },
  {
   "cell_type": "markdown",
   "metadata": {},
   "source": [
    "<a id='0.1'></a>\n",
    "### TRAIN DATA"
   ]
  },
  {
   "cell_type": "code",
   "execution_count": 2,
   "metadata": {
    "scrolled": true
   },
   "outputs": [
    {
     "name": "stdout",
     "output_type": "stream",
     "text": [
      "Wall time: 1min 45s\n"
     ]
    }
   ],
   "source": [
    "%%time\n",
    "\n",
    "# Load train data\n",
    "f = \"train.csv\"\n",
    "\n",
    "# Take every N-th (in this case 10th) row\n",
    "n = 10\n",
    "\n",
    "# Count the lines or use an upper bound\n",
    "num_lines = sum(1 for l in open(f))\n",
    "\n",
    "# The row indices to skip - make sure 0 is not included to keep the header!\n",
    "skip_idx = [x for x in range(1, num_lines) if x % n != 0]\n",
    "\n",
    "# Read the data\n",
    "data = pd.read_csv(f, skiprows=skip_idx, index_col=0)\n",
    "\n",
    "winsound.Beep(500,10000)"
   ]
  },
  {
   "cell_type": "code",
   "execution_count": 343,
   "metadata": {
    "collapsed": true,
    "scrolled": true
   },
   "outputs": [],
   "source": [
    "data_1 = copy.copy(data)"
   ]
  },
  {
   "cell_type": "code",
   "execution_count": 344,
   "metadata": {
    "scrolled": true
   },
   "outputs": [
    {
     "data": {
      "text/html": [
       "<div>\n",
       "<style>\n",
       "    .dataframe thead tr:only-child th {\n",
       "        text-align: right;\n",
       "    }\n",
       "\n",
       "    .dataframe thead th {\n",
       "        text-align: left;\n",
       "    }\n",
       "\n",
       "    .dataframe tbody tr th {\n",
       "        vertical-align: top;\n",
       "    }\n",
       "</style>\n",
       "<table border=\"1\" class=\"dataframe\">\n",
       "  <thead>\n",
       "    <tr style=\"text-align: right;\">\n",
       "      <th></th>\n",
       "      <th>click</th>\n",
       "      <th>hour</th>\n",
       "      <th>C1</th>\n",
       "      <th>banner_pos</th>\n",
       "      <th>site_id</th>\n",
       "      <th>site_domain</th>\n",
       "      <th>site_category</th>\n",
       "      <th>app_id</th>\n",
       "      <th>app_domain</th>\n",
       "      <th>app_category</th>\n",
       "      <th>...</th>\n",
       "      <th>device_type</th>\n",
       "      <th>device_conn_type</th>\n",
       "      <th>C14</th>\n",
       "      <th>C15</th>\n",
       "      <th>C16</th>\n",
       "      <th>C17</th>\n",
       "      <th>C18</th>\n",
       "      <th>C19</th>\n",
       "      <th>C20</th>\n",
       "      <th>C21</th>\n",
       "    </tr>\n",
       "    <tr>\n",
       "      <th>id</th>\n",
       "      <th></th>\n",
       "      <th></th>\n",
       "      <th></th>\n",
       "      <th></th>\n",
       "      <th></th>\n",
       "      <th></th>\n",
       "      <th></th>\n",
       "      <th></th>\n",
       "      <th></th>\n",
       "      <th></th>\n",
       "      <th></th>\n",
       "      <th></th>\n",
       "      <th></th>\n",
       "      <th></th>\n",
       "      <th></th>\n",
       "      <th></th>\n",
       "      <th></th>\n",
       "      <th></th>\n",
       "      <th></th>\n",
       "      <th></th>\n",
       "      <th></th>\n",
       "    </tr>\n",
       "  </thead>\n",
       "  <tbody>\n",
       "    <tr>\n",
       "      <th>10001264480619467364</th>\n",
       "      <td>0</td>\n",
       "      <td>14102100</td>\n",
       "      <td>1002</td>\n",
       "      <td>0</td>\n",
       "      <td>84c7ba46</td>\n",
       "      <td>c4e18dd6</td>\n",
       "      <td>50e219e0</td>\n",
       "      <td>ecad2386</td>\n",
       "      <td>7801e8d9</td>\n",
       "      <td>07d7df22</td>\n",
       "      <td>...</td>\n",
       "      <td>0</td>\n",
       "      <td>0</td>\n",
       "      <td>21689</td>\n",
       "      <td>320</td>\n",
       "      <td>50</td>\n",
       "      <td>2496</td>\n",
       "      <td>3</td>\n",
       "      <td>167</td>\n",
       "      <td>100191</td>\n",
       "      <td>23</td>\n",
       "    </tr>\n",
       "    <tr>\n",
       "      <th>10004482643316086592</th>\n",
       "      <td>0</td>\n",
       "      <td>14102100</td>\n",
       "      <td>1005</td>\n",
       "      <td>0</td>\n",
       "      <td>85f751fd</td>\n",
       "      <td>c4e18dd6</td>\n",
       "      <td>50e219e0</td>\n",
       "      <td>66a5f0f3</td>\n",
       "      <td>d9b5648e</td>\n",
       "      <td>cef3e649</td>\n",
       "      <td>...</td>\n",
       "      <td>1</td>\n",
       "      <td>0</td>\n",
       "      <td>21234</td>\n",
       "      <td>320</td>\n",
       "      <td>50</td>\n",
       "      <td>2434</td>\n",
       "      <td>3</td>\n",
       "      <td>163</td>\n",
       "      <td>100088</td>\n",
       "      <td>61</td>\n",
       "    </tr>\n",
       "    <tr>\n",
       "      <th>10005951398749600249</th>\n",
       "      <td>0</td>\n",
       "      <td>14102100</td>\n",
       "      <td>1005</td>\n",
       "      <td>0</td>\n",
       "      <td>1fbe01fe</td>\n",
       "      <td>f3845767</td>\n",
       "      <td>28905ebd</td>\n",
       "      <td>ecad2386</td>\n",
       "      <td>7801e8d9</td>\n",
       "      <td>07d7df22</td>\n",
       "      <td>...</td>\n",
       "      <td>1</td>\n",
       "      <td>0</td>\n",
       "      <td>15706</td>\n",
       "      <td>320</td>\n",
       "      <td>50</td>\n",
       "      <td>1722</td>\n",
       "      <td>0</td>\n",
       "      <td>35</td>\n",
       "      <td>-1</td>\n",
       "      <td>79</td>\n",
       "    </tr>\n",
       "    <tr>\n",
       "      <th>10007164336863914220</th>\n",
       "      <td>1</td>\n",
       "      <td>14102100</td>\n",
       "      <td>1005</td>\n",
       "      <td>0</td>\n",
       "      <td>1fbe01fe</td>\n",
       "      <td>f3845767</td>\n",
       "      <td>28905ebd</td>\n",
       "      <td>ecad2386</td>\n",
       "      <td>7801e8d9</td>\n",
       "      <td>07d7df22</td>\n",
       "      <td>...</td>\n",
       "      <td>1</td>\n",
       "      <td>0</td>\n",
       "      <td>15706</td>\n",
       "      <td>320</td>\n",
       "      <td>50</td>\n",
       "      <td>1722</td>\n",
       "      <td>0</td>\n",
       "      <td>35</td>\n",
       "      <td>-1</td>\n",
       "      <td>79</td>\n",
       "    </tr>\n",
       "    <tr>\n",
       "      <th>10009635774586344851</th>\n",
       "      <td>0</td>\n",
       "      <td>14102100</td>\n",
       "      <td>1005</td>\n",
       "      <td>0</td>\n",
       "      <td>543a539e</td>\n",
       "      <td>c7ca3108</td>\n",
       "      <td>3e814130</td>\n",
       "      <td>ecad2386</td>\n",
       "      <td>7801e8d9</td>\n",
       "      <td>07d7df22</td>\n",
       "      <td>...</td>\n",
       "      <td>1</td>\n",
       "      <td>0</td>\n",
       "      <td>20352</td>\n",
       "      <td>320</td>\n",
       "      <td>50</td>\n",
       "      <td>2333</td>\n",
       "      <td>0</td>\n",
       "      <td>39</td>\n",
       "      <td>-1</td>\n",
       "      <td>157</td>\n",
       "    </tr>\n",
       "  </tbody>\n",
       "</table>\n",
       "<p>5 rows × 23 columns</p>\n",
       "</div>"
      ],
      "text/plain": [
       "                      click      hour    C1  banner_pos   site_id site_domain  \\\n",
       "id                                                                              \n",
       "10001264480619467364      0  14102100  1002           0  84c7ba46    c4e18dd6   \n",
       "10004482643316086592      0  14102100  1005           0  85f751fd    c4e18dd6   \n",
       "10005951398749600249      0  14102100  1005           0  1fbe01fe    f3845767   \n",
       "10007164336863914220      1  14102100  1005           0  1fbe01fe    f3845767   \n",
       "10009635774586344851      0  14102100  1005           0  543a539e    c7ca3108   \n",
       "\n",
       "                     site_category    app_id app_domain app_category ...   \\\n",
       "id                                                                   ...    \n",
       "10001264480619467364      50e219e0  ecad2386   7801e8d9     07d7df22 ...    \n",
       "10004482643316086592      50e219e0  66a5f0f3   d9b5648e     cef3e649 ...    \n",
       "10005951398749600249      28905ebd  ecad2386   7801e8d9     07d7df22 ...    \n",
       "10007164336863914220      28905ebd  ecad2386   7801e8d9     07d7df22 ...    \n",
       "10009635774586344851      3e814130  ecad2386   7801e8d9     07d7df22 ...    \n",
       "\n",
       "                     device_type device_conn_type    C14  C15  C16   C17  C18  \\\n",
       "id                                                                              \n",
       "10001264480619467364           0                0  21689  320   50  2496    3   \n",
       "10004482643316086592           1                0  21234  320   50  2434    3   \n",
       "10005951398749600249           1                0  15706  320   50  1722    0   \n",
       "10007164336863914220           1                0  15706  320   50  1722    0   \n",
       "10009635774586344851           1                0  20352  320   50  2333    0   \n",
       "\n",
       "                      C19     C20  C21  \n",
       "id                                      \n",
       "10001264480619467364  167  100191   23  \n",
       "10004482643316086592  163  100088   61  \n",
       "10005951398749600249   35      -1   79  \n",
       "10007164336863914220   35      -1   79  \n",
       "10009635774586344851   39      -1  157  \n",
       "\n",
       "[5 rows x 23 columns]"
      ]
     },
     "execution_count": 344,
     "metadata": {},
     "output_type": "execute_result"
    }
   ],
   "source": [
    "data_1.head()"
   ]
  },
  {
   "cell_type": "code",
   "execution_count": 6,
   "metadata": {
    "scrolled": true
   },
   "outputs": [
    {
     "data": {
      "text/plain": [
       "(4042896, 23)"
      ]
     },
     "execution_count": 6,
     "metadata": {},
     "output_type": "execute_result"
    }
   ],
   "source": [
    "data.shape"
   ]
  },
  {
   "cell_type": "code",
   "execution_count": 7,
   "metadata": {
    "scrolled": true
   },
   "outputs": [
    {
     "data": {
      "text/html": [
       "<div>\n",
       "<style>\n",
       "    .dataframe thead tr:only-child th {\n",
       "        text-align: right;\n",
       "    }\n",
       "\n",
       "    .dataframe thead th {\n",
       "        text-align: left;\n",
       "    }\n",
       "\n",
       "    .dataframe tbody tr th {\n",
       "        vertical-align: top;\n",
       "    }\n",
       "</style>\n",
       "<table border=\"1\" class=\"dataframe\">\n",
       "  <thead>\n",
       "    <tr style=\"text-align: right;\">\n",
       "      <th></th>\n",
       "      <th>click</th>\n",
       "      <th>hour</th>\n",
       "      <th>C1</th>\n",
       "      <th>banner_pos</th>\n",
       "      <th>site_id</th>\n",
       "      <th>site_domain</th>\n",
       "      <th>site_category</th>\n",
       "      <th>app_id</th>\n",
       "      <th>app_domain</th>\n",
       "      <th>app_category</th>\n",
       "      <th>...</th>\n",
       "      <th>device_type</th>\n",
       "      <th>device_conn_type</th>\n",
       "      <th>C14</th>\n",
       "      <th>C15</th>\n",
       "      <th>C16</th>\n",
       "      <th>C17</th>\n",
       "      <th>C18</th>\n",
       "      <th>C19</th>\n",
       "      <th>C20</th>\n",
       "      <th>C21</th>\n",
       "    </tr>\n",
       "    <tr>\n",
       "      <th>id</th>\n",
       "      <th></th>\n",
       "      <th></th>\n",
       "      <th></th>\n",
       "      <th></th>\n",
       "      <th></th>\n",
       "      <th></th>\n",
       "      <th></th>\n",
       "      <th></th>\n",
       "      <th></th>\n",
       "      <th></th>\n",
       "      <th></th>\n",
       "      <th></th>\n",
       "      <th></th>\n",
       "      <th></th>\n",
       "      <th></th>\n",
       "      <th></th>\n",
       "      <th></th>\n",
       "      <th></th>\n",
       "      <th></th>\n",
       "      <th></th>\n",
       "      <th></th>\n",
       "    </tr>\n",
       "  </thead>\n",
       "  <tbody>\n",
       "    <tr>\n",
       "      <th>10001264480619467364</th>\n",
       "      <td>0</td>\n",
       "      <td>14102100</td>\n",
       "      <td>1002</td>\n",
       "      <td>0</td>\n",
       "      <td>84c7ba46</td>\n",
       "      <td>c4e18dd6</td>\n",
       "      <td>50e219e0</td>\n",
       "      <td>ecad2386</td>\n",
       "      <td>7801e8d9</td>\n",
       "      <td>07d7df22</td>\n",
       "      <td>...</td>\n",
       "      <td>0</td>\n",
       "      <td>0</td>\n",
       "      <td>21689</td>\n",
       "      <td>320</td>\n",
       "      <td>50</td>\n",
       "      <td>2496</td>\n",
       "      <td>3</td>\n",
       "      <td>167</td>\n",
       "      <td>100191</td>\n",
       "      <td>23</td>\n",
       "    </tr>\n",
       "    <tr>\n",
       "      <th>10004482643316086592</th>\n",
       "      <td>0</td>\n",
       "      <td>14102100</td>\n",
       "      <td>1005</td>\n",
       "      <td>0</td>\n",
       "      <td>85f751fd</td>\n",
       "      <td>c4e18dd6</td>\n",
       "      <td>50e219e0</td>\n",
       "      <td>66a5f0f3</td>\n",
       "      <td>d9b5648e</td>\n",
       "      <td>cef3e649</td>\n",
       "      <td>...</td>\n",
       "      <td>1</td>\n",
       "      <td>0</td>\n",
       "      <td>21234</td>\n",
       "      <td>320</td>\n",
       "      <td>50</td>\n",
       "      <td>2434</td>\n",
       "      <td>3</td>\n",
       "      <td>163</td>\n",
       "      <td>100088</td>\n",
       "      <td>61</td>\n",
       "    </tr>\n",
       "    <tr>\n",
       "      <th>10005951398749600249</th>\n",
       "      <td>0</td>\n",
       "      <td>14102100</td>\n",
       "      <td>1005</td>\n",
       "      <td>0</td>\n",
       "      <td>1fbe01fe</td>\n",
       "      <td>f3845767</td>\n",
       "      <td>28905ebd</td>\n",
       "      <td>ecad2386</td>\n",
       "      <td>7801e8d9</td>\n",
       "      <td>07d7df22</td>\n",
       "      <td>...</td>\n",
       "      <td>1</td>\n",
       "      <td>0</td>\n",
       "      <td>15706</td>\n",
       "      <td>320</td>\n",
       "      <td>50</td>\n",
       "      <td>1722</td>\n",
       "      <td>0</td>\n",
       "      <td>35</td>\n",
       "      <td>-1</td>\n",
       "      <td>79</td>\n",
       "    </tr>\n",
       "    <tr>\n",
       "      <th>10007164336863914220</th>\n",
       "      <td>1</td>\n",
       "      <td>14102100</td>\n",
       "      <td>1005</td>\n",
       "      <td>0</td>\n",
       "      <td>1fbe01fe</td>\n",
       "      <td>f3845767</td>\n",
       "      <td>28905ebd</td>\n",
       "      <td>ecad2386</td>\n",
       "      <td>7801e8d9</td>\n",
       "      <td>07d7df22</td>\n",
       "      <td>...</td>\n",
       "      <td>1</td>\n",
       "      <td>0</td>\n",
       "      <td>15706</td>\n",
       "      <td>320</td>\n",
       "      <td>50</td>\n",
       "      <td>1722</td>\n",
       "      <td>0</td>\n",
       "      <td>35</td>\n",
       "      <td>-1</td>\n",
       "      <td>79</td>\n",
       "    </tr>\n",
       "    <tr>\n",
       "      <th>10009635774586344851</th>\n",
       "      <td>0</td>\n",
       "      <td>14102100</td>\n",
       "      <td>1005</td>\n",
       "      <td>0</td>\n",
       "      <td>543a539e</td>\n",
       "      <td>c7ca3108</td>\n",
       "      <td>3e814130</td>\n",
       "      <td>ecad2386</td>\n",
       "      <td>7801e8d9</td>\n",
       "      <td>07d7df22</td>\n",
       "      <td>...</td>\n",
       "      <td>1</td>\n",
       "      <td>0</td>\n",
       "      <td>20352</td>\n",
       "      <td>320</td>\n",
       "      <td>50</td>\n",
       "      <td>2333</td>\n",
       "      <td>0</td>\n",
       "      <td>39</td>\n",
       "      <td>-1</td>\n",
       "      <td>157</td>\n",
       "    </tr>\n",
       "  </tbody>\n",
       "</table>\n",
       "<p>5 rows × 23 columns</p>\n",
       "</div>"
      ],
      "text/plain": [
       "                      click      hour    C1  banner_pos   site_id site_domain  \\\n",
       "id                                                                              \n",
       "10001264480619467364      0  14102100  1002           0  84c7ba46    c4e18dd6   \n",
       "10004482643316086592      0  14102100  1005           0  85f751fd    c4e18dd6   \n",
       "10005951398749600249      0  14102100  1005           0  1fbe01fe    f3845767   \n",
       "10007164336863914220      1  14102100  1005           0  1fbe01fe    f3845767   \n",
       "10009635774586344851      0  14102100  1005           0  543a539e    c7ca3108   \n",
       "\n",
       "                     site_category    app_id app_domain app_category ...   \\\n",
       "id                                                                   ...    \n",
       "10001264480619467364      50e219e0  ecad2386   7801e8d9     07d7df22 ...    \n",
       "10004482643316086592      50e219e0  66a5f0f3   d9b5648e     cef3e649 ...    \n",
       "10005951398749600249      28905ebd  ecad2386   7801e8d9     07d7df22 ...    \n",
       "10007164336863914220      28905ebd  ecad2386   7801e8d9     07d7df22 ...    \n",
       "10009635774586344851      3e814130  ecad2386   7801e8d9     07d7df22 ...    \n",
       "\n",
       "                     device_type device_conn_type    C14  C15  C16   C17  C18  \\\n",
       "id                                                                              \n",
       "10001264480619467364           0                0  21689  320   50  2496    3   \n",
       "10004482643316086592           1                0  21234  320   50  2434    3   \n",
       "10005951398749600249           1                0  15706  320   50  1722    0   \n",
       "10007164336863914220           1                0  15706  320   50  1722    0   \n",
       "10009635774586344851           1                0  20352  320   50  2333    0   \n",
       "\n",
       "                      C19     C20  C21  \n",
       "id                                      \n",
       "10001264480619467364  167  100191   23  \n",
       "10004482643316086592  163  100088   61  \n",
       "10005951398749600249   35      -1   79  \n",
       "10007164336863914220   35      -1   79  \n",
       "10009635774586344851   39      -1  157  \n",
       "\n",
       "[5 rows x 23 columns]"
      ]
     },
     "execution_count": 7,
     "metadata": {},
     "output_type": "execute_result"
    }
   ],
   "source": [
    "data.head()"
   ]
  },
  {
   "cell_type": "code",
   "execution_count": 8,
   "metadata": {
    "scrolled": true
   },
   "outputs": [
    {
     "name": "stdout",
     "output_type": "stream",
     "text": [
      "<class 'pandas.core.frame.DataFrame'>\n",
      "UInt64Index: 4042896 entries, 10001264480619467364 to 9998515968748286661\n",
      "Data columns (total 23 columns):\n",
      "click               int64\n",
      "hour                int64\n",
      "C1                  int64\n",
      "banner_pos          int64\n",
      "site_id             object\n",
      "site_domain         object\n",
      "site_category       object\n",
      "app_id              object\n",
      "app_domain          object\n",
      "app_category        object\n",
      "device_id           object\n",
      "device_ip           object\n",
      "device_model        object\n",
      "device_type         int64\n",
      "device_conn_type    int64\n",
      "C14                 int64\n",
      "C15                 int64\n",
      "C16                 int64\n",
      "C17                 int64\n",
      "C18                 int64\n",
      "C19                 int64\n",
      "C20                 int64\n",
      "C21                 int64\n",
      "dtypes: int64(14), object(9)\n",
      "memory usage: 740.3+ MB\n"
     ]
    }
   ],
   "source": [
    "#list of features\n",
    "data.info()"
   ]
  },
  {
   "cell_type": "markdown",
   "metadata": {},
   "source": [
    "<a id='0.2'></a>\n",
    "### HOLDOUT DATA\n",
    "\n",
    "The test data set is small enough to be loaded directly in full."
   ]
  },
  {
   "cell_type": "code",
   "execution_count": 3,
   "metadata": {
    "scrolled": true
   },
   "outputs": [
    {
     "name": "stdout",
     "output_type": "stream",
     "text": [
      "Wall time: 24.9 s\n"
     ]
    }
   ],
   "source": [
    "%%time\n",
    "\n",
    "# Read the data\n",
    "holdout_data = pd.read_csv('test.csv', index_col=0)\n",
    "\n",
    "winsound.Beep(500,10000)"
   ]
  },
  {
   "cell_type": "code",
   "execution_count": 10,
   "metadata": {
    "collapsed": true,
    "scrolled": true
   },
   "outputs": [],
   "source": [
    "holdout_data_1 = copy.copy(holdout_data)"
   ]
  },
  {
   "cell_type": "markdown",
   "metadata": {},
   "source": [
    "<a id='1'></a>\n",
    "## EXPLORATORY DATA ANALYSIS"
   ]
  },
  {
   "cell_type": "code",
   "execution_count": 11,
   "metadata": {
    "scrolled": true
   },
   "outputs": [
    {
     "data": {
      "text/plain": [
       "(4577464, 22)"
      ]
     },
     "execution_count": 11,
     "metadata": {},
     "output_type": "execute_result"
    }
   ],
   "source": [
    "holdout_data.shape"
   ]
  },
  {
   "cell_type": "code",
   "execution_count": 12,
   "metadata": {
    "scrolled": true
   },
   "outputs": [
    {
     "data": {
      "text/html": [
       "<div>\n",
       "<style>\n",
       "    .dataframe thead tr:only-child th {\n",
       "        text-align: right;\n",
       "    }\n",
       "\n",
       "    .dataframe thead th {\n",
       "        text-align: left;\n",
       "    }\n",
       "\n",
       "    .dataframe tbody tr th {\n",
       "        vertical-align: top;\n",
       "    }\n",
       "</style>\n",
       "<table border=\"1\" class=\"dataframe\">\n",
       "  <thead>\n",
       "    <tr style=\"text-align: right;\">\n",
       "      <th></th>\n",
       "      <th>hour</th>\n",
       "      <th>C1</th>\n",
       "      <th>banner_pos</th>\n",
       "      <th>site_id</th>\n",
       "      <th>site_domain</th>\n",
       "      <th>site_category</th>\n",
       "      <th>app_id</th>\n",
       "      <th>app_domain</th>\n",
       "      <th>app_category</th>\n",
       "      <th>device_id</th>\n",
       "      <th>...</th>\n",
       "      <th>device_type</th>\n",
       "      <th>device_conn_type</th>\n",
       "      <th>C14</th>\n",
       "      <th>C15</th>\n",
       "      <th>C16</th>\n",
       "      <th>C17</th>\n",
       "      <th>C18</th>\n",
       "      <th>C19</th>\n",
       "      <th>C20</th>\n",
       "      <th>C21</th>\n",
       "    </tr>\n",
       "    <tr>\n",
       "      <th>id</th>\n",
       "      <th></th>\n",
       "      <th></th>\n",
       "      <th></th>\n",
       "      <th></th>\n",
       "      <th></th>\n",
       "      <th></th>\n",
       "      <th></th>\n",
       "      <th></th>\n",
       "      <th></th>\n",
       "      <th></th>\n",
       "      <th></th>\n",
       "      <th></th>\n",
       "      <th></th>\n",
       "      <th></th>\n",
       "      <th></th>\n",
       "      <th></th>\n",
       "      <th></th>\n",
       "      <th></th>\n",
       "      <th></th>\n",
       "      <th></th>\n",
       "      <th></th>\n",
       "    </tr>\n",
       "  </thead>\n",
       "  <tbody>\n",
       "    <tr>\n",
       "      <th>1.000017e+19</th>\n",
       "      <td>14103100</td>\n",
       "      <td>1005</td>\n",
       "      <td>0</td>\n",
       "      <td>235ba823</td>\n",
       "      <td>f6ebf28e</td>\n",
       "      <td>f028772b</td>\n",
       "      <td>ecad2386</td>\n",
       "      <td>7801e8d9</td>\n",
       "      <td>07d7df22</td>\n",
       "      <td>a99f214a</td>\n",
       "      <td>...</td>\n",
       "      <td>1</td>\n",
       "      <td>0</td>\n",
       "      <td>8330</td>\n",
       "      <td>320</td>\n",
       "      <td>50</td>\n",
       "      <td>761</td>\n",
       "      <td>3</td>\n",
       "      <td>175</td>\n",
       "      <td>100075</td>\n",
       "      <td>23</td>\n",
       "    </tr>\n",
       "    <tr>\n",
       "      <th>1.000018e+19</th>\n",
       "      <td>14103100</td>\n",
       "      <td>1005</td>\n",
       "      <td>0</td>\n",
       "      <td>1fbe01fe</td>\n",
       "      <td>f3845767</td>\n",
       "      <td>28905ebd</td>\n",
       "      <td>ecad2386</td>\n",
       "      <td>7801e8d9</td>\n",
       "      <td>07d7df22</td>\n",
       "      <td>a99f214a</td>\n",
       "      <td>...</td>\n",
       "      <td>1</td>\n",
       "      <td>0</td>\n",
       "      <td>22676</td>\n",
       "      <td>320</td>\n",
       "      <td>50</td>\n",
       "      <td>2616</td>\n",
       "      <td>0</td>\n",
       "      <td>35</td>\n",
       "      <td>100083</td>\n",
       "      <td>51</td>\n",
       "    </tr>\n",
       "    <tr>\n",
       "      <th>1.000055e+19</th>\n",
       "      <td>14103100</td>\n",
       "      <td>1005</td>\n",
       "      <td>0</td>\n",
       "      <td>1fbe01fe</td>\n",
       "      <td>f3845767</td>\n",
       "      <td>28905ebd</td>\n",
       "      <td>ecad2386</td>\n",
       "      <td>7801e8d9</td>\n",
       "      <td>07d7df22</td>\n",
       "      <td>a99f214a</td>\n",
       "      <td>...</td>\n",
       "      <td>1</td>\n",
       "      <td>0</td>\n",
       "      <td>22676</td>\n",
       "      <td>320</td>\n",
       "      <td>50</td>\n",
       "      <td>2616</td>\n",
       "      <td>0</td>\n",
       "      <td>35</td>\n",
       "      <td>100083</td>\n",
       "      <td>51</td>\n",
       "    </tr>\n",
       "    <tr>\n",
       "      <th>1.000109e+19</th>\n",
       "      <td>14103100</td>\n",
       "      <td>1005</td>\n",
       "      <td>0</td>\n",
       "      <td>85f751fd</td>\n",
       "      <td>c4e18dd6</td>\n",
       "      <td>50e219e0</td>\n",
       "      <td>51cedd4e</td>\n",
       "      <td>aefc06bd</td>\n",
       "      <td>0f2161f8</td>\n",
       "      <td>a99f214a</td>\n",
       "      <td>...</td>\n",
       "      <td>1</td>\n",
       "      <td>0</td>\n",
       "      <td>18648</td>\n",
       "      <td>320</td>\n",
       "      <td>50</td>\n",
       "      <td>1092</td>\n",
       "      <td>3</td>\n",
       "      <td>809</td>\n",
       "      <td>100156</td>\n",
       "      <td>61</td>\n",
       "    </tr>\n",
       "    <tr>\n",
       "      <th>1.000138e+19</th>\n",
       "      <td>14103100</td>\n",
       "      <td>1005</td>\n",
       "      <td>0</td>\n",
       "      <td>85f751fd</td>\n",
       "      <td>c4e18dd6</td>\n",
       "      <td>50e219e0</td>\n",
       "      <td>9c13b419</td>\n",
       "      <td>2347f47a</td>\n",
       "      <td>f95efa07</td>\n",
       "      <td>a99f214a</td>\n",
       "      <td>...</td>\n",
       "      <td>1</td>\n",
       "      <td>0</td>\n",
       "      <td>23160</td>\n",
       "      <td>320</td>\n",
       "      <td>50</td>\n",
       "      <td>2667</td>\n",
       "      <td>0</td>\n",
       "      <td>47</td>\n",
       "      <td>-1</td>\n",
       "      <td>221</td>\n",
       "    </tr>\n",
       "  </tbody>\n",
       "</table>\n",
       "<p>5 rows × 22 columns</p>\n",
       "</div>"
      ],
      "text/plain": [
       "                  hour    C1  banner_pos   site_id site_domain site_category  \\\n",
       "id                                                                             \n",
       "1.000017e+19  14103100  1005           0  235ba823    f6ebf28e      f028772b   \n",
       "1.000018e+19  14103100  1005           0  1fbe01fe    f3845767      28905ebd   \n",
       "1.000055e+19  14103100  1005           0  1fbe01fe    f3845767      28905ebd   \n",
       "1.000109e+19  14103100  1005           0  85f751fd    c4e18dd6      50e219e0   \n",
       "1.000138e+19  14103100  1005           0  85f751fd    c4e18dd6      50e219e0   \n",
       "\n",
       "                app_id app_domain app_category device_id ...  device_type  \\\n",
       "id                                                       ...                \n",
       "1.000017e+19  ecad2386   7801e8d9     07d7df22  a99f214a ...            1   \n",
       "1.000018e+19  ecad2386   7801e8d9     07d7df22  a99f214a ...            1   \n",
       "1.000055e+19  ecad2386   7801e8d9     07d7df22  a99f214a ...            1   \n",
       "1.000109e+19  51cedd4e   aefc06bd     0f2161f8  a99f214a ...            1   \n",
       "1.000138e+19  9c13b419   2347f47a     f95efa07  a99f214a ...            1   \n",
       "\n",
       "             device_conn_type    C14  C15  C16   C17  C18  C19     C20  C21  \n",
       "id                                                                           \n",
       "1.000017e+19                0   8330  320   50   761    3  175  100075   23  \n",
       "1.000018e+19                0  22676  320   50  2616    0   35  100083   51  \n",
       "1.000055e+19                0  22676  320   50  2616    0   35  100083   51  \n",
       "1.000109e+19                0  18648  320   50  1092    3  809  100156   61  \n",
       "1.000138e+19                0  23160  320   50  2667    0   47      -1  221  \n",
       "\n",
       "[5 rows x 22 columns]"
      ]
     },
     "execution_count": 12,
     "metadata": {},
     "output_type": "execute_result"
    }
   ],
   "source": [
    "holdout_data.head()"
   ]
  },
  {
   "cell_type": "markdown",
   "metadata": {},
   "source": [
    "Below is an interactive map that incorporates a box plot for any selected feature with the x-axis represented by Class. This is very useful because you can see how each of the features are represented by the class. You might have a few features that are majority for one class or another."
   ]
  },
  {
   "cell_type": "code",
   "execution_count": 5,
   "metadata": {
    "scrolled": true
   },
   "outputs": [
    {
     "data": {
      "application/vnd.jupyter.widget-view+json": {
       "model_id": "81498cd0443f430b868d6d847cef57f3",
       "version_major": 2,
       "version_minor": 0
      },
      "text/plain": [
       "A Jupyter Widget"
      ]
     },
     "metadata": {},
     "output_type": "display_data"
    }
   ],
   "source": [
    "# this is an interactive map that allows you to look at the boxplot between the response and other variables. \n",
    "from ipywidgets import interact\n",
    "%matplotlib inline\n",
    "\n",
    "column_name = list(data.columns)\n",
    "\n",
    "@interact\n",
    "def box_plot(Feature= column_name):\n",
    "    sns.boxplot(data['click'], data[Feature])"
   ]
  },
  {
   "cell_type": "markdown",
   "metadata": {},
   "source": [
    "Something to give us a better concept of what each feature entails below is an interactive scatterplot matrix of the class variable and any other specified feature in the data. The plot also gives the distribution for each of the features picked where you can determine if any transformations should be applied."
   ]
  },
  {
   "cell_type": "code",
   "execution_count": 8,
   "metadata": {},
   "outputs": [
    {
     "data": {
      "application/vnd.jupyter.widget-view+json": {
       "model_id": "3fb0bd103d8e42c89b5bec2f8ed88bff",
       "version_major": 2,
       "version_minor": 0
      },
      "text/plain": [
       "A Jupyter Widget"
      ]
     },
     "metadata": {},
     "output_type": "display_data"
    },
    {
     "data": {
      "image/png": "[encoded data removed]",
      "text/plain": [
       "<matplotlib.figure.Figure at 0x19c8f38afd0>"
      ]
     },
     "metadata": {},
     "output_type": "display_data"
    }
   ],
   "source": [
    "%matplotlib inline\n",
    "\n",
    "@interact\n",
    "def sns_scatter(Feature_x=column_name, Feature_y=column_name):\n",
    "    \n",
    "    scatter_list = [Feature_x, Feature_y]\n",
    "\n",
    "    sns.set(color_codes=True)\n",
    "    sns.pairplot(data[scatter_list])"
   ]
  },
  {
   "cell_type": "markdown",
   "metadata": {},
   "source": [
    "<a id='1.1'></a>\n",
    "### Determine if there are missing values:\n",
    "\n",
    "Result: There are no missing values."
   ]
  },
  {
   "cell_type": "code",
   "execution_count": 14,
   "metadata": {
    "scrolled": true
   },
   "outputs": [
    {
     "data": {
      "text/plain": [
       "0"
      ]
     },
     "execution_count": 14,
     "metadata": {},
     "output_type": "execute_result"
    }
   ],
   "source": [
    "data.isnull().values.ravel().sum()"
   ]
  },
  {
   "cell_type": "code",
   "execution_count": 15,
   "metadata": {
    "scrolled": true
   },
   "outputs": [
    {
     "data": {
      "text/plain": [
       "0"
      ]
     },
     "execution_count": 15,
     "metadata": {},
     "output_type": "execute_result"
    }
   ],
   "source": [
    "holdout_data.isnull().values.ravel().sum()"
   ]
  },
  {
   "cell_type": "code",
   "execution_count": 16,
   "metadata": {
    "scrolled": true
   },
   "outputs": [
    {
     "data": {
      "text/plain": [
       "click               0\n",
       "hour                0\n",
       "C1                  0\n",
       "banner_pos          0\n",
       "site_id             0\n",
       "site_domain         0\n",
       "site_category       0\n",
       "app_id              0\n",
       "app_domain          0\n",
       "app_category        0\n",
       "device_id           0\n",
       "device_ip           0\n",
       "device_model        0\n",
       "device_type         0\n",
       "device_conn_type    0\n",
       "C14                 0\n",
       "C15                 0\n",
       "C16                 0\n",
       "C17                 0\n",
       "C18                 0\n",
       "C19                 0\n",
       "C20                 0\n",
       "C21                 0\n",
       "dtype: int64"
      ]
     },
     "execution_count": 16,
     "metadata": {},
     "output_type": "execute_result"
    }
   ],
   "source": [
    "data.isnull().sum() # There is no missing or null values in this dataset"
   ]
  },
  {
   "cell_type": "code",
   "execution_count": 17,
   "metadata": {
    "scrolled": true
   },
   "outputs": [
    {
     "data": {
      "text/plain": [
       "hour                0\n",
       "C1                  0\n",
       "banner_pos          0\n",
       "site_id             0\n",
       "site_domain         0\n",
       "site_category       0\n",
       "app_id              0\n",
       "app_domain          0\n",
       "app_category        0\n",
       "device_id           0\n",
       "device_ip           0\n",
       "device_model        0\n",
       "device_type         0\n",
       "device_conn_type    0\n",
       "C14                 0\n",
       "C15                 0\n",
       "C16                 0\n",
       "C17                 0\n",
       "C18                 0\n",
       "C19                 0\n",
       "C20                 0\n",
       "C21                 0\n",
       "dtype: int64"
      ]
     },
     "execution_count": 17,
     "metadata": {},
     "output_type": "execute_result"
    }
   ],
   "source": [
    "holdout_data.isnull().sum() # There is no missing or null values in this dataset"
   ]
  },
  {
   "cell_type": "code",
   "execution_count": 18,
   "metadata": {
    "collapsed": true,
    "scrolled": true
   },
   "outputs": [],
   "source": [
    "def missing_values_table(df): \n",
    "        mis_val = df.isnull().sum()\n",
    "        mis_val_percent = 100 * df.isnull().sum() / len(df)\n",
    "        mis_val_table = pd.concat([mis_val, mis_val_percent], axis=1)\n",
    "        mis_val_table_ren_columns = mis_val_table.rename(\n",
    "        columns = {0 : 'Missing Values', 1 : '% of Total Values'})\n",
    "        return mis_val_table_ren_columns "
   ]
  },
  {
   "cell_type": "code",
   "execution_count": 19,
   "metadata": {
    "scrolled": true
   },
   "outputs": [
    {
     "data": {
      "text/html": [
       "<div>\n",
       "<style>\n",
       "    .dataframe thead tr:only-child th {\n",
       "        text-align: right;\n",
       "    }\n",
       "\n",
       "    .dataframe thead th {\n",
       "        text-align: left;\n",
       "    }\n",
       "\n",
       "    .dataframe tbody tr th {\n",
       "        vertical-align: top;\n",
       "    }\n",
       "</style>\n",
       "<table border=\"1\" class=\"dataframe\">\n",
       "  <thead>\n",
       "    <tr style=\"text-align: right;\">\n",
       "      <th></th>\n",
       "      <th>Missing Values</th>\n",
       "      <th>% of Total Values</th>\n",
       "    </tr>\n",
       "  </thead>\n",
       "  <tbody>\n",
       "    <tr>\n",
       "      <th>click</th>\n",
       "      <td>0</td>\n",
       "      <td>0.0</td>\n",
       "    </tr>\n",
       "    <tr>\n",
       "      <th>hour</th>\n",
       "      <td>0</td>\n",
       "      <td>0.0</td>\n",
       "    </tr>\n",
       "    <tr>\n",
       "      <th>C1</th>\n",
       "      <td>0</td>\n",
       "      <td>0.0</td>\n",
       "    </tr>\n",
       "    <tr>\n",
       "      <th>banner_pos</th>\n",
       "      <td>0</td>\n",
       "      <td>0.0</td>\n",
       "    </tr>\n",
       "    <tr>\n",
       "      <th>site_id</th>\n",
       "      <td>0</td>\n",
       "      <td>0.0</td>\n",
       "    </tr>\n",
       "    <tr>\n",
       "      <th>site_domain</th>\n",
       "      <td>0</td>\n",
       "      <td>0.0</td>\n",
       "    </tr>\n",
       "    <tr>\n",
       "      <th>site_category</th>\n",
       "      <td>0</td>\n",
       "      <td>0.0</td>\n",
       "    </tr>\n",
       "    <tr>\n",
       "      <th>app_id</th>\n",
       "      <td>0</td>\n",
       "      <td>0.0</td>\n",
       "    </tr>\n",
       "    <tr>\n",
       "      <th>app_domain</th>\n",
       "      <td>0</td>\n",
       "      <td>0.0</td>\n",
       "    </tr>\n",
       "    <tr>\n",
       "      <th>app_category</th>\n",
       "      <td>0</td>\n",
       "      <td>0.0</td>\n",
       "    </tr>\n",
       "    <tr>\n",
       "      <th>device_id</th>\n",
       "      <td>0</td>\n",
       "      <td>0.0</td>\n",
       "    </tr>\n",
       "    <tr>\n",
       "      <th>device_ip</th>\n",
       "      <td>0</td>\n",
       "      <td>0.0</td>\n",
       "    </tr>\n",
       "    <tr>\n",
       "      <th>device_model</th>\n",
       "      <td>0</td>\n",
       "      <td>0.0</td>\n",
       "    </tr>\n",
       "    <tr>\n",
       "      <th>device_type</th>\n",
       "      <td>0</td>\n",
       "      <td>0.0</td>\n",
       "    </tr>\n",
       "    <tr>\n",
       "      <th>device_conn_type</th>\n",
       "      <td>0</td>\n",
       "      <td>0.0</td>\n",
       "    </tr>\n",
       "    <tr>\n",
       "      <th>C14</th>\n",
       "      <td>0</td>\n",
       "      <td>0.0</td>\n",
       "    </tr>\n",
       "    <tr>\n",
       "      <th>C15</th>\n",
       "      <td>0</td>\n",
       "      <td>0.0</td>\n",
       "    </tr>\n",
       "    <tr>\n",
       "      <th>C16</th>\n",
       "      <td>0</td>\n",
       "      <td>0.0</td>\n",
       "    </tr>\n",
       "    <tr>\n",
       "      <th>C17</th>\n",
       "      <td>0</td>\n",
       "      <td>0.0</td>\n",
       "    </tr>\n",
       "    <tr>\n",
       "      <th>C18</th>\n",
       "      <td>0</td>\n",
       "      <td>0.0</td>\n",
       "    </tr>\n",
       "    <tr>\n",
       "      <th>C19</th>\n",
       "      <td>0</td>\n",
       "      <td>0.0</td>\n",
       "    </tr>\n",
       "    <tr>\n",
       "      <th>C20</th>\n",
       "      <td>0</td>\n",
       "      <td>0.0</td>\n",
       "    </tr>\n",
       "    <tr>\n",
       "      <th>C21</th>\n",
       "      <td>0</td>\n",
       "      <td>0.0</td>\n",
       "    </tr>\n",
       "  </tbody>\n",
       "</table>\n",
       "</div>"
      ],
      "text/plain": [
       "                  Missing Values  % of Total Values\n",
       "click                          0                0.0\n",
       "hour                           0                0.0\n",
       "C1                             0                0.0\n",
       "banner_pos                     0                0.0\n",
       "site_id                        0                0.0\n",
       "site_domain                    0                0.0\n",
       "site_category                  0                0.0\n",
       "app_id                         0                0.0\n",
       "app_domain                     0                0.0\n",
       "app_category                   0                0.0\n",
       "device_id                      0                0.0\n",
       "device_ip                      0                0.0\n",
       "device_model                   0                0.0\n",
       "device_type                    0                0.0\n",
       "device_conn_type               0                0.0\n",
       "C14                            0                0.0\n",
       "C15                            0                0.0\n",
       "C16                            0                0.0\n",
       "C17                            0                0.0\n",
       "C18                            0                0.0\n",
       "C19                            0                0.0\n",
       "C20                            0                0.0\n",
       "C21                            0                0.0"
      ]
     },
     "execution_count": 19,
     "metadata": {},
     "output_type": "execute_result"
    }
   ],
   "source": [
    "missing_values_table(data)"
   ]
  },
  {
   "cell_type": "code",
   "execution_count": 20,
   "metadata": {
    "scrolled": true
   },
   "outputs": [
    {
     "data": {
      "text/html": [
       "<div>\n",
       "<style>\n",
       "    .dataframe thead tr:only-child th {\n",
       "        text-align: right;\n",
       "    }\n",
       "\n",
       "    .dataframe thead th {\n",
       "        text-align: left;\n",
       "    }\n",
       "\n",
       "    .dataframe tbody tr th {\n",
       "        vertical-align: top;\n",
       "    }\n",
       "</style>\n",
       "<table border=\"1\" class=\"dataframe\">\n",
       "  <thead>\n",
       "    <tr style=\"text-align: right;\">\n",
       "      <th></th>\n",
       "      <th>Missing Values</th>\n",
       "      <th>% of Total Values</th>\n",
       "    </tr>\n",
       "  </thead>\n",
       "  <tbody>\n",
       "    <tr>\n",
       "      <th>hour</th>\n",
       "      <td>0</td>\n",
       "      <td>0.0</td>\n",
       "    </tr>\n",
       "    <tr>\n",
       "      <th>C1</th>\n",
       "      <td>0</td>\n",
       "      <td>0.0</td>\n",
       "    </tr>\n",
       "    <tr>\n",
       "      <th>banner_pos</th>\n",
       "      <td>0</td>\n",
       "      <td>0.0</td>\n",
       "    </tr>\n",
       "    <tr>\n",
       "      <th>site_id</th>\n",
       "      <td>0</td>\n",
       "      <td>0.0</td>\n",
       "    </tr>\n",
       "    <tr>\n",
       "      <th>site_domain</th>\n",
       "      <td>0</td>\n",
       "      <td>0.0</td>\n",
       "    </tr>\n",
       "    <tr>\n",
       "      <th>site_category</th>\n",
       "      <td>0</td>\n",
       "      <td>0.0</td>\n",
       "    </tr>\n",
       "    <tr>\n",
       "      <th>app_id</th>\n",
       "      <td>0</td>\n",
       "      <td>0.0</td>\n",
       "    </tr>\n",
       "    <tr>\n",
       "      <th>app_domain</th>\n",
       "      <td>0</td>\n",
       "      <td>0.0</td>\n",
       "    </tr>\n",
       "    <tr>\n",
       "      <th>app_category</th>\n",
       "      <td>0</td>\n",
       "      <td>0.0</td>\n",
       "    </tr>\n",
       "    <tr>\n",
       "      <th>device_id</th>\n",
       "      <td>0</td>\n",
       "      <td>0.0</td>\n",
       "    </tr>\n",
       "    <tr>\n",
       "      <th>device_ip</th>\n",
       "      <td>0</td>\n",
       "      <td>0.0</td>\n",
       "    </tr>\n",
       "    <tr>\n",
       "      <th>device_model</th>\n",
       "      <td>0</td>\n",
       "      <td>0.0</td>\n",
       "    </tr>\n",
       "    <tr>\n",
       "      <th>device_type</th>\n",
       "      <td>0</td>\n",
       "      <td>0.0</td>\n",
       "    </tr>\n",
       "    <tr>\n",
       "      <th>device_conn_type</th>\n",
       "      <td>0</td>\n",
       "      <td>0.0</td>\n",
       "    </tr>\n",
       "    <tr>\n",
       "      <th>C14</th>\n",
       "      <td>0</td>\n",
       "      <td>0.0</td>\n",
       "    </tr>\n",
       "    <tr>\n",
       "      <th>C15</th>\n",
       "      <td>0</td>\n",
       "      <td>0.0</td>\n",
       "    </tr>\n",
       "    <tr>\n",
       "      <th>C16</th>\n",
       "      <td>0</td>\n",
       "      <td>0.0</td>\n",
       "    </tr>\n",
       "    <tr>\n",
       "      <th>C17</th>\n",
       "      <td>0</td>\n",
       "      <td>0.0</td>\n",
       "    </tr>\n",
       "    <tr>\n",
       "      <th>C18</th>\n",
       "      <td>0</td>\n",
       "      <td>0.0</td>\n",
       "    </tr>\n",
       "    <tr>\n",
       "      <th>C19</th>\n",
       "      <td>0</td>\n",
       "      <td>0.0</td>\n",
       "    </tr>\n",
       "    <tr>\n",
       "      <th>C20</th>\n",
       "      <td>0</td>\n",
       "      <td>0.0</td>\n",
       "    </tr>\n",
       "    <tr>\n",
       "      <th>C21</th>\n",
       "      <td>0</td>\n",
       "      <td>0.0</td>\n",
       "    </tr>\n",
       "  </tbody>\n",
       "</table>\n",
       "</div>"
      ],
      "text/plain": [
       "                  Missing Values  % of Total Values\n",
       "hour                           0                0.0\n",
       "C1                             0                0.0\n",
       "banner_pos                     0                0.0\n",
       "site_id                        0                0.0\n",
       "site_domain                    0                0.0\n",
       "site_category                  0                0.0\n",
       "app_id                         0                0.0\n",
       "app_domain                     0                0.0\n",
       "app_category                   0                0.0\n",
       "device_id                      0                0.0\n",
       "device_ip                      0                0.0\n",
       "device_model                   0                0.0\n",
       "device_type                    0                0.0\n",
       "device_conn_type               0                0.0\n",
       "C14                            0                0.0\n",
       "C15                            0                0.0\n",
       "C16                            0                0.0\n",
       "C17                            0                0.0\n",
       "C18                            0                0.0\n",
       "C19                            0                0.0\n",
       "C20                            0                0.0\n",
       "C21                            0                0.0"
      ]
     },
     "execution_count": 20,
     "metadata": {},
     "output_type": "execute_result"
    }
   ],
   "source": [
    "missing_values_table(holdout_data)"
   ]
  },
  {
   "cell_type": "markdown",
   "metadata": {},
   "source": [
    "<a id='1.2'></a>\n",
    "## Determine number of unique values for categorical columns:\n",
    "\n",
    "'site_id', 'site_domain', 'app_id', 'app_domain', 'device_id', 'device_ip', 'device_model' & drop them"
   ]
  },
  {
   "cell_type": "code",
   "execution_count": 21,
   "metadata": {
    "scrolled": true
   },
   "outputs": [
    {
     "data": {
      "text/plain": [
       "array([0, 1, 4, 5, 2, 7, 3], dtype=int64)"
      ]
     },
     "execution_count": 21,
     "metadata": {},
     "output_type": "execute_result"
    }
   ],
   "source": [
    "data['banner_pos'].unique()"
   ]
  },
  {
   "cell_type": "markdown",
   "metadata": {},
   "source": [
    "Result: Keep the feature."
   ]
  },
  {
   "cell_type": "code",
   "execution_count": 22,
   "metadata": {
    "scrolled": true
   },
   "outputs": [
    {
     "data": {
      "text/plain": [
       "array(['84c7ba46', '85f751fd', '1fbe01fe', ..., 'a3d9a1db', 'e5b64873',\n",
       "       'ec2bc575'], dtype=object)"
      ]
     },
     "execution_count": 22,
     "metadata": {},
     "output_type": "execute_result"
    }
   ],
   "source": [
    "data['site_id'].unique()"
   ]
  },
  {
   "cell_type": "code",
   "execution_count": 23,
   "metadata": {
    "scrolled": true
   },
   "outputs": [
    {
     "data": {
      "text/plain": [
       "85f751fd    1459633\n",
       "1fbe01fe     647535\n",
       "e151e245     264456\n",
       "d9750ee7      96583\n",
       "5b08c53b      90920\n",
       "5b4d2eda      76937\n",
       "856e6d3f      76490\n",
       "a7853007      46083\n",
       "b7e9786d      36910\n",
       "5ee41ff2      34956\n",
       "6399eda6      34803\n",
       "5bcf81a2      33760\n",
       "6256f5b4      31546\n",
       "57ef2c87      30913\n",
       "17caea14      28073\n",
       "0a742914      27077\n",
       "83a0ad1a      26798\n",
       "57fe1b20      26302\n",
       "e8f79e60      25733\n",
       "e4d8dd7b      25706\n",
       "d6137915      23441\n",
       "12fb4121      19574\n",
       "6c5b482c      19319\n",
       "93eaba74      18693\n",
       "e5c60a05      18069\n",
       "9a977531      17460\n",
       "bb4524e7      16836\n",
       "5114c672      16493\n",
       "e3c09f3a      15927\n",
       "4bf5bbe2      14625\n",
       "             ...   \n",
       "ae4d9eb1          1\n",
       "b349c9b1          1\n",
       "9b7fbb81          1\n",
       "fa43f4ce          1\n",
       "5297c072          1\n",
       "7621bb32          1\n",
       "71e4a1bf          1\n",
       "0c5d3b65          1\n",
       "adfc7184          1\n",
       "9f9372ab          1\n",
       "d96f98c4          1\n",
       "303ba0ee          1\n",
       "2e1e57b2          1\n",
       "4e7411ea          1\n",
       "a9caff76          1\n",
       "b3be620e          1\n",
       "14f4797c          1\n",
       "ea30701b          1\n",
       "19b92c45          1\n",
       "9e3f740b          1\n",
       "076a7ce0          1\n",
       "18f080c2          1\n",
       "fe96dcee          1\n",
       "921e3d8c          1\n",
       "2cf43c2d          1\n",
       "7bcf7a7c          1\n",
       "675e9f6f          1\n",
       "b6378215          1\n",
       "b9bb7678          1\n",
       "57b9fafc          1\n",
       "Name: site_id, Length: 3428, dtype: int64"
      ]
     },
     "execution_count": 23,
     "metadata": {},
     "output_type": "execute_result"
    }
   ],
   "source": [
    "data['site_id'].value_counts()"
   ]
  },
  {
   "cell_type": "markdown",
   "metadata": {},
   "source": [
    "Result: The feature has too many unique values for the preliminary anaysis. Collapse it now. Consult with domain knowledge experts. "
   ]
  },
  {
   "cell_type": "code",
   "execution_count": 162,
   "metadata": {},
   "outputs": [
    {
     "data": {
      "text/plain": [
       "array([1002, 1005, 1010, 1007, 1008, 1001, 1012], dtype=int64)"
      ]
     },
     "execution_count": 162,
     "metadata": {},
     "output_type": "execute_result"
    }
   ],
   "source": [
    "data['C1'].unique()"
   ]
  },
  {
   "cell_type": "code",
   "execution_count": 163,
   "metadata": {},
   "outputs": [
    {
     "data": {
      "text/plain": [
       "array([21689, 21234, 15706, ..., 18576, 18604, 24044], dtype=int64)"
      ]
     },
     "execution_count": 163,
     "metadata": {},
     "output_type": "execute_result"
    }
   ],
   "source": [
    "data['C14'].unique()"
   ]
  },
  {
   "cell_type": "code",
   "execution_count": 164,
   "metadata": {},
   "outputs": [
    {
     "data": {
      "text/plain": [
       "array([ 320,  300,  216,  728, 1024,  768,  480,  120], dtype=int64)"
      ]
     },
     "execution_count": 164,
     "metadata": {},
     "output_type": "execute_result"
    }
   ],
   "source": [
    "data['C15'].unique()"
   ]
  },
  {
   "cell_type": "code",
   "execution_count": 165,
   "metadata": {},
   "outputs": [
    {
     "data": {
      "text/plain": [
       "array([  50,   36,  250,   90,  480,  768, 1024,  320,   20], dtype=int64)"
      ]
     },
     "execution_count": 165,
     "metadata": {},
     "output_type": "execute_result"
    }
   ],
   "source": [
    "data['C16'].unique()"
   ]
  },
  {
   "cell_type": "code",
   "execution_count": 166,
   "metadata": {},
   "outputs": [
    {
     "data": {
      "text/plain": [
       "array([2496, 2434, 1722, 2333, 2161,  423, 2493, 1973,  571, 1800, 2480,\n",
       "       1926, 1637,  112, 2371, 2497, 1974, 2270, 2295, 1899, 1092, 2374,\n",
       "       1887, 1994, 2253, 2481, 2227, 2351, 1955, 2264, 2043, 2283, 1882,\n",
       "       2372, 2271, 1993,  572,  576, 2162, 1752, 2307, 1863, 1895, 2331,\n",
       "        196, 1784, 2323, 1248, 2039, 2316, 2060, 2467, 2446, 2485, 2036,\n",
       "       2449, 1528, 1921, 1780, 2495,  122, 1401, 1447, 2394, 2339,  613,\n",
       "       1934, 2471, 2478, 2325, 2153, 2312, 2263,  906, 2158, 1872, 2306,\n",
       "        544, 1685, 2424, 2284, 2285, 1996, 2286, 1740,  898,  547, 2083,\n",
       "       1991,  827, 2443, 1932, 2459, 2427, 1272,  768, 2465, 1698, 1884,\n",
       "        394, 2304,  549,  901, 2260, 2303, 1255,  686, 2476, 2482,  937,\n",
       "        178, 1769,  153, 1835, 2201, 2487, 2492,  761, 2229, 1873, 2418,\n",
       "       2346, 2421, 2278, 2242, 2425,  479, 2292, 1507, 2420, 2225, 2206,\n",
       "       2279, 2348,  550, 2281, 2282, 1939, 1965, 2397, 1960, 2438, 1008,\n",
       "       2250, 2483, 2390, 2218, 2154, 2494, 2489, 2187, 2101, 2084, 2500,\n",
       "       2181, 2502, 2505, 2338, 2504, 2503, 2498, 2428, 2509, 1141, 2508,\n",
       "       2510, 2501, 2451, 2441, 2513, 2412, 2512, 2455, 1741, 1972, 1903,\n",
       "       1107, 2436, 1149, 1515, 2519, 2479, 2439,  832, 2520, 2491, 2016,\n",
       "       2506, 2507, 2522, 2523, 2526, 2518, 2524, 2525, 1702, 1526, 2528,\n",
       "       2527, 2521, 1694, 2530, 2462, 1076, 1174, 2440, 2009, 2536, 1823,\n",
       "        873, 2375, 2531, 2544, 2547, 2532, 2545, 2535, 2546, 2533, 2534,\n",
       "       2537, 2369, 2548, 2550, 2551, 2552, 2554, 2542, 2555, 2199, 2299,\n",
       "       2511, 2556, 2543, 2539, 2553, 2435, 2557, 2563, 2558, 2515, 1253,\n",
       "       2566, 2569, 2570, 2568, 2560, 2561, 2571, 2565, 2572, 2574, 2573,\n",
       "       1042, 2340, 2577, 2583, 2580, 2578, 2587, 2576, 2450, 2454, 2453,\n",
       "       2541, 2588, 2589,  863, 1946, 2590, 2579, 2581, 2594, 2582, 2593,\n",
       "       2602, 2601, 1161, 2604, 2429, 1160, 2605, 2606, 2600, 2599, 2597,\n",
       "        872, 2609, 1516, 2610, 2104, 2592, 2612, 2598, 1821, 2615, 2613,\n",
       "       2591, 2616, 2608, 2614, 2603, 2611, 2624, 2625, 2619, 2631, 2630,\n",
       "       2633, 2635, 2634, 2636, 2647, 2627, 2640, 2641, 2637, 2638, 2639,\n",
       "       2643, 2646, 2645, 2642, 2448, 2644, 2648, 2617,  644, 2649, 2620,\n",
       "       2650, 2226, 2654, 2661, 2660, 2657, 2655, 2656, 2659, 2658, 2663,\n",
       "       2662, 2665, 2668, 2671, 2667, 2673, 2669, 2651, 2672, 2676, 2679,\n",
       "       2683, 2682, 2684, 2688, 2685, 2681, 2675, 2677, 2680, 2670, 2686,\n",
       "       2674, 1809, 2607, 2575, 2678, 2664, 2698, 2699, 2702, 2703, 2695,\n",
       "       2666, 2709, 2716, 2708, 2687, 2717, 2691, 2714, 2707, 2711, 2713,\n",
       "       2706, 2710, 2705, 2715, 2712, 2291, 2724, 2721, 2720, 2689, 2727,\n",
       "       2653, 2728, 2289, 2722, 2729, 2725, 1426, 2726, 2730, 2736, 2738,\n",
       "       2745, 2735, 2700, 2737, 2741, 2652, 2740, 2742, 2743, 2747, 2748,\n",
       "       2150, 2749, 2753, 2719, 2754, 2755, 2756, 2757, 2758, 2704], dtype=int64)"
      ]
     },
     "execution_count": 166,
     "metadata": {},
     "output_type": "execute_result"
    }
   ],
   "source": [
    "data['C17'].unique()"
   ]
  },
  {
   "cell_type": "code",
   "execution_count": 168,
   "metadata": {},
   "outputs": [
    {
     "data": {
      "text/plain": [
       "array([3, 0, 2, 1], dtype=int64)"
      ]
     },
     "execution_count": 168,
     "metadata": {},
     "output_type": "execute_result"
    }
   ],
   "source": [
    "data['C18'].unique()"
   ]
  },
  {
   "cell_type": "code",
   "execution_count": 169,
   "metadata": {},
   "outputs": [
    {
     "data": {
      "text/plain": [
       "array([ 167,  163,   35,   39,  297,  161, 1319,  551,   43,  683,  431,\n",
       "       1835,  303,  687,  427,  813, 1063,  681,  175,  171,   47, 1711,\n",
       "        801, 1451,  291,   41,  943,  169, 1071,  423, 1315, 1327,  673,\n",
       "        547,  559,  425,  679,  299,   33,   34,  553, 1447,  295,  811,\n",
       "        555,  675, 1059,  809,  937,   45,  417,  545,  419, 1959, 1065,\n",
       "        935,  815, 1583, 1195, 1839,  939,   38,  677,  290, 1831,  289,\n",
       "        803, 1575], dtype=int64)"
      ]
     },
     "execution_count": 169,
     "metadata": {},
     "output_type": "execute_result"
    }
   ],
   "source": [
    "data['C19'].unique()"
   ]
  },
  {
   "cell_type": "code",
   "execution_count": 171,
   "metadata": {},
   "outputs": [
    {
     "data": {
      "text/plain": [
       "array([100191, 100088,     -1, 100148, 100083, 100076, 100084, 100188,\n",
       "       100111, 100046, 100215, 100151, 100156, 100081, 100202, 100077,\n",
       "       100106, 100217, 100130, 100000, 100210, 100105, 100034, 100041,\n",
       "       100079, 100200, 100074, 100199, 100028, 100072, 100131, 100013,\n",
       "       100075, 100048, 100228, 100002, 100097, 100050, 100020, 100163,\n",
       "       100128, 100160, 100176, 100205, 100101, 100189, 100241, 100037,\n",
       "       100194, 100103, 100233, 100166, 100062, 100065, 100063, 100021,\n",
       "       100162, 100193, 100026, 100190, 100192, 100161, 100019, 100139,\n",
       "       100025, 100056, 100126, 100060, 100172, 100150, 100049, 100003,\n",
       "       100039, 100212, 100224, 100173, 100119, 100057, 100155, 100248,\n",
       "       100149, 100054, 100206, 100068, 100086, 100094, 100053, 100137,\n",
       "       100005, 100221, 100052, 100091, 100004, 100107, 100012, 100087,\n",
       "       100183, 100117, 100141, 100170, 100225, 100093, 100064, 100171,\n",
       "       100022, 100123, 100071, 100112, 100031, 100051, 100032, 100122,\n",
       "       100124, 100070, 100213, 100029, 100001, 100185, 100061, 100095,\n",
       "       100177, 100055, 100043, 100143, 100165, 100144, 100168, 100033,\n",
       "       100153, 100096, 100181, 100182, 100152, 100186, 100090, 100040,\n",
       "       100133, 100099, 100113, 100179, 100058, 100073, 100109, 100121,\n",
       "       100135, 100178, 100114, 100108, 100195, 100244, 100016, 100024,\n",
       "       100229, 100082, 100138, 100010, 100157, 100059, 100078, 100169,\n",
       "       100098, 100246, 100134, 100175, 100100, 100027, 100006], dtype=int64)"
      ]
     },
     "execution_count": 171,
     "metadata": {},
     "output_type": "execute_result"
    }
   ],
   "source": [
    "data['C20'].unique()"
   ]
  },
  {
   "cell_type": "code",
   "execution_count": 172,
   "metadata": {},
   "outputs": [
    {
     "data": {
      "text/plain": [
       "array([ 23,  61,  79, 157,  32, 117,  13,  91,  15,  46,  42,  33,  48,\n",
       "        52,  71,  95,  82, 101,  16, 156,  93,  94, 116, 100, 111,  20,\n",
       "        43,  51, 195,  70,  69,  85,  17,  68, 112,  90, 221, 194, 110,\n",
       "        35, 219, 102, 163, 178, 159, 108, 182, 171, 177, 204, 212, 126,\n",
       "       253, 251,   1, 229, 246, 255,  76, 104], dtype=int64)"
      ]
     },
     "execution_count": 172,
     "metadata": {},
     "output_type": "execute_result"
    }
   ],
   "source": [
    "data['C21'].unique()"
   ]
  },
  {
   "cell_type": "code",
   "execution_count": null,
   "metadata": {
    "collapsed": true,
    "scrolled": true
   },
   "outputs": [],
   "source": [
    "data['site_domain'].unique()"
   ]
  },
  {
   "cell_type": "code",
   "execution_count": 25,
   "metadata": {
    "scrolled": true
   },
   "outputs": [
    {
     "data": {
      "text/plain": [
       "c4e18dd6    1513458\n",
       "f3845767     647535\n",
       "7e091613     333182\n",
       "7687a86e     128932\n",
       "98572c79      99876\n",
       "16a36ef3      85235\n",
       "58a89a43      76490\n",
       "b12b9f85      37378\n",
       "9d54950b      37334\n",
       "17d996e6      35420\n",
       "968765cd      34803\n",
       "28f93029      31546\n",
       "bd6d812f      30913\n",
       "d262cf1e      28894\n",
       "0dde25ec      28073\n",
       "510bd839      27077\n",
       "5c9ae867      26798\n",
       "5b626596      26385\n",
       "c4342784      25733\n",
       "a17bde68      25706\n",
       "6b59f079      24460\n",
       "bb1ef334      23441\n",
       "7256c623      22019\n",
       "a434fa42      20620\n",
       "d733bbc3      16836\n",
       "3f2f3819      16493\n",
       "6b560cc1      14625\n",
       "c1aa3c04      12920\n",
       "27e3c518      12727\n",
       "e2a5dc06      11643\n",
       "             ...   \n",
       "3126483e          1\n",
       "3a49ece1          1\n",
       "5bc0d713          1\n",
       "49cb396e          1\n",
       "282151d4          1\n",
       "a4cfda5e          1\n",
       "49a438e1          1\n",
       "7e62f447          1\n",
       "76200dc2          1\n",
       "6e96616f          1\n",
       "f6ea8b54          1\n",
       "e9ffa76d          1\n",
       "86c1d76e          1\n",
       "7e7557bc          1\n",
       "e4c44421          1\n",
       "f1f5ecc1          1\n",
       "a98d3f43          1\n",
       "93874a03          1\n",
       "a7c5d333          1\n",
       "cd380619          1\n",
       "34eac588          1\n",
       "5185c4b5          1\n",
       "70db6af8          1\n",
       "96b58001          1\n",
       "3f7a036b          1\n",
       "dbc32965          1\n",
       "dcd77ece          1\n",
       "5b2513b5          1\n",
       "6d9f7f8e          1\n",
       "b6cc16fd          1\n",
       "Name: site_domain, Length: 4246, dtype: int64"
      ]
     },
     "execution_count": 25,
     "metadata": {},
     "output_type": "execute_result"
    }
   ],
   "source": [
    "data['site_domain'].value_counts()"
   ]
  },
  {
   "cell_type": "markdown",
   "metadata": {},
   "source": [
    "Result: The feature has too many unique values for the preliminary anaysis. Collapse it now. Consult with domain knowledge experts. "
   ]
  },
  {
   "cell_type": "code",
   "execution_count": 26,
   "metadata": {
    "scrolled": true
   },
   "outputs": [
    {
     "data": {
      "text/plain": [
       "array(['50e219e0', '28905ebd', '3e814130', '76b2941d', 'f028772b',\n",
       "       '335d28a8', '0569f928', '72722551', '75fa27f6', 'f66779e6',\n",
       "       'c0dd3be3', 'a818d37a', 'dedf689d', '70fb0e29', 'bcf865d9',\n",
       "       '8fd0aea4', 'e787de0e', '42a36e14', '5378d028', '9ccfa2ea',\n",
       "       '74073276', 'c706e647', '110ab22d', 'da34532e'], dtype=object)"
      ]
     },
     "execution_count": 26,
     "metadata": {},
     "output_type": "execute_result"
    }
   ],
   "source": [
    "data['site_category'].unique()"
   ]
  },
  {
   "cell_type": "markdown",
   "metadata": {},
   "source": [
    "Result: Keep the feature."
   ]
  },
  {
   "cell_type": "code",
   "execution_count": 27,
   "metadata": {
    "scrolled": true
   },
   "outputs": [
    {
     "data": {
      "text/plain": [
       "array(['ecad2386', '66a5f0f3', 'e2fcccd2', ..., 'd9fe2944', 'af3f2d83',\n",
       "       '6b12878b'], dtype=object)"
      ]
     },
     "execution_count": 27,
     "metadata": {},
     "output_type": "execute_result"
    }
   ],
   "source": [
    "data['app_id'].unique()"
   ]
  },
  {
   "cell_type": "code",
   "execution_count": 28,
   "metadata": {
    "scrolled": true
   },
   "outputs": [
    {
     "data": {
      "text/plain": [
       "ecad2386    2583263\n",
       "92f5800b     155562\n",
       "e2fcccd2     112884\n",
       "febd1138      76007\n",
       "9c13b419      75544\n",
       "7358e05e      61847\n",
       "a5184c22      49209\n",
       "d36838b1      45647\n",
       "685d1c4c      41092\n",
       "54c5d545      39624\n",
       "03528b27      32175\n",
       "f0d41ff1      29664\n",
       "e2a1ca37      28313\n",
       "e9739828      28240\n",
       "51cedd4e      23843\n",
       "66f5e02e      22693\n",
       "98fed791      21761\n",
       "03a08c3f      21738\n",
       "73206397      20103\n",
       "f53417e1      19733\n",
       "e96773f0      17917\n",
       "ce183bbd      14676\n",
       "be7c618d      12051\n",
       "1dc72b4d      10606\n",
       "f888bf4c      10224\n",
       "396df801       9804\n",
       "3c4b944d       8850\n",
       "39947756       8666\n",
       "cf0327f9       8632\n",
       "3f2a6cbb       8340\n",
       "             ...   \n",
       "7c4af157          1\n",
       "bc7f7792          1\n",
       "fd7456eb          1\n",
       "ea82ef1f          1\n",
       "0c46c4a3          1\n",
       "a9aea987          1\n",
       "b69df539          1\n",
       "c4b726d8          1\n",
       "086d1ac0          1\n",
       "d2be8797          1\n",
       "6cc50ffe          1\n",
       "9c198883          1\n",
       "fe7dd787          1\n",
       "ca244efa          1\n",
       "d5868a3c          1\n",
       "f2b184b6          1\n",
       "1178e07f          1\n",
       "52099d06          1\n",
       "52e7dbe4          1\n",
       "46110e8a          1\n",
       "ce53350f          1\n",
       "dfea7e71          1\n",
       "c6f3d910          1\n",
       "c167b367          1\n",
       "278194c0          1\n",
       "ccf6b296          1\n",
       "79993d69          1\n",
       "5a214a5e          1\n",
       "3b5780cf          1\n",
       "a19b2fa8          1\n",
       "Name: app_id, Length: 4889, dtype: int64"
      ]
     },
     "execution_count": 28,
     "metadata": {},
     "output_type": "execute_result"
    }
   ],
   "source": [
    "data['app_id'].value_counts()"
   ]
  },
  {
   "cell_type": "markdown",
   "metadata": {},
   "source": [
    "Result: The feature has too many unique values for the preliminary anaysis. Collapse it now. Consult with domain knowledge experts. "
   ]
  },
  {
   "cell_type": "code",
   "execution_count": 29,
   "metadata": {
    "scrolled": true
   },
   "outputs": [
    {
     "data": {
      "text/plain": [
       "array(['ecad2386', '66a5f0f3', 'e2fcccd2', ..., 'd9fe2944', 'af3f2d83',\n",
       "       '6b12878b'], dtype=object)"
      ]
     },
     "execution_count": 29,
     "metadata": {},
     "output_type": "execute_result"
    }
   ],
   "source": [
    "data['app_id'].unique()"
   ]
  },
  {
   "cell_type": "code",
   "execution_count": 30,
   "metadata": {
    "scrolled": true
   },
   "outputs": [
    {
     "data": {
      "text/plain": [
       "ecad2386    2583263\n",
       "92f5800b     155562\n",
       "e2fcccd2     112884\n",
       "febd1138      76007\n",
       "9c13b419      75544\n",
       "7358e05e      61847\n",
       "a5184c22      49209\n",
       "d36838b1      45647\n",
       "685d1c4c      41092\n",
       "54c5d545      39624\n",
       "03528b27      32175\n",
       "f0d41ff1      29664\n",
       "e2a1ca37      28313\n",
       "e9739828      28240\n",
       "51cedd4e      23843\n",
       "66f5e02e      22693\n",
       "98fed791      21761\n",
       "03a08c3f      21738\n",
       "73206397      20103\n",
       "f53417e1      19733\n",
       "e96773f0      17917\n",
       "ce183bbd      14676\n",
       "be7c618d      12051\n",
       "1dc72b4d      10606\n",
       "f888bf4c      10224\n",
       "396df801       9804\n",
       "3c4b944d       8850\n",
       "39947756       8666\n",
       "cf0327f9       8632\n",
       "3f2a6cbb       8340\n",
       "             ...   \n",
       "7c4af157          1\n",
       "bc7f7792          1\n",
       "fd7456eb          1\n",
       "ea82ef1f          1\n",
       "0c46c4a3          1\n",
       "a9aea987          1\n",
       "b69df539          1\n",
       "c4b726d8          1\n",
       "086d1ac0          1\n",
       "d2be8797          1\n",
       "6cc50ffe          1\n",
       "9c198883          1\n",
       "fe7dd787          1\n",
       "ca244efa          1\n",
       "d5868a3c          1\n",
       "f2b184b6          1\n",
       "1178e07f          1\n",
       "52099d06          1\n",
       "52e7dbe4          1\n",
       "46110e8a          1\n",
       "ce53350f          1\n",
       "dfea7e71          1\n",
       "c6f3d910          1\n",
       "c167b367          1\n",
       "278194c0          1\n",
       "ccf6b296          1\n",
       "79993d69          1\n",
       "5a214a5e          1\n",
       "3b5780cf          1\n",
       "a19b2fa8          1\n",
       "Name: app_id, Length: 4889, dtype: int64"
      ]
     },
     "execution_count": 30,
     "metadata": {},
     "output_type": "execute_result"
    }
   ],
   "source": [
    "data['app_id'].value_counts()"
   ]
  },
  {
   "cell_type": "markdown",
   "metadata": {},
   "source": [
    "Result: The feature has too many unique values for the preliminary anaysis. Collapse it now. Consult with domain knowledge experts."
   ]
  },
  {
   "cell_type": "code",
   "execution_count": 31,
   "metadata": {
    "scrolled": true
   },
   "outputs": [
    {
     "data": {
      "text/plain": [
       "array(['7801e8d9', 'd9b5648e', '5c5a694b', '2347f47a', '82e27996',\n",
       "       '45a51db4', 'aefc06bd', '0654b444', 'ad63ec9b', 'ae637522',\n",
       "       '5c620f04', 'f2f777fb', '43cf4f06', '885c7f3f', '813f3323',\n",
       "       '33da2e74', 'afdf1f54', '5b9c592b', 'c6824def', '6f7ca2ba',\n",
       "       '828da833', 'b5f3b24a', 'db829551', 'b9528b13', '2b627705',\n",
       "       '3feeed1e', '15ec7f39', '18eb4e75', '27ee373d', '90706f5d',\n",
       "       'f3ad7798', '2022d54e', 'b8d325c3', 'e5d5313f', 'df32afa9',\n",
       "       '5ac0b939', '15c23f8e', '0b7d3d7d', '47464e95', '56eabb45',\n",
       "       'c91cbbb4', '6a0a3a9d', '51174fb1', 'dcb74110', 'e787a6bc',\n",
       "       '7a9371fa', 'b408d42a', 'a271c340', '4fafd4c4', '88293ffa',\n",
       "       '7bbb38df', '2c1c31c6', '6cf43c3b', 'b2816726', '1ea19ec4',\n",
       "       '6c2d0c26', 'b398ab59', '449e219f', '86adec6c', '9ec164d3',\n",
       "       '700adbf0', '0e8616ad', '64ae80a5', 'cb36afb8', '863f4950',\n",
       "       '800100e0', 'fd0f197b', 'bd8c1fdc', 'fd5f0ee2', 'da1be86e',\n",
       "       'ef1fc174', 'd3c75c8f', '1ed56ded', '0d79ee56', 'b12ff13e',\n",
       "       'b299335a', 'e25eea83', '86aa8fec', '1cb641ec', '8d87821d',\n",
       "       '063914ab', '48aec236', '24f896e0', 'b7af3e0a', '2d332391',\n",
       "       'b51aefa8', '63f57be0', '3df323d8', 'd18c63a1', 'e7928b55',\n",
       "       '999f1fac', '3ca588d4', '2619a4f7', '713c0c91', 'd9e67b62',\n",
       "       '7a94af76', 'ba275770', '5bcedd7d', '756ffb85', 'b97def0d',\n",
       "       '90322ef6', 'dec87c2e', 'f84a2400', 'f7f22564', '201ad671',\n",
       "       '17578ec3', 'cda96d46', 'bcef5708', '6aafed40', '65b2af4c',\n",
       "       'af201489', 'a5204413', '323f3fe5', '57cf0548', '64845f22',\n",
       "       '1d5e09f4', 'cd732fd5', '1438d51f', '94007c57', 'b0920d40',\n",
       "       '47db8711', '4e0bb613', '916026d9', '29cd071c', '92895b94',\n",
       "       '9a9085ad', 'f09de4dc', '448ca2e3', 'fc41b20c', 'd6feb1a4',\n",
       "       'c36365e3', '9ecca2dd', '59e465f4', '7b833eb9', 'fd68cbd8',\n",
       "       'e24414c4', 'c5c485e8', 'ca7441a4', '9e96e8cf', 'ed7f6170',\n",
       "       '4d86b5ce', 'b9215c20', 'adacd5cc', 'e5d008b4', 'dbf5ab77',\n",
       "       'f91396ac', '9acfe436', '1cbecd39', '435769ed', '772df91c',\n",
       "       '002e4064', '12aaf71f', '6dea6e92', '621d726b', 'ae36b8ab',\n",
       "       'c0940197', '256a5990', 'bb6bcbae', '4ed652f4', 'a09b1cc0',\n",
       "       '1dc9b529', 'f5a7c834', '1020a5f7', '9c566260', '5aa9fd44',\n",
       "       '73fc6786', '1b74784d', 'e4a3128e', '9cc1123d', '5ef0e2e9',\n",
       "       '298309ba', 'dcdba109', 'bb27eb10', '28a85b13', '30e8a43f',\n",
       "       '424d97b0', 'be452468', '1ddc989f', '3c992420', '438468ad',\n",
       "       'ead20d3d', '9830a8fb', '1102383a', '23e2c80e', '26894d3c',\n",
       "       '1e3b33ad', '44324ff4', '7cf770da', 'd3e7c965', '36fb59d6',\n",
       "       '6a90b0cb', '6de3d639', 'da45f10e', 'e25ea824', 'a8b0bf20',\n",
       "       '3fa331b0', '519a450d', 'f435cae0', 'af237497', 'a96b2ee7',\n",
       "       'bb85b34d', '0eb1a401', '97d745c9', 'b88e8096', '4890a39e',\n",
       "       'e193e1f5', '99b4c806', '78051bc0', 'd95432fe', '179fcd69',\n",
       "       '5048f612', 'd06cce07', '28269d80', '20ab8b07', 'f75ccedd',\n",
       "       '55240cf0', '7d58e760', '5af432e2', '927b53cd', '5b3f66ff',\n",
       "       '18e5bfbf', '26378630', 'f48b6635', '1c666936', '42ed489e',\n",
       "       '2c11183d', 'c343527e', '5da9e6db', '53747a78', '97efe5c6',\n",
       "       '7eec2ab0', '9ec8f0d8', '734d52b9', '655e300a', '6bfb9168',\n",
       "       'e29fc2b7', 'eaaf6d12', 'd98095bb', '81b19a31', '1d1d4953',\n",
       "       '5ad474ea', '214e1541', '7bb90734', '7ecafa37', 'c91a8f07',\n",
       "       '316edd1b', '7c4d2cca', 'a841febe', 'b3c288b7', 'b9f04b56',\n",
       "       'ee50c840', 'cf9adca5', '813fb413', '00314725', 'a6ec4ed6',\n",
       "       'f7eba725', '090fcb2e', 'a9aab246', 'a9caeae7', 'e81561d1',\n",
       "       'b50610ee', 'c87b28e6', '030e4250', '5d4da5b0', '7a0640b2',\n",
       "       '6793d46b', 'c72257c6', '2ee4f367', '9492ae41', 'a8985b53',\n",
       "       '2ef29720', '8bb7dba9', '3e5459f6', 'e2fa941d', 'fe369646',\n",
       "       '790dd3cc', '55888256', 'c9373861', 'c41aa5ee', '19b11785',\n",
       "       'dd9d354c', '9d65dcb9', '3c08d416', 'd25f310a', '96c7bad2',\n",
       "       'df741103', 'fea0d84a', '5406e4db', '38c660a5', 'd767dc6b',\n",
       "       '8ab0d4f4', '203a4d02', '659251d7', '6437e20c', '5397e464',\n",
       "       'cea55998', 'a5ab1a9f', '90d75517'], dtype=object)"
      ]
     },
     "execution_count": 31,
     "metadata": {},
     "output_type": "execute_result"
    }
   ],
   "source": [
    "data['app_domain'].unique()"
   ]
  },
  {
   "cell_type": "code",
   "execution_count": 32,
   "metadata": {
    "scrolled": true
   },
   "outputs": [
    {
     "data": {
      "text/plain": [
       "7801e8d9    2723709\n",
       "2347f47a     523910\n",
       "ae637522     188343\n",
       "5c5a694b     112902\n",
       "82e27996      76009\n",
       "d9b5648e      71495\n",
       "0e8616ad      65775\n",
       "b9528b13      64967\n",
       "b8d325c3      53389\n",
       "aefc06bd      29869\n",
       "df32afa9      28883\n",
       "33da2e74      25866\n",
       "6f7ca2ba      22694\n",
       "5b9c592b      10224\n",
       "885c7f3f       6801\n",
       "5c620f04       6071\n",
       "45a51db4       5756\n",
       "b5f3b24a       4818\n",
       "813f3323       2559\n",
       "0654b444       2369\n",
       "ad63ec9b       1794\n",
       "c6824def       1448\n",
       "a8b0bf20       1301\n",
       "15ec7f39       1292\n",
       "99b4c806       1039\n",
       "828da833        819\n",
       "448ca2e3        727\n",
       "43cf4f06        723\n",
       "f2f777fb        651\n",
       "47464e95        459\n",
       "             ...   \n",
       "c9373861          1\n",
       "55240cf0          1\n",
       "4d86b5ce          1\n",
       "78051bc0          1\n",
       "c87b28e6          1\n",
       "3c08d416          1\n",
       "e29fc2b7          1\n",
       "b398ab59          1\n",
       "5d4da5b0          1\n",
       "5ef0e2e9          1\n",
       "e25eea83          1\n",
       "1d1d4953          1\n",
       "9ec8f0d8          1\n",
       "c72257c6          1\n",
       "5048f612          1\n",
       "ee50c840          1\n",
       "17578ec3          1\n",
       "6de3d639          1\n",
       "424d97b0          1\n",
       "a9aab246          1\n",
       "927b53cd          1\n",
       "a5ab1a9f          1\n",
       "790dd3cc          1\n",
       "00314725          1\n",
       "d25f310a          1\n",
       "19b11785          1\n",
       "316edd1b          1\n",
       "bb85b34d          1\n",
       "0eb1a401          1\n",
       "cf9adca5          1\n",
       "Name: app_domain, Length: 298, dtype: int64"
      ]
     },
     "execution_count": 32,
     "metadata": {},
     "output_type": "execute_result"
    }
   ],
   "source": [
    "data['app_domain'].value_counts()"
   ]
  },
  {
   "cell_type": "markdown",
   "metadata": {},
   "source": [
    "Result: The feature has too many unique values for the preliminary anaysis. Collapse it now. Consult with domain knowledge experts. "
   ]
  },
  {
   "cell_type": "code",
   "execution_count": 33,
   "metadata": {
    "scrolled": true
   },
   "outputs": [
    {
     "data": {
      "text/plain": [
       "array(['07d7df22', 'cef3e649', '0f2161f8', 'f95efa07', '8ded1f7a',\n",
       "       '75d80bbe', 'd1327cf5', 'dc97ec06', 'a3c42688', '4ce2e9fc',\n",
       "       '09481d60', '7113d72a', 'fc6fa53d', '8df2e842', '0f9a328c',\n",
       "       'a86a3e89', '4681bb9d', '879c24eb', '2281a340', '0bfbc358',\n",
       "       '79f0b860', '86c1a5a3', '18b1e0be', 'a7fd01ec', 'f395a87f',\n",
       "       '5326cf99', '2fc4f2aa', '0d82db25'], dtype=object)"
      ]
     },
     "execution_count": 33,
     "metadata": {},
     "output_type": "execute_result"
    }
   ],
   "source": [
    "data['app_category'].unique()"
   ]
  },
  {
   "cell_type": "markdown",
   "metadata": {},
   "source": [
    "Result: Keep the feature."
   ]
  },
  {
   "cell_type": "code",
   "execution_count": 34,
   "metadata": {
    "scrolled": true
   },
   "outputs": [
    {
     "data": {
      "text/plain": [
       "array(['c357dbff', 'a99f214a', 'a7420ec6', ..., '160abe66', '1adadf86',\n",
       "       '6d82a1ef'], dtype=object)"
      ]
     },
     "execution_count": 34,
     "metadata": {},
     "output_type": "execute_result"
    }
   ],
   "source": [
    "data['device_id'].unique()"
   ]
  },
  {
   "cell_type": "markdown",
   "metadata": {},
   "source": [
    "Result: The feature has too many unique values for the preliminary anaysis. Collapse it now. Consult with domain knowledge experts. "
   ]
  },
  {
   "cell_type": "code",
   "execution_count": 35,
   "metadata": {
    "scrolled": true
   },
   "outputs": [
    {
     "data": {
      "text/plain": [
       "array(['f1ac7184', 'fa60af6b', '431b3174', ..., '7c9e21ff', '56e0135b',\n",
       "       '44e7d8bd'], dtype=object)"
      ]
     },
     "execution_count": 35,
     "metadata": {},
     "output_type": "execute_result"
    }
   ],
   "source": [
    "data['device_ip'].unique()"
   ]
  },
  {
   "cell_type": "markdown",
   "metadata": {},
   "source": [
    "Result: The feature has too many unique values for the preliminary anaysis. Collapse it now. Consult with domain knowledge experts. "
   ]
  },
  {
   "cell_type": "code",
   "execution_count": 36,
   "metadata": {
    "scrolled": true
   },
   "outputs": [
    {
     "data": {
      "text/plain": [
       "array(['373ecbe6', 'b4b19c97', 'f39b265e', ..., '6f9ad639', '412eb17f',\n",
       "       '8473e978'], dtype=object)"
      ]
     },
     "execution_count": 36,
     "metadata": {},
     "output_type": "execute_result"
    }
   ],
   "source": [
    "data['device_model'].unique()"
   ]
  },
  {
   "cell_type": "markdown",
   "metadata": {},
   "source": [
    "Result: The feature has too many unique values for the preliminary anaysis. Collapse it now. Consult with domain knowledge experts. "
   ]
  },
  {
   "cell_type": "code",
   "execution_count": 37,
   "metadata": {
    "scrolled": true
   },
   "outputs": [
    {
     "data": {
      "text/plain": [
       "array([0, 1, 4, 5, 2], dtype=int64)"
      ]
     },
     "execution_count": 37,
     "metadata": {},
     "output_type": "execute_result"
    }
   ],
   "source": [
    "data['device_type'].unique()"
   ]
  },
  {
   "cell_type": "markdown",
   "metadata": {},
   "source": [
    "Result: Keep the feature."
   ]
  },
  {
   "cell_type": "code",
   "execution_count": 38,
   "metadata": {
    "scrolled": true
   },
   "outputs": [
    {
     "data": {
      "text/plain": [
       "array([0, 2, 3, 5], dtype=int64)"
      ]
     },
     "execution_count": 38,
     "metadata": {},
     "output_type": "execute_result"
    }
   ],
   "source": [
    "data['device_conn_type'].unique()"
   ]
  },
  {
   "cell_type": "markdown",
   "metadata": {},
   "source": [
    "Result: Keep the feature."
   ]
  },
  {
   "cell_type": "code",
   "execution_count": 39,
   "metadata": {
    "scrolled": true
   },
   "outputs": [
    {
     "data": {
      "text/plain": [
       "array([21689, 21234, 15706, ..., 18576, 18604, 24044], dtype=int64)"
      ]
     },
     "execution_count": 39,
     "metadata": {},
     "output_type": "execute_result"
    }
   ],
   "source": [
    "data['C14'].unique()"
   ]
  },
  {
   "cell_type": "markdown",
   "metadata": {},
   "source": [
    "Result: Integer and unknown, therefore keep this feature."
   ]
  },
  {
   "cell_type": "code",
   "execution_count": 40,
   "metadata": {
    "scrolled": true
   },
   "outputs": [
    {
     "data": {
      "text/plain": [
       "array([ 320,  300,  216,  728, 1024,  768,  480,  120], dtype=int64)"
      ]
     },
     "execution_count": 40,
     "metadata": {},
     "output_type": "execute_result"
    }
   ],
   "source": [
    "data['C15'].unique()"
   ]
  },
  {
   "cell_type": "markdown",
   "metadata": {},
   "source": [
    "Result: Integer and unknown, therefore keep this feature."
   ]
  },
  {
   "cell_type": "code",
   "execution_count": 41,
   "metadata": {
    "scrolled": true
   },
   "outputs": [
    {
     "data": {
      "text/plain": [
       "array([  50,   36,  250,   90,  480,  768, 1024,  320,   20], dtype=int64)"
      ]
     },
     "execution_count": 41,
     "metadata": {},
     "output_type": "execute_result"
    }
   ],
   "source": [
    "data['C16'].unique()"
   ]
  },
  {
   "cell_type": "markdown",
   "metadata": {},
   "source": [
    "Result: Integer and unknown, therefore keep this feature."
   ]
  },
  {
   "cell_type": "code",
   "execution_count": 42,
   "metadata": {
    "scrolled": true
   },
   "outputs": [
    {
     "data": {
      "text/plain": [
       "array([2496, 2434, 1722, 2333, 2161,  423, 2493, 1973,  571, 1800, 2480,\n",
       "       1926, 1637,  112, 2371, 2497, 1974, 2270, 2295, 1899, 1092, 2374,\n",
       "       1887, 1994, 2253, 2481, 2227, 2351, 1955, 2264, 2043, 2283, 1882,\n",
       "       2372, 2271, 1993,  572,  576, 2162, 1752, 2307, 1863, 1895, 2331,\n",
       "        196, 1784, 2323, 1248, 2039, 2316, 2060, 2467, 2446, 2485, 2036,\n",
       "       2449, 1528, 1921, 1780, 2495,  122, 1401, 1447, 2394, 2339,  613,\n",
       "       1934, 2471, 2478, 2325, 2153, 2312, 2263,  906, 2158, 1872, 2306,\n",
       "        544, 1685, 2424, 2284, 2285, 1996, 2286, 1740,  898,  547, 2083,\n",
       "       1991,  827, 2443, 1932, 2459, 2427, 1272,  768, 2465, 1698, 1884,\n",
       "        394, 2304,  549,  901, 2260, 2303, 1255,  686, 2476, 2482,  937,\n",
       "        178, 1769,  153, 1835, 2201, 2487, 2492,  761, 2229, 1873, 2418,\n",
       "       2346, 2421, 2278, 2242, 2425,  479, 2292, 1507, 2420, 2225, 2206,\n",
       "       2279, 2348,  550, 2281, 2282, 1939, 1965, 2397, 1960, 2438, 1008,\n",
       "       2250, 2483, 2390, 2218, 2154, 2494, 2489, 2187, 2101, 2084, 2500,\n",
       "       2181, 2502, 2505, 2338, 2504, 2503, 2498, 2428, 2509, 1141, 2508,\n",
       "       2510, 2501, 2451, 2441, 2513, 2412, 2512, 2455, 1741, 1972, 1903,\n",
       "       1107, 2436, 1149, 1515, 2519, 2479, 2439,  832, 2520, 2491, 2016,\n",
       "       2506, 2507, 2522, 2523, 2526, 2518, 2524, 2525, 1702, 1526, 2528,\n",
       "       2527, 2521, 1694, 2530, 2462, 1076, 1174, 2440, 2009, 2536, 1823,\n",
       "        873, 2375, 2531, 2544, 2547, 2532, 2545, 2535, 2546, 2533, 2534,\n",
       "       2537, 2369, 2548, 2550, 2551, 2552, 2554, 2542, 2555, 2199, 2299,\n",
       "       2511, 2556, 2543, 2539, 2553, 2435, 2557, 2563, 2558, 2515, 1253,\n",
       "       2566, 2569, 2570, 2568, 2560, 2561, 2571, 2565, 2572, 2574, 2573,\n",
       "       1042, 2340, 2577, 2583, 2580, 2578, 2587, 2576, 2450, 2454, 2453,\n",
       "       2541, 2588, 2589,  863, 1946, 2590, 2579, 2581, 2594, 2582, 2593,\n",
       "       2602, 2601, 1161, 2604, 2429, 1160, 2605, 2606, 2600, 2599, 2597,\n",
       "        872, 2609, 1516, 2610, 2104, 2592, 2612, 2598, 1821, 2615, 2613,\n",
       "       2591, 2616, 2608, 2614, 2603, 2611, 2624, 2625, 2619, 2631, 2630,\n",
       "       2633, 2635, 2634, 2636, 2647, 2627, 2640, 2641, 2637, 2638, 2639,\n",
       "       2643, 2646, 2645, 2642, 2448, 2644, 2648, 2617,  644, 2649, 2620,\n",
       "       2650, 2226, 2654, 2661, 2660, 2657, 2655, 2656, 2659, 2658, 2663,\n",
       "       2662, 2665, 2668, 2671, 2667, 2673, 2669, 2651, 2672, 2676, 2679,\n",
       "       2683, 2682, 2684, 2688, 2685, 2681, 2675, 2677, 2680, 2670, 2686,\n",
       "       2674, 1809, 2607, 2575, 2678, 2664, 2698, 2699, 2702, 2703, 2695,\n",
       "       2666, 2709, 2716, 2708, 2687, 2717, 2691, 2714, 2707, 2711, 2713,\n",
       "       2706, 2710, 2705, 2715, 2712, 2291, 2724, 2721, 2720, 2689, 2727,\n",
       "       2653, 2728, 2289, 2722, 2729, 2725, 1426, 2726, 2730, 2736, 2738,\n",
       "       2745, 2735, 2700, 2737, 2741, 2652, 2740, 2742, 2743, 2747, 2748,\n",
       "       2150, 2749, 2753, 2719, 2754, 2755, 2756, 2757, 2758, 2704], dtype=int64)"
      ]
     },
     "execution_count": 42,
     "metadata": {},
     "output_type": "execute_result"
    }
   ],
   "source": [
    "data['C17'].unique()"
   ]
  },
  {
   "cell_type": "markdown",
   "metadata": {},
   "source": [
    "Result: Integer and unknown, therefore keep this feature."
   ]
  },
  {
   "cell_type": "code",
   "execution_count": 43,
   "metadata": {
    "scrolled": true
   },
   "outputs": [
    {
     "data": {
      "text/plain": [
       "array([3, 0, 2, 1], dtype=int64)"
      ]
     },
     "execution_count": 43,
     "metadata": {},
     "output_type": "execute_result"
    }
   ],
   "source": [
    "data['C18'].unique()"
   ]
  },
  {
   "cell_type": "markdown",
   "metadata": {},
   "source": [
    "Result: Integer and unknown, therefore keep this feature."
   ]
  },
  {
   "cell_type": "code",
   "execution_count": 44,
   "metadata": {
    "scrolled": true
   },
   "outputs": [
    {
     "data": {
      "text/plain": [
       "array([ 167,  163,   35,   39,  297,  161, 1319,  551,   43,  683,  431,\n",
       "       1835,  303,  687,  427,  813, 1063,  681,  175,  171,   47, 1711,\n",
       "        801, 1451,  291,   41,  943,  169, 1071,  423, 1315, 1327,  673,\n",
       "        547,  559,  425,  679,  299,   33,   34,  553, 1447,  295,  811,\n",
       "        555,  675, 1059,  809,  937,   45,  417,  545,  419, 1959, 1065,\n",
       "        935,  815, 1583, 1195, 1839,  939,   38,  677,  290, 1831,  289,\n",
       "        803, 1575], dtype=int64)"
      ]
     },
     "execution_count": 44,
     "metadata": {},
     "output_type": "execute_result"
    }
   ],
   "source": [
    "data['C19'].unique()"
   ]
  },
  {
   "cell_type": "markdown",
   "metadata": {},
   "source": [
    "Result: Integer and unknown, therefore keep this feature."
   ]
  },
  {
   "cell_type": "code",
   "execution_count": 45,
   "metadata": {
    "scrolled": true
   },
   "outputs": [
    {
     "data": {
      "text/plain": [
       "array([100191, 100088,     -1, 100148, 100083, 100076, 100084, 100188,\n",
       "       100111, 100046, 100215, 100151, 100156, 100081, 100202, 100077,\n",
       "       100106, 100217, 100130, 100000, 100210, 100105, 100034, 100041,\n",
       "       100079, 100200, 100074, 100199, 100028, 100072, 100131, 100013,\n",
       "       100075, 100048, 100228, 100002, 100097, 100050, 100020, 100163,\n",
       "       100128, 100160, 100176, 100205, 100101, 100189, 100241, 100037,\n",
       "       100194, 100103, 100233, 100166, 100062, 100065, 100063, 100021,\n",
       "       100162, 100193, 100026, 100190, 100192, 100161, 100019, 100139,\n",
       "       100025, 100056, 100126, 100060, 100172, 100150, 100049, 100003,\n",
       "       100039, 100212, 100224, 100173, 100119, 100057, 100155, 100248,\n",
       "       100149, 100054, 100206, 100068, 100086, 100094, 100053, 100137,\n",
       "       100005, 100221, 100052, 100091, 100004, 100107, 100012, 100087,\n",
       "       100183, 100117, 100141, 100170, 100225, 100093, 100064, 100171,\n",
       "       100022, 100123, 100071, 100112, 100031, 100051, 100032, 100122,\n",
       "       100124, 100070, 100213, 100029, 100001, 100185, 100061, 100095,\n",
       "       100177, 100055, 100043, 100143, 100165, 100144, 100168, 100033,\n",
       "       100153, 100096, 100181, 100182, 100152, 100186, 100090, 100040,\n",
       "       100133, 100099, 100113, 100179, 100058, 100073, 100109, 100121,\n",
       "       100135, 100178, 100114, 100108, 100195, 100244, 100016, 100024,\n",
       "       100229, 100082, 100138, 100010, 100157, 100059, 100078, 100169,\n",
       "       100098, 100246, 100134, 100175, 100100, 100027, 100006], dtype=int64)"
      ]
     },
     "execution_count": 45,
     "metadata": {},
     "output_type": "execute_result"
    }
   ],
   "source": [
    "data['C20'].unique()"
   ]
  },
  {
   "cell_type": "code",
   "execution_count": 46,
   "metadata": {
    "scrolled": true
   },
   "outputs": [
    {
     "data": {
      "text/plain": [
       "-1         1893272\n",
       " 100084     244169\n",
       " 100148     179629\n",
       " 100111     171955\n",
       " 100077     157843\n",
       " 100075     154721\n",
       " 100081     133581\n",
       " 100083     106987\n",
       " 100156     103391\n",
       " 100193      70531\n",
       " 100176      65179\n",
       " 100074      58691\n",
       " 100079      57814\n",
       " 100189      47473\n",
       " 100076      45772\n",
       " 100192      23555\n",
       " 100190      22596\n",
       " 100191      22421\n",
       " 100188      22007\n",
       " 100013      19874\n",
       " 100031      18818\n",
       " 100155      16206\n",
       " 100194      14626\n",
       " 100181      14285\n",
       " 100000      13751\n",
       " 100233      11781\n",
       " 100105      11777\n",
       " 100182      11664\n",
       " 100003      11523\n",
       " 100119      11477\n",
       "            ...   \n",
       " 100121        214\n",
       " 100229        213\n",
       " 100073        189\n",
       " 100224        184\n",
       " 100099        141\n",
       " 100043        140\n",
       " 100244        122\n",
       " 100163        108\n",
       " 100010         98\n",
       " 100178         93\n",
       " 100213         82\n",
       " 100024         75\n",
       " 100109         71\n",
       " 100122         68\n",
       " 100108         62\n",
       " 100137         61\n",
       " 100082         58\n",
       " 100169         53\n",
       " 100153         47\n",
       " 100175         28\n",
       " 100138         11\n",
       " 100100          7\n",
       " 100098          7\n",
       " 100027          4\n",
       " 100078          4\n",
       " 100157          4\n",
       " 100246          2\n",
       " 100006          2\n",
       " 100186          2\n",
       " 100134          1\n",
       "Name: C20, Length: 167, dtype: int64"
      ]
     },
     "execution_count": 46,
     "metadata": {},
     "output_type": "execute_result"
    }
   ],
   "source": [
    "data['C20'].value_counts()"
   ]
  },
  {
   "cell_type": "markdown",
   "metadata": {},
   "source": [
    "Observation: This mysterious -1 has 1893272 occurences."
   ]
  },
  {
   "cell_type": "code",
   "execution_count": 47,
   "metadata": {
    "scrolled": true
   },
   "outputs": [
    {
     "data": {
      "text/plain": [
       "array([ 23,  61,  79, 157,  32, 117,  13,  91,  15,  46,  42,  33,  48,\n",
       "        52,  71,  95,  82, 101,  16, 156,  93,  94, 116, 100, 111,  20,\n",
       "        43,  51, 195,  70,  69,  85,  17,  68, 112,  90, 221, 194, 110,\n",
       "        35, 219, 102, 163, 178, 159, 108, 182, 171, 177, 204, 212, 126,\n",
       "       253, 251,   1, 229, 246, 255,  76, 104], dtype=int64)"
      ]
     },
     "execution_count": 47,
     "metadata": {},
     "output_type": "execute_result"
    }
   ],
   "source": [
    "data['C21'].unique()"
   ]
  },
  {
   "cell_type": "code",
   "execution_count": 51,
   "metadata": {
    "scrolled": true
   },
   "outputs": [
    {
     "data": {
      "text/plain": [
       "Index(['click', 'hour', 'C1', 'banner_pos', 'site_id', 'site_domain',\n",
       "       'site_category', 'app_id', 'app_domain', 'app_category', 'device_id',\n",
       "       'device_ip', 'device_model', 'device_type', 'device_conn_type', 'C14',\n",
       "       'C15', 'C16', 'C17', 'C18', 'C19', 'C20', 'C21'],\n",
       "      dtype='object')"
      ]
     },
     "execution_count": 51,
     "metadata": {},
     "output_type": "execute_result"
    }
   ],
   "source": [
    "data.columns"
   ]
  },
  {
   "cell_type": "code",
   "execution_count": 52,
   "metadata": {
    "scrolled": true
   },
   "outputs": [
    {
     "data": {
      "text/html": [
       "<div>\n",
       "<style>\n",
       "    .dataframe thead tr:only-child th {\n",
       "        text-align: right;\n",
       "    }\n",
       "\n",
       "    .dataframe thead th {\n",
       "        text-align: left;\n",
       "    }\n",
       "\n",
       "    .dataframe tbody tr th {\n",
       "        vertical-align: top;\n",
       "    }\n",
       "</style>\n",
       "<table border=\"1\" class=\"dataframe\">\n",
       "  <thead>\n",
       "    <tr style=\"text-align: right;\">\n",
       "      <th></th>\n",
       "      <th>count</th>\n",
       "      <th>mean</th>\n",
       "      <th>std</th>\n",
       "      <th>min</th>\n",
       "      <th>25%</th>\n",
       "      <th>50%</th>\n",
       "      <th>75%</th>\n",
       "      <th>max</th>\n",
       "    </tr>\n",
       "  </thead>\n",
       "  <tbody>\n",
       "    <tr>\n",
       "      <th>click</th>\n",
       "      <td>4042896.0</td>\n",
       "      <td>1.697231e-01</td>\n",
       "      <td>0.375389</td>\n",
       "      <td>0.0</td>\n",
       "      <td>0.0</td>\n",
       "      <td>0.0</td>\n",
       "      <td>0.0</td>\n",
       "      <td>1.0</td>\n",
       "    </tr>\n",
       "    <tr>\n",
       "      <th>hour</th>\n",
       "      <td>4042896.0</td>\n",
       "      <td>1.410256e+07</td>\n",
       "      <td>296.683743</td>\n",
       "      <td>14102100.0</td>\n",
       "      <td>14102304.0</td>\n",
       "      <td>14102602.0</td>\n",
       "      <td>14102814.0</td>\n",
       "      <td>14103023.0</td>\n",
       "    </tr>\n",
       "    <tr>\n",
       "      <th>C1</th>\n",
       "      <td>4042896.0</td>\n",
       "      <td>1.004967e+03</td>\n",
       "      <td>1.094734</td>\n",
       "      <td>1001.0</td>\n",
       "      <td>1005.0</td>\n",
       "      <td>1005.0</td>\n",
       "      <td>1005.0</td>\n",
       "      <td>1012.0</td>\n",
       "    </tr>\n",
       "    <tr>\n",
       "      <th>banner_pos</th>\n",
       "      <td>4042896.0</td>\n",
       "      <td>2.881150e-01</td>\n",
       "      <td>0.506325</td>\n",
       "      <td>0.0</td>\n",
       "      <td>0.0</td>\n",
       "      <td>0.0</td>\n",
       "      <td>1.0</td>\n",
       "      <td>7.0</td>\n",
       "    </tr>\n",
       "    <tr>\n",
       "      <th>device_type</th>\n",
       "      <td>4042896.0</td>\n",
       "      <td>1.015020e+00</td>\n",
       "      <td>0.527009</td>\n",
       "      <td>0.0</td>\n",
       "      <td>1.0</td>\n",
       "      <td>1.0</td>\n",
       "      <td>1.0</td>\n",
       "      <td>5.0</td>\n",
       "    </tr>\n",
       "    <tr>\n",
       "      <th>device_conn_type</th>\n",
       "      <td>4042896.0</td>\n",
       "      <td>3.311861e-01</td>\n",
       "      <td>0.854833</td>\n",
       "      <td>0.0</td>\n",
       "      <td>0.0</td>\n",
       "      <td>0.0</td>\n",
       "      <td>0.0</td>\n",
       "      <td>5.0</td>\n",
       "    </tr>\n",
       "    <tr>\n",
       "      <th>C14</th>\n",
       "      <td>4042896.0</td>\n",
       "      <td>1.884111e+04</td>\n",
       "      <td>4961.959014</td>\n",
       "      <td>375.0</td>\n",
       "      <td>16920.0</td>\n",
       "      <td>20346.0</td>\n",
       "      <td>21894.0</td>\n",
       "      <td>24052.0</td>\n",
       "    </tr>\n",
       "    <tr>\n",
       "      <th>C15</th>\n",
       "      <td>4042896.0</td>\n",
       "      <td>3.188821e+02</td>\n",
       "      <td>21.277312</td>\n",
       "      <td>120.0</td>\n",
       "      <td>320.0</td>\n",
       "      <td>320.0</td>\n",
       "      <td>320.0</td>\n",
       "      <td>1024.0</td>\n",
       "    </tr>\n",
       "    <tr>\n",
       "      <th>C16</th>\n",
       "      <td>4042896.0</td>\n",
       "      <td>6.009853e+01</td>\n",
       "      <td>47.311173</td>\n",
       "      <td>20.0</td>\n",
       "      <td>50.0</td>\n",
       "      <td>50.0</td>\n",
       "      <td>50.0</td>\n",
       "      <td>1024.0</td>\n",
       "    </tr>\n",
       "    <tr>\n",
       "      <th>C17</th>\n",
       "      <td>4042896.0</td>\n",
       "      <td>2.112450e+03</td>\n",
       "      <td>609.718278</td>\n",
       "      <td>112.0</td>\n",
       "      <td>1863.0</td>\n",
       "      <td>2323.0</td>\n",
       "      <td>2526.0</td>\n",
       "      <td>2758.0</td>\n",
       "    </tr>\n",
       "    <tr>\n",
       "      <th>C18</th>\n",
       "      <td>4042896.0</td>\n",
       "      <td>1.433375e+00</td>\n",
       "      <td>1.326063</td>\n",
       "      <td>0.0</td>\n",
       "      <td>0.0</td>\n",
       "      <td>2.0</td>\n",
       "      <td>3.0</td>\n",
       "      <td>3.0</td>\n",
       "    </tr>\n",
       "    <tr>\n",
       "      <th>C19</th>\n",
       "      <td>4042896.0</td>\n",
       "      <td>2.274126e+02</td>\n",
       "      <td>351.472959</td>\n",
       "      <td>33.0</td>\n",
       "      <td>35.0</td>\n",
       "      <td>39.0</td>\n",
       "      <td>171.0</td>\n",
       "      <td>1959.0</td>\n",
       "    </tr>\n",
       "    <tr>\n",
       "      <th>C20</th>\n",
       "      <td>4042896.0</td>\n",
       "      <td>5.322971e+04</td>\n",
       "      <td>49956.006359</td>\n",
       "      <td>-1.0</td>\n",
       "      <td>-1.0</td>\n",
       "      <td>100048.0</td>\n",
       "      <td>100094.0</td>\n",
       "      <td>100248.0</td>\n",
       "    </tr>\n",
       "    <tr>\n",
       "      <th>C21</th>\n",
       "      <td>4042896.0</td>\n",
       "      <td>8.335837e+01</td>\n",
       "      <td>70.299018</td>\n",
       "      <td>1.0</td>\n",
       "      <td>23.0</td>\n",
       "      <td>61.0</td>\n",
       "      <td>101.0</td>\n",
       "      <td>255.0</td>\n",
       "    </tr>\n",
       "  </tbody>\n",
       "</table>\n",
       "</div>"
      ],
      "text/plain": [
       "                      count          mean           std         min  \\\n",
       "click             4042896.0  1.697231e-01      0.375389         0.0   \n",
       "hour              4042896.0  1.410256e+07    296.683743  14102100.0   \n",
       "C1                4042896.0  1.004967e+03      1.094734      1001.0   \n",
       "banner_pos        4042896.0  2.881150e-01      0.506325         0.0   \n",
       "device_type       4042896.0  1.015020e+00      0.527009         0.0   \n",
       "device_conn_type  4042896.0  3.311861e-01      0.854833         0.0   \n",
       "C14               4042896.0  1.884111e+04   4961.959014       375.0   \n",
       "C15               4042896.0  3.188821e+02     21.277312       120.0   \n",
       "C16               4042896.0  6.009853e+01     47.311173        20.0   \n",
       "C17               4042896.0  2.112450e+03    609.718278       112.0   \n",
       "C18               4042896.0  1.433375e+00      1.326063         0.0   \n",
       "C19               4042896.0  2.274126e+02    351.472959        33.0   \n",
       "C20               4042896.0  5.322971e+04  49956.006359        -1.0   \n",
       "C21               4042896.0  8.335837e+01     70.299018         1.0   \n",
       "\n",
       "                         25%         50%         75%         max  \n",
       "click                    0.0         0.0         0.0         1.0  \n",
       "hour              14102304.0  14102602.0  14102814.0  14103023.0  \n",
       "C1                    1005.0      1005.0      1005.0      1012.0  \n",
       "banner_pos               0.0         0.0         1.0         7.0  \n",
       "device_type              1.0         1.0         1.0         5.0  \n",
       "device_conn_type         0.0         0.0         0.0         5.0  \n",
       "C14                  16920.0     20346.0     21894.0     24052.0  \n",
       "C15                    320.0       320.0       320.0      1024.0  \n",
       "C16                     50.0        50.0        50.0      1024.0  \n",
       "C17                   1863.0      2323.0      2526.0      2758.0  \n",
       "C18                      0.0         2.0         3.0         3.0  \n",
       "C19                     35.0        39.0       171.0      1959.0  \n",
       "C20                     -1.0    100048.0    100094.0    100248.0  \n",
       "C21                     23.0        61.0       101.0       255.0  "
      ]
     },
     "execution_count": 52,
     "metadata": {},
     "output_type": "execute_result"
    }
   ],
   "source": [
    "data.describe().transpose()"
   ]
  },
  {
   "cell_type": "code",
   "execution_count": 53,
   "metadata": {
    "scrolled": true
   },
   "outputs": [
    {
     "data": {
      "text/plain": [
       "array([0, 1], dtype=int64)"
      ]
     },
     "execution_count": 53,
     "metadata": {},
     "output_type": "execute_result"
    }
   ],
   "source": [
    "data['click'].unique()"
   ]
  },
  {
   "cell_type": "code",
   "execution_count": 54,
   "metadata": {
    "scrolled": true
   },
   "outputs": [
    {
     "data": {
      "text/plain": [
       "4042896"
      ]
     },
     "execution_count": 54,
     "metadata": {},
     "output_type": "execute_result"
    }
   ],
   "source": [
    "data['click'].count()"
   ]
  },
  {
   "cell_type": "code",
   "execution_count": 55,
   "metadata": {
    "scrolled": true
   },
   "outputs": [
    {
     "data": {
      "text/html": [
       "<div>\n",
       "<style>\n",
       "    .dataframe thead tr:only-child th {\n",
       "        text-align: right;\n",
       "    }\n",
       "\n",
       "    .dataframe thead th {\n",
       "        text-align: left;\n",
       "    }\n",
       "\n",
       "    .dataframe tbody tr th {\n",
       "        vertical-align: top;\n",
       "    }\n",
       "</style>\n",
       "<table border=\"1\" class=\"dataframe\">\n",
       "  <thead>\n",
       "    <tr style=\"text-align: right;\">\n",
       "      <th></th>\n",
       "      <th>hour</th>\n",
       "      <th>C1</th>\n",
       "      <th>banner_pos</th>\n",
       "      <th>site_id</th>\n",
       "      <th>site_domain</th>\n",
       "      <th>site_category</th>\n",
       "      <th>app_id</th>\n",
       "      <th>app_domain</th>\n",
       "      <th>app_category</th>\n",
       "      <th>device_id</th>\n",
       "      <th>...</th>\n",
       "      <th>device_type</th>\n",
       "      <th>device_conn_type</th>\n",
       "      <th>C14</th>\n",
       "      <th>C15</th>\n",
       "      <th>C16</th>\n",
       "      <th>C17</th>\n",
       "      <th>C18</th>\n",
       "      <th>C19</th>\n",
       "      <th>C20</th>\n",
       "      <th>C21</th>\n",
       "    </tr>\n",
       "    <tr>\n",
       "      <th>click</th>\n",
       "      <th></th>\n",
       "      <th></th>\n",
       "      <th></th>\n",
       "      <th></th>\n",
       "      <th></th>\n",
       "      <th></th>\n",
       "      <th></th>\n",
       "      <th></th>\n",
       "      <th></th>\n",
       "      <th></th>\n",
       "      <th></th>\n",
       "      <th></th>\n",
       "      <th></th>\n",
       "      <th></th>\n",
       "      <th></th>\n",
       "      <th></th>\n",
       "      <th></th>\n",
       "      <th></th>\n",
       "      <th></th>\n",
       "      <th></th>\n",
       "      <th></th>\n",
       "    </tr>\n",
       "  </thead>\n",
       "  <tbody>\n",
       "    <tr>\n",
       "      <th>0</th>\n",
       "      <td>3356723</td>\n",
       "      <td>3356723</td>\n",
       "      <td>3356723</td>\n",
       "      <td>3356723</td>\n",
       "      <td>3356723</td>\n",
       "      <td>3356723</td>\n",
       "      <td>3356723</td>\n",
       "      <td>3356723</td>\n",
       "      <td>3356723</td>\n",
       "      <td>3356723</td>\n",
       "      <td>...</td>\n",
       "      <td>3356723</td>\n",
       "      <td>3356723</td>\n",
       "      <td>3356723</td>\n",
       "      <td>3356723</td>\n",
       "      <td>3356723</td>\n",
       "      <td>3356723</td>\n",
       "      <td>3356723</td>\n",
       "      <td>3356723</td>\n",
       "      <td>3356723</td>\n",
       "      <td>3356723</td>\n",
       "    </tr>\n",
       "    <tr>\n",
       "      <th>1</th>\n",
       "      <td>686173</td>\n",
       "      <td>686173</td>\n",
       "      <td>686173</td>\n",
       "      <td>686173</td>\n",
       "      <td>686173</td>\n",
       "      <td>686173</td>\n",
       "      <td>686173</td>\n",
       "      <td>686173</td>\n",
       "      <td>686173</td>\n",
       "      <td>686173</td>\n",
       "      <td>...</td>\n",
       "      <td>686173</td>\n",
       "      <td>686173</td>\n",
       "      <td>686173</td>\n",
       "      <td>686173</td>\n",
       "      <td>686173</td>\n",
       "      <td>686173</td>\n",
       "      <td>686173</td>\n",
       "      <td>686173</td>\n",
       "      <td>686173</td>\n",
       "      <td>686173</td>\n",
       "    </tr>\n",
       "  </tbody>\n",
       "</table>\n",
       "<p>2 rows × 22 columns</p>\n",
       "</div>"
      ],
      "text/plain": [
       "          hour       C1  banner_pos  site_id  site_domain  site_category  \\\n",
       "click                                                                      \n",
       "0      3356723  3356723     3356723  3356723      3356723        3356723   \n",
       "1       686173   686173      686173   686173       686173         686173   \n",
       "\n",
       "        app_id  app_domain  app_category  device_id   ...     device_type  \\\n",
       "click                                                 ...                   \n",
       "0      3356723     3356723       3356723    3356723   ...         3356723   \n",
       "1       686173      686173        686173     686173   ...          686173   \n",
       "\n",
       "       device_conn_type      C14      C15      C16      C17      C18      C19  \\\n",
       "click                                                                           \n",
       "0               3356723  3356723  3356723  3356723  3356723  3356723  3356723   \n",
       "1                686173   686173   686173   686173   686173   686173   686173   \n",
       "\n",
       "           C20      C21  \n",
       "click                    \n",
       "0      3356723  3356723  \n",
       "1       686173   686173  \n",
       "\n",
       "[2 rows x 22 columns]"
      ]
     },
     "execution_count": 55,
     "metadata": {},
     "output_type": "execute_result"
    }
   ],
   "source": [
    "data.groupby('click').count()"
   ]
  },
  {
   "cell_type": "markdown",
   "metadata": {},
   "source": [
    "<a id='1.4'></a>\n",
    "## Target Variable EDA"
   ]
  },
  {
   "cell_type": "code",
   "execution_count": 56,
   "metadata": {
    "scrolled": true
   },
   "outputs": [
    {
     "data": {
      "text/plain": [
       "0    3356723\n",
       "1     686173\n",
       "Name: click, dtype: int64"
      ]
     },
     "execution_count": 56,
     "metadata": {},
     "output_type": "execute_result"
    }
   ],
   "source": [
    "data['click'].value_counts()"
   ]
  },
  {
   "cell_type": "code",
   "execution_count": 57,
   "metadata": {
    "scrolled": true
   },
   "outputs": [
    {
     "data": {
      "text/plain": [
       "Counter({0: 3356723, 1: 686173})"
      ]
     },
     "execution_count": 57,
     "metadata": {},
     "output_type": "execute_result"
    }
   ],
   "source": [
    "Counter(data['click'])"
   ]
  },
  {
   "cell_type": "code",
   "execution_count": 58,
   "metadata": {
    "scrolled": false
   },
   "outputs": [
    {
     "data": {
      "text/plain": [
       "<matplotlib.axes._subplots.AxesSubplot at 0x20149463cf8>"
      ]
     },
     "execution_count": 58,
     "metadata": {},
     "output_type": "execute_result"
    },
    {
     "data": {
      "image/png": "[encoded data removed]",
      "text/plain": [
       "<matplotlib.figure.Figure at 0x20149463a20>"
      ]
     },
     "metadata": {},
     "output_type": "display_data"
    }
   ],
   "source": [
    "sns.countplot(x='click', data=data)"
   ]
  },
  {
   "cell_type": "markdown",
   "metadata": {},
   "source": [
    "Observation: The target class is lower than the non-target class. Balanced data would mean 50% points for each of the class. For most machine learning techniques, little imbalance is not a problem. Only when the class imbalance is high, e.g. 90% points for one class and 10% for the other, standard optimization criteria or performance measures may not be as effective and would need modification. This is not the case here."
   ]
  },
  {
   "cell_type": "markdown",
   "metadata": {},
   "source": [
    "<a id='1.5'></a>\n",
    "## Time Feature"
   ]
  },
  {
   "cell_type": "code",
   "execution_count": 16,
   "metadata": {
    "scrolled": true
   },
   "outputs": [
    {
     "name": "stdout",
     "output_type": "stream",
     "text": [
      "Wall time: 24.9 s\n"
     ]
    }
   ],
   "source": [
    "%%time\n",
    "\n",
    "#Convert numeric to string to date time type\n",
    "\n",
    "data['hour'] = pd.to_datetime(data['hour'].astype(str), format='%y%M%d%H')\n",
    "\n",
    "winsound.Beep(500,10000)"
   ]
  },
  {
   "cell_type": "code",
   "execution_count": 4,
   "metadata": {
    "scrolled": true
   },
   "outputs": [
    {
     "name": "stdout",
     "output_type": "stream",
     "text": [
      "Wall time: 27.2 s\n"
     ]
    }
   ],
   "source": [
    "%%time\n",
    "\n",
    "#Convert numeric to string to date time type\n",
    "\n",
    "holdout_data['hour'] = pd.to_datetime(holdout_data['hour'].astype(str), format='%y%M%d%H')\n",
    "\n",
    "winsound.Beep(500,10000)"
   ]
  },
  {
   "cell_type": "code",
   "execution_count": 62,
   "metadata": {
    "scrolled": true
   },
   "outputs": [
    {
     "data": {
      "text/html": [
       "<div>\n",
       "<style>\n",
       "    .dataframe thead tr:only-child th {\n",
       "        text-align: right;\n",
       "    }\n",
       "\n",
       "    .dataframe thead th {\n",
       "        text-align: left;\n",
       "    }\n",
       "\n",
       "    .dataframe tbody tr th {\n",
       "        vertical-align: top;\n",
       "    }\n",
       "</style>\n",
       "<table border=\"1\" class=\"dataframe\">\n",
       "  <thead>\n",
       "    <tr style=\"text-align: right;\">\n",
       "      <th></th>\n",
       "      <th>click</th>\n",
       "      <th>hour</th>\n",
       "      <th>C1</th>\n",
       "      <th>banner_pos</th>\n",
       "      <th>site_id</th>\n",
       "      <th>site_domain</th>\n",
       "      <th>site_category</th>\n",
       "      <th>app_id</th>\n",
       "      <th>app_domain</th>\n",
       "      <th>app_category</th>\n",
       "      <th>...</th>\n",
       "      <th>device_type</th>\n",
       "      <th>device_conn_type</th>\n",
       "      <th>C14</th>\n",
       "      <th>C15</th>\n",
       "      <th>C16</th>\n",
       "      <th>C17</th>\n",
       "      <th>C18</th>\n",
       "      <th>C19</th>\n",
       "      <th>C20</th>\n",
       "      <th>C21</th>\n",
       "    </tr>\n",
       "    <tr>\n",
       "      <th>id</th>\n",
       "      <th></th>\n",
       "      <th></th>\n",
       "      <th></th>\n",
       "      <th></th>\n",
       "      <th></th>\n",
       "      <th></th>\n",
       "      <th></th>\n",
       "      <th></th>\n",
       "      <th></th>\n",
       "      <th></th>\n",
       "      <th></th>\n",
       "      <th></th>\n",
       "      <th></th>\n",
       "      <th></th>\n",
       "      <th></th>\n",
       "      <th></th>\n",
       "      <th></th>\n",
       "      <th></th>\n",
       "      <th></th>\n",
       "      <th></th>\n",
       "      <th></th>\n",
       "    </tr>\n",
       "  </thead>\n",
       "  <tbody>\n",
       "    <tr>\n",
       "      <th>10001264480619467364</th>\n",
       "      <td>0</td>\n",
       "      <td>2014-01-21 00:10:00</td>\n",
       "      <td>1002</td>\n",
       "      <td>0</td>\n",
       "      <td>84c7ba46</td>\n",
       "      <td>c4e18dd6</td>\n",
       "      <td>50e219e0</td>\n",
       "      <td>ecad2386</td>\n",
       "      <td>7801e8d9</td>\n",
       "      <td>07d7df22</td>\n",
       "      <td>...</td>\n",
       "      <td>0</td>\n",
       "      <td>0</td>\n",
       "      <td>21689</td>\n",
       "      <td>320</td>\n",
       "      <td>50</td>\n",
       "      <td>2496</td>\n",
       "      <td>3</td>\n",
       "      <td>167</td>\n",
       "      <td>100191</td>\n",
       "      <td>23</td>\n",
       "    </tr>\n",
       "    <tr>\n",
       "      <th>10004482643316086592</th>\n",
       "      <td>0</td>\n",
       "      <td>2014-01-21 00:10:00</td>\n",
       "      <td>1005</td>\n",
       "      <td>0</td>\n",
       "      <td>85f751fd</td>\n",
       "      <td>c4e18dd6</td>\n",
       "      <td>50e219e0</td>\n",
       "      <td>66a5f0f3</td>\n",
       "      <td>d9b5648e</td>\n",
       "      <td>cef3e649</td>\n",
       "      <td>...</td>\n",
       "      <td>1</td>\n",
       "      <td>0</td>\n",
       "      <td>21234</td>\n",
       "      <td>320</td>\n",
       "      <td>50</td>\n",
       "      <td>2434</td>\n",
       "      <td>3</td>\n",
       "      <td>163</td>\n",
       "      <td>100088</td>\n",
       "      <td>61</td>\n",
       "    </tr>\n",
       "    <tr>\n",
       "      <th>10005951398749600249</th>\n",
       "      <td>0</td>\n",
       "      <td>2014-01-21 00:10:00</td>\n",
       "      <td>1005</td>\n",
       "      <td>0</td>\n",
       "      <td>1fbe01fe</td>\n",
       "      <td>f3845767</td>\n",
       "      <td>28905ebd</td>\n",
       "      <td>ecad2386</td>\n",
       "      <td>7801e8d9</td>\n",
       "      <td>07d7df22</td>\n",
       "      <td>...</td>\n",
       "      <td>1</td>\n",
       "      <td>0</td>\n",
       "      <td>15706</td>\n",
       "      <td>320</td>\n",
       "      <td>50</td>\n",
       "      <td>1722</td>\n",
       "      <td>0</td>\n",
       "      <td>35</td>\n",
       "      <td>-1</td>\n",
       "      <td>79</td>\n",
       "    </tr>\n",
       "    <tr>\n",
       "      <th>10007164336863914220</th>\n",
       "      <td>1</td>\n",
       "      <td>2014-01-21 00:10:00</td>\n",
       "      <td>1005</td>\n",
       "      <td>0</td>\n",
       "      <td>1fbe01fe</td>\n",
       "      <td>f3845767</td>\n",
       "      <td>28905ebd</td>\n",
       "      <td>ecad2386</td>\n",
       "      <td>7801e8d9</td>\n",
       "      <td>07d7df22</td>\n",
       "      <td>...</td>\n",
       "      <td>1</td>\n",
       "      <td>0</td>\n",
       "      <td>15706</td>\n",
       "      <td>320</td>\n",
       "      <td>50</td>\n",
       "      <td>1722</td>\n",
       "      <td>0</td>\n",
       "      <td>35</td>\n",
       "      <td>-1</td>\n",
       "      <td>79</td>\n",
       "    </tr>\n",
       "    <tr>\n",
       "      <th>10009635774586344851</th>\n",
       "      <td>0</td>\n",
       "      <td>2014-01-21 00:10:00</td>\n",
       "      <td>1005</td>\n",
       "      <td>0</td>\n",
       "      <td>543a539e</td>\n",
       "      <td>c7ca3108</td>\n",
       "      <td>3e814130</td>\n",
       "      <td>ecad2386</td>\n",
       "      <td>7801e8d9</td>\n",
       "      <td>07d7df22</td>\n",
       "      <td>...</td>\n",
       "      <td>1</td>\n",
       "      <td>0</td>\n",
       "      <td>20352</td>\n",
       "      <td>320</td>\n",
       "      <td>50</td>\n",
       "      <td>2333</td>\n",
       "      <td>0</td>\n",
       "      <td>39</td>\n",
       "      <td>-1</td>\n",
       "      <td>157</td>\n",
       "    </tr>\n",
       "  </tbody>\n",
       "</table>\n",
       "<p>5 rows × 23 columns</p>\n",
       "</div>"
      ],
      "text/plain": [
       "                      click                hour    C1  banner_pos   site_id  \\\n",
       "id                                                                            \n",
       "10001264480619467364      0 2014-01-21 00:10:00  1002           0  84c7ba46   \n",
       "10004482643316086592      0 2014-01-21 00:10:00  1005           0  85f751fd   \n",
       "10005951398749600249      0 2014-01-21 00:10:00  1005           0  1fbe01fe   \n",
       "10007164336863914220      1 2014-01-21 00:10:00  1005           0  1fbe01fe   \n",
       "10009635774586344851      0 2014-01-21 00:10:00  1005           0  543a539e   \n",
       "\n",
       "                     site_domain site_category    app_id app_domain  \\\n",
       "id                                                                    \n",
       "10001264480619467364    c4e18dd6      50e219e0  ecad2386   7801e8d9   \n",
       "10004482643316086592    c4e18dd6      50e219e0  66a5f0f3   d9b5648e   \n",
       "10005951398749600249    f3845767      28905ebd  ecad2386   7801e8d9   \n",
       "10007164336863914220    f3845767      28905ebd  ecad2386   7801e8d9   \n",
       "10009635774586344851    c7ca3108      3e814130  ecad2386   7801e8d9   \n",
       "\n",
       "                     app_category ...  device_type device_conn_type    C14  \\\n",
       "id                                ...                                        \n",
       "10001264480619467364     07d7df22 ...            0                0  21689   \n",
       "10004482643316086592     cef3e649 ...            1                0  21234   \n",
       "10005951398749600249     07d7df22 ...            1                0  15706   \n",
       "10007164336863914220     07d7df22 ...            1                0  15706   \n",
       "10009635774586344851     07d7df22 ...            1                0  20352   \n",
       "\n",
       "                      C15  C16   C17  C18  C19     C20  C21  \n",
       "id                                                           \n",
       "10001264480619467364  320   50  2496    3  167  100191   23  \n",
       "10004482643316086592  320   50  2434    3  163  100088   61  \n",
       "10005951398749600249  320   50  1722    0   35      -1   79  \n",
       "10007164336863914220  320   50  1722    0   35      -1   79  \n",
       "10009635774586344851  320   50  2333    0   39      -1  157  \n",
       "\n",
       "[5 rows x 23 columns]"
      ]
     },
     "execution_count": 62,
     "metadata": {},
     "output_type": "execute_result"
    }
   ],
   "source": [
    "data.head()"
   ]
  },
  {
   "cell_type": "code",
   "execution_count": 63,
   "metadata": {
    "scrolled": true
   },
   "outputs": [
    {
     "name": "stdout",
     "output_type": "stream",
     "text": [
      "<class 'pandas.core.frame.DataFrame'>\n",
      "UInt64Index: 4042896 entries, 10001264480619467364 to 9998515968748286661\n",
      "Data columns (total 23 columns):\n",
      "click               int64\n",
      "hour                datetime64[ns]\n",
      "C1                  int64\n",
      "banner_pos          int64\n",
      "site_id             object\n",
      "site_domain         object\n",
      "site_category       object\n",
      "app_id              object\n",
      "app_domain          object\n",
      "app_category        object\n",
      "device_id           object\n",
      "device_ip           object\n",
      "device_model        object\n",
      "device_type         int64\n",
      "device_conn_type    int64\n",
      "C14                 int64\n",
      "C15                 int64\n",
      "C16                 int64\n",
      "C17                 int64\n",
      "C18                 int64\n",
      "C19                 int64\n",
      "C20                 int64\n",
      "C21                 int64\n",
      "dtypes: datetime64[ns](1), int64(13), object(9)\n",
      "memory usage: 900.3+ MB\n"
     ]
    }
   ],
   "source": [
    "data.info()"
   ]
  },
  {
   "cell_type": "markdown",
   "metadata": {},
   "source": [
    "<a id='2.1'></a>\n",
    "### Correlation Analysis: NA since all independent variables are categorical"
   ]
  },
  {
   "cell_type": "code",
   "execution_count": 64,
   "metadata": {
    "scrolled": true
   },
   "outputs": [
    {
     "data": {
      "text/html": [
       "<div>\n",
       "<style>\n",
       "    .dataframe thead tr:only-child th {\n",
       "        text-align: right;\n",
       "    }\n",
       "\n",
       "    .dataframe thead th {\n",
       "        text-align: left;\n",
       "    }\n",
       "\n",
       "    .dataframe tbody tr th {\n",
       "        vertical-align: top;\n",
       "    }\n",
       "</style>\n",
       "<table border=\"1\" class=\"dataframe\">\n",
       "  <thead>\n",
       "    <tr style=\"text-align: right;\">\n",
       "      <th></th>\n",
       "      <th>click</th>\n",
       "      <th>C1</th>\n",
       "      <th>banner_pos</th>\n",
       "      <th>device_type</th>\n",
       "      <th>device_conn_type</th>\n",
       "      <th>C14</th>\n",
       "      <th>C15</th>\n",
       "      <th>C16</th>\n",
       "      <th>C17</th>\n",
       "      <th>C18</th>\n",
       "      <th>C19</th>\n",
       "      <th>C20</th>\n",
       "      <th>C21</th>\n",
       "    </tr>\n",
       "  </thead>\n",
       "  <tbody>\n",
       "    <tr>\n",
       "      <th>click</th>\n",
       "      <td>1.000000</td>\n",
       "      <td>-0.036949</td>\n",
       "      <td>0.026660</td>\n",
       "      <td>-0.038175</td>\n",
       "      <td>-0.083398</td>\n",
       "      <td>-0.060500</td>\n",
       "      <td>-0.032577</td>\n",
       "      <td>0.129268</td>\n",
       "      <td>-0.055974</td>\n",
       "      <td>0.021266</td>\n",
       "      <td>-0.004735</td>\n",
       "      <td>-0.057941</td>\n",
       "      <td>-0.070181</td>\n",
       "    </tr>\n",
       "    <tr>\n",
       "      <th>C1</th>\n",
       "      <td>-0.036949</td>\n",
       "      <td>1.000000</td>\n",
       "      <td>0.288149</td>\n",
       "      <td>0.894256</td>\n",
       "      <td>0.195651</td>\n",
       "      <td>0.055674</td>\n",
       "      <td>0.120828</td>\n",
       "      <td>0.062997</td>\n",
       "      <td>0.064194</td>\n",
       "      <td>-0.041763</td>\n",
       "      <td>0.002637</td>\n",
       "      <td>-0.034765</td>\n",
       "      <td>0.035879</td>\n",
       "    </tr>\n",
       "    <tr>\n",
       "      <th>banner_pos</th>\n",
       "      <td>0.026660</td>\n",
       "      <td>0.288149</td>\n",
       "      <td>1.000000</td>\n",
       "      <td>0.323050</td>\n",
       "      <td>-0.084046</td>\n",
       "      <td>-0.012666</td>\n",
       "      <td>0.061349</td>\n",
       "      <td>0.022606</td>\n",
       "      <td>-0.031958</td>\n",
       "      <td>0.094585</td>\n",
       "      <td>0.131178</td>\n",
       "      <td>0.054591</td>\n",
       "      <td>-0.096916</td>\n",
       "    </tr>\n",
       "    <tr>\n",
       "      <th>device_type</th>\n",
       "      <td>-0.038175</td>\n",
       "      <td>0.894256</td>\n",
       "      <td>0.323050</td>\n",
       "      <td>1.000000</td>\n",
       "      <td>0.208431</td>\n",
       "      <td>0.044446</td>\n",
       "      <td>0.179348</td>\n",
       "      <td>0.065255</td>\n",
       "      <td>0.050479</td>\n",
       "      <td>-0.046364</td>\n",
       "      <td>-0.001941</td>\n",
       "      <td>-0.047997</td>\n",
       "      <td>0.035993</td>\n",
       "    </tr>\n",
       "    <tr>\n",
       "      <th>device_conn_type</th>\n",
       "      <td>-0.083398</td>\n",
       "      <td>0.195651</td>\n",
       "      <td>-0.084046</td>\n",
       "      <td>0.208431</td>\n",
       "      <td>1.000000</td>\n",
       "      <td>0.067480</td>\n",
       "      <td>0.069120</td>\n",
       "      <td>-0.014790</td>\n",
       "      <td>0.079737</td>\n",
       "      <td>-0.061556</td>\n",
       "      <td>-0.009596</td>\n",
       "      <td>0.089693</td>\n",
       "      <td>0.062013</td>\n",
       "    </tr>\n",
       "    <tr>\n",
       "      <th>C14</th>\n",
       "      <td>-0.060500</td>\n",
       "      <td>0.055674</td>\n",
       "      <td>-0.012666</td>\n",
       "      <td>0.044446</td>\n",
       "      <td>0.067480</td>\n",
       "      <td>1.000000</td>\n",
       "      <td>0.002758</td>\n",
       "      <td>0.037283</td>\n",
       "      <td>0.976758</td>\n",
       "      <td>-0.231041</td>\n",
       "      <td>-0.132782</td>\n",
       "      <td>0.023969</td>\n",
       "      <td>0.409526</td>\n",
       "    </tr>\n",
       "    <tr>\n",
       "      <th>C15</th>\n",
       "      <td>-0.032577</td>\n",
       "      <td>0.120828</td>\n",
       "      <td>0.061349</td>\n",
       "      <td>0.179348</td>\n",
       "      <td>0.069120</td>\n",
       "      <td>0.002758</td>\n",
       "      <td>1.000000</td>\n",
       "      <td>-0.071959</td>\n",
       "      <td>0.001494</td>\n",
       "      <td>0.012706</td>\n",
       "      <td>0.050181</td>\n",
       "      <td>0.008442</td>\n",
       "      <td>0.001455</td>\n",
       "    </tr>\n",
       "    <tr>\n",
       "      <th>C16</th>\n",
       "      <td>0.129268</td>\n",
       "      <td>0.062997</td>\n",
       "      <td>0.022606</td>\n",
       "      <td>0.065255</td>\n",
       "      <td>-0.014790</td>\n",
       "      <td>0.037283</td>\n",
       "      <td>-0.071959</td>\n",
       "      <td>1.000000</td>\n",
       "      <td>0.047482</td>\n",
       "      <td>0.083961</td>\n",
       "      <td>-0.073695</td>\n",
       "      <td>-0.045093</td>\n",
       "      <td>-0.084972</td>\n",
       "    </tr>\n",
       "    <tr>\n",
       "      <th>C17</th>\n",
       "      <td>-0.055974</td>\n",
       "      <td>0.064194</td>\n",
       "      <td>-0.031958</td>\n",
       "      <td>0.050479</td>\n",
       "      <td>0.079737</td>\n",
       "      <td>0.976758</td>\n",
       "      <td>0.001494</td>\n",
       "      <td>0.047482</td>\n",
       "      <td>1.000000</td>\n",
       "      <td>-0.246130</td>\n",
       "      <td>-0.128567</td>\n",
       "      <td>0.008373</td>\n",
       "      <td>0.422745</td>\n",
       "    </tr>\n",
       "    <tr>\n",
       "      <th>C18</th>\n",
       "      <td>0.021266</td>\n",
       "      <td>-0.041763</td>\n",
       "      <td>0.094585</td>\n",
       "      <td>-0.046364</td>\n",
       "      <td>-0.061556</td>\n",
       "      <td>-0.231041</td>\n",
       "      <td>0.012706</td>\n",
       "      <td>0.083961</td>\n",
       "      <td>-0.246130</td>\n",
       "      <td>1.000000</td>\n",
       "      <td>0.095150</td>\n",
       "      <td>0.010643</td>\n",
       "      <td>-0.545294</td>\n",
       "    </tr>\n",
       "    <tr>\n",
       "      <th>C19</th>\n",
       "      <td>-0.004735</td>\n",
       "      <td>0.002637</td>\n",
       "      <td>0.131178</td>\n",
       "      <td>-0.001941</td>\n",
       "      <td>-0.009596</td>\n",
       "      <td>-0.132782</td>\n",
       "      <td>0.050181</td>\n",
       "      <td>-0.073695</td>\n",
       "      <td>-0.128567</td>\n",
       "      <td>0.095150</td>\n",
       "      <td>1.000000</td>\n",
       "      <td>0.087901</td>\n",
       "      <td>-0.134281</td>\n",
       "    </tr>\n",
       "    <tr>\n",
       "      <th>C20</th>\n",
       "      <td>-0.057941</td>\n",
       "      <td>-0.034765</td>\n",
       "      <td>0.054591</td>\n",
       "      <td>-0.047997</td>\n",
       "      <td>0.089693</td>\n",
       "      <td>0.023969</td>\n",
       "      <td>0.008442</td>\n",
       "      <td>-0.045093</td>\n",
       "      <td>0.008373</td>\n",
       "      <td>0.010643</td>\n",
       "      <td>0.087901</td>\n",
       "      <td>1.000000</td>\n",
       "      <td>-0.035737</td>\n",
       "    </tr>\n",
       "    <tr>\n",
       "      <th>C21</th>\n",
       "      <td>-0.070181</td>\n",
       "      <td>0.035879</td>\n",
       "      <td>-0.096916</td>\n",
       "      <td>0.035993</td>\n",
       "      <td>0.062013</td>\n",
       "      <td>0.409526</td>\n",
       "      <td>0.001455</td>\n",
       "      <td>-0.084972</td>\n",
       "      <td>0.422745</td>\n",
       "      <td>-0.545294</td>\n",
       "      <td>-0.134281</td>\n",
       "      <td>-0.035737</td>\n",
       "      <td>1.000000</td>\n",
       "    </tr>\n",
       "  </tbody>\n",
       "</table>\n",
       "</div>"
      ],
      "text/plain": [
       "                     click        C1  banner_pos  device_type  \\\n",
       "click             1.000000 -0.036949    0.026660    -0.038175   \n",
       "C1               -0.036949  1.000000    0.288149     0.894256   \n",
       "banner_pos        0.026660  0.288149    1.000000     0.323050   \n",
       "device_type      -0.038175  0.894256    0.323050     1.000000   \n",
       "device_conn_type -0.083398  0.195651   -0.084046     0.208431   \n",
       "C14              -0.060500  0.055674   -0.012666     0.044446   \n",
       "C15              -0.032577  0.120828    0.061349     0.179348   \n",
       "C16               0.129268  0.062997    0.022606     0.065255   \n",
       "C17              -0.055974  0.064194   -0.031958     0.050479   \n",
       "C18               0.021266 -0.041763    0.094585    -0.046364   \n",
       "C19              -0.004735  0.002637    0.131178    -0.001941   \n",
       "C20              -0.057941 -0.034765    0.054591    -0.047997   \n",
       "C21              -0.070181  0.035879   -0.096916     0.035993   \n",
       "\n",
       "                  device_conn_type       C14       C15       C16       C17  \\\n",
       "click                    -0.083398 -0.060500 -0.032577  0.129268 -0.055974   \n",
       "C1                        0.195651  0.055674  0.120828  0.062997  0.064194   \n",
       "banner_pos               -0.084046 -0.012666  0.061349  0.022606 -0.031958   \n",
       "device_type               0.208431  0.044446  0.179348  0.065255  0.050479   \n",
       "device_conn_type          1.000000  0.067480  0.069120 -0.014790  0.079737   \n",
       "C14                       0.067480  1.000000  0.002758  0.037283  0.976758   \n",
       "C15                       0.069120  0.002758  1.000000 -0.071959  0.001494   \n",
       "C16                      -0.014790  0.037283 -0.071959  1.000000  0.047482   \n",
       "C17                       0.079737  0.976758  0.001494  0.047482  1.000000   \n",
       "C18                      -0.061556 -0.231041  0.012706  0.083961 -0.246130   \n",
       "C19                      -0.009596 -0.132782  0.050181 -0.073695 -0.128567   \n",
       "C20                       0.089693  0.023969  0.008442 -0.045093  0.008373   \n",
       "C21                       0.062013  0.409526  0.001455 -0.084972  0.422745   \n",
       "\n",
       "                       C18       C19       C20       C21  \n",
       "click             0.021266 -0.004735 -0.057941 -0.070181  \n",
       "C1               -0.041763  0.002637 -0.034765  0.035879  \n",
       "banner_pos        0.094585  0.131178  0.054591 -0.096916  \n",
       "device_type      -0.046364 -0.001941 -0.047997  0.035993  \n",
       "device_conn_type -0.061556 -0.009596  0.089693  0.062013  \n",
       "C14              -0.231041 -0.132782  0.023969  0.409526  \n",
       "C15               0.012706  0.050181  0.008442  0.001455  \n",
       "C16               0.083961 -0.073695 -0.045093 -0.084972  \n",
       "C17              -0.246130 -0.128567  0.008373  0.422745  \n",
       "C18               1.000000  0.095150  0.010643 -0.545294  \n",
       "C19               0.095150  1.000000  0.087901 -0.134281  \n",
       "C20               0.010643  0.087901  1.000000 -0.035737  \n",
       "C21              -0.545294 -0.134281 -0.035737  1.000000  "
      ]
     },
     "execution_count": 64,
     "metadata": {},
     "output_type": "execute_result"
    }
   ],
   "source": [
    "data.corr()"
   ]
  },
  {
   "cell_type": "markdown",
   "metadata": {},
   "source": [
    "<a id='2'></a>\n",
    "## Pre-Processing Data"
   ]
  },
  {
   "cell_type": "markdown",
   "metadata": {},
   "source": [
    "<a id='2.1'></a>\n",
    "### Converting Categorical Features\n",
    "\n",
    "I needed to convert all the features to dummy variables and determine when to collapse unique values. Generall, I chose <.01 as a cutoff. I left the dependent variables as is. I wanted to limit the size of the final matrix and utilize the most important features/values."
   ]
  },
  {
   "cell_type": "code",
   "execution_count": 341,
   "metadata": {
    "scrolled": true
   },
   "outputs": [
    {
     "data": {
      "text/html": [
       "<div>\n",
       "<style>\n",
       "    .dataframe thead tr:only-child th {\n",
       "        text-align: right;\n",
       "    }\n",
       "\n",
       "    .dataframe thead th {\n",
       "        text-align: left;\n",
       "    }\n",
       "\n",
       "    .dataframe tbody tr th {\n",
       "        vertical-align: top;\n",
       "    }\n",
       "</style>\n",
       "<table border=\"1\" class=\"dataframe\">\n",
       "  <thead>\n",
       "    <tr style=\"text-align: right;\">\n",
       "      <th></th>\n",
       "      <th>click</th>\n",
       "      <th>hour</th>\n",
       "      <th>C1</th>\n",
       "      <th>site_category</th>\n",
       "      <th>app_category</th>\n",
       "      <th>device_id</th>\n",
       "      <th>device_conn_type</th>\n",
       "      <th>C14</th>\n",
       "      <th>C15</th>\n",
       "      <th>C16</th>\n",
       "      <th>...</th>\n",
       "      <th>app_category_n</th>\n",
       "      <th>device_type_n</th>\n",
       "      <th>C1_n</th>\n",
       "      <th>C14_n</th>\n",
       "      <th>C15_n</th>\n",
       "      <th>C16_n</th>\n",
       "      <th>C17_n</th>\n",
       "      <th>C19_n</th>\n",
       "      <th>C20_n</th>\n",
       "      <th>C21_n</th>\n",
       "    </tr>\n",
       "    <tr>\n",
       "      <th>id</th>\n",
       "      <th></th>\n",
       "      <th></th>\n",
       "      <th></th>\n",
       "      <th></th>\n",
       "      <th></th>\n",
       "      <th></th>\n",
       "      <th></th>\n",
       "      <th></th>\n",
       "      <th></th>\n",
       "      <th></th>\n",
       "      <th></th>\n",
       "      <th></th>\n",
       "      <th></th>\n",
       "      <th></th>\n",
       "      <th></th>\n",
       "      <th></th>\n",
       "      <th></th>\n",
       "      <th></th>\n",
       "      <th></th>\n",
       "      <th></th>\n",
       "      <th></th>\n",
       "    </tr>\n",
       "  </thead>\n",
       "  <tbody>\n",
       "    <tr>\n",
       "      <th>10001264480619467364</th>\n",
       "      <td>0</td>\n",
       "      <td>2014-01-21 00:10:00</td>\n",
       "      <td>1002</td>\n",
       "      <td>50e219e0</td>\n",
       "      <td>07d7df22</td>\n",
       "      <td>c357dbff</td>\n",
       "      <td>0</td>\n",
       "      <td>21689</td>\n",
       "      <td>320</td>\n",
       "      <td>50</td>\n",
       "      <td>...</td>\n",
       "      <td>0</td>\n",
       "      <td>99</td>\n",
       "      <td>1</td>\n",
       "      <td>99</td>\n",
       "      <td>0</td>\n",
       "      <td>0</td>\n",
       "      <td>99</td>\n",
       "      <td>2</td>\n",
       "      <td>99</td>\n",
       "      <td>0.0</td>\n",
       "    </tr>\n",
       "    <tr>\n",
       "      <th>10004482643316086592</th>\n",
       "      <td>0</td>\n",
       "      <td>2014-01-21 00:10:00</td>\n",
       "      <td>1005</td>\n",
       "      <td>50e219e0</td>\n",
       "      <td>cef3e649</td>\n",
       "      <td>a99f214a</td>\n",
       "      <td>0</td>\n",
       "      <td>21234</td>\n",
       "      <td>320</td>\n",
       "      <td>50</td>\n",
       "      <td>...</td>\n",
       "      <td>2</td>\n",
       "      <td>99</td>\n",
       "      <td>0</td>\n",
       "      <td>99</td>\n",
       "      <td>0</td>\n",
       "      <td>0</td>\n",
       "      <td>99</td>\n",
       "      <td>7</td>\n",
       "      <td>99</td>\n",
       "      <td>5.0</td>\n",
       "    </tr>\n",
       "    <tr>\n",
       "      <th>10005951398749600249</th>\n",
       "      <td>0</td>\n",
       "      <td>2014-01-21 00:10:00</td>\n",
       "      <td>1005</td>\n",
       "      <td>28905ebd</td>\n",
       "      <td>07d7df22</td>\n",
       "      <td>a99f214a</td>\n",
       "      <td>0</td>\n",
       "      <td>15706</td>\n",
       "      <td>320</td>\n",
       "      <td>50</td>\n",
       "      <td>...</td>\n",
       "      <td>0</td>\n",
       "      <td>99</td>\n",
       "      <td>18</td>\n",
       "      <td>18</td>\n",
       "      <td>0</td>\n",
       "      <td>0</td>\n",
       "      <td>0</td>\n",
       "      <td>0</td>\n",
       "      <td>0</td>\n",
       "      <td>2.0</td>\n",
       "    </tr>\n",
       "    <tr>\n",
       "      <th>10007164336863914220</th>\n",
       "      <td>1</td>\n",
       "      <td>2014-01-21 00:10:00</td>\n",
       "      <td>1005</td>\n",
       "      <td>28905ebd</td>\n",
       "      <td>07d7df22</td>\n",
       "      <td>a99f214a</td>\n",
       "      <td>0</td>\n",
       "      <td>15706</td>\n",
       "      <td>320</td>\n",
       "      <td>50</td>\n",
       "      <td>...</td>\n",
       "      <td>0</td>\n",
       "      <td>99</td>\n",
       "      <td>18</td>\n",
       "      <td>18</td>\n",
       "      <td>0</td>\n",
       "      <td>0</td>\n",
       "      <td>0</td>\n",
       "      <td>0</td>\n",
       "      <td>0</td>\n",
       "      <td>2.0</td>\n",
       "    </tr>\n",
       "    <tr>\n",
       "      <th>10009635774586344851</th>\n",
       "      <td>0</td>\n",
       "      <td>2014-01-21 00:10:00</td>\n",
       "      <td>1005</td>\n",
       "      <td>3e814130</td>\n",
       "      <td>07d7df22</td>\n",
       "      <td>a99f214a</td>\n",
       "      <td>0</td>\n",
       "      <td>20352</td>\n",
       "      <td>320</td>\n",
       "      <td>50</td>\n",
       "      <td>...</td>\n",
       "      <td>0</td>\n",
       "      <td>99</td>\n",
       "      <td>0</td>\n",
       "      <td>99</td>\n",
       "      <td>0</td>\n",
       "      <td>0</td>\n",
       "      <td>17</td>\n",
       "      <td>1</td>\n",
       "      <td>0</td>\n",
       "      <td>6.0</td>\n",
       "    </tr>\n",
       "  </tbody>\n",
       "</table>\n",
       "<p>5 rows × 32 columns</p>\n",
       "</div>"
      ],
      "text/plain": [
       "                      click                hour    C1 site_category  \\\n",
       "id                                                                    \n",
       "10001264480619467364      0 2014-01-21 00:10:00  1002      50e219e0   \n",
       "10004482643316086592      0 2014-01-21 00:10:00  1005      50e219e0   \n",
       "10005951398749600249      0 2014-01-21 00:10:00  1005      28905ebd   \n",
       "10007164336863914220      1 2014-01-21 00:10:00  1005      28905ebd   \n",
       "10009635774586344851      0 2014-01-21 00:10:00  1005      3e814130   \n",
       "\n",
       "                     app_category device_id  device_conn_type    C14  C15  \\\n",
       "id                                                                          \n",
       "10001264480619467364     07d7df22  c357dbff                 0  21689  320   \n",
       "10004482643316086592     cef3e649  a99f214a                 0  21234  320   \n",
       "10005951398749600249     07d7df22  a99f214a                 0  15706  320   \n",
       "10007164336863914220     07d7df22  a99f214a                 0  15706  320   \n",
       "10009635774586344851     07d7df22  a99f214a                 0  20352  320   \n",
       "\n",
       "                      C16  ...    app_category_n  device_type_n  C1_n  C14_n  \\\n",
       "id                         ...                                                 \n",
       "10001264480619467364   50  ...                 0             99     1     99   \n",
       "10004482643316086592   50  ...                 2             99     0     99   \n",
       "10005951398749600249   50  ...                 0             99    18     18   \n",
       "10007164336863914220   50  ...                 0             99    18     18   \n",
       "10009635774586344851   50  ...                 0             99     0     99   \n",
       "\n",
       "                      C15_n  C16_n  C17_n  C19_n  C20_n  C21_n  \n",
       "id                                                              \n",
       "10001264480619467364      0      0     99      2     99    0.0  \n",
       "10004482643316086592      0      0     99      7     99    5.0  \n",
       "10005951398749600249      0      0      0      0      0    2.0  \n",
       "10007164336863914220      0      0      0      0      0    2.0  \n",
       "10009635774586344851      0      0     17      1      0    6.0  \n",
       "\n",
       "[5 rows x 32 columns]"
      ]
     },
     "execution_count": 341,
     "metadata": {},
     "output_type": "execute_result"
    }
   ],
   "source": [
    "data.head()"
   ]
  },
  {
   "cell_type": "markdown",
   "metadata": {},
   "source": [
    "#### Given that this is the priliminary analysis and memory issues, I am going to collapse columns where appropriate."
   ]
  },
  {
   "cell_type": "markdown",
   "metadata": {},
   "source": [
    "## Banner_pos"
   ]
  },
  {
   "cell_type": "code",
   "execution_count": 348,
   "metadata": {
    "scrolled": true
   },
   "outputs": [
    {
     "data": {
      "text/plain": [
       "<matplotlib.axes._subplots.AxesSubplot at 0x20207e09c88>"
      ]
     },
     "execution_count": 348,
     "metadata": {},
     "output_type": "execute_result"
    },
    {
     "data": {
      "image/png": "[encoded data removed]",
      "text/plain": [
       "<matplotlib.figure.Figure at 0x20207fbf390>"
      ]
     },
     "metadata": {},
     "output_type": "display_data"
    }
   ],
   "source": [
    "sns.countplot(x='banner_pos', data=data)"
   ]
  },
  {
   "cell_type": "code",
   "execution_count": 349,
   "metadata": {
    "scrolled": true
   },
   "outputs": [
    {
     "data": {
      "text/plain": [
       "0    0.719901\n",
       "1    0.278319\n",
       "7    0.001075\n",
       "2    0.000322\n",
       "4    0.000185\n",
       "5    0.000146\n",
       "3    0.000051\n",
       "Name: banner_pos, dtype: float64"
      ]
     },
     "execution_count": 349,
     "metadata": {},
     "output_type": "execute_result"
    }
   ],
   "source": [
    "data['banner_pos'].value_counts(normalize=True)"
   ]
  },
  {
   "cell_type": "markdown",
   "metadata": {},
   "source": [
    "<a id='2.1.1'></a>\n",
    "#### Result:\n",
    "\n",
    "Collapse banner_pos 2,3,4,5,7 into one \"other\" category called 2 "
   ]
  },
  {
   "cell_type": "code",
   "execution_count": 20,
   "metadata": {
    "scrolled": true
   },
   "outputs": [
    {
     "name": "stdout",
     "output_type": "stream",
     "text": [
      "Wall time: 733 ms\n"
     ]
    }
   ],
   "source": [
    "%%time\n",
    "\n",
    "data['banner_pos_n'] = 99\n",
    "data.loc[data['banner_pos'] == 0, 'banner_pos_n'] = 0\n",
    "data.loc[data['banner_pos'] == 1, 'banner_pos_n'] = 1"
   ]
  },
  {
   "cell_type": "code",
   "execution_count": 21,
   "metadata": {
    "scrolled": true
   },
   "outputs": [
    {
     "name": "stdout",
     "output_type": "stream",
     "text": [
      "Wall time: 890 ms\n"
     ]
    }
   ],
   "source": [
    "%%time\n",
    "\n",
    "holdout_data['banner_pos_n_h'] = 99\n",
    "holdout_data.loc[holdout_data['banner_pos'] == 0, 'banner_pos_n_h'] = 0\n",
    "holdout_data.loc[holdout_data['banner_pos'] == 1, 'banner_pos_n_h'] = 1"
   ]
  },
  {
   "cell_type": "code",
   "execution_count": 71,
   "metadata": {
    "scrolled": true
   },
   "outputs": [
    {
     "data": {
      "text/html": [
       "<div>\n",
       "<style>\n",
       "    .dataframe thead tr:only-child th {\n",
       "        text-align: right;\n",
       "    }\n",
       "\n",
       "    .dataframe thead th {\n",
       "        text-align: left;\n",
       "    }\n",
       "\n",
       "    .dataframe tbody tr th {\n",
       "        vertical-align: top;\n",
       "    }\n",
       "</style>\n",
       "<table border=\"1\" class=\"dataframe\">\n",
       "  <thead>\n",
       "    <tr style=\"text-align: right;\">\n",
       "      <th></th>\n",
       "      <th>banner_pos</th>\n",
       "      <th>banner_pos_n</th>\n",
       "    </tr>\n",
       "    <tr>\n",
       "      <th>id</th>\n",
       "      <th></th>\n",
       "      <th></th>\n",
       "    </tr>\n",
       "  </thead>\n",
       "  <tbody>\n",
       "    <tr>\n",
       "      <th>10001264480619467364</th>\n",
       "      <td>0</td>\n",
       "      <td>0</td>\n",
       "    </tr>\n",
       "    <tr>\n",
       "      <th>10004482643316086592</th>\n",
       "      <td>0</td>\n",
       "      <td>0</td>\n",
       "    </tr>\n",
       "    <tr>\n",
       "      <th>10005951398749600249</th>\n",
       "      <td>0</td>\n",
       "      <td>0</td>\n",
       "    </tr>\n",
       "    <tr>\n",
       "      <th>10007164336863914220</th>\n",
       "      <td>0</td>\n",
       "      <td>0</td>\n",
       "    </tr>\n",
       "    <tr>\n",
       "      <th>10009635774586344851</th>\n",
       "      <td>0</td>\n",
       "      <td>0</td>\n",
       "    </tr>\n",
       "  </tbody>\n",
       "</table>\n",
       "</div>"
      ],
      "text/plain": [
       "                      banner_pos  banner_pos_n\n",
       "id                                            \n",
       "10001264480619467364           0             0\n",
       "10004482643316086592           0             0\n",
       "10005951398749600249           0             0\n",
       "10007164336863914220           0             0\n",
       "10009635774586344851           0             0"
      ]
     },
     "execution_count": 71,
     "metadata": {},
     "output_type": "execute_result"
    }
   ],
   "source": [
    "data[['banner_pos','banner_pos_n']].head()"
   ]
  },
  {
   "cell_type": "code",
   "execution_count": 75,
   "metadata": {
    "scrolled": true
   },
   "outputs": [
    {
     "data": {
      "text/html": [
       "<div>\n",
       "<style>\n",
       "    .dataframe thead tr:only-child th {\n",
       "        text-align: right;\n",
       "    }\n",
       "\n",
       "    .dataframe thead th {\n",
       "        text-align: left;\n",
       "    }\n",
       "\n",
       "    .dataframe tbody tr th {\n",
       "        vertical-align: top;\n",
       "    }\n",
       "</style>\n",
       "<table border=\"1\" class=\"dataframe\">\n",
       "  <thead>\n",
       "    <tr style=\"text-align: right;\">\n",
       "      <th></th>\n",
       "      <th>click</th>\n",
       "      <th>hour</th>\n",
       "      <th>C1</th>\n",
       "      <th>site_id</th>\n",
       "      <th>site_domain</th>\n",
       "      <th>site_category</th>\n",
       "      <th>app_id</th>\n",
       "      <th>app_domain</th>\n",
       "      <th>app_category</th>\n",
       "      <th>device_id</th>\n",
       "      <th>...</th>\n",
       "      <th>device_conn_type</th>\n",
       "      <th>C14</th>\n",
       "      <th>C15</th>\n",
       "      <th>C16</th>\n",
       "      <th>C17</th>\n",
       "      <th>C18</th>\n",
       "      <th>C19</th>\n",
       "      <th>C20</th>\n",
       "      <th>C21</th>\n",
       "      <th>banner_pos_n</th>\n",
       "    </tr>\n",
       "    <tr>\n",
       "      <th>id</th>\n",
       "      <th></th>\n",
       "      <th></th>\n",
       "      <th></th>\n",
       "      <th></th>\n",
       "      <th></th>\n",
       "      <th></th>\n",
       "      <th></th>\n",
       "      <th></th>\n",
       "      <th></th>\n",
       "      <th></th>\n",
       "      <th></th>\n",
       "      <th></th>\n",
       "      <th></th>\n",
       "      <th></th>\n",
       "      <th></th>\n",
       "      <th></th>\n",
       "      <th></th>\n",
       "      <th></th>\n",
       "      <th></th>\n",
       "      <th></th>\n",
       "      <th></th>\n",
       "    </tr>\n",
       "  </thead>\n",
       "  <tbody>\n",
       "    <tr>\n",
       "      <th>10001264480619467364</th>\n",
       "      <td>0</td>\n",
       "      <td>2014-01-21 00:10:00</td>\n",
       "      <td>1002</td>\n",
       "      <td>84c7ba46</td>\n",
       "      <td>c4e18dd6</td>\n",
       "      <td>50e219e0</td>\n",
       "      <td>ecad2386</td>\n",
       "      <td>7801e8d9</td>\n",
       "      <td>07d7df22</td>\n",
       "      <td>c357dbff</td>\n",
       "      <td>...</td>\n",
       "      <td>0</td>\n",
       "      <td>21689</td>\n",
       "      <td>320</td>\n",
       "      <td>50</td>\n",
       "      <td>2496</td>\n",
       "      <td>3</td>\n",
       "      <td>167</td>\n",
       "      <td>100191</td>\n",
       "      <td>23</td>\n",
       "      <td>0</td>\n",
       "    </tr>\n",
       "    <tr>\n",
       "      <th>10004482643316086592</th>\n",
       "      <td>0</td>\n",
       "      <td>2014-01-21 00:10:00</td>\n",
       "      <td>1005</td>\n",
       "      <td>85f751fd</td>\n",
       "      <td>c4e18dd6</td>\n",
       "      <td>50e219e0</td>\n",
       "      <td>66a5f0f3</td>\n",
       "      <td>d9b5648e</td>\n",
       "      <td>cef3e649</td>\n",
       "      <td>a99f214a</td>\n",
       "      <td>...</td>\n",
       "      <td>0</td>\n",
       "      <td>21234</td>\n",
       "      <td>320</td>\n",
       "      <td>50</td>\n",
       "      <td>2434</td>\n",
       "      <td>3</td>\n",
       "      <td>163</td>\n",
       "      <td>100088</td>\n",
       "      <td>61</td>\n",
       "      <td>0</td>\n",
       "    </tr>\n",
       "    <tr>\n",
       "      <th>10005951398749600249</th>\n",
       "      <td>0</td>\n",
       "      <td>2014-01-21 00:10:00</td>\n",
       "      <td>1005</td>\n",
       "      <td>1fbe01fe</td>\n",
       "      <td>f3845767</td>\n",
       "      <td>28905ebd</td>\n",
       "      <td>ecad2386</td>\n",
       "      <td>7801e8d9</td>\n",
       "      <td>07d7df22</td>\n",
       "      <td>a99f214a</td>\n",
       "      <td>...</td>\n",
       "      <td>0</td>\n",
       "      <td>15706</td>\n",
       "      <td>320</td>\n",
       "      <td>50</td>\n",
       "      <td>1722</td>\n",
       "      <td>0</td>\n",
       "      <td>35</td>\n",
       "      <td>-1</td>\n",
       "      <td>79</td>\n",
       "      <td>0</td>\n",
       "    </tr>\n",
       "    <tr>\n",
       "      <th>10007164336863914220</th>\n",
       "      <td>1</td>\n",
       "      <td>2014-01-21 00:10:00</td>\n",
       "      <td>1005</td>\n",
       "      <td>1fbe01fe</td>\n",
       "      <td>f3845767</td>\n",
       "      <td>28905ebd</td>\n",
       "      <td>ecad2386</td>\n",
       "      <td>7801e8d9</td>\n",
       "      <td>07d7df22</td>\n",
       "      <td>a99f214a</td>\n",
       "      <td>...</td>\n",
       "      <td>0</td>\n",
       "      <td>15706</td>\n",
       "      <td>320</td>\n",
       "      <td>50</td>\n",
       "      <td>1722</td>\n",
       "      <td>0</td>\n",
       "      <td>35</td>\n",
       "      <td>-1</td>\n",
       "      <td>79</td>\n",
       "      <td>0</td>\n",
       "    </tr>\n",
       "    <tr>\n",
       "      <th>10009635774586344851</th>\n",
       "      <td>0</td>\n",
       "      <td>2014-01-21 00:10:00</td>\n",
       "      <td>1005</td>\n",
       "      <td>543a539e</td>\n",
       "      <td>c7ca3108</td>\n",
       "      <td>3e814130</td>\n",
       "      <td>ecad2386</td>\n",
       "      <td>7801e8d9</td>\n",
       "      <td>07d7df22</td>\n",
       "      <td>a99f214a</td>\n",
       "      <td>...</td>\n",
       "      <td>0</td>\n",
       "      <td>20352</td>\n",
       "      <td>320</td>\n",
       "      <td>50</td>\n",
       "      <td>2333</td>\n",
       "      <td>0</td>\n",
       "      <td>39</td>\n",
       "      <td>-1</td>\n",
       "      <td>157</td>\n",
       "      <td>0</td>\n",
       "    </tr>\n",
       "  </tbody>\n",
       "</table>\n",
       "<p>5 rows × 23 columns</p>\n",
       "</div>"
      ],
      "text/plain": [
       "                      click                hour    C1   site_id site_domain  \\\n",
       "id                                                                            \n",
       "10001264480619467364      0 2014-01-21 00:10:00  1002  84c7ba46    c4e18dd6   \n",
       "10004482643316086592      0 2014-01-21 00:10:00  1005  85f751fd    c4e18dd6   \n",
       "10005951398749600249      0 2014-01-21 00:10:00  1005  1fbe01fe    f3845767   \n",
       "10007164336863914220      1 2014-01-21 00:10:00  1005  1fbe01fe    f3845767   \n",
       "10009635774586344851      0 2014-01-21 00:10:00  1005  543a539e    c7ca3108   \n",
       "\n",
       "                     site_category    app_id app_domain app_category  \\\n",
       "id                                                                     \n",
       "10001264480619467364      50e219e0  ecad2386   7801e8d9     07d7df22   \n",
       "10004482643316086592      50e219e0  66a5f0f3   d9b5648e     cef3e649   \n",
       "10005951398749600249      28905ebd  ecad2386   7801e8d9     07d7df22   \n",
       "10007164336863914220      28905ebd  ecad2386   7801e8d9     07d7df22   \n",
       "10009635774586344851      3e814130  ecad2386   7801e8d9     07d7df22   \n",
       "\n",
       "                     device_id      ...      device_conn_type    C14  C15  \\\n",
       "id                                  ...                                     \n",
       "10001264480619467364  c357dbff      ...                     0  21689  320   \n",
       "10004482643316086592  a99f214a      ...                     0  21234  320   \n",
       "10005951398749600249  a99f214a      ...                     0  15706  320   \n",
       "10007164336863914220  a99f214a      ...                     0  15706  320   \n",
       "10009635774586344851  a99f214a      ...                     0  20352  320   \n",
       "\n",
       "                      C16   C17  C18  C19     C20  C21  banner_pos_n  \n",
       "id                                                                    \n",
       "10001264480619467364   50  2496    3  167  100191   23             0  \n",
       "10004482643316086592   50  2434    3  163  100088   61             0  \n",
       "10005951398749600249   50  1722    0   35      -1   79             0  \n",
       "10007164336863914220   50  1722    0   35      -1   79             0  \n",
       "10009635774586344851   50  2333    0   39      -1  157             0  \n",
       "\n",
       "[5 rows x 23 columns]"
      ]
     },
     "execution_count": 75,
     "metadata": {},
     "output_type": "execute_result"
    }
   ],
   "source": [
    "data.head()"
   ]
  },
  {
   "cell_type": "markdown",
   "metadata": {},
   "source": [
    "## Site_category"
   ]
  },
  {
   "cell_type": "code",
   "execution_count": 83,
   "metadata": {
    "scrolled": true
   },
   "outputs": [
    {
     "data": {
      "text/plain": [
       "<matplotlib.axes._subplots.AxesSubplot at 0x2014a4e9438>"
      ]
     },
     "execution_count": 83,
     "metadata": {},
     "output_type": "execute_result"
    },
    {
     "data": {
      "image/png": "[encoded data removed]",
      "text/plain": [
       "<matplotlib.figure.Figure at 0x20149379860>"
      ]
     },
     "metadata": {},
     "output_type": "display_data"
    }
   ],
   "source": [
    "sns.countplot(x='site_category', data=data)"
   ]
  },
  {
   "cell_type": "code",
   "execution_count": null,
   "metadata": {
    "collapsed": true,
    "scrolled": true
   },
   "outputs": [],
   "source": [
    "data.info()"
   ]
  },
  {
   "cell_type": "code",
   "execution_count": null,
   "metadata": {
    "collapsed": true,
    "scrolled": true
   },
   "outputs": [],
   "source": [
    "data['site_category'].value_counts(normalize=True)"
   ]
  },
  {
   "cell_type": "markdown",
   "metadata": {},
   "source": [
    "<a id='2.1.2'></a>\n",
    "#### Result: \n",
    "\n",
    "Collapse all of the site categories below 1 * 10^-3 into one \"other\" category."
   ]
  },
  {
   "cell_type": "code",
   "execution_count": 22,
   "metadata": {
    "scrolled": true
   },
   "outputs": [
    {
     "name": "stdout",
     "output_type": "stream",
     "text": [
      "Wall time: 4.61 s\n"
     ]
    }
   ],
   "source": [
    "%%time\n",
    "\n",
    "data['site_category_n'] = 99\n",
    "data.loc[data['site_category'] == '50e219e0', 'site_category_n'] = 0\n",
    "data.loc[data['site_category'] == 'f028772b', 'site_category_n'] = 1\n",
    "data.loc[data['site_category'] == '28905ebd', 'site_category_n'] = 2\n",
    "data.loc[data['site_category'] == '3e814130', 'site_category_n'] = 3\n",
    "data.loc[data['site_category'] == 'f66779e6', 'site_category_n'] = 4\n",
    "data.loc[data['site_category'] == '75fa27f6', 'site_category_n'] = 5\n",
    "data.loc[data['site_category'] == '335d28a8', 'site_category_n'] = 6\n",
    "data.loc[data['site_category'] == '76b2941d', 'site_category_n'] = 7\n",
    "data.loc[data['site_category'] == 'c0dd3be3', 'site_category_n'] = 8"
   ]
  },
  {
   "cell_type": "code",
   "execution_count": 23,
   "metadata": {
    "scrolled": true
   },
   "outputs": [
    {
     "name": "stdout",
     "output_type": "stream",
     "text": [
      "Wall time: 5.21 s\n"
     ]
    }
   ],
   "source": [
    "%%time\n",
    "\n",
    "holdout_data['site_category_n_h'] = 99\n",
    "holdout_data.loc[holdout_data['site_category'] == '50e219e0', 'site_category_n_h'] = 0\n",
    "holdout_data.loc[holdout_data['site_category'] == 'f028772b', 'site_category_n_h'] = 1\n",
    "holdout_data.loc[holdout_data['site_category'] == '28905ebd', 'site_category_n_h'] = 2\n",
    "holdout_data.loc[holdout_data['site_category'] == '3e814130', 'site_category_n_h'] = 3\n",
    "holdout_data.loc[holdout_data['site_category'] == 'f66779e6', 'site_category_n_h'] = 4\n",
    "holdout_data.loc[holdout_data['site_category'] == '75fa27f6', 'site_category_n_h'] = 5\n",
    "holdout_data.loc[holdout_data['site_category'] == '335d28a8', 'site_category_n_h'] = 6\n",
    "holdout_data.loc[holdout_data['site_category'] == '76b2941d', 'site_category_n_h'] = 7\n",
    "holdout_data.loc[holdout_data['site_category'] == 'c0dd3be3', 'site_category_n_h'] = 8"
   ]
  },
  {
   "cell_type": "code",
   "execution_count": null,
   "metadata": {
    "collapsed": true,
    "scrolled": true
   },
   "outputs": [],
   "source": [
    "data[['site_category','site_category_n']].head()"
   ]
  },
  {
   "cell_type": "code",
   "execution_count": null,
   "metadata": {
    "collapsed": true,
    "scrolled": true
   },
   "outputs": [],
   "source": [
    "data.head()"
   ]
  },
  {
   "cell_type": "markdown",
   "metadata": {},
   "source": [
    "## App_cateogry"
   ]
  },
  {
   "cell_type": "code",
   "execution_count": 11,
   "metadata": {
    "scrolled": true
   },
   "outputs": [
    {
     "data": {
      "text/plain": [
       "<matplotlib.axes._subplots.AxesSubplot at 0x19c8fffee80>"
      ]
     },
     "execution_count": 11,
     "metadata": {},
     "output_type": "execute_result"
    },
    {
     "data": {
      "image/png": "[encoded data removed]",
      "text/plain": [
       "<matplotlib.figure.Figure at 0x19c8ffa2320>"
      ]
     },
     "metadata": {},
     "output_type": "display_data"
    }
   ],
   "source": [
    "sns.countplot(x='app_category', data=data)"
   ]
  },
  {
   "cell_type": "code",
   "execution_count": 12,
   "metadata": {
    "scrolled": true
   },
   "outputs": [
    {
     "data": {
      "text/plain": [
       "07d7df22    6.472519e-01\n",
       "0f2161f8    2.362079e-01\n",
       "cef3e649    4.290192e-02\n",
       "8ded1f7a    3.642661e-02\n",
       "f95efa07    2.822630e-02\n",
       "d1327cf5    3.067356e-03\n",
       "09481d60    1.385393e-03\n",
       "dc97ec06    1.374262e-03\n",
       "75d80bbe    9.832061e-04\n",
       "fc6fa53d    5.938812e-04\n",
       "4ce2e9fc    4.964263e-04\n",
       "879c24eb    3.007745e-04\n",
       "a3c42688    2.639197e-04\n",
       "4681bb9d    1.602811e-04\n",
       "0f9a328c    1.375252e-04\n",
       "a86a3e89    6.307360e-05\n",
       "2281a340    5.763195e-05\n",
       "8df2e842    4.279111e-05\n",
       "79f0b860    1.508819e-05\n",
       "0bfbc358    1.212002e-05\n",
       "a7fd01ec    6.925728e-06\n",
       "18b1e0be    6.925728e-06\n",
       "7113d72a    6.925728e-06\n",
       "2fc4f2aa    5.194296e-06\n",
       "5326cf99    4.452254e-06\n",
       "0d82db25    7.420423e-07\n",
       "f395a87f    2.473474e-07\n",
       "86c1a5a3    2.473474e-07\n",
       "Name: app_category, dtype: float64"
      ]
     },
     "execution_count": 12,
     "metadata": {},
     "output_type": "execute_result"
    }
   ],
   "source": [
    "data['app_category'].value_counts(normalize=True)"
   ]
  },
  {
   "cell_type": "markdown",
   "metadata": {},
   "source": [
    "<a id='2.1.3'></a>\n",
    "#### Result: \n",
    "\n",
    "Collapse all of the site categories below 1 * 10^-3 into one \"other\" category."
   ]
  },
  {
   "cell_type": "code",
   "execution_count": 24,
   "metadata": {
    "scrolled": true
   },
   "outputs": [
    {
     "name": "stdout",
     "output_type": "stream",
     "text": [
      "Wall time: 3.5 s\n"
     ]
    }
   ],
   "source": [
    "%%time\n",
    "\n",
    "data['app_category_n'] = 99\n",
    "data.loc[data['app_category'] == '07d7df22', 'app_category_n'] = 0\n",
    "data.loc[data['app_category'] == '0f2161f8', 'app_category_n'] = 1\n",
    "data.loc[data['app_category'] == 'cef3e649', 'app_category_n'] = 2\n",
    "data.loc[data['app_category'] == '8ded1f7a', 'app_category_n'] = 3\n",
    "data.loc[data['app_category'] == 'd1327cf5', 'app_category_n'] = 4\n",
    "data.loc[data['app_category'] == '09481d60', 'app_category_n'] = 5\n",
    "data.loc[data['app_category'] == 'dc97ec06', 'app_category_n'] = 6\n",
    "data.loc[data['app_category'] == '75d80bbe', 'app_category_n'] = 7"
   ]
  },
  {
   "cell_type": "code",
   "execution_count": 25,
   "metadata": {
    "scrolled": true
   },
   "outputs": [
    {
     "name": "stdout",
     "output_type": "stream",
     "text": [
      "Wall time: 4.63 s\n"
     ]
    }
   ],
   "source": [
    "%%time\n",
    "\n",
    "holdout_data['app_category_n_h'] = 99\n",
    "holdout_data.loc[holdout_data['app_category'] == '07d7df22', 'app_category_n_h'] = 0\n",
    "holdout_data.loc[holdout_data['app_category'] == '0f2161f8', 'app_category_n_h'] = 1\n",
    "holdout_data.loc[holdout_data['app_category'] == 'cef3e649', 'app_category_n_h'] = 2\n",
    "holdout_data.loc[holdout_data['app_category'] == '8ded1f7a', 'app_category_n_h'] = 3\n",
    "holdout_data.loc[holdout_data['app_category'] == 'd1327cf5', 'app_category_n_h'] = 4\n",
    "holdout_data.loc[holdout_data['app_category'] == '09481d60', 'app_category_n_h'] = 5\n",
    "holdout_data.loc[holdout_data['app_category'] == 'dc97ec06', 'app_category_n_h'] = 6\n",
    "holdout_data.loc[holdout_data['app_category'] == '75d80bbe', 'app_category_n_h'] = 7"
   ]
  },
  {
   "cell_type": "code",
   "execution_count": 26,
   "metadata": {
    "scrolled": true
   },
   "outputs": [
    {
     "data": {
      "text/html": [
       "<div>\n",
       "<style>\n",
       "    .dataframe thead tr:only-child th {\n",
       "        text-align: right;\n",
       "    }\n",
       "\n",
       "    .dataframe thead th {\n",
       "        text-align: left;\n",
       "    }\n",
       "\n",
       "    .dataframe tbody tr th {\n",
       "        vertical-align: top;\n",
       "    }\n",
       "</style>\n",
       "<table border=\"1\" class=\"dataframe\">\n",
       "  <thead>\n",
       "    <tr style=\"text-align: right;\">\n",
       "      <th></th>\n",
       "      <th>app_category</th>\n",
       "      <th>app_category_n</th>\n",
       "    </tr>\n",
       "    <tr>\n",
       "      <th>id</th>\n",
       "      <th></th>\n",
       "      <th></th>\n",
       "    </tr>\n",
       "  </thead>\n",
       "  <tbody>\n",
       "    <tr>\n",
       "      <th>10001264480619467364</th>\n",
       "      <td>07d7df22</td>\n",
       "      <td>0</td>\n",
       "    </tr>\n",
       "    <tr>\n",
       "      <th>10004482643316086592</th>\n",
       "      <td>cef3e649</td>\n",
       "      <td>2</td>\n",
       "    </tr>\n",
       "    <tr>\n",
       "      <th>10005951398749600249</th>\n",
       "      <td>07d7df22</td>\n",
       "      <td>0</td>\n",
       "    </tr>\n",
       "    <tr>\n",
       "      <th>10007164336863914220</th>\n",
       "      <td>07d7df22</td>\n",
       "      <td>0</td>\n",
       "    </tr>\n",
       "    <tr>\n",
       "      <th>10009635774586344851</th>\n",
       "      <td>07d7df22</td>\n",
       "      <td>0</td>\n",
       "    </tr>\n",
       "  </tbody>\n",
       "</table>\n",
       "</div>"
      ],
      "text/plain": [
       "                     app_category  app_category_n\n",
       "id                                               \n",
       "10001264480619467364     07d7df22               0\n",
       "10004482643316086592     cef3e649               2\n",
       "10005951398749600249     07d7df22               0\n",
       "10007164336863914220     07d7df22               0\n",
       "10009635774586344851     07d7df22               0"
      ]
     },
     "execution_count": 26,
     "metadata": {},
     "output_type": "execute_result"
    }
   ],
   "source": [
    "data[['app_category','app_category_n']].head()"
   ]
  },
  {
   "cell_type": "code",
   "execution_count": null,
   "metadata": {
    "collapsed": true,
    "scrolled": true
   },
   "outputs": [],
   "source": [
    "data.head()"
   ]
  },
  {
   "cell_type": "markdown",
   "metadata": {},
   "source": [
    "## Device_type"
   ]
  },
  {
   "cell_type": "code",
   "execution_count": 9,
   "metadata": {
    "scrolled": true
   },
   "outputs": [
    {
     "data": {
      "text/plain": [
       "<matplotlib.axes._subplots.AxesSubplot at 0x19c8fea4b70>"
      ]
     },
     "execution_count": 9,
     "metadata": {},
     "output_type": "execute_result"
    },
    {
     "data": {
      "image/png": "[encoded data removed]",
      "text/plain": [
       "<matplotlib.figure.Figure at 0x19c8fdf9208>"
      ]
     },
     "metadata": {},
     "output_type": "display_data"
    }
   ],
   "source": [
    "sns.countplot(x='device_type', data=data)"
   ]
  },
  {
   "cell_type": "code",
   "execution_count": 10,
   "metadata": {
    "scrolled": true
   },
   "outputs": [
    {
     "data": {
      "text/plain": [
       "1    9.226653e-01\n",
       "0    5.504173e-02\n",
       "4    1.910759e-02\n",
       "5    3.184598e-03\n",
       "2    7.420423e-07\n",
       "Name: device_type, dtype: float64"
      ]
     },
     "execution_count": 10,
     "metadata": {},
     "output_type": "execute_result"
    }
   ],
   "source": [
    "data['device_type'].value_counts(normalize=True)"
   ]
  },
  {
   "cell_type": "markdown",
   "metadata": {},
   "source": [
    "<a id='2.1.4'></a>\n",
    "#### Result: \n",
    "\n",
    "Collapse device_type 2 & 5 into one \"other\" category called 99"
   ]
  },
  {
   "cell_type": "code",
   "execution_count": 27,
   "metadata": {
    "scrolled": true
   },
   "outputs": [
    {
     "name": "stdout",
     "output_type": "stream",
     "text": [
      "Wall time: 844 ms\n"
     ]
    }
   ],
   "source": [
    "%%time\n",
    "\n",
    "data['device_type_n'] = 99\n",
    "data.loc[data['device_type'] == 0, 'device_type_n'] = 0\n",
    "data.loc[data['device_type'] == 1, 'device_type_n'] = 1\n",
    "data.loc[data['device_type'] == 4, 'device_type_n'] = 4"
   ]
  },
  {
   "cell_type": "code",
   "execution_count": 28,
   "metadata": {
    "scrolled": true
   },
   "outputs": [
    {
     "name": "stdout",
     "output_type": "stream",
     "text": [
      "Wall time: 1.59 s\n"
     ]
    }
   ],
   "source": [
    "%%time\n",
    "\n",
    "holdout_data['device_type_n_h'] = 99\n",
    "holdout_data.loc[holdout_data['device_type'] == 0, 'device_type_n_h'] = 0\n",
    "holdout_data.loc[holdout_data['device_type'] == 1, 'device_type_n_h'] = 1\n",
    "holdout_data.loc[holdout_data['device_type'] == 4, 'device_type_n_h'] = 4"
   ]
  },
  {
   "cell_type": "code",
   "execution_count": 29,
   "metadata": {
    "scrolled": true
   },
   "outputs": [
    {
     "data": {
      "text/html": [
       "<div>\n",
       "<style>\n",
       "    .dataframe thead tr:only-child th {\n",
       "        text-align: right;\n",
       "    }\n",
       "\n",
       "    .dataframe thead th {\n",
       "        text-align: left;\n",
       "    }\n",
       "\n",
       "    .dataframe tbody tr th {\n",
       "        vertical-align: top;\n",
       "    }\n",
       "</style>\n",
       "<table border=\"1\" class=\"dataframe\">\n",
       "  <thead>\n",
       "    <tr style=\"text-align: right;\">\n",
       "      <th></th>\n",
       "      <th>device_type</th>\n",
       "      <th>device_type_n</th>\n",
       "    </tr>\n",
       "    <tr>\n",
       "      <th>id</th>\n",
       "      <th></th>\n",
       "      <th></th>\n",
       "    </tr>\n",
       "  </thead>\n",
       "  <tbody>\n",
       "    <tr>\n",
       "      <th>10001264480619467364</th>\n",
       "      <td>0</td>\n",
       "      <td>0</td>\n",
       "    </tr>\n",
       "    <tr>\n",
       "      <th>10004482643316086592</th>\n",
       "      <td>1</td>\n",
       "      <td>1</td>\n",
       "    </tr>\n",
       "    <tr>\n",
       "      <th>10005951398749600249</th>\n",
       "      <td>1</td>\n",
       "      <td>1</td>\n",
       "    </tr>\n",
       "    <tr>\n",
       "      <th>10007164336863914220</th>\n",
       "      <td>1</td>\n",
       "      <td>1</td>\n",
       "    </tr>\n",
       "    <tr>\n",
       "      <th>10009635774586344851</th>\n",
       "      <td>1</td>\n",
       "      <td>1</td>\n",
       "    </tr>\n",
       "  </tbody>\n",
       "</table>\n",
       "</div>"
      ],
      "text/plain": [
       "                      device_type  device_type_n\n",
       "id                                              \n",
       "10001264480619467364            0              0\n",
       "10004482643316086592            1              1\n",
       "10005951398749600249            1              1\n",
       "10007164336863914220            1              1\n",
       "10009635774586344851            1              1"
      ]
     },
     "execution_count": 29,
     "metadata": {},
     "output_type": "execute_result"
    }
   ],
   "source": [
    "data[['device_type','device_type_n']].head()"
   ]
  },
  {
   "cell_type": "code",
   "execution_count": 87,
   "metadata": {
    "scrolled": true
   },
   "outputs": [
    {
     "data": {
      "text/html": [
       "<div>\n",
       "<style>\n",
       "    .dataframe thead tr:only-child th {\n",
       "        text-align: right;\n",
       "    }\n",
       "\n",
       "    .dataframe thead th {\n",
       "        text-align: left;\n",
       "    }\n",
       "\n",
       "    .dataframe tbody tr th {\n",
       "        vertical-align: top;\n",
       "    }\n",
       "</style>\n",
       "<table border=\"1\" class=\"dataframe\">\n",
       "  <thead>\n",
       "    <tr style=\"text-align: right;\">\n",
       "      <th></th>\n",
       "      <th>click</th>\n",
       "      <th>hour</th>\n",
       "      <th>C1</th>\n",
       "      <th>site_id</th>\n",
       "      <th>site_domain</th>\n",
       "      <th>site_category</th>\n",
       "      <th>app_id</th>\n",
       "      <th>app_domain</th>\n",
       "      <th>app_category</th>\n",
       "      <th>device_id</th>\n",
       "      <th>...</th>\n",
       "      <th>device_conn_type</th>\n",
       "      <th>C14</th>\n",
       "      <th>C15</th>\n",
       "      <th>C16</th>\n",
       "      <th>C17</th>\n",
       "      <th>C18</th>\n",
       "      <th>C19</th>\n",
       "      <th>C20</th>\n",
       "      <th>C21</th>\n",
       "      <th>banner_pos_n</th>\n",
       "    </tr>\n",
       "    <tr>\n",
       "      <th>id</th>\n",
       "      <th></th>\n",
       "      <th></th>\n",
       "      <th></th>\n",
       "      <th></th>\n",
       "      <th></th>\n",
       "      <th></th>\n",
       "      <th></th>\n",
       "      <th></th>\n",
       "      <th></th>\n",
       "      <th></th>\n",
       "      <th></th>\n",
       "      <th></th>\n",
       "      <th></th>\n",
       "      <th></th>\n",
       "      <th></th>\n",
       "      <th></th>\n",
       "      <th></th>\n",
       "      <th></th>\n",
       "      <th></th>\n",
       "      <th></th>\n",
       "      <th></th>\n",
       "    </tr>\n",
       "  </thead>\n",
       "  <tbody>\n",
       "    <tr>\n",
       "      <th>10001264480619467364</th>\n",
       "      <td>0</td>\n",
       "      <td>2014-01-21 00:10:00</td>\n",
       "      <td>1002</td>\n",
       "      <td>84c7ba46</td>\n",
       "      <td>c4e18dd6</td>\n",
       "      <td>50e219e0</td>\n",
       "      <td>ecad2386</td>\n",
       "      <td>7801e8d9</td>\n",
       "      <td>07d7df22</td>\n",
       "      <td>c357dbff</td>\n",
       "      <td>...</td>\n",
       "      <td>0</td>\n",
       "      <td>21689</td>\n",
       "      <td>320</td>\n",
       "      <td>50</td>\n",
       "      <td>2496</td>\n",
       "      <td>3</td>\n",
       "      <td>167</td>\n",
       "      <td>100191</td>\n",
       "      <td>23</td>\n",
       "      <td>0</td>\n",
       "    </tr>\n",
       "    <tr>\n",
       "      <th>10004482643316086592</th>\n",
       "      <td>0</td>\n",
       "      <td>2014-01-21 00:10:00</td>\n",
       "      <td>1005</td>\n",
       "      <td>85f751fd</td>\n",
       "      <td>c4e18dd6</td>\n",
       "      <td>50e219e0</td>\n",
       "      <td>66a5f0f3</td>\n",
       "      <td>d9b5648e</td>\n",
       "      <td>cef3e649</td>\n",
       "      <td>a99f214a</td>\n",
       "      <td>...</td>\n",
       "      <td>0</td>\n",
       "      <td>21234</td>\n",
       "      <td>320</td>\n",
       "      <td>50</td>\n",
       "      <td>2434</td>\n",
       "      <td>3</td>\n",
       "      <td>163</td>\n",
       "      <td>100088</td>\n",
       "      <td>61</td>\n",
       "      <td>0</td>\n",
       "    </tr>\n",
       "    <tr>\n",
       "      <th>10005951398749600249</th>\n",
       "      <td>0</td>\n",
       "      <td>2014-01-21 00:10:00</td>\n",
       "      <td>1005</td>\n",
       "      <td>1fbe01fe</td>\n",
       "      <td>f3845767</td>\n",
       "      <td>28905ebd</td>\n",
       "      <td>ecad2386</td>\n",
       "      <td>7801e8d9</td>\n",
       "      <td>07d7df22</td>\n",
       "      <td>a99f214a</td>\n",
       "      <td>...</td>\n",
       "      <td>0</td>\n",
       "      <td>15706</td>\n",
       "      <td>320</td>\n",
       "      <td>50</td>\n",
       "      <td>1722</td>\n",
       "      <td>0</td>\n",
       "      <td>35</td>\n",
       "      <td>-1</td>\n",
       "      <td>79</td>\n",
       "      <td>0</td>\n",
       "    </tr>\n",
       "    <tr>\n",
       "      <th>10007164336863914220</th>\n",
       "      <td>1</td>\n",
       "      <td>2014-01-21 00:10:00</td>\n",
       "      <td>1005</td>\n",
       "      <td>1fbe01fe</td>\n",
       "      <td>f3845767</td>\n",
       "      <td>28905ebd</td>\n",
       "      <td>ecad2386</td>\n",
       "      <td>7801e8d9</td>\n",
       "      <td>07d7df22</td>\n",
       "      <td>a99f214a</td>\n",
       "      <td>...</td>\n",
       "      <td>0</td>\n",
       "      <td>15706</td>\n",
       "      <td>320</td>\n",
       "      <td>50</td>\n",
       "      <td>1722</td>\n",
       "      <td>0</td>\n",
       "      <td>35</td>\n",
       "      <td>-1</td>\n",
       "      <td>79</td>\n",
       "      <td>0</td>\n",
       "    </tr>\n",
       "    <tr>\n",
       "      <th>10009635774586344851</th>\n",
       "      <td>0</td>\n",
       "      <td>2014-01-21 00:10:00</td>\n",
       "      <td>1005</td>\n",
       "      <td>543a539e</td>\n",
       "      <td>c7ca3108</td>\n",
       "      <td>3e814130</td>\n",
       "      <td>ecad2386</td>\n",
       "      <td>7801e8d9</td>\n",
       "      <td>07d7df22</td>\n",
       "      <td>a99f214a</td>\n",
       "      <td>...</td>\n",
       "      <td>0</td>\n",
       "      <td>20352</td>\n",
       "      <td>320</td>\n",
       "      <td>50</td>\n",
       "      <td>2333</td>\n",
       "      <td>0</td>\n",
       "      <td>39</td>\n",
       "      <td>-1</td>\n",
       "      <td>157</td>\n",
       "      <td>0</td>\n",
       "    </tr>\n",
       "  </tbody>\n",
       "</table>\n",
       "<p>5 rows × 22 columns</p>\n",
       "</div>"
      ],
      "text/plain": [
       "                      click                hour    C1   site_id site_domain  \\\n",
       "id                                                                            \n",
       "10001264480619467364      0 2014-01-21 00:10:00  1002  84c7ba46    c4e18dd6   \n",
       "10004482643316086592      0 2014-01-21 00:10:00  1005  85f751fd    c4e18dd6   \n",
       "10005951398749600249      0 2014-01-21 00:10:00  1005  1fbe01fe    f3845767   \n",
       "10007164336863914220      1 2014-01-21 00:10:00  1005  1fbe01fe    f3845767   \n",
       "10009635774586344851      0 2014-01-21 00:10:00  1005  543a539e    c7ca3108   \n",
       "\n",
       "                     site_category    app_id app_domain app_category  \\\n",
       "id                                                                     \n",
       "10001264480619467364      50e219e0  ecad2386   7801e8d9     07d7df22   \n",
       "10004482643316086592      50e219e0  66a5f0f3   d9b5648e     cef3e649   \n",
       "10005951398749600249      28905ebd  ecad2386   7801e8d9     07d7df22   \n",
       "10007164336863914220      28905ebd  ecad2386   7801e8d9     07d7df22   \n",
       "10009635774586344851      3e814130  ecad2386   7801e8d9     07d7df22   \n",
       "\n",
       "                     device_id      ...      device_conn_type    C14  C15  \\\n",
       "id                                  ...                                     \n",
       "10001264480619467364  c357dbff      ...                     0  21689  320   \n",
       "10004482643316086592  a99f214a      ...                     0  21234  320   \n",
       "10005951398749600249  a99f214a      ...                     0  15706  320   \n",
       "10007164336863914220  a99f214a      ...                     0  15706  320   \n",
       "10009635774586344851  a99f214a      ...                     0  20352  320   \n",
       "\n",
       "                      C16   C17  C18  C19     C20  C21  banner_pos_n  \n",
       "id                                                                    \n",
       "10001264480619467364   50  2496    3  167  100191   23             0  \n",
       "10004482643316086592   50  2434    3  163  100088   61             0  \n",
       "10005951398749600249   50  1722    0   35      -1   79             0  \n",
       "10007164336863914220   50  1722    0   35      -1   79             0  \n",
       "10009635774586344851   50  2333    0   39      -1  157             0  \n",
       "\n",
       "[5 rows x 22 columns]"
      ]
     },
     "execution_count": 87,
     "metadata": {},
     "output_type": "execute_result"
    }
   ],
   "source": [
    "data.head()"
   ]
  },
  {
   "cell_type": "markdown",
   "metadata": {},
   "source": [
    "## Device_conn_type"
   ]
  },
  {
   "cell_type": "code",
   "execution_count": 89,
   "metadata": {
    "scrolled": true
   },
   "outputs": [
    {
     "data": {
      "text/plain": [
       "<matplotlib.axes._subplots.AxesSubplot at 0x2014a615eb8>"
      ]
     },
     "execution_count": 89,
     "metadata": {},
     "output_type": "execute_result"
    },
    {
     "data": {
      "image/png": "[encoded data removed]",
      "text/plain": [
       "<matplotlib.figure.Figure at 0x2014a60f390>"
      ]
     },
     "metadata": {},
     "output_type": "display_data"
    }
   ],
   "source": [
    "sns.countplot(x='device_conn_type', data=data)"
   ]
  },
  {
   "cell_type": "code",
   "execution_count": 90,
   "metadata": {
    "scrolled": true
   },
   "outputs": [
    {
     "data": {
      "text/plain": [
       "0    0.863010\n",
       "2    0.081929\n",
       "3    0.053989\n",
       "5    0.001072\n",
       "Name: device_conn_type, dtype: float64"
      ]
     },
     "execution_count": 90,
     "metadata": {},
     "output_type": "execute_result"
    }
   ],
   "source": [
    "data['device_conn_type'].value_counts(normalize=True)"
   ]
  },
  {
   "cell_type": "markdown",
   "metadata": {},
   "source": [
    "<a id='2.1.5'></a>\n",
    "#### Result:\n",
    "\n",
    "Keep all"
   ]
  },
  {
   "cell_type": "code",
   "execution_count": 46,
   "metadata": {},
   "outputs": [
    {
     "data": {
      "text/plain": [
       "Index(['click', 'hour', 'C1', 'banner_pos', 'site_id', 'site_domain',\n",
       "       'site_category', 'app_id', 'app_domain', 'app_category', 'device_id',\n",
       "       'device_ip', 'device_model', 'device_type', 'device_conn_type', 'C14',\n",
       "       'C15', 'C16', 'C17', 'C18', 'C19', 'C20', 'C21', 'banner_pos_n',\n",
       "       'site_category_n', 'app_category_n', 'device_type_n', 'site_id_n',\n",
       "       'site_domain_n', 'app_id_n', 'app_domain_n', 'device_model_n', 'C14_n',\n",
       "       'C17_n', 'C19_n', 'C20_n', 'C21_n', 'device_con_type_n'],\n",
       "      dtype='object')"
      ]
     },
     "execution_count": 46,
     "metadata": {},
     "output_type": "execute_result"
    }
   ],
   "source": [
    "data.columns"
   ]
  },
  {
   "cell_type": "markdown",
   "metadata": {},
   "source": [
    "## Site_id"
   ]
  },
  {
   "cell_type": "code",
   "execution_count": 92,
   "metadata": {
    "scrolled": true
   },
   "outputs": [
    {
     "data": {
      "text/plain": [
       "85f751fd    3.610365e-01\n",
       "1fbe01fe    1.601661e-01\n",
       "e151e245    6.541252e-02\n",
       "d9750ee7    2.388956e-02\n",
       "5b08c53b    2.248883e-02\n",
       "5b4d2eda    1.903017e-02\n",
       "856e6d3f    1.891961e-02\n",
       "a7853007    1.139851e-02\n",
       "b7e9786d    9.129594e-03\n",
       "5ee41ff2    8.646277e-03\n",
       "6399eda6    8.608433e-03\n",
       "5bcf81a2    8.350450e-03\n",
       "6256f5b4    7.802823e-03\n",
       "57ef2c87    7.646252e-03\n",
       "17caea14    6.943785e-03\n",
       "0a742914    6.697427e-03\n",
       "83a0ad1a    6.628417e-03\n",
       "57fe1b20    6.505733e-03\n",
       "e8f79e60    6.364992e-03\n",
       "e4d8dd7b    6.358313e-03\n",
       "d6137915    5.798071e-03\n",
       "12fb4121    4.841579e-03\n",
       "6c5b482c    4.778505e-03\n",
       "93eaba74    4.623666e-03\n",
       "e5c60a05    4.469321e-03\n",
       "9a977531    4.318686e-03\n",
       "bb4524e7    4.164342e-03\n",
       "5114c672    4.079501e-03\n",
       "e3c09f3a    3.939503e-03\n",
       "4bf5bbe2    3.617456e-03\n",
       "                ...     \n",
       "ae4d9eb1    2.473474e-07\n",
       "b349c9b1    2.473474e-07\n",
       "9b7fbb81    2.473474e-07\n",
       "fa43f4ce    2.473474e-07\n",
       "5297c072    2.473474e-07\n",
       "7621bb32    2.473474e-07\n",
       "71e4a1bf    2.473474e-07\n",
       "0c5d3b65    2.473474e-07\n",
       "adfc7184    2.473474e-07\n",
       "9f9372ab    2.473474e-07\n",
       "d96f98c4    2.473474e-07\n",
       "303ba0ee    2.473474e-07\n",
       "2e1e57b2    2.473474e-07\n",
       "4e7411ea    2.473474e-07\n",
       "a9caff76    2.473474e-07\n",
       "b3be620e    2.473474e-07\n",
       "14f4797c    2.473474e-07\n",
       "ea30701b    2.473474e-07\n",
       "19b92c45    2.473474e-07\n",
       "9e3f740b    2.473474e-07\n",
       "076a7ce0    2.473474e-07\n",
       "18f080c2    2.473474e-07\n",
       "fe96dcee    2.473474e-07\n",
       "921e3d8c    2.473474e-07\n",
       "2cf43c2d    2.473474e-07\n",
       "7bcf7a7c    2.473474e-07\n",
       "675e9f6f    2.473474e-07\n",
       "b6378215    2.473474e-07\n",
       "b9bb7678    2.473474e-07\n",
       "57b9fafc    2.473474e-07\n",
       "Name: site_id, Length: 3428, dtype: float64"
      ]
     },
     "execution_count": 92,
     "metadata": {},
     "output_type": "execute_result"
    }
   ],
   "source": [
    "data['site_id'].value_counts(normalize=True)"
   ]
  },
  {
   "cell_type": "markdown",
   "metadata": {},
   "source": [
    "<a id='2.1.6'></a>\n",
    "#### Result for site_id:\n",
    "\n",
    "Kept 85f751fd, 1fbe01fe, e151e245, d9750ee7, 5b08c53b, 5b4d2eda, 856e6d3f, a7853007 and collapsed rest into one category, 99."
   ]
  },
  {
   "cell_type": "code",
   "execution_count": 30,
   "metadata": {
    "scrolled": true
   },
   "outputs": [
    {
     "name": "stdout",
     "output_type": "stream",
     "text": [
      "Wall time: 3.95 s\n"
     ]
    }
   ],
   "source": [
    "%%time\n",
    "\n",
    "data['site_id_n'] = 99\n",
    "data.loc[data['site_id'] == '85f751fd', 'site_id_n'] = 0\n",
    "data.loc[data['site_id'] == '1fbe01fe', 'site_id_n'] = 1\n",
    "data.loc[data['site_id'] == 'e151e245', 'site_id_n'] = 2\n",
    "data.loc[data['site_id'] == 'd9750ee7', 'site_id_n'] = 3\n",
    "data.loc[data['site_id'] == '5b08c53b', 'site_id_n'] = 4\n",
    "data.loc[data['site_id'] == '5b4d2eda', 'site_id_n'] = 5\n",
    "data.loc[data['site_id'] == '856e6d3f', 'site_id_n'] = 6\n",
    "data.loc[data['site_id'] == 'a7853007', 'site_id_n'] = 7"
   ]
  },
  {
   "cell_type": "code",
   "execution_count": 31,
   "metadata": {
    "scrolled": true
   },
   "outputs": [
    {
     "name": "stdout",
     "output_type": "stream",
     "text": [
      "Wall time: 4.95 s\n"
     ]
    }
   ],
   "source": [
    "%%time\n",
    "\n",
    "holdout_data['site_id_n_h'] = 99\n",
    "holdout_data.loc[holdout_data['site_id'] == '85f751fd', 'site_id_n_h'] = 0\n",
    "holdout_data.loc[holdout_data['site_id'] == '1fbe01fe', 'site_id_n_h'] = 1\n",
    "holdout_data.loc[holdout_data['site_id'] == 'e151e245', 'site_id_n_h'] = 2\n",
    "holdout_data.loc[holdout_data['site_id'] == 'd9750ee7', 'site_id_n_h'] = 3\n",
    "holdout_data.loc[holdout_data['site_id'] == '5b08c53b', 'site_id_n_h'] = 4\n",
    "holdout_data.loc[holdout_data['site_id'] == '5b4d2eda', 'site_id_n_h'] = 5\n",
    "holdout_data.loc[holdout_data['site_id'] == '856e6d3f', 'site_id_n_h'] = 6\n",
    "holdout_data.loc[holdout_data['site_id'] == 'a7853007', 'site_id_n_h'] = 7"
   ]
  },
  {
   "cell_type": "markdown",
   "metadata": {},
   "source": [
    "## Site_domain"
   ]
  },
  {
   "cell_type": "code",
   "execution_count": 97,
   "metadata": {
    "scrolled": true
   },
   "outputs": [
    {
     "data": {
      "text/plain": [
       "c4e18dd6    3.743500e-01\n",
       "f3845767    1.601661e-01\n",
       "7e091613    8.241172e-02\n",
       "7687a86e    3.189100e-02\n",
       "98572c79    2.470407e-02\n",
       "16a36ef3    2.108266e-02\n",
       "58a89a43    1.891961e-02\n",
       "b12b9f85    9.245353e-03\n",
       "9d54950b    9.234470e-03\n",
       "17d996e6    8.761047e-03\n",
       "968765cd    8.608433e-03\n",
       "28f93029    7.802823e-03\n",
       "bd6d812f    7.646252e-03\n",
       "d262cf1e    7.146857e-03\n",
       "0dde25ec    6.943785e-03\n",
       "510bd839    6.697427e-03\n",
       "5c9ae867    6.628417e-03\n",
       "5b626596    6.526262e-03\n",
       "c4342784    6.364992e-03\n",
       "a17bde68    6.358313e-03\n",
       "6b59f079    6.050119e-03\n",
       "bb1ef334    5.798071e-03\n",
       "7256c623    5.446343e-03\n",
       "a434fa42    5.100304e-03\n",
       "d733bbc3    4.164342e-03\n",
       "3f2f3819    4.079501e-03\n",
       "6b560cc1    3.617456e-03\n",
       "c1aa3c04    3.195729e-03\n",
       "27e3c518    3.147991e-03\n",
       "e2a5dc06    2.879866e-03\n",
       "                ...     \n",
       "3126483e    2.473474e-07\n",
       "3a49ece1    2.473474e-07\n",
       "5bc0d713    2.473474e-07\n",
       "49cb396e    2.473474e-07\n",
       "282151d4    2.473474e-07\n",
       "a4cfda5e    2.473474e-07\n",
       "49a438e1    2.473474e-07\n",
       "7e62f447    2.473474e-07\n",
       "76200dc2    2.473474e-07\n",
       "6e96616f    2.473474e-07\n",
       "f6ea8b54    2.473474e-07\n",
       "e9ffa76d    2.473474e-07\n",
       "86c1d76e    2.473474e-07\n",
       "7e7557bc    2.473474e-07\n",
       "e4c44421    2.473474e-07\n",
       "f1f5ecc1    2.473474e-07\n",
       "a98d3f43    2.473474e-07\n",
       "93874a03    2.473474e-07\n",
       "a7c5d333    2.473474e-07\n",
       "cd380619    2.473474e-07\n",
       "34eac588    2.473474e-07\n",
       "5185c4b5    2.473474e-07\n",
       "70db6af8    2.473474e-07\n",
       "96b58001    2.473474e-07\n",
       "3f7a036b    2.473474e-07\n",
       "dbc32965    2.473474e-07\n",
       "dcd77ece    2.473474e-07\n",
       "5b2513b5    2.473474e-07\n",
       "6d9f7f8e    2.473474e-07\n",
       "b6cc16fd    2.473474e-07\n",
       "Name: site_domain, Length: 4246, dtype: float64"
      ]
     },
     "execution_count": 97,
     "metadata": {},
     "output_type": "execute_result"
    }
   ],
   "source": [
    "data['site_domain'].value_counts(normalize=True)"
   ]
  },
  {
   "cell_type": "markdown",
   "metadata": {},
   "source": [
    "<a id='2.1.6'></a>\n",
    "#### Result for sitde_domain:\n",
    "\n",
    "Kept c4e18dd6, f3845767, 7e091613, 7687a86e, 98572c79, 16a36ef3, 58a89a43 and collapsed rest into one category, 99."
   ]
  },
  {
   "cell_type": "code",
   "execution_count": 32,
   "metadata": {
    "scrolled": true
   },
   "outputs": [
    {
     "name": "stdout",
     "output_type": "stream",
     "text": [
      "Wall time: 4.04 s\n"
     ]
    }
   ],
   "source": [
    "%%time\n",
    "\n",
    "data['site_domain_n'] = 99\n",
    "data.loc[data['site_domain'] == 'c4e18dd6', 'site_domain_n'] = 0\n",
    "data.loc[data['site_domain'] == 'f3845767', 'site_domain_n'] = 1\n",
    "data.loc[data['site_domain'] == '7e091613', 'site_domain_n'] = 2\n",
    "data.loc[data['site_domain'] == '7687a86e', 'site_domain_n'] = 3\n",
    "data.loc[data['site_domain'] == '98572c79', 'site_domain_n'] = 4\n",
    "data.loc[data['site_domain'] == '16a36ef3', 'site_domain_n'] = 5\n",
    "data.loc[data['site_domain'] == '58a89a43', 'site_domain_n'] = 6"
   ]
  },
  {
   "cell_type": "code",
   "execution_count": 33,
   "metadata": {
    "scrolled": true
   },
   "outputs": [
    {
     "name": "stdout",
     "output_type": "stream",
     "text": [
      "Wall time: 4.2 s\n"
     ]
    }
   ],
   "source": [
    "%%time\n",
    "\n",
    "holdout_data['site_domain_n_h'] = 99\n",
    "holdout_data.loc[holdout_data['site_domain'] == 'c4e18dd6', 'site_domain_n_h'] = 0\n",
    "holdout_data.loc[holdout_data['site_domain'] == 'f3845767', 'site_domain_n_h'] = 1\n",
    "holdout_data.loc[holdout_data['site_domain'] == '7e091613', 'site_domain_n_h'] = 2\n",
    "holdout_data.loc[holdout_data['site_domain'] == '7687a86e', 'site_domain_n_h'] = 3\n",
    "holdout_data.loc[holdout_data['site_domain'] == '98572c79', 'site_domain_n_h'] = 4\n",
    "holdout_data.loc[holdout_data['site_domain'] == '16a36ef3', 'site_domain_n_h'] = 5\n",
    "holdout_data.loc[holdout_data['site_domain'] == '58a89a43', 'site_domain_n_h'] = 6"
   ]
  },
  {
   "cell_type": "markdown",
   "metadata": {},
   "source": [
    "## App_id"
   ]
  },
  {
   "cell_type": "code",
   "execution_count": 102,
   "metadata": {
    "scrolled": true
   },
   "outputs": [
    {
     "data": {
      "text/plain": [
       "ecad2386    6.389635e-01\n",
       "92f5800b    3.847786e-02\n",
       "e2fcccd2    2.792157e-02\n",
       "febd1138    1.880014e-02\n",
       "9c13b419    1.868562e-02\n",
       "7358e05e    1.529770e-02\n",
       "a5184c22    1.217172e-02\n",
       "d36838b1    1.129067e-02\n",
       "685d1c4c    1.016400e-02\n",
       "54c5d545    9.800895e-03\n",
       "03528b27    7.958404e-03\n",
       "f0d41ff1    7.337315e-03\n",
       "e2a1ca37    7.003148e-03\n",
       "e9739828    6.985092e-03\n",
       "51cedd4e    5.897505e-03\n",
       "66f5e02e    5.613056e-03\n",
       "98fed791    5.382528e-03\n",
       "03a08c3f    5.376839e-03\n",
       "73206397    4.972426e-03\n",
       "f53417e1    4.880907e-03\n",
       "e96773f0    4.431724e-03\n",
       "ce183bbd    3.630071e-03\n",
       "be7c618d    2.980784e-03\n",
       "1dc72b4d    2.623367e-03\n",
       "f888bf4c    2.528880e-03\n",
       "396df801    2.424994e-03\n",
       "3c4b944d    2.189025e-03\n",
       "39947756    2.143513e-03\n",
       "cf0327f9    2.135103e-03\n",
       "3f2a6cbb    2.062878e-03\n",
       "                ...     \n",
       "7c4af157    2.473474e-07\n",
       "bc7f7792    2.473474e-07\n",
       "fd7456eb    2.473474e-07\n",
       "ea82ef1f    2.473474e-07\n",
       "0c46c4a3    2.473474e-07\n",
       "a9aea987    2.473474e-07\n",
       "b69df539    2.473474e-07\n",
       "c4b726d8    2.473474e-07\n",
       "086d1ac0    2.473474e-07\n",
       "d2be8797    2.473474e-07\n",
       "6cc50ffe    2.473474e-07\n",
       "9c198883    2.473474e-07\n",
       "fe7dd787    2.473474e-07\n",
       "ca244efa    2.473474e-07\n",
       "d5868a3c    2.473474e-07\n",
       "f2b184b6    2.473474e-07\n",
       "1178e07f    2.473474e-07\n",
       "52099d06    2.473474e-07\n",
       "52e7dbe4    2.473474e-07\n",
       "46110e8a    2.473474e-07\n",
       "ce53350f    2.473474e-07\n",
       "dfea7e71    2.473474e-07\n",
       "c6f3d910    2.473474e-07\n",
       "c167b367    2.473474e-07\n",
       "278194c0    2.473474e-07\n",
       "ccf6b296    2.473474e-07\n",
       "79993d69    2.473474e-07\n",
       "5a214a5e    2.473474e-07\n",
       "3b5780cf    2.473474e-07\n",
       "a19b2fa8    2.473474e-07\n",
       "Name: app_id, Length: 4889, dtype: float64"
      ]
     },
     "execution_count": 102,
     "metadata": {},
     "output_type": "execute_result"
    }
   ],
   "source": [
    "data['app_id'].value_counts(normalize=True)"
   ]
  },
  {
   "cell_type": "markdown",
   "metadata": {},
   "source": [
    "<a id='2.1.7'></a>\n",
    "#### Result for app_id:\n",
    "\n",
    "Kept ecad2386, 92f5800b, e2fcccd2, febd1138, 9c13b419, 7358e05e, a5184c22, d36838b1, 685d1c4c, and collapsed rest into one category, 99."
   ]
  },
  {
   "cell_type": "code",
   "execution_count": 34,
   "metadata": {
    "scrolled": true
   },
   "outputs": [
    {
     "name": "stdout",
     "output_type": "stream",
     "text": [
      "Wall time: 3.99 s\n"
     ]
    }
   ],
   "source": [
    "%%time\n",
    "\n",
    "data['app_id_n'] = 99\n",
    "data.loc[data['app_id'] == 'ecad2386', 'app_id_n'] = 0\n",
    "data.loc[data['app_id'] == '92f5800b', 'app_id_n'] = 1\n",
    "data.loc[data['app_id'] == 'e2fcccd2', 'app_id_n'] = 2\n",
    "data.loc[data['app_id'] == 'febd1138', 'app_id_n'] = 3\n",
    "data.loc[data['app_id'] == '9c13b419', 'app_id_n'] = 4\n",
    "data.loc[data['app_id'] == '7358e05e', 'app_id_n'] = 5\n",
    "data.loc[data['app_id'] == 'a5184c22', 'app_id_n'] = 6\n",
    "data.loc[data['app_id'] == 'd36838b1', 'app_id_n'] = 7\n",
    "data.loc[data['app_id'] == '685d1c4c', 'app_id_n'] = 8"
   ]
  },
  {
   "cell_type": "code",
   "execution_count": 35,
   "metadata": {
    "scrolled": true
   },
   "outputs": [
    {
     "name": "stdout",
     "output_type": "stream",
     "text": [
      "Wall time: 5.38 s\n"
     ]
    }
   ],
   "source": [
    "%%time\n",
    "\n",
    "holdout_data['app_id_n_h'] = 99\n",
    "holdout_data.loc[holdout_data['app_id'] == 'ecad2386', 'app_id_n_h'] = 0\n",
    "holdout_data.loc[holdout_data['app_id'] == '92f5800b', 'app_id_n_h'] = 1\n",
    "holdout_data.loc[holdout_data['app_id'] == 'e2fcccd2', 'app_id_n_h'] = 2\n",
    "holdout_data.loc[holdout_data['app_id'] == 'febd1138', 'app_id_n_h'] = 3\n",
    "holdout_data.loc[holdout_data['app_id'] == '9c13b419', 'app_id_n_h'] = 4\n",
    "holdout_data.loc[holdout_data['app_id'] == '7358e05e', 'app_id_n_h'] = 5\n",
    "holdout_data.loc[holdout_data['app_id'] == 'a5184c22', 'app_id_n_h'] = 6\n",
    "holdout_data.loc[holdout_data['app_id'] == 'd36838b1', 'app_id_n_h'] = 7\n",
    "holdout_data.loc[holdout_data['app_id'] == '685d1c4c', 'app_id_n_h'] = 8"
   ]
  },
  {
   "cell_type": "markdown",
   "metadata": {},
   "source": [
    "## App_domain"
   ]
  },
  {
   "cell_type": "code",
   "execution_count": 111,
   "metadata": {
    "scrolled": true
   },
   "outputs": [
    {
     "data": {
      "text/plain": [
       "7801e8d9    6.737025e-01\n",
       "2347f47a    1.295878e-01\n",
       "ae637522    4.658616e-02\n",
       "5c5a694b    2.792602e-02\n",
       "82e27996    1.880063e-02\n",
       "d9b5648e    1.768411e-02\n",
       "0e8616ad    1.626928e-02\n",
       "b9528b13    1.606942e-02\n",
       "b8d325c3    1.320563e-02\n",
       "aefc06bd    7.388021e-03\n",
       "df32afa9    7.144136e-03\n",
       "33da2e74    6.397889e-03\n",
       "6f7ca2ba    5.613303e-03\n",
       "5b9c592b    2.528880e-03\n",
       "885c7f3f    1.682210e-03\n",
       "5c620f04    1.501646e-03\n",
       "45a51db4    1.423732e-03\n",
       "b5f3b24a    1.191720e-03\n",
       "813f3323    6.329621e-04\n",
       "0654b444    5.859661e-04\n",
       "ad63ec9b    4.437413e-04\n",
       "c6824def    3.581591e-04\n",
       "a8b0bf20    3.217990e-04\n",
       "15ec7f39    3.195729e-04\n",
       "99b4c806    2.569940e-04\n",
       "828da833    2.025776e-04\n",
       "448ca2e3    1.798216e-04\n",
       "43cf4f06    1.788322e-04\n",
       "f2f777fb    1.610232e-04\n",
       "47464e95    1.135325e-04\n",
       "                ...     \n",
       "c9373861    2.473474e-07\n",
       "55240cf0    2.473474e-07\n",
       "4d86b5ce    2.473474e-07\n",
       "78051bc0    2.473474e-07\n",
       "c87b28e6    2.473474e-07\n",
       "3c08d416    2.473474e-07\n",
       "e29fc2b7    2.473474e-07\n",
       "b398ab59    2.473474e-07\n",
       "5d4da5b0    2.473474e-07\n",
       "5ef0e2e9    2.473474e-07\n",
       "e25eea83    2.473474e-07\n",
       "1d1d4953    2.473474e-07\n",
       "9ec8f0d8    2.473474e-07\n",
       "c72257c6    2.473474e-07\n",
       "5048f612    2.473474e-07\n",
       "ee50c840    2.473474e-07\n",
       "17578ec3    2.473474e-07\n",
       "6de3d639    2.473474e-07\n",
       "424d97b0    2.473474e-07\n",
       "a9aab246    2.473474e-07\n",
       "927b53cd    2.473474e-07\n",
       "a5ab1a9f    2.473474e-07\n",
       "790dd3cc    2.473474e-07\n",
       "00314725    2.473474e-07\n",
       "d25f310a    2.473474e-07\n",
       "19b11785    2.473474e-07\n",
       "316edd1b    2.473474e-07\n",
       "bb85b34d    2.473474e-07\n",
       "0eb1a401    2.473474e-07\n",
       "cf9adca5    2.473474e-07\n",
       "Name: app_domain, Length: 298, dtype: float64"
      ]
     },
     "execution_count": 111,
     "metadata": {},
     "output_type": "execute_result"
    }
   ],
   "source": [
    "data['app_domain'].value_counts(normalize=True)"
   ]
  },
  {
   "cell_type": "markdown",
   "metadata": {},
   "source": [
    "<a id='2.1.8'></a>\n",
    "#### Result for app_domain:\n",
    "\n",
    "Kept 7801e8d9,2347f47a, ae637522, 5c5a694b, 82e27996, d9b5648e, 0e8616ad, b9528b13, b8d325c3, and collapsed rest into one category, 99."
   ]
  },
  {
   "cell_type": "code",
   "execution_count": 36,
   "metadata": {
    "scrolled": true
   },
   "outputs": [
    {
     "name": "stdout",
     "output_type": "stream",
     "text": [
      "Wall time: 4.81 s\n"
     ]
    }
   ],
   "source": [
    "%%time\n",
    "\n",
    "data['app_domain_n'] = 99\n",
    "data.loc[data['app_domain'] == '7801e8d9', 'app_domain_n'] = 0\n",
    "data.loc[data['app_domain'] == '2347f47a', 'app_domain_n'] = 1\n",
    "data.loc[data['app_domain'] == 'ae637522', 'app_domain_n'] = 2\n",
    "data.loc[data['app_domain'] == '5c5a694b', 'app_domain_n'] = 3\n",
    "data.loc[data['app_domain'] == '82e27996', 'app_domain_n'] = 4\n",
    "data.loc[data['app_domain'] == 'd9b5648e', 'app_domain_n'] = 5\n",
    "data.loc[data['app_domain'] == '0e8616ad', 'app_domain_n'] = 6\n",
    "data.loc[data['app_domain'] == 'b9528b13', 'app_domain_n'] = 7\n",
    "data.loc[data['app_domain'] == 'b8d325c3', 'app_domain_n'] = 8"
   ]
  },
  {
   "cell_type": "code",
   "execution_count": 37,
   "metadata": {
    "scrolled": true
   },
   "outputs": [
    {
     "name": "stdout",
     "output_type": "stream",
     "text": [
      "Wall time: 5.86 s\n"
     ]
    }
   ],
   "source": [
    "%%time\n",
    "\n",
    "holdout_data['app_domain_n_h'] = 99\n",
    "holdout_data.loc[holdout_data['app_domain'] == '7801e8d9', 'app_domain_n_h'] = 0\n",
    "holdout_data.loc[holdout_data['app_domain'] == '2347f47a', 'app_domain_n_h'] = 1\n",
    "holdout_data.loc[holdout_data['app_domain'] == 'ae637522', 'app_domain_n_h'] = 2\n",
    "holdout_data.loc[holdout_data['app_domain'] == '5c5a694b', 'app_domain_n_h'] = 3\n",
    "holdout_data.loc[holdout_data['app_domain'] == '82e27996', 'app_domain_n_h'] = 4\n",
    "holdout_data.loc[holdout_data['app_domain'] == 'd9b5648e', 'app_domain_n_h'] = 5\n",
    "holdout_data.loc[holdout_data['app_domain'] == '0e8616ad', 'app_domain_n_h'] = 6\n",
    "holdout_data.loc[holdout_data['app_domain'] == 'b9528b13', 'app_domain_n_h'] = 7\n",
    "holdout_data.loc[holdout_data['app_domain'] == 'b8d325c3', 'app_domain_n_h'] = 8"
   ]
  },
  {
   "cell_type": "markdown",
   "metadata": {},
   "source": [
    "## Device_id"
   ]
  },
  {
   "cell_type": "code",
   "execution_count": 116,
   "metadata": {
    "scrolled": true
   },
   "outputs": [
    {
     "data": {
      "text/plain": [
       "a99f214a    8.250680e-01\n",
       "0f7c61dc    5.362493e-04\n",
       "c357dbff    4.711969e-04\n",
       "936e92fb    3.344137e-04\n",
       "afeffc18    2.436372e-04\n",
       "28dc8687    1.028965e-04\n",
       "cef4c8cc    1.004231e-04\n",
       "d857ffbb    9.646550e-05\n",
       "987552d1    9.423938e-05\n",
       "b09da1c4    8.607691e-05\n",
       "3cdb4052    7.816179e-05\n",
       "02da5312    6.257890e-05\n",
       "03559b29    5.392174e-05\n",
       "f1d9c744    3.611273e-05\n",
       "9af87478    3.438129e-05\n",
       "d2e4c0ab    3.339191e-05\n",
       "abab24a7    3.190782e-05\n",
       "bbcf14e4    3.091843e-05\n",
       "eec6d022    2.992904e-05\n",
       "73b81e30    2.968169e-05\n",
       "c35f5168    2.918700e-05\n",
       "096a6f32    2.819761e-05\n",
       "ea04480e    2.696087e-05\n",
       "1de30ee7    2.448740e-05\n",
       "bc8b6d57    2.399270e-05\n",
       "bea61865    2.349801e-05\n",
       "0a04637d    2.275597e-05\n",
       "e8343327    2.275597e-05\n",
       "bc335145    2.226127e-05\n",
       "2c112522    2.151923e-05\n",
       "                ...     \n",
       "2c43c413    2.473474e-07\n",
       "0c88ef82    2.473474e-07\n",
       "d7f7ddcc    2.473474e-07\n",
       "1f6ee4f9    2.473474e-07\n",
       "309580d7    2.473474e-07\n",
       "87b552a1    2.473474e-07\n",
       "7de16e55    2.473474e-07\n",
       "35e6ce1c    2.473474e-07\n",
       "b10bb2d1    2.473474e-07\n",
       "3231b9c3    2.473474e-07\n",
       "e8da4b70    2.473474e-07\n",
       "805e6255    2.473474e-07\n",
       "f36d0f7b    2.473474e-07\n",
       "787b9abb    2.473474e-07\n",
       "7c4a95c4    2.473474e-07\n",
       "d4adbd04    2.473474e-07\n",
       "0fd61cdd    2.473474e-07\n",
       "2c877f75    2.473474e-07\n",
       "20cefd9c    2.473474e-07\n",
       "dfe3a69b    2.473474e-07\n",
       "5c4227fc    2.473474e-07\n",
       "a16fa5f1    2.473474e-07\n",
       "bbc4977e    2.473474e-07\n",
       "fbb5d6f6    2.473474e-07\n",
       "0ac59e86    2.473474e-07\n",
       "ef5fe5dd    2.473474e-07\n",
       "f64d43f9    2.473474e-07\n",
       "649d7454    2.473474e-07\n",
       "51b32c8e    2.473474e-07\n",
       "dce71562    2.473474e-07\n",
       "Name: device_id, Length: 504737, dtype: float64"
      ]
     },
     "execution_count": 116,
     "metadata": {},
     "output_type": "execute_result"
    }
   ],
   "source": [
    "data['device_id'].value_counts(normalize=True)"
   ]
  },
  {
   "cell_type": "markdown",
   "metadata": {},
   "source": [
    "<a id='2.1.9'></a>\n",
    "#### Result for device_id:\n",
    "\n",
    "DROP IT."
   ]
  },
  {
   "cell_type": "markdown",
   "metadata": {},
   "source": [
    "## Device_ip"
   ]
  },
  {
   "cell_type": "code",
   "execution_count": 81,
   "metadata": {
    "scrolled": true
   },
   "outputs": [
    {
     "data": {
      "text/plain": [
       "6b9769f2    5.184402e-03\n",
       "431b3174    3.307035e-03\n",
       "2f323f36    2.182594e-03\n",
       "af9205f9    2.165527e-03\n",
       "930ec31d    2.154149e-03\n",
       "285aa37d    2.150191e-03\n",
       "af62faf4    2.095528e-03\n",
       "009a7861    2.093796e-03\n",
       "6394f6f6    2.057189e-03\n",
       "d90a7774    2.048779e-03\n",
       "1cf29716    1.783375e-03\n",
       "c6563308    1.776697e-03\n",
       "75bb1b58    1.750725e-03\n",
       "a8536f3a    1.750478e-03\n",
       "57cd4006    1.737863e-03\n",
       "0489ce3f    1.725990e-03\n",
       "488a9a3e    1.724506e-03\n",
       "ddd2926e    1.704719e-03\n",
       "ceffea69    1.685178e-03\n",
       "8a014cbb    1.659207e-03\n",
       "9b1fe278    1.631998e-03\n",
       "7ed30f6c    9.248321e-04\n",
       "07875ea4    8.996027e-04\n",
       "b0070d9a    8.934190e-04\n",
       "693bff3e    8.466703e-04\n",
       "ac77b71a    8.360344e-04\n",
       "bca8f26d    8.298507e-04\n",
       "95b2935e    7.410529e-04\n",
       "e54c1344    7.328905e-04\n",
       "ff1c4f79    7.323958e-04\n",
       "                ...     \n",
       "e28bd354    2.473474e-07\n",
       "1ff418fa    2.473474e-07\n",
       "37f21c47    2.473474e-07\n",
       "57ec3f4c    2.473474e-07\n",
       "a752fcd2    2.473474e-07\n",
       "5ee6d51d    2.473474e-07\n",
       "2410ce38    2.473474e-07\n",
       "309c6171    2.473474e-07\n",
       "ac25717b    2.473474e-07\n",
       "cc8f3649    2.473474e-07\n",
       "738ba53d    2.473474e-07\n",
       "86a3c3ee    2.473474e-07\n",
       "aaa26d17    2.473474e-07\n",
       "982f074e    2.473474e-07\n",
       "e2a8ca85    2.473474e-07\n",
       "1c3afce5    2.473474e-07\n",
       "bf1bb53f    2.473474e-07\n",
       "24ec1f5e    2.473474e-07\n",
       "4f5caf8b    2.473474e-07\n",
       "ecc87364    2.473474e-07\n",
       "06b540a9    2.473474e-07\n",
       "af8fdfe7    2.473474e-07\n",
       "b6ab8d96    2.473474e-07\n",
       "0d4c06ee    2.473474e-07\n",
       "cd4fc805    2.473474e-07\n",
       "e6de7d57    2.473474e-07\n",
       "da428892    2.473474e-07\n",
       "fe655306    2.473474e-07\n",
       "282cc9ca    2.473474e-07\n",
       "e3be7aa4    2.473474e-07\n",
       "Name: device_ip, Length: 1634420, dtype: float64"
      ]
     },
     "execution_count": 81,
     "metadata": {},
     "output_type": "execute_result"
    }
   ],
   "source": [
    "data['device_ip'].value_counts(normalize=True)"
   ]
  },
  {
   "cell_type": "markdown",
   "metadata": {},
   "source": [
    "<a id='2.1.10'></a>\n",
    "#### Result for device_ip:\n",
    "\n",
    "DROP IT."
   ]
  },
  {
   "cell_type": "markdown",
   "metadata": {},
   "source": [
    "## Device_model"
   ]
  },
  {
   "cell_type": "code",
   "execution_count": 119,
   "metadata": {
    "scrolled": true
   },
   "outputs": [
    {
     "data": {
      "text/plain": [
       "8a4875bd    6.066617e-02\n",
       "1f0bc64f    3.521164e-02\n",
       "d787e91b    3.475454e-02\n",
       "76dc4769    1.901286e-02\n",
       "be6db1d7    1.832968e-02\n",
       "a0f5f879    1.618370e-02\n",
       "4ea23a13    1.591631e-02\n",
       "7abbbd5c    1.568306e-02\n",
       "ecb851b2    1.516091e-02\n",
       "d4897fef    1.198398e-02\n",
       "5096d134    1.168420e-02\n",
       "711ee120    1.107424e-02\n",
       "1ccc7835    1.052933e-02\n",
       "e1eae715    1.047145e-02\n",
       "c6263d8a    9.866442e-03\n",
       "84ebbcd4    9.585456e-03\n",
       "be74e6fe    9.368532e-03\n",
       "3bd9e8e7    8.903519e-03\n",
       "981edffc    8.891646e-03\n",
       "f07e20f8    8.889173e-03\n",
       "0eb711ec    8.835498e-03\n",
       "0bcabeaf    8.796170e-03\n",
       "3bb1ddd7    8.795180e-03\n",
       "fce66524    8.573805e-03\n",
       "779d90c2    8.525572e-03\n",
       "36b67a2a    8.478823e-03\n",
       "5db079b5    7.755084e-03\n",
       "aad45b01    7.518126e-03\n",
       "158e4944    7.046187e-03\n",
       "a5bce124    6.932160e-03\n",
       "                ...     \n",
       "f1562e00    2.473474e-07\n",
       "d693866f    2.473474e-07\n",
       "517d7b4c    2.473474e-07\n",
       "c14efec9    2.473474e-07\n",
       "36fa5ee2    2.473474e-07\n",
       "3a33d99b    2.473474e-07\n",
       "230fc4f4    2.473474e-07\n",
       "e14f972b    2.473474e-07\n",
       "7e791902    2.473474e-07\n",
       "3bd6c353    2.473474e-07\n",
       "cb02923d    2.473474e-07\n",
       "237648de    2.473474e-07\n",
       "94c97793    2.473474e-07\n",
       "cb76061e    2.473474e-07\n",
       "8f8389fc    2.473474e-07\n",
       "6bebc85c    2.473474e-07\n",
       "c1efcd18    2.473474e-07\n",
       "8eb2765d    2.473474e-07\n",
       "043aefd2    2.473474e-07\n",
       "3e2f068f    2.473474e-07\n",
       "a8910300    2.473474e-07\n",
       "f156fc5f    2.473474e-07\n",
       "68e6cb8c    2.473474e-07\n",
       "45d0b52f    2.473474e-07\n",
       "dd2c0334    2.473474e-07\n",
       "2f673224    2.473474e-07\n",
       "de661ca8    2.473474e-07\n",
       "bcaceceb    2.473474e-07\n",
       "8c1abb16    2.473474e-07\n",
       "52cdf6f3    2.473474e-07\n",
       "Name: device_model, Length: 6326, dtype: float64"
      ]
     },
     "execution_count": 119,
     "metadata": {},
     "output_type": "execute_result"
    }
   ],
   "source": [
    "data['device_model'].value_counts(normalize=True)"
   ]
  },
  {
   "cell_type": "markdown",
   "metadata": {},
   "source": [
    "<a id='2.1.11'></a>\n",
    "#### Result for device_model:\n",
    "\n",
    "Kept 8a4875bd, 1f0bc64f, d787e91b, 76dc4769, be6db1d7, a0f5f879, 4ea23a13, 7abbbd5c, ecb851b2, d4897fef, 5096d134, 711ee120, \n",
    "1ccc7835, e1eae715, and collapsed rest into one category, 99."
   ]
  },
  {
   "cell_type": "code",
   "execution_count": 38,
   "metadata": {
    "scrolled": true
   },
   "outputs": [
    {
     "name": "stdout",
     "output_type": "stream",
     "text": [
      "Wall time: 6.56 s\n"
     ]
    }
   ],
   "source": [
    "%%time\n",
    "\n",
    "data['device_model_n'] = 99\n",
    "data.loc[data['device_model'] == '8a4875bd', 'device_model_n'] = 0\n",
    "data.loc[data['device_model'] == '1f0bc64f', 'device_model_n'] = 1\n",
    "data.loc[data['device_model'] == 'd787e91b', 'device_model_n'] = 2\n",
    "data.loc[data['device_model'] == '76dc4769', 'device_model_n'] = 3\n",
    "data.loc[data['device_model'] == 'be6db1d7', 'device_model_n'] = 4\n",
    "data.loc[data['device_model'] == 'a0f5f879', 'device_model_n'] = 5\n",
    "data.loc[data['device_model'] == '4ea23a13', 'device_model_n'] = 6\n",
    "data.loc[data['device_model'] == '7abbbd5c', 'device_model_n'] = 7\n",
    "data.loc[data['device_model'] == 'ecb851b2', 'device_model_n'] = 8\n",
    "data.loc[data['device_model'] == 'd4897fef', 'device_model_n'] = 9\n",
    "data.loc[data['device_model'] == '5096d134', 'device_model_n'] = 10\n",
    "data.loc[data['device_model'] == '711ee120', 'device_model_n'] = 11\n",
    "data.loc[data['device_model'] == '1ccc7835', 'device_model_n'] = 12\n",
    "data.loc[data['device_model'] == 'e1eae715', 'device_model_n'] = 13"
   ]
  },
  {
   "cell_type": "code",
   "execution_count": 39,
   "metadata": {
    "scrolled": true
   },
   "outputs": [
    {
     "name": "stdout",
     "output_type": "stream",
     "text": [
      "Wall time: 7.75 s\n"
     ]
    }
   ],
   "source": [
    "%%time\n",
    "\n",
    "holdout_data['device_model_n_h'] = 99\n",
    "holdout_data.loc[holdout_data['device_model'] == '8a4875bd', 'device_model_n_h'] = 0\n",
    "holdout_data.loc[holdout_data['device_model'] == '1f0bc64f', 'device_model_n_h'] = 1\n",
    "holdout_data.loc[holdout_data['device_model'] == 'd787e91b', 'device_model_n_h'] = 2\n",
    "holdout_data.loc[holdout_data['device_model'] == '76dc4769', 'device_model_n_h'] = 3\n",
    "holdout_data.loc[holdout_data['device_model'] == 'be6db1d7', 'device_model_n_h'] = 4\n",
    "holdout_data.loc[holdout_data['device_model'] == 'a0f5f879', 'device_model_n_h'] = 5\n",
    "holdout_data.loc[holdout_data['device_model'] == '4ea23a13', 'device_model_n_h'] = 6\n",
    "holdout_data.loc[holdout_data['device_model'] == '7abbbd5c', 'device_model_n_h'] = 7\n",
    "holdout_data.loc[holdout_data['device_model'] == 'ecb851b2', 'device_model_n_h'] = 8\n",
    "holdout_data.loc[holdout_data['device_model'] == 'd4897fef', 'device_model_n_h'] = 9\n",
    "holdout_data.loc[holdout_data['device_model'] == '5096d134', 'device_model_n_h'] = 10\n",
    "holdout_data.loc[holdout_data['device_model'] == '711ee120', 'device_model_n_h'] = 11\n",
    "holdout_data.loc[holdout_data['device_model'] == '1ccc7835', 'device_model_n_h'] = 12\n",
    "holdout_data.loc[holdout_data['device_model'] == 'e1eae715', 'device_model_n_h'] = 13"
   ]
  },
  {
   "cell_type": "markdown",
   "metadata": {},
   "source": [
    "## C1"
   ]
  },
  {
   "cell_type": "code",
   "execution_count": 175,
   "metadata": {},
   "outputs": [
    {
     "data": {
      "text/plain": [
       "<matplotlib.axes._subplots.AxesSubplot at 0x2014a755da0>"
      ]
     },
     "execution_count": 175,
     "metadata": {},
     "output_type": "execute_result"
    },
    {
     "data": {
      "image/png": "[encoded data removed]",
      "text/plain": [
       "<matplotlib.figure.Figure at 0x2014a7ad7f0>"
      ]
     },
     "metadata": {},
     "output_type": "display_data"
    }
   ],
   "source": [
    "sns.countplot(x='C1', data=data)"
   ]
  },
  {
   "cell_type": "code",
   "execution_count": 176,
   "metadata": {},
   "outputs": [
    {
     "data": {
      "text/plain": [
       "1005    0.918592\n",
       "1002    0.055042\n",
       "1010    0.022292\n",
       "1012    0.002820\n",
       "1007    0.000867\n",
       "1001    0.000241\n",
       "1008    0.000146\n",
       "Name: C1, dtype: float64"
      ]
     },
     "execution_count": 176,
     "metadata": {},
     "output_type": "execute_result"
    }
   ],
   "source": [
    "data['C1'].value_counts(normalize=True)"
   ]
  },
  {
   "cell_type": "markdown",
   "metadata": {},
   "source": [
    "Result: Keep 1005, 1002, 1010, & collapse the rest into \"other\" group."
   ]
  },
  {
   "cell_type": "code",
   "execution_count": 40,
   "metadata": {},
   "outputs": [
    {
     "name": "stdout",
     "output_type": "stream",
     "text": [
      "Wall time: 1.38 s\n"
     ]
    }
   ],
   "source": [
    "%%time\n",
    "\n",
    "data['C1_n'] = 99\n",
    "data.loc[data['C1'] == 1005, 'C1_n'] = 0\n",
    "data.loc[data['C1'] == 1002, 'C1_n'] = 1\n",
    "data.loc[data['C1'] == 1010, 'C1_n'] = 2"
   ]
  },
  {
   "cell_type": "code",
   "execution_count": 41,
   "metadata": {},
   "outputs": [
    {
     "name": "stdout",
     "output_type": "stream",
     "text": [
      "Wall time: 1.46 s\n"
     ]
    }
   ],
   "source": [
    "%%time\n",
    "\n",
    "holdout_data['C1_n_h'] = 99\n",
    "holdout_data.loc[holdout_data['C1'] == 1005, 'C1_n_h'] = 0\n",
    "holdout_data.loc[holdout_data['C1'] == 1002, 'C1_n_h'] = 1\n",
    "holdout_data.loc[holdout_data['C1'] == 1010, 'C1_n_h'] = 2"
   ]
  },
  {
   "cell_type": "markdown",
   "metadata": {},
   "source": [
    "## C14"
   ]
  },
  {
   "cell_type": "code",
   "execution_count": 180,
   "metadata": {},
   "outputs": [
    {
     "data": {
      "text/plain": [
       "<matplotlib.axes._subplots.AxesSubplot at 0x2014a873d30>"
      ]
     },
     "execution_count": 180,
     "metadata": {},
     "output_type": "execute_result"
    },
    {
     "data": {
      "image/png": "[encoded data removed]",
      "text/plain": [
       "<matplotlib.figure.Figure at 0x2014a8534a8>"
      ]
     },
     "metadata": {},
     "output_type": "display_data"
    }
   ],
   "source": [
    "sns.countplot(x='C14', data=data)"
   ]
  },
  {
   "cell_type": "code",
   "execution_count": 707,
   "metadata": {},
   "outputs": [
    {
     "data": {
      "text/plain": [
       "4687     2.354748e-02\n",
       "21611    2.249501e-02\n",
       "21191    1.896809e-02\n",
       "21189    1.888572e-02\n",
       "19771    1.805661e-02\n",
       "19772    1.791711e-02\n",
       "16208    1.636550e-02\n",
       "20108    1.462244e-02\n",
       "8330     1.365482e-02\n",
       "19950    1.302482e-02\n",
       "15705    1.270228e-02\n",
       "15701    1.249970e-02\n",
       "15699    1.248412e-02\n",
       "15707    1.247101e-02\n",
       "15703    1.238939e-02\n",
       "15708    1.238840e-02\n",
       "15704    1.235748e-02\n",
       "15702    1.194515e-02\n",
       "15706    1.174950e-02\n",
       "16615    1.086152e-02\n",
       "23804    1.010711e-02\n",
       "21768    9.241890e-03\n",
       "21767    9.193657e-03\n",
       "19251    8.419954e-03\n",
       "22676    8.385573e-03\n",
       "17239    8.380874e-03\n",
       "17654    7.490917e-03\n",
       "17653    7.468656e-03\n",
       "6563     7.296008e-03\n",
       "21790    6.927707e-03\n",
       "             ...     \n",
       "18555    2.473474e-07\n",
       "22650    2.473474e-07\n",
       "18534    2.473474e-07\n",
       "18540    2.473474e-07\n",
       "23261    2.473474e-07\n",
       "23303    2.473474e-07\n",
       "23338    2.473474e-07\n",
       "21294    2.473474e-07\n",
       "23590    2.473474e-07\n",
       "23568    2.473474e-07\n",
       "23581    2.473474e-07\n",
       "23579    2.473474e-07\n",
       "23554    2.473474e-07\n",
       "11266    2.473474e-07\n",
       "11267    2.473474e-07\n",
       "11265    2.473474e-07\n",
       "23512    2.473474e-07\n",
       "23492    2.473474e-07\n",
       "23488    2.473474e-07\n",
       "23490    2.473474e-07\n",
       "23482    2.473474e-07\n",
       "23412    2.473474e-07\n",
       "21363    2.473474e-07\n",
       "23393    2.473474e-07\n",
       "23384    2.473474e-07\n",
       "23366    2.473474e-07\n",
       "21298    2.473474e-07\n",
       "23359    2.473474e-07\n",
       "23331    2.473474e-07\n",
       "21613    2.473474e-07\n",
       "Name: C14, Length: 2456, dtype: float64"
      ]
     },
     "execution_count": 707,
     "metadata": {},
     "output_type": "execute_result"
    }
   ],
   "source": [
    "data['C14'].value_counts(normalize=True)"
   ]
  },
  {
   "cell_type": "markdown",
   "metadata": {},
   "source": [
    "Result: Keep 4687, 21611, 21191, 21189, 19771, 19772, 16208, 20108, 8330, 19950, 15705, 15701, 15699, \n",
    "15707, 15703, 15708, 15704, 15702, 15706, 16615, 23804, and collapse the rest into \"other\" group."
   ]
  },
  {
   "cell_type": "code",
   "execution_count": 42,
   "metadata": {},
   "outputs": [
    {
     "name": "stdout",
     "output_type": "stream",
     "text": [
      "Wall time: 2.22 s\n"
     ]
    }
   ],
   "source": [
    "%%time\n",
    "\n",
    "data['C14_n'] = 99\n",
    "data.loc[data['C14'] == 4687, 'C14_n'] = 0\n",
    "data.loc[data['C14'] == 21611, 'C14_n'] = 1\n",
    "data.loc[data['C14'] == 21191, 'C14_n'] = 2\n",
    "data.loc[data['C14'] == 21189, 'C14_n'] = 3\n",
    "data.loc[data['C14'] == 19771, 'C14_n'] = 4\n",
    "data.loc[data['C14'] == 19772, 'C14_n'] = 5\n",
    "data.loc[data['C14'] == 16208, 'C14_n'] = 6\n",
    "data.loc[data['C14'] == 20108, 'C14_n'] = 7\n",
    "data.loc[data['C14'] == 8330, 'C14_n'] = 8\n",
    "data.loc[data['C14'] == 19950, 'C14_n'] = 9\n",
    "data.loc[data['C14'] == 15705, 'C14_n'] = 10\n",
    "data.loc[data['C14'] == 15701, 'C14_n'] = 11\n",
    "data.loc[data['C14'] == 15699, 'C14_n'] = 12\n",
    "data.loc[data['C14'] == 15707, 'C14_n'] = 13\n",
    "data.loc[data['C14'] == 15703, 'C14_n'] = 14\n",
    "data.loc[data['C14'] == 15708, 'C14_n'] = 15\n",
    "data.loc[data['C14'] == 15704, 'C14_n'] = 16\n",
    "data.loc[data['C14'] == 15702, 'C14_n'] = 17\n",
    "data.loc[data['C14'] == 15706, 'C14_n'] = 18\n",
    "data.loc[data['C14'] == 16615, 'C14_n'] = 19\n",
    "data.loc[data['C14'] == 23804, 'C14_n'] = 20"
   ]
  },
  {
   "cell_type": "code",
   "execution_count": 43,
   "metadata": {},
   "outputs": [
    {
     "data": {
      "text/plain": [
       "99    0.690507\n",
       "0     0.023547\n",
       "1     0.022495\n",
       "2     0.018968\n",
       "3     0.018886\n",
       "4     0.018057\n",
       "5     0.017917\n",
       "6     0.016365\n",
       "7     0.014622\n",
       "8     0.013655\n",
       "9     0.013025\n",
       "10    0.012702\n",
       "11    0.012500\n",
       "12    0.012484\n",
       "13    0.012471\n",
       "14    0.012389\n",
       "15    0.012388\n",
       "16    0.012357\n",
       "17    0.011945\n",
       "18    0.011749\n",
       "19    0.010862\n",
       "20    0.010107\n",
       "Name: C14_n, dtype: float64"
      ]
     },
     "execution_count": 43,
     "metadata": {},
     "output_type": "execute_result"
    }
   ],
   "source": [
    "data['C14_n'].value_counts(normalize=True)"
   ]
  },
  {
   "cell_type": "code",
   "execution_count": 616,
   "metadata": {},
   "outputs": [
    {
     "data": {
      "text/plain": [
       "23137    8.216252e-02\n",
       "22104    2.729459e-02\n",
       "22254    2.701518e-02\n",
       "22261    2.667241e-02\n",
       "22257    2.663462e-02\n",
       "8330     2.129476e-02\n",
       "24132    1.988219e-02\n",
       "23161    1.679817e-02\n",
       "23160    1.671275e-02\n",
       "22676    1.324773e-02\n",
       "21611    1.297684e-02\n",
       "23139    1.246979e-02\n",
       "23563    1.088703e-02\n",
       "23141    1.057420e-02\n",
       "21893    1.044159e-02\n",
       "19771    9.893251e-03\n",
       "19772    9.674134e-03\n",
       "24152    8.710937e-03\n",
       "17894    8.684285e-03\n",
       "24107    8.329066e-03\n",
       "17893    8.084171e-03\n",
       "24320    7.719558e-03\n",
       "24094    7.693780e-03\n",
       "17239    7.629771e-03\n",
       "24303    7.443204e-03\n",
       "24304    7.358004e-03\n",
       "24289    7.310161e-03\n",
       "24155    7.044730e-03\n",
       "24149    6.793500e-03\n",
       "4687     6.561057e-03\n",
       "             ...     \n",
       "7649     2.184616e-07\n",
       "15833    2.184616e-07\n",
       "7647     2.184616e-07\n",
       "24029    2.184616e-07\n",
       "24024    2.184616e-07\n",
       "24025    2.184616e-07\n",
       "21600    2.184616e-07\n",
       "21614    2.184616e-07\n",
       "17157    2.184616e-07\n",
       "18508    2.184616e-07\n",
       "23447    2.184616e-07\n",
       "24278    2.184616e-07\n",
       "11192    2.184616e-07\n",
       "23497    2.184616e-07\n",
       "17222    2.184616e-07\n",
       "24258    2.184616e-07\n",
       "23496    2.184616e-07\n",
       "23488    2.184616e-07\n",
       "23512    2.184616e-07\n",
       "23516    2.184616e-07\n",
       "23615    2.184616e-07\n",
       "18597    2.184616e-07\n",
       "18604    2.184616e-07\n",
       "18600    2.184616e-07\n",
       "15830    2.184616e-07\n",
       "17444    2.184616e-07\n",
       "21571    2.184616e-07\n",
       "21598    2.184616e-07\n",
       "21597    2.184616e-07\n",
       "23004    2.184616e-07\n",
       "Name: C14, Length: 1257, dtype: float64"
      ]
     },
     "execution_count": 616,
     "metadata": {},
     "output_type": "execute_result"
    }
   ],
   "source": [
    "holdout_data['C14'].value_counts(normalize=True)"
   ]
  },
  {
   "cell_type": "markdown",
   "metadata": {},
   "source": [
    "Keep 23137, 22104, 22254, 22261, 22257, 8330, 24132, 23161, 23160, 22676, 21611, 23139, 23563, 23141, 21893, 19771, 19772, 24152, 17894, 24107, 17893, 24320, and the rest in the others group."
   ]
  },
  {
   "cell_type": "code",
   "execution_count": 44,
   "metadata": {},
   "outputs": [
    {
     "name": "stdout",
     "output_type": "stream",
     "text": [
      "Wall time: 4.09 s\n"
     ]
    }
   ],
   "source": [
    "%%time\n",
    "\n",
    "holdout_data['C14_n_h'] = 99\n",
    "holdout_data.loc[holdout_data['C14'] == 23137, 'C14_n_h'] = 0\n",
    "holdout_data.loc[holdout_data['C14'] == 22104, 'C14_n_h'] = 1\n",
    "holdout_data.loc[holdout_data['C14'] == 22254, 'C14_n_h'] = 2\n",
    "holdout_data.loc[holdout_data['C14'] == 22261, 'C14_n_h'] = 3\n",
    "holdout_data.loc[holdout_data['C14'] == 22257, 'C14_n_h'] = 4\n",
    "holdout_data.loc[holdout_data['C14'] == 8330, 'C14_n_h'] = 5\n",
    "holdout_data.loc[holdout_data['C14'] == 24132, 'C14_n_h'] = 6\n",
    "holdout_data.loc[holdout_data['C14'] == 23161, 'C14_n_h'] = 7\n",
    "holdout_data.loc[holdout_data['C14'] == 22676, 'C14_n_h'] = 8\n",
    "holdout_data.loc[holdout_data['C14'] == 21611, 'C14_n_h'] = 9\n",
    "holdout_data.loc[holdout_data['C14'] == 23139, 'C14_n_h'] = 10\n",
    "holdout_data.loc[holdout_data['C14'] == 23563, 'C14_n_h'] = 11\n",
    "holdout_data.loc[holdout_data['C14'] == 23141, 'C14_n_h'] = 12\n",
    "holdout_data.loc[holdout_data['C14'] == 21893, 'C14_n_h'] = 13\n",
    "holdout_data.loc[holdout_data['C14'] == 19771, 'C14_n_h'] = 14\n",
    "holdout_data.loc[holdout_data['C14'] == 19772, 'C14_n_h'] = 15\n",
    "holdout_data.loc[holdout_data['C14'] == 24152, 'C14_n_h'] = 16\n",
    "holdout_data.loc[holdout_data['C14'] == 17894, 'C14_n_h'] = 17\n",
    "holdout_data.loc[holdout_data['C14'] == 24107, 'C14_n_h'] = 18\n",
    "holdout_data.loc[holdout_data['C14'] == 17893, 'C14_n_h'] = 19\n",
    "holdout_data.loc[holdout_data['C14'] == 24320, 'C14_n_h'] = 20"
   ]
  },
  {
   "cell_type": "code",
   "execution_count": 703,
   "metadata": {},
   "outputs": [
    {
     "data": {
      "text/plain": [
       "99    0.620553\n",
       "0     0.082163\n",
       "1     0.027295\n",
       "2     0.027015\n",
       "3     0.026672\n",
       "4     0.026635\n",
       "5     0.021295\n",
       "6     0.019882\n",
       "7     0.016798\n",
       "8     0.013248\n",
       "9     0.012977\n",
       "10    0.012470\n",
       "11    0.010887\n",
       "12    0.010574\n",
       "13    0.010442\n",
       "14    0.009893\n",
       "15    0.009674\n",
       "16    0.008711\n",
       "17    0.008684\n",
       "18    0.008329\n",
       "19    0.008084\n",
       "20    0.007720\n",
       "Name: C14_n_h, dtype: float64"
      ]
     },
     "execution_count": 703,
     "metadata": {},
     "output_type": "execute_result"
    }
   ],
   "source": [
    "holdout_data['C14_n_h'].value_counts(normalize=True)"
   ]
  },
  {
   "cell_type": "markdown",
   "metadata": {},
   "source": [
    "## C15"
   ]
  },
  {
   "cell_type": "code",
   "execution_count": 189,
   "metadata": {},
   "outputs": [
    {
     "data": {
      "text/plain": [
       "<matplotlib.axes._subplots.AxesSubplot at 0x202ab5342e8>"
      ]
     },
     "execution_count": 189,
     "metadata": {},
     "output_type": "execute_result"
    },
    {
     "data": {
      "image/png": "[encoded data removed]",
      "text/plain": [
       "<matplotlib.figure.Figure at 0x202ab520ac8>"
      ]
     },
     "metadata": {},
     "output_type": "display_data"
    }
   ],
   "source": [
    "sns.countplot(x='C15', data=data)"
   ]
  },
  {
   "cell_type": "code",
   "execution_count": 190,
   "metadata": {},
   "outputs": [
    {
     "data": {
      "text/plain": [
       "320     0.932685\n",
       "300     0.057873\n",
       "216     0.007362\n",
       "728     0.001833\n",
       "120     0.000084\n",
       "1024    0.000067\n",
       "480     0.000057\n",
       "768     0.000039\n",
       "Name: C15, dtype: float64"
      ]
     },
     "execution_count": 190,
     "metadata": {},
     "output_type": "execute_result"
    }
   ],
   "source": [
    "data['C15'].value_counts(normalize=True)"
   ]
  },
  {
   "cell_type": "markdown",
   "metadata": {},
   "source": [
    "Result: Keep 320,300, and collapse the rest into \"other\" group."
   ]
  },
  {
   "cell_type": "code",
   "execution_count": 45,
   "metadata": {},
   "outputs": [
    {
     "name": "stdout",
     "output_type": "stream",
     "text": [
      "Wall time: 1.26 s\n"
     ]
    }
   ],
   "source": [
    "%%time\n",
    "\n",
    "data['C15_n'] = 99\n",
    "data.loc[data['C15'] == 320, 'C15_n'] = 0\n",
    "data.loc[data['C15'] == 300, 'C15_n'] = 1"
   ]
  },
  {
   "cell_type": "code",
   "execution_count": 46,
   "metadata": {},
   "outputs": [
    {
     "name": "stdout",
     "output_type": "stream",
     "text": [
      "Wall time: 1.38 s\n"
     ]
    }
   ],
   "source": [
    "%%time\n",
    "\n",
    "holdout_data['C15_n_h'] = 99\n",
    "holdout_data.loc[holdout_data['C15'] == 320, 'C15_n_h'] = 0\n",
    "holdout_data.loc[holdout_data['C15'] == 300, 'C15_n_h'] = 1"
   ]
  },
  {
   "cell_type": "markdown",
   "metadata": {},
   "source": [
    "## C16"
   ]
  },
  {
   "cell_type": "code",
   "execution_count": 194,
   "metadata": {},
   "outputs": [
    {
     "data": {
      "text/plain": [
       "<matplotlib.axes._subplots.AxesSubplot at 0x2014a75e978>"
      ]
     },
     "execution_count": 194,
     "metadata": {},
     "output_type": "execute_result"
    },
    {
     "data": {
      "image/png": "[encoded data removed]",
      "text/plain": [
       "<matplotlib.figure.Figure at 0x202ab5f5978>"
      ]
     },
     "metadata": {},
     "output_type": "display_data"
    }
   ],
   "source": [
    "sns.countplot(x='C16', data=data)"
   ]
  },
  {
   "cell_type": "code",
   "execution_count": 398,
   "metadata": {},
   "outputs": [
    {
     "data": {
      "text/plain": [
       "50      0.943367\n",
       "250     0.044623\n",
       "36      0.007362\n",
       "480     0.002568\n",
       "90      0.001833\n",
       "20      0.000084\n",
       "768     0.000067\n",
       "320     0.000057\n",
       "1024    0.000039\n",
       "Name: C16, dtype: float64"
      ]
     },
     "execution_count": 398,
     "metadata": {},
     "output_type": "execute_result"
    }
   ],
   "source": [
    "data['C16'].value_counts(normalize=True)"
   ]
  },
  {
   "cell_type": "markdown",
   "metadata": {},
   "source": [
    "Result: Keep 50,and collapse the rest into \"other\" group."
   ]
  },
  {
   "cell_type": "code",
   "execution_count": 47,
   "metadata": {},
   "outputs": [
    {
     "name": "stdout",
     "output_type": "stream",
     "text": [
      "Wall time: 1.15 s\n"
     ]
    }
   ],
   "source": [
    "%%time\n",
    "\n",
    "data['C16_n'] = 99\n",
    "data.loc[data['C16'] == 50, 'C16_n'] = 0"
   ]
  },
  {
   "cell_type": "code",
   "execution_count": 48,
   "metadata": {},
   "outputs": [
    {
     "name": "stdout",
     "output_type": "stream",
     "text": [
      "Wall time: 1.42 s\n"
     ]
    }
   ],
   "source": [
    "%%time\n",
    "\n",
    "holdout_data['C16_n_h'] = 99\n",
    "holdout_data.loc[holdout_data['C16'] == 50, 'C16_n_h'] = 0"
   ]
  },
  {
   "cell_type": "markdown",
   "metadata": {},
   "source": [
    "## C17"
   ]
  },
  {
   "cell_type": "code",
   "execution_count": 64,
   "metadata": {},
   "outputs": [
    {
     "data": {
      "text/plain": [
       "<matplotlib.axes._subplots.AxesSubplot at 0x22c8759f940>"
      ]
     },
     "execution_count": 64,
     "metadata": {},
     "output_type": "execute_result"
    },
    {
     "data": {
      "image/png": "[encoded data removed]",
      "text/plain": [
       "<matplotlib.figure.Figure at 0x22ca92c9da0>"
      ]
     },
     "metadata": {},
     "output_type": "display_data"
    }
   ],
   "source": [
    "sns.countplot(x='C17', data=data)"
   ]
  },
  {
   "cell_type": "code",
   "execution_count": 200,
   "metadata": {},
   "outputs": [
    {
     "data": {
      "text/plain": [
       "1722    1.114058e-01\n",
       "2424    3.785381e-02\n",
       "2227    3.630986e-02\n",
       "1800    2.946799e-02\n",
       "423     2.354748e-02\n",
       "2480    2.278342e-02\n",
       "2502    2.117863e-02\n",
       "2528    2.038514e-02\n",
       "2506    1.974748e-02\n",
       "2374    1.875685e-02\n",
       "2545    1.754114e-02\n",
       "1872    1.723715e-02\n",
       "1994    1.495957e-02\n",
       "2526    1.466300e-02\n",
       "2299    1.462244e-02\n",
       "1863    1.407555e-02\n",
       "761     1.375549e-02\n",
       "2333    1.270574e-02\n",
       "1993    1.230009e-02\n",
       "2665    1.200006e-02\n",
       "2676    1.182420e-02\n",
       "1873    1.166441e-02\n",
       "2507    1.108908e-02\n",
       "2726    1.010711e-02\n",
       "2647    9.037334e-03\n",
       "2566    8.954472e-03\n",
       "2667    8.801859e-03\n",
       "2201    8.419954e-03\n",
       "2616    8.385573e-03\n",
       "1973    8.380874e-03\n",
       "            ...     \n",
       "2605    6.925728e-06\n",
       "2687    6.431034e-06\n",
       "2501    6.183686e-06\n",
       "2582    5.688991e-06\n",
       "2593    4.946949e-06\n",
       "2390    4.699601e-06\n",
       "2568    3.710212e-06\n",
       "2459    3.215517e-06\n",
       "872     3.215517e-06\n",
       "2598    3.215517e-06\n",
       "1515    3.215517e-06\n",
       "2719    2.968169e-06\n",
       "2678    2.473474e-06\n",
       "2737    2.226127e-06\n",
       "2651    2.226127e-06\n",
       "2511    1.978780e-06\n",
       "2084    1.978780e-06\n",
       "2375    1.731432e-06\n",
       "2465    1.731432e-06\n",
       "2722    1.731432e-06\n",
       "2758    1.484085e-06\n",
       "2541    7.420423e-07\n",
       "2346    4.946949e-07\n",
       "2448    4.946949e-07\n",
       "2521    4.946949e-07\n",
       "1253    2.473474e-07\n",
       "2704    2.473474e-07\n",
       "644     2.473474e-07\n",
       "2575    2.473474e-07\n",
       "1516    2.473474e-07\n",
       "Name: C17, Length: 428, dtype: float64"
      ]
     },
     "execution_count": 200,
     "metadata": {},
     "output_type": "execute_result"
    }
   ],
   "source": [
    "data['C17'].value_counts(normalize=True)"
   ]
  },
  {
   "cell_type": "markdown",
   "metadata": {},
   "source": [
    "Result: Keep 1722, 2424, 2227, 1800, 423, 2480, 2502, 2528, 2506, 2374, 2545, 1872, 1994, 2526, 2299, 1863, 761, 2333, 1993,\n",
    "2665, 2676, 1873, 2507, 2726,and collapse the rest into \"other\" group."
   ]
  },
  {
   "cell_type": "code",
   "execution_count": 49,
   "metadata": {},
   "outputs": [
    {
     "name": "stdout",
     "output_type": "stream",
     "text": [
      "Wall time: 2.37 s\n"
     ]
    }
   ],
   "source": [
    "%%time\n",
    "\n",
    "data['C17_n'] = 99\n",
    "data.loc[data['C17'] == 1722, 'C17_n'] = 0\n",
    "data.loc[data['C17'] == 2424, 'C17_n'] = 1\n",
    "data.loc[data['C17'] == 2227, 'C17_n'] = 2\n",
    "data.loc[data['C17'] == 1800, 'C17_n'] = 3\n",
    "data.loc[data['C17'] == 423, 'C17_n'] = 4\n",
    "data.loc[data['C17'] == 2480, 'C17_n'] = 5\n",
    "data.loc[data['C17'] == 2502, 'C17_n'] = 6\n",
    "data.loc[data['C17'] == 2528, 'C17_n'] = 7\n",
    "data.loc[data['C17'] == 2506, 'C17_n'] = 8\n",
    "data.loc[data['C17'] == 2374, 'C17_n'] = 9\n",
    "data.loc[data['C17'] == 2545, 'C17_n'] = 10\n",
    "data.loc[data['C17'] == 1872, 'C17_n'] = 11\n",
    "data.loc[data['C17'] == 1994, 'C17_n'] = 12\n",
    "data.loc[data['C17'] == 2526, 'C17_n'] = 13\n",
    "data.loc[data['C17'] == 2299, 'C17_n'] = 14\n",
    "data.loc[data['C17'] == 1863, 'C17_n'] = 15\n",
    "data.loc[data['C17'] == 761, 'C17_n'] = 16\n",
    "data.loc[data['C17'] == 2333, 'C17_n'] = 17\n",
    "data.loc[data['C17'] == 1993, 'C17_n'] = 18\n",
    "data.loc[data['C17'] == 2665, 'C17_n'] = 19\n",
    "data.loc[data['C17'] == 2676, 'C17_n'] = 20\n",
    "data.loc[data['C17'] == 1873, 'C17_n'] = 21\n",
    "data.loc[data['C17'] == 2507, 'C17_n'] = 22\n",
    "data.loc[data['C17'] == 2726, 'C17_n'] = 23"
   ]
  },
  {
   "cell_type": "code",
   "execution_count": 50,
   "metadata": {},
   "outputs": [
    {
     "data": {
      "text/plain": [
       "id\n",
       "10001264480619467364    99\n",
       "10004482643316086592    99\n",
       "10005951398749600249     0\n",
       "10007164336863914220     0\n",
       "10009635774586344851    17\n",
       "Name: C17_n, dtype: int64"
      ]
     },
     "execution_count": 50,
     "metadata": {},
     "output_type": "execute_result"
    }
   ],
   "source": [
    "data.C17_n.head()"
   ]
  },
  {
   "cell_type": "code",
   "execution_count": 613,
   "metadata": {},
   "outputs": [
    {
     "data": {
      "text/plain": [
       "2545    1.076168e-01\n",
       "2664    1.052065e-01\n",
       "2761    4.464393e-02\n",
       "2676    3.660739e-02\n",
       "2667    3.351091e-02\n",
       "2763    2.566377e-02\n",
       "1722    2.141448e-02\n",
       "761     2.129716e-02\n",
       "2772    2.077744e-02\n",
       "2768    1.988219e-02\n",
       "2227    1.963183e-02\n",
       "2480    1.908327e-02\n",
       "2771    1.908284e-02\n",
       "2788    1.774520e-02\n",
       "2039    1.676846e-02\n",
       "2717    1.639554e-02\n",
       "2716    1.363353e-02\n",
       "2616    1.324773e-02\n",
       "2701    1.324423e-02\n",
       "1994    1.295652e-02\n",
       "2526    1.046344e-02\n",
       "1993    9.893469e-03\n",
       "2770    9.580414e-03\n",
       "2624    9.056980e-03\n",
       "2374    8.676638e-03\n",
       "2764    8.329066e-03\n",
       "2774    8.279475e-03\n",
       "2556    8.215248e-03\n",
       "2528    8.159758e-03\n",
       "2790    7.952438e-03\n",
       "            ...     \n",
       "2689    1.485539e-05\n",
       "1008    1.463693e-05\n",
       "2509    1.354462e-05\n",
       "2551    1.288923e-05\n",
       "2339    1.267077e-05\n",
       "1972    1.092308e-05\n",
       "832     8.520001e-06\n",
       "1141    8.301540e-06\n",
       "2567    8.083078e-06\n",
       "1149    7.427694e-06\n",
       "2722    6.990770e-06\n",
       "2483    5.898463e-06\n",
       "1107    5.898463e-06\n",
       "2612    3.713847e-06\n",
       "549     3.058462e-06\n",
       "2705    3.058462e-06\n",
       "2479    2.840000e-06\n",
       "2511    2.621539e-06\n",
       "644     2.184616e-06\n",
       "2101    1.966154e-06\n",
       "2481    1.529231e-06\n",
       "2752    1.310769e-06\n",
       "2476    1.092308e-06\n",
       "2292    8.738463e-07\n",
       "2575    4.369232e-07\n",
       "2762    4.369232e-07\n",
       "2674    2.184616e-07\n",
       "2191    2.184616e-07\n",
       "2375    2.184616e-07\n",
       "2704    2.184616e-07\n",
       "Name: C17, Length: 240, dtype: float64"
      ]
     },
     "execution_count": 613,
     "metadata": {},
     "output_type": "execute_result"
    }
   ],
   "source": [
    "holdout_data['C17'].value_counts(normalize=True)"
   ]
  },
  {
   "cell_type": "markdown",
   "metadata": {},
   "source": [
    "Keep 2545, 2664, 2761, 2676, 2667, 2763, 1722, 761, 2772, 2768, 2227, 2480, 2771, 2788, 2039, 2717, 2716, 2616, 2701, 1994,  2526, 1993, 2770, 2624, 2374, and the rest into the \"other\" group."
   ]
  },
  {
   "cell_type": "code",
   "execution_count": 51,
   "metadata": {},
   "outputs": [
    {
     "name": "stdout",
     "output_type": "stream",
     "text": [
      "Wall time: 4.52 s\n"
     ]
    }
   ],
   "source": [
    "%%time\n",
    "\n",
    "holdout_data['C17_n_h'] = 99\n",
    "holdout_data.loc[holdout_data['C17'] == 2545, 'C17_n_h'] = 0\n",
    "holdout_data.loc[holdout_data['C17'] == 2664, 'C17_n_h'] = 1\n",
    "holdout_data.loc[holdout_data['C17'] == 2761, 'C17_n_h'] = 2\n",
    "holdout_data.loc[holdout_data['C17'] == 2676, 'C17_n_h'] = 3\n",
    "holdout_data.loc[holdout_data['C17'] == 2763, 'C17_n_h'] = 4\n",
    "holdout_data.loc[holdout_data['C17'] == 1722, 'C17_n_h'] = 5\n",
    "holdout_data.loc[holdout_data['C17'] == 761, 'C17_n_h'] = 6\n",
    "holdout_data.loc[holdout_data['C17'] == 2772, 'C17_n_h'] = 7\n",
    "holdout_data.loc[holdout_data['C17'] == 2768, 'C17_n_h'] = 8\n",
    "holdout_data.loc[holdout_data['C17'] == 2227, 'C17_n_h'] = 9\n",
    "holdout_data.loc[holdout_data['C17'] == 2480, 'C17_n_h'] = 10\n",
    "holdout_data.loc[holdout_data['C17'] == 2771, 'C17_n_h'] = 11\n",
    "holdout_data.loc[holdout_data['C17'] == 2788, 'C17_n_h'] = 12\n",
    "holdout_data.loc[holdout_data['C17'] == 2039, 'C17_n_h'] = 13\n",
    "holdout_data.loc[holdout_data['C17'] == 2717, 'C17_n_h'] = 14\n",
    "holdout_data.loc[holdout_data['C17'] == 2716, 'C17_n_h'] = 15\n",
    "holdout_data.loc[holdout_data['C17'] == 2616, 'C17_n_h'] = 16\n",
    "holdout_data.loc[holdout_data['C17'] == 2701, 'C17_n_h'] = 17\n",
    "holdout_data.loc[holdout_data['C17'] == 1994, 'C17_n_h'] = 18\n",
    "holdout_data.loc[holdout_data['C17'] == 2526, 'C17_n_h'] = 19\n",
    "holdout_data.loc[holdout_data['C17'] == 1993, 'C17_n_h'] = 20\n",
    "holdout_data.loc[holdout_data['C17'] == 2770, 'C17_n_h'] = 21\n",
    "holdout_data.loc[holdout_data['C17'] == 2624, 'C17_n_h'] = 22\n",
    "holdout_data.loc[holdout_data['C17'] == 2374, 'C17_n_h'] = 23"
   ]
  },
  {
   "cell_type": "markdown",
   "metadata": {},
   "source": [
    "## C18"
   ]
  },
  {
   "cell_type": "code",
   "execution_count": 203,
   "metadata": {},
   "outputs": [
    {
     "data": {
      "text/plain": [
       "<matplotlib.axes._subplots.AxesSubplot at 0x202abe58c88>"
      ]
     },
     "execution_count": 203,
     "metadata": {},
     "output_type": "execute_result"
    },
    {
     "data": {
      "image/png": "[encoded data removed]",
      "text/plain": [
       "<matplotlib.figure.Figure at 0x201cccebd30>"
      ]
     },
     "metadata": {},
     "output_type": "display_data"
    }
   ],
   "source": [
    "sns.countplot(x='C18', data=data)"
   ]
  },
  {
   "cell_type": "code",
   "execution_count": 204,
   "metadata": {},
   "outputs": [
    {
     "data": {
      "text/plain": [
       "0    0.418628\n",
       "3    0.337813\n",
       "2    0.176376\n",
       "1    0.067183\n",
       "Name: C18, dtype: float64"
      ]
     },
     "execution_count": 204,
     "metadata": {},
     "output_type": "execute_result"
    }
   ],
   "source": [
    "data['C18'].value_counts(normalize=True)"
   ]
  },
  {
   "cell_type": "markdown",
   "metadata": {},
   "source": [
    "Result: Keep all."
   ]
  },
  {
   "cell_type": "markdown",
   "metadata": {},
   "source": [
    "## C19"
   ]
  },
  {
   "cell_type": "code",
   "execution_count": 557,
   "metadata": {},
   "outputs": [
    {
     "data": {
      "text/plain": [
       "<matplotlib.axes._subplots.AxesSubplot at 0x203ac298320>"
      ]
     },
     "execution_count": 557,
     "metadata": {},
     "output_type": "execute_result"
    },
    {
     "data": {
      "image/png": "[encoded data removed]",
      "text/plain": [
       "<matplotlib.figure.Figure at 0x202abdb23c8>"
      ]
     },
     "metadata": {},
     "output_type": "display_data"
    }
   ],
   "source": [
    "sns.countplot(x='C19', data=data)"
   ]
  },
  {
   "cell_type": "code",
   "execution_count": 206,
   "metadata": {},
   "outputs": [
    {
     "data": {
      "text/plain": [
       "35      3.006864e-01\n",
       "39      2.186940e-01\n",
       "167     7.786201e-02\n",
       "161     3.925354e-02\n",
       "47      3.591040e-02\n",
       "1327    2.712907e-02\n",
       "297     2.509488e-02\n",
       "163     2.281459e-02\n",
       "175     1.999705e-02\n",
       "679     1.817979e-02\n",
       "935     1.738976e-02\n",
       "687     1.380619e-02\n",
       "1063    1.297758e-02\n",
       "41      1.271242e-02\n",
       "33      1.182321e-02\n",
       "431     1.060824e-02\n",
       "803     1.010711e-02\n",
       "1319    9.797432e-03\n",
       "303     8.105081e-03\n",
       "419     8.054128e-03\n",
       "171     7.620280e-03\n",
       "169     7.261379e-03\n",
       "299     7.251980e-03\n",
       "427     6.628664e-03\n",
       "34      6.466157e-03\n",
       "291     6.360045e-03\n",
       "547     6.114924e-03\n",
       "43      5.297935e-03\n",
       "815     5.129491e-03\n",
       "38      4.522748e-03\n",
       "            ...     \n",
       "559     2.092312e-03\n",
       "813     1.514508e-03\n",
       "551     1.291648e-03\n",
       "681     1.201614e-03\n",
       "290     1.121968e-03\n",
       "1315    9.767751e-04\n",
       "801     7.202758e-04\n",
       "295     6.896047e-04\n",
       "673     6.017963e-04\n",
       "1831    5.854714e-04\n",
       "423     5.679097e-04\n",
       "1071    5.317970e-04\n",
       "1835    4.776279e-04\n",
       "1575    4.729283e-04\n",
       "943     4.719389e-04\n",
       "425     4.291478e-04\n",
       "1839    2.876651e-04\n",
       "555     2.132135e-04\n",
       "553     1.986200e-04\n",
       "417     1.701750e-04\n",
       "289     1.503872e-04\n",
       "939     1.365358e-04\n",
       "1583    8.731365e-05\n",
       "45      8.409813e-05\n",
       "683     2.052984e-05\n",
       "1447    4.204907e-06\n",
       "1195    2.226127e-06\n",
       "545     1.236737e-06\n",
       "677     2.473474e-07\n",
       "1959    2.473474e-07\n",
       "Name: C19, Length: 68, dtype: float64"
      ]
     },
     "execution_count": 206,
     "metadata": {},
     "output_type": "execute_result"
    }
   ],
   "source": [
    "data['C19'].value_counts(normalize=True)"
   ]
  },
  {
   "cell_type": "markdown",
   "metadata": {},
   "source": [
    "Result: Keep 35, 39, 167, 161, 47, 1327, 297, 163, 175, 679, 935, 687, 1063, 41, 33, 431, 803, and collapse the rest into \"other\" group."
   ]
  },
  {
   "cell_type": "code",
   "execution_count": 52,
   "metadata": {},
   "outputs": [
    {
     "name": "stdout",
     "output_type": "stream",
     "text": [
      "Wall time: 2.18 s\n"
     ]
    }
   ],
   "source": [
    "%%time\n",
    "\n",
    "data['C19_n'] = 99\n",
    "data.loc[data['C19'] == 35, 'C19_n'] = 0\n",
    "data.loc[data['C19'] == 39, 'C19_n'] = 1\n",
    "data.loc[data['C19'] == 167, 'C19_n'] = 2\n",
    "data.loc[data['C19'] == 161, 'C19_n'] = 3\n",
    "data.loc[data['C19'] == 47, 'C19_n'] = 4\n",
    "data.loc[data['C19'] == 1327, 'C19_n'] = 5\n",
    "data.loc[data['C19'] == 297, 'C19_n'] = 6\n",
    "data.loc[data['C19'] == 163, 'C19_n'] = 7\n",
    "data.loc[data['C19'] == 175, 'C19_n'] = 8\n",
    "data.loc[data['C19'] == 679, 'C19_n'] = 9\n",
    "data.loc[data['C19'] == 935, 'C19_n'] = 10\n",
    "data.loc[data['C19'] == 687, 'C19_n'] = 11\n",
    "data.loc[data['C19'] == 1063, 'C19_n'] = 12\n",
    "data.loc[data['C19'] == 41, 'C19_n'] = 13\n",
    "data.loc[data['C19'] == 33, 'C19_n'] = 14\n",
    "data.loc[data['C19'] == 431, 'C19_n'] = 15\n",
    "data.loc[data['C19'] == 803, 'C19_n'] = 16"
   ]
  },
  {
   "cell_type": "code",
   "execution_count": 697,
   "metadata": {},
   "outputs": [
    {
     "data": {
      "text/plain": [
       "0     0.300686\n",
       "1     0.218694\n",
       "99    0.124954\n",
       "2     0.077862\n",
       "3     0.039254\n",
       "4     0.035910\n",
       "5     0.027129\n",
       "6     0.025095\n",
       "7     0.022815\n",
       "8     0.019997\n",
       "9     0.018180\n",
       "10    0.017390\n",
       "11    0.013806\n",
       "12    0.012978\n",
       "13    0.012712\n",
       "14    0.011823\n",
       "15    0.010608\n",
       "16    0.010107\n",
       "Name: C19_n, dtype: float64"
      ]
     },
     "execution_count": 697,
     "metadata": {},
     "output_type": "execute_result"
    }
   ],
   "source": [
    "data['C19_n'].value_counts(normalize=True)"
   ]
  },
  {
   "cell_type": "code",
   "execution_count": 607,
   "metadata": {},
   "outputs": [
    {
     "data": {
      "text/plain": [
       "35      3.326436e-01\n",
       "39      1.864943e-01\n",
       "431     1.076168e-01\n",
       "299     5.910347e-02\n",
       "167     5.440545e-02\n",
       "47      3.939867e-02\n",
       "175     3.205530e-02\n",
       "33      3.132018e-02\n",
       "935     1.652837e-02\n",
       "295     1.561738e-02\n",
       "163     1.489405e-02\n",
       "41      1.253664e-02\n",
       "425     1.205886e-02\n",
       "171     1.074197e-02\n",
       "1063    9.893469e-03\n",
       "1327    8.519346e-03\n",
       "161     8.402251e-03\n",
       "291     5.894312e-03\n",
       "815     4.859022e-03\n",
       "43      4.727727e-03\n",
       "943     3.520071e-03\n",
       "687     2.866434e-03\n",
       "427     2.651250e-03\n",
       "303     2.448736e-03\n",
       "937     2.096357e-03\n",
       "169     1.942779e-03\n",
       "1583    1.638025e-03\n",
       "813     1.609406e-03\n",
       "1071    1.399683e-03\n",
       "559     1.354243e-03\n",
       "809     1.349437e-03\n",
       "681     1.183406e-03\n",
       "297     1.129665e-03\n",
       "1059    9.103294e-04\n",
       "801     8.725355e-04\n",
       "1831    8.334309e-04\n",
       "1315    7.844955e-04\n",
       "1575    7.132770e-04\n",
       "673     6.486124e-04\n",
       "1319    6.258924e-04\n",
       "289     6.256740e-04\n",
       "939     4.201016e-04\n",
       "555     4.107078e-04\n",
       "1199    1.872216e-04\n",
       "1451    5.308616e-05\n",
       "553     1.354462e-05\n",
       "677     4.369232e-07\n",
       "Name: C19, dtype: float64"
      ]
     },
     "execution_count": 607,
     "metadata": {},
     "output_type": "execute_result"
    }
   ],
   "source": [
    "holdout_data['C19'].value_counts(normalize=True)"
   ]
  },
  {
   "cell_type": "markdown",
   "metadata": {},
   "source": [
    "Keep 35, 39, 431, 299, 167, 47, 175, 33, 935, 295, 163, 41, 425, 171, 1063, 1327, 161, and put the rest in other group."
   ]
  },
  {
   "cell_type": "code",
   "execution_count": 53,
   "metadata": {},
   "outputs": [
    {
     "name": "stdout",
     "output_type": "stream",
     "text": [
      "Wall time: 4.1 s\n"
     ]
    }
   ],
   "source": [
    "%%time\n",
    "\n",
    "holdout_data['C19_n_h'] = 99\n",
    "holdout_data.loc[holdout_data['C19'] == 35, 'C19_n_h'] = 0\n",
    "holdout_data.loc[holdout_data['C19'] == 39, 'C19_n_h'] = 1\n",
    "holdout_data.loc[holdout_data['C19'] == 431, 'C19_n_h'] = 2\n",
    "holdout_data.loc[holdout_data['C19'] == 299, 'C19_n_h'] = 3\n",
    "holdout_data.loc[holdout_data['C19'] == 167, 'C19_n_h'] = 4\n",
    "holdout_data.loc[holdout_data['C19'] == 47, 'C19_n_h'] = 5\n",
    "holdout_data.loc[holdout_data['C19'] == 175, 'C19_n_h'] = 6\n",
    "holdout_data.loc[holdout_data['C19'] == 33, 'C19_n_h'] = 7\n",
    "holdout_data.loc[holdout_data['C19'] == 935, 'C19_n_h'] = 8\n",
    "holdout_data.loc[holdout_data['C19'] == 295, 'C19_n_h'] = 9\n",
    "holdout_data.loc[holdout_data['C19'] == 163, 'C19_n_h'] = 10\n",
    "holdout_data.loc[holdout_data['C19'] == 41, 'C19_n_h'] = 11\n",
    "holdout_data.loc[holdout_data['C19'] == 425, 'C19_n_h'] = 12\n",
    "holdout_data.loc[holdout_data['C19'] == 171, 'C19_n_h'] = 13\n",
    "holdout_data.loc[holdout_data['C19'] == 1063, 'C19_n_h'] = 14\n",
    "holdout_data.loc[holdout_data['C19'] == 1327, 'C19_n_h'] = 15\n",
    "holdout_data.loc[holdout_data['C19'] == 161, 'C19_n_h'] = 16"
   ]
  },
  {
   "cell_type": "code",
   "execution_count": 695,
   "metadata": {},
   "outputs": [
    {
     "data": {
      "text/plain": [
       "0     0.332644\n",
       "1     0.186494\n",
       "2     0.107617\n",
       "3     0.059103\n",
       "4     0.054405\n",
       "99    0.047770\n",
       "5     0.039399\n",
       "6     0.032055\n",
       "7     0.031320\n",
       "8     0.016528\n",
       "9     0.015617\n",
       "10    0.014894\n",
       "11    0.012537\n",
       "12    0.012059\n",
       "13    0.010742\n",
       "14    0.009893\n",
       "15    0.008519\n",
       "16    0.008402\n",
       "Name: C19_n_h, dtype: float64"
      ]
     },
     "execution_count": 695,
     "metadata": {},
     "output_type": "execute_result"
    }
   ],
   "source": [
    "holdout_data['C19_n_h'].value_counts(normalize=True)"
   ]
  },
  {
   "cell_type": "markdown",
   "metadata": {},
   "source": [
    "## C20"
   ]
  },
  {
   "cell_type": "code",
   "execution_count": 300,
   "metadata": {},
   "outputs": [
    {
     "data": {
      "text/plain": [
       "<matplotlib.axes._subplots.AxesSubplot at 0x202074db9e8>"
      ]
     },
     "execution_count": 300,
     "metadata": {},
     "output_type": "execute_result"
    },
    {
     "data": {
      "image/png": "[encoded data removed]",
      "text/plain": [
       "<matplotlib.figure.Figure at 0x202074a9588>"
      ]
     },
     "metadata": {},
     "output_type": "display_data"
    }
   ],
   "source": [
    "sns.countplot(x='C20', data=data)"
   ]
  },
  {
   "cell_type": "code",
   "execution_count": 211,
   "metadata": {},
   "outputs": [
    {
     "data": {
      "text/plain": [
       "-1         4.682960e-01\n",
       " 100084    6.039458e-02\n",
       " 100148    4.443077e-02\n",
       " 100111    4.253263e-02\n",
       " 100077    3.904206e-02\n",
       " 100075    3.826984e-02\n",
       " 100081    3.304092e-02\n",
       " 100083    2.646296e-02\n",
       " 100156    2.557350e-02\n",
       " 100193    1.744566e-02\n",
       " 100176    1.612186e-02\n",
       " 100074    1.451707e-02\n",
       " 100079    1.430015e-02\n",
       " 100189    1.174233e-02\n",
       " 100076    1.132159e-02\n",
       " 100192    5.826269e-03\n",
       " 100190    5.589063e-03\n",
       " 100191    5.545777e-03\n",
       " 100188    5.443375e-03\n",
       " 100013    4.915783e-03\n",
       " 100031    4.654584e-03\n",
       " 100155    4.008513e-03\n",
       " 100194    3.617704e-03\n",
       " 100181    3.533358e-03\n",
       " 100000    3.401275e-03\n",
       " 100233    2.914000e-03\n",
       " 100105    2.913011e-03\n",
       " 100182    2.885061e-03\n",
       " 100003    2.850185e-03\n",
       " 100119    2.838807e-03\n",
       "               ...     \n",
       " 100121    5.293235e-05\n",
       " 100229    5.268501e-05\n",
       " 100073    4.674867e-05\n",
       " 100224    4.551193e-05\n",
       " 100099    3.487599e-05\n",
       " 100043    3.462864e-05\n",
       " 100244    3.017639e-05\n",
       " 100163    2.671352e-05\n",
       " 100010    2.424005e-05\n",
       " 100178    2.300331e-05\n",
       " 100213    2.028249e-05\n",
       " 100024    1.855106e-05\n",
       " 100109    1.756167e-05\n",
       " 100122    1.681963e-05\n",
       " 100108    1.533554e-05\n",
       " 100137    1.508819e-05\n",
       " 100082    1.434615e-05\n",
       " 100169    1.310941e-05\n",
       " 100153    1.162533e-05\n",
       " 100175    6.925728e-06\n",
       " 100138    2.720822e-06\n",
       " 100100    1.731432e-06\n",
       " 100098    1.731432e-06\n",
       " 100027    9.893898e-07\n",
       " 100078    9.893898e-07\n",
       " 100157    9.893898e-07\n",
       " 100246    4.946949e-07\n",
       " 100006    4.946949e-07\n",
       " 100186    4.946949e-07\n",
       " 100134    2.473474e-07\n",
       "Name: C20, Length: 167, dtype: float64"
      ]
     },
     "execution_count": 211,
     "metadata": {},
     "output_type": "execute_result"
    }
   ],
   "source": [
    "data['C20'].value_counts(normalize=True)"
   ]
  },
  {
   "cell_type": "markdown",
   "metadata": {},
   "source": [
    "Result: Keep -1, 100084, 100148, 100111, 100077, 100075, 100081, 100083, 100156, 100193, 100176, 100074, 100079, 100189, 100076, and collapse the rest into \"other\" group."
   ]
  },
  {
   "cell_type": "code",
   "execution_count": 54,
   "metadata": {},
   "outputs": [
    {
     "name": "stdout",
     "output_type": "stream",
     "text": [
      "Wall time: 2.16 s\n"
     ]
    }
   ],
   "source": [
    "%%time\n",
    "\n",
    "data['C20_n'] = 99\n",
    "data.loc[data['C20'] == -1, 'C20_n'] = 0\n",
    "data.loc[data['C20'] == 100084, 'C20_n'] = 1\n",
    "data.loc[data['C20'] == 100148, 'C20_n'] = 2\n",
    "data.loc[data['C20'] == 100111, 'C20_n'] = 3\n",
    "data.loc[data['C20'] == 100077, 'C20_n'] = 4\n",
    "data.loc[data['C20'] == 100075, 'C20_n'] = 5\n",
    "data.loc[data['C20'] == 100081, 'C20_n'] = 6\n",
    "data.loc[data['C20'] == 100083, 'C20_n'] = 7\n",
    "data.loc[data['C20'] == 100156, 'C20_n'] = 8\n",
    "data.loc[data['C20'] == 100193, 'C20_n'] = 9\n",
    "data.loc[data['C20'] == 100176, 'C20_n'] = 10\n",
    "data.loc[data['C20'] == 100074, 'C20_n'] = 11\n",
    "data.loc[data['C20'] == 100079, 'C20_n'] = 12\n",
    "data.loc[data['C20'] == 100189, 'C20_n'] = 13\n",
    "data.loc[data['C20'] == 100076, 'C20_n'] = 14"
   ]
  },
  {
   "cell_type": "code",
   "execution_count": 595,
   "metadata": {},
   "outputs": [
    {
     "data": {
      "text/html": [
       "<div>\n",
       "<style>\n",
       "    .dataframe thead tr:only-child th {\n",
       "        text-align: right;\n",
       "    }\n",
       "\n",
       "    .dataframe thead th {\n",
       "        text-align: left;\n",
       "    }\n",
       "\n",
       "    .dataframe tbody tr th {\n",
       "        vertical-align: top;\n",
       "    }\n",
       "</style>\n",
       "<table border=\"1\" class=\"dataframe\">\n",
       "  <thead>\n",
       "    <tr style=\"text-align: right;\">\n",
       "      <th></th>\n",
       "      <th>C20</th>\n",
       "      <th>C20_n</th>\n",
       "    </tr>\n",
       "    <tr>\n",
       "      <th>id</th>\n",
       "      <th></th>\n",
       "      <th></th>\n",
       "    </tr>\n",
       "  </thead>\n",
       "  <tbody>\n",
       "    <tr>\n",
       "      <th>10001264480619467364</th>\n",
       "      <td>100191</td>\n",
       "      <td>99</td>\n",
       "    </tr>\n",
       "    <tr>\n",
       "      <th>10004482643316086592</th>\n",
       "      <td>100088</td>\n",
       "      <td>99</td>\n",
       "    </tr>\n",
       "    <tr>\n",
       "      <th>10005951398749600249</th>\n",
       "      <td>-1</td>\n",
       "      <td>0</td>\n",
       "    </tr>\n",
       "    <tr>\n",
       "      <th>10007164336863914220</th>\n",
       "      <td>-1</td>\n",
       "      <td>0</td>\n",
       "    </tr>\n",
       "    <tr>\n",
       "      <th>10009635774586344851</th>\n",
       "      <td>-1</td>\n",
       "      <td>0</td>\n",
       "    </tr>\n",
       "  </tbody>\n",
       "</table>\n",
       "</div>"
      ],
      "text/plain": [
       "                         C20  C20_n\n",
       "id                                 \n",
       "10001264480619467364  100191     99\n",
       "10004482643316086592  100088     99\n",
       "10005951398749600249      -1      0\n",
       "10007164336863914220      -1      0\n",
       "10009635774586344851      -1      0"
      ]
     },
     "execution_count": 595,
     "metadata": {},
     "output_type": "execute_result"
    }
   ],
   "source": [
    "data[['C20','C20_n']].head()"
   ]
  },
  {
   "cell_type": "code",
   "execution_count": 585,
   "metadata": {},
   "outputs": [
    {
     "data": {
      "text/plain": [
       "-1         4.659220e-01\n",
       " 100084    9.603352e-02\n",
       " 100148    6.948236e-02\n",
       " 100176    3.486843e-02\n",
       " 100075    3.146196e-02\n",
       " 100111    2.825451e-02\n",
       " 100081    2.439145e-02\n",
       " 100077    2.411160e-02\n",
       " 100083    2.123578e-02\n",
       " 100189    1.368247e-02\n",
       " 100193    1.179430e-02\n",
       " 100188    1.103275e-02\n",
       " 100074    1.002608e-02\n",
       " 100079    9.954857e-03\n",
       " 100194    9.742076e-03\n",
       " 100160    8.047032e-03\n",
       " 100156    7.787281e-03\n",
       " 100192    7.357130e-03\n",
       " 100013    6.917367e-03\n",
       " 100076    6.592515e-03\n",
       " 100161    5.911570e-03\n",
       " 100177    5.563124e-03\n",
       " 100170    5.282838e-03\n",
       " 100000    4.969127e-03\n",
       " 100202    4.647770e-03\n",
       " 100101    4.607355e-03\n",
       " 100199    4.516038e-03\n",
       " 100200    4.280318e-03\n",
       " 100105    4.186161e-03\n",
       " 100182    3.505216e-03\n",
       "               ...     \n",
       " 100162    1.572923e-05\n",
       " 100179    1.529231e-05\n",
       " 100139    1.463693e-05\n",
       " 100229    1.376308e-05\n",
       " 100215    1.354462e-05\n",
       " 100244    1.245231e-05\n",
       " 100087    1.201539e-05\n",
       " 100010    1.048616e-05\n",
       " 100091    9.830771e-06\n",
       " 100054    9.612309e-06\n",
       " 100109    9.393848e-06\n",
       " 100175    8.520001e-06\n",
       " 100012    7.427694e-06\n",
       " 100137    6.990770e-06\n",
       " 100108    5.898463e-06\n",
       " 100082    5.680001e-06\n",
       " 100165    5.680001e-06\n",
       " 100024    5.243078e-06\n",
       " 100153    3.495385e-06\n",
       " 100122    2.840000e-06\n",
       " 100056    1.310769e-06\n",
       " 100138    1.310769e-06\n",
       " 100100    1.092308e-06\n",
       " 100132    8.738463e-07\n",
       " 100098    6.553847e-07\n",
       " 100169    6.553847e-07\n",
       " 100246    6.553847e-07\n",
       " 100186    6.553847e-07\n",
       " 100078    6.553847e-07\n",
       " 100187    4.369232e-07\n",
       "Name: C20, Length: 162, dtype: float64"
      ]
     },
     "execution_count": 585,
     "metadata": {},
     "output_type": "execute_result"
    }
   ],
   "source": [
    "holdout_data['C20'].value_counts(normalize=True)"
   ]
  },
  {
   "cell_type": "markdown",
   "metadata": {},
   "source": [
    "Keep -1, 100084, 100148, 100176, 100075, 100111, 100081, 100077, 100083, 100189, 100193, 100188, 100074, 100079, 100194, 100160,  and collapse the rest in one group."
   ]
  },
  {
   "cell_type": "code",
   "execution_count": 55,
   "metadata": {},
   "outputs": [
    {
     "name": "stdout",
     "output_type": "stream",
     "text": [
      "Wall time: 3.06 s\n"
     ]
    }
   ],
   "source": [
    "%%time\n",
    "\n",
    "holdout_data['C20_n_h'] = 99\n",
    "holdout_data.loc[holdout_data['C20'] == -1, 'C20_n_h'] = 0\n",
    "holdout_data.loc[holdout_data['C20'] == 100084, 'C20_n_h'] = 1\n",
    "holdout_data.loc[holdout_data['C20'] == 100148, 'C20_n_h'] = 2\n",
    "holdout_data.loc[holdout_data['C20'] == 100075, 'C20_n_h'] = 3\n",
    "holdout_data.loc[holdout_data['C20'] == 100111, 'C20_n_h'] = 4\n",
    "holdout_data.loc[holdout_data['C20'] == 100081, 'C20_n_h'] = 5\n",
    "holdout_data.loc[holdout_data['C20'] == 100077, 'C20_n_h'] = 6\n",
    "holdout_data.loc[holdout_data['C20'] == 100083, 'C20_n_h'] = 7\n",
    "holdout_data.loc[holdout_data['C20'] == 100189, 'C20_n_h'] = 8\n",
    "holdout_data.loc[holdout_data['C20'] == 100193, 'C20_n_h'] = 9\n",
    "holdout_data.loc[holdout_data['C20'] == 100188, 'C20_n_h'] = 10\n",
    "holdout_data.loc[holdout_data['C20'] == 100074, 'C20_n_h'] = 11\n",
    "holdout_data.loc[holdout_data['C20'] == 100079, 'C20_n_h'] = 12\n",
    "holdout_data.loc[holdout_data['C20'] == 100194, 'C20_n_h'] = 13\n",
    "holdout_data.loc[holdout_data['C20'] == 100160, 'C20_n_h'] = 14"
   ]
  },
  {
   "cell_type": "markdown",
   "metadata": {},
   "source": [
    "## C21"
   ]
  },
  {
   "cell_type": "code",
   "execution_count": 214,
   "metadata": {},
   "outputs": [
    {
     "data": {
      "text/plain": [
       "<matplotlib.axes._subplots.AxesSubplot at 0x202ac5ddeb8>"
      ]
     },
     "execution_count": 214,
     "metadata": {},
     "output_type": "execute_result"
    },
    {
     "data": {
      "image/png": "[encoded data removed]",
      "text/plain": [
       "<matplotlib.figure.Figure at 0x202abff86d8>"
      ]
     },
     "metadata": {},
     "output_type": "display_data"
    }
   ],
   "source": [
    "sns.countplot(x='C21', data=data)"
   ]
  },
  {
   "cell_type": "code",
   "execution_count": 215,
   "metadata": {},
   "outputs": [
    {
     "data": {
      "text/plain": [
       "23     0.220149\n",
       "221    0.124941\n",
       "79     0.113871\n",
       "48     0.053414\n",
       "71     0.052013\n",
       "61     0.050800\n",
       "157    0.045848\n",
       "32     0.044255\n",
       "33     0.037065\n",
       "52     0.029857\n",
       "42     0.025213\n",
       "51     0.020973\n",
       "15     0.018987\n",
       "212    0.016362\n",
       "43     0.014618\n",
       "117    0.010389\n",
       "229    0.010107\n",
       "13     0.009482\n",
       "16     0.008677\n",
       "156    0.008223\n",
       "68     0.008012\n",
       "159    0.007191\n",
       "95     0.006830\n",
       "46     0.005821\n",
       "246    0.004911\n",
       "69     0.004374\n",
       "91     0.004207\n",
       "17     0.004121\n",
       "111    0.003467\n",
       "76     0.003414\n",
       "70     0.003295\n",
       "90     0.003177\n",
       "110    0.003031\n",
       "171    0.002872\n",
       "204    0.002306\n",
       "101    0.002004\n",
       "253    0.001955\n",
       "112    0.001842\n",
       "82     0.001732\n",
       "100    0.001634\n",
       "182    0.001253\n",
       "178    0.001224\n",
       "35     0.001178\n",
       "108    0.001158\n",
       "94     0.000561\n",
       "251    0.000527\n",
       "116    0.000390\n",
       "194    0.000355\n",
       "20     0.000335\n",
       "93     0.000313\n",
       "102    0.000213\n",
       "104    0.000212\n",
       "126    0.000197\n",
       "163    0.000170\n",
       "177    0.000138\n",
       "255    0.000114\n",
       "195    0.000089\n",
       "1      0.000082\n",
       "219    0.000039\n",
       "85     0.000014\n",
       "Name: C21, dtype: float64"
      ]
     },
     "execution_count": 215,
     "metadata": {},
     "output_type": "execute_result"
    }
   ],
   "source": [
    "data['C21'].value_counts(normalize=True)"
   ]
  },
  {
   "cell_type": "code",
   "execution_count": 580,
   "metadata": {},
   "outputs": [
    {
     "data": {
      "text/plain": [
       "23     2.174355e-01\n",
       "221    2.111807e-01\n",
       "51     1.370702e-01\n",
       "13     7.215109e-02\n",
       "79     5.839391e-02\n",
       "71     4.989073e-02\n",
       "61     4.854653e-02\n",
       "240    4.298603e-02\n",
       "33     3.122493e-02\n",
       "32     3.104929e-02\n",
       "48     2.277025e-02\n",
       "52     1.793591e-02\n",
       "16     1.031816e-02\n",
       "246    1.023558e-02\n",
       "42     8.156918e-03\n",
       "204    4.072779e-03\n",
       "95     3.793585e-03\n",
       "171    3.184733e-03\n",
       "46     2.962776e-03\n",
       "76     2.232896e-03\n",
       "253    1.905640e-03\n",
       "101    1.846000e-03\n",
       "251    1.434200e-03\n",
       "82     1.240643e-03\n",
       "90     1.168114e-03\n",
       "100    1.120271e-03\n",
       "94     1.036382e-03\n",
       "91     9.677848e-04\n",
       "68     9.103294e-04\n",
       "15     8.417325e-04\n",
       "17     4.688185e-04\n",
       "102    4.107078e-04\n",
       "70     3.012585e-04\n",
       "116    2.739508e-04\n",
       "255    2.357200e-04\n",
       "112    1.826339e-04\n",
       "219    6.029540e-05\n",
       "194    2.840000e-06\n",
       "184    2.184616e-07\n",
       "Name: C21, dtype: float64"
      ]
     },
     "execution_count": 580,
     "metadata": {},
     "output_type": "execute_result"
    }
   ],
   "source": [
    "holdout_data['C21'].value_counts(normalize=True)"
   ]
  },
  {
   "cell_type": "markdown",
   "metadata": {},
   "source": [
    "Result: Keep  23, 221, 79, 48, 71, 61, 157, 32, 33, 52, 42, 51, 15, 212, 43, 117, 229, and collapse the rest into \"other\" group."
   ]
  },
  {
   "cell_type": "code",
   "execution_count": 56,
   "metadata": {},
   "outputs": [
    {
     "name": "stdout",
     "output_type": "stream",
     "text": [
      "Wall time: 2.9 s\n"
     ]
    }
   ],
   "source": [
    "%%time\n",
    "\n",
    "data['C21_n'] = 99\n",
    "data.loc[data['C21'] == 23, 'C21_n'] = 0\n",
    "data.loc[data['C21'] == 221, 'C21_n'] = 1\n",
    "data.loc[data['C21'] == 79, 'C21_n'] = 2\n",
    "data.loc[data['C21'] == 48, 'C21_n'] = 3\n",
    "data.loc[data['C21'] == 71, 'C21_n'] = 4\n",
    "data.loc[data['C21'] == 61, 'C21_n'] = 5\n",
    "data.loc[data['C21'] == 157, 'C21_n'] = 6\n",
    "data.loc[data['C21'] == 32, 'C21_n'] = 7\n",
    "data.loc[data['C21'] == 33, 'C21_n'] = 8\n",
    "data.loc[data['C21'] == 52, 'C21_n'] = 9\n",
    "data.loc[data['C21'] == 42, 'C21_n'] = 10\n",
    "data.loc[data['C21'] == 51, 'C21_n'] = 11\n",
    "data.loc[data['C21'] == 15, 'C21_n'] = 12\n",
    "data.loc[data['C21'] == 212, 'C21_n'] = 13\n",
    "data.loc[data['C21'] == 43, 'C21_n'] = 14\n",
    "data.loc[data['C21'] == 117, 'C21_n'] = 15\n",
    "data.loc[data['C21'] == 229, 'C21_n'] = 16"
   ]
  },
  {
   "cell_type": "markdown",
   "metadata": {},
   "source": [
    "Result: Keep  23, 221, 51, 13, 79, 71, 61, 240, 33, 32, 48, 52, 16, 246, 42, 204, 95, 171, 46, 76, 253, 101, 251, 82, 90, 100,  94, and collapse the rest into \"other\" group."
   ]
  },
  {
   "cell_type": "code",
   "execution_count": 57,
   "metadata": {},
   "outputs": [
    {
     "name": "stdout",
     "output_type": "stream",
     "text": [
      "Wall time: 3.32 s\n"
     ]
    }
   ],
   "source": [
    "%%time\n",
    "\n",
    "holdout_data['C21_n_h'] = 99\n",
    "holdout_data.loc[holdout_data['C21'] == 23, 'C21_n_h'] = 0\n",
    "holdout_data.loc[holdout_data['C21'] == 221, 'C21_n_h'] = 1\n",
    "holdout_data.loc[holdout_data['C21'] == 51, 'C21_n_h'] = 2\n",
    "holdout_data.loc[holdout_data['C21'] == 13, 'C21_n_h'] = 3\n",
    "holdout_data.loc[holdout_data['C21'] == 79, 'C21_n_h'] = 4\n",
    "holdout_data.loc[holdout_data['C21'] == 71, 'C21_n_h'] = 5\n",
    "holdout_data.loc[holdout_data['C21'] == 61, 'C21_n_h'] = 6\n",
    "holdout_data.loc[holdout_data['C21'] == 240, 'C21_n_h'] = 7\n",
    "holdout_data.loc[holdout_data['C21'] == 33, 'C21_n_h'] = 8\n",
    "holdout_data.loc[holdout_data['C21'] == 32, 'C21_n_h'] = 9\n",
    "holdout_data.loc[holdout_data['C21'] == 48, 'C21_n_h'] = 10\n",
    "holdout_data.loc[holdout_data['C21'] == 52, 'C21_n_h'] = 11\n",
    "holdout_data.loc[holdout_data['C21'] == 16, 'C21_n_h'] = 12\n",
    "holdout_data.loc[holdout_data['C21'] == 246, 'C21_n_h'] = 13\n",
    "holdout_data.loc[holdout_data['C21'] == 42, 'C21_n_h'] = 14\n",
    "holdout_data.loc[holdout_data['C21'] == 204, 'C21_n_h'] = 15\n",
    "holdout_data.loc[holdout_data['C21'] == 95, 'C21_n_h'] = 16"
   ]
  },
  {
   "cell_type": "code",
   "execution_count": 124,
   "metadata": {
    "scrolled": true
   },
   "outputs": [
    {
     "data": {
      "text/html": [
       "<div>\n",
       "<style>\n",
       "    .dataframe thead tr:only-child th {\n",
       "        text-align: right;\n",
       "    }\n",
       "\n",
       "    .dataframe thead th {\n",
       "        text-align: left;\n",
       "    }\n",
       "\n",
       "    .dataframe tbody tr th {\n",
       "        vertical-align: top;\n",
       "    }\n",
       "</style>\n",
       "<table border=\"1\" class=\"dataframe\">\n",
       "  <thead>\n",
       "    <tr style=\"text-align: right;\">\n",
       "      <th></th>\n",
       "      <th>click</th>\n",
       "      <th>hour</th>\n",
       "      <th>C1</th>\n",
       "      <th>site_category</th>\n",
       "      <th>app_category</th>\n",
       "      <th>device_id</th>\n",
       "      <th>device_conn_type</th>\n",
       "      <th>C14</th>\n",
       "      <th>C15</th>\n",
       "      <th>C16</th>\n",
       "      <th>...</th>\n",
       "      <th>C18</th>\n",
       "      <th>C19</th>\n",
       "      <th>C20</th>\n",
       "      <th>C21</th>\n",
       "      <th>banner_pos_n</th>\n",
       "      <th>site_id_n</th>\n",
       "      <th>site_domain_n</th>\n",
       "      <th>app_id_n</th>\n",
       "      <th>app_domain_n</th>\n",
       "      <th>device_model_n</th>\n",
       "    </tr>\n",
       "    <tr>\n",
       "      <th>id</th>\n",
       "      <th></th>\n",
       "      <th></th>\n",
       "      <th></th>\n",
       "      <th></th>\n",
       "      <th></th>\n",
       "      <th></th>\n",
       "      <th></th>\n",
       "      <th></th>\n",
       "      <th></th>\n",
       "      <th></th>\n",
       "      <th></th>\n",
       "      <th></th>\n",
       "      <th></th>\n",
       "      <th></th>\n",
       "      <th></th>\n",
       "      <th></th>\n",
       "      <th></th>\n",
       "      <th></th>\n",
       "      <th></th>\n",
       "      <th></th>\n",
       "      <th></th>\n",
       "    </tr>\n",
       "  </thead>\n",
       "  <tbody>\n",
       "    <tr>\n",
       "      <th>10001264480619467364</th>\n",
       "      <td>0</td>\n",
       "      <td>2014-01-21 00:10:00</td>\n",
       "      <td>1002</td>\n",
       "      <td>50e219e0</td>\n",
       "      <td>07d7df22</td>\n",
       "      <td>c357dbff</td>\n",
       "      <td>0</td>\n",
       "      <td>21689</td>\n",
       "      <td>320</td>\n",
       "      <td>50</td>\n",
       "      <td>...</td>\n",
       "      <td>3</td>\n",
       "      <td>167</td>\n",
       "      <td>100191</td>\n",
       "      <td>23</td>\n",
       "      <td>0</td>\n",
       "      <td>99</td>\n",
       "      <td>99</td>\n",
       "      <td>0</td>\n",
       "      <td>0</td>\n",
       "      <td>99</td>\n",
       "    </tr>\n",
       "    <tr>\n",
       "      <th>10004482643316086592</th>\n",
       "      <td>0</td>\n",
       "      <td>2014-01-21 00:10:00</td>\n",
       "      <td>1005</td>\n",
       "      <td>50e219e0</td>\n",
       "      <td>cef3e649</td>\n",
       "      <td>a99f214a</td>\n",
       "      <td>0</td>\n",
       "      <td>21234</td>\n",
       "      <td>320</td>\n",
       "      <td>50</td>\n",
       "      <td>...</td>\n",
       "      <td>3</td>\n",
       "      <td>163</td>\n",
       "      <td>100088</td>\n",
       "      <td>61</td>\n",
       "      <td>0</td>\n",
       "      <td>0</td>\n",
       "      <td>99</td>\n",
       "      <td>99</td>\n",
       "      <td>5</td>\n",
       "      <td>99</td>\n",
       "    </tr>\n",
       "    <tr>\n",
       "      <th>10005951398749600249</th>\n",
       "      <td>0</td>\n",
       "      <td>2014-01-21 00:10:00</td>\n",
       "      <td>1005</td>\n",
       "      <td>28905ebd</td>\n",
       "      <td>07d7df22</td>\n",
       "      <td>a99f214a</td>\n",
       "      <td>0</td>\n",
       "      <td>15706</td>\n",
       "      <td>320</td>\n",
       "      <td>50</td>\n",
       "      <td>...</td>\n",
       "      <td>0</td>\n",
       "      <td>35</td>\n",
       "      <td>-1</td>\n",
       "      <td>79</td>\n",
       "      <td>0</td>\n",
       "      <td>1</td>\n",
       "      <td>99</td>\n",
       "      <td>0</td>\n",
       "      <td>0</td>\n",
       "      <td>99</td>\n",
       "    </tr>\n",
       "    <tr>\n",
       "      <th>10007164336863914220</th>\n",
       "      <td>1</td>\n",
       "      <td>2014-01-21 00:10:00</td>\n",
       "      <td>1005</td>\n",
       "      <td>28905ebd</td>\n",
       "      <td>07d7df22</td>\n",
       "      <td>a99f214a</td>\n",
       "      <td>0</td>\n",
       "      <td>15706</td>\n",
       "      <td>320</td>\n",
       "      <td>50</td>\n",
       "      <td>...</td>\n",
       "      <td>0</td>\n",
       "      <td>35</td>\n",
       "      <td>-1</td>\n",
       "      <td>79</td>\n",
       "      <td>0</td>\n",
       "      <td>1</td>\n",
       "      <td>99</td>\n",
       "      <td>0</td>\n",
       "      <td>0</td>\n",
       "      <td>99</td>\n",
       "    </tr>\n",
       "    <tr>\n",
       "      <th>10009635774586344851</th>\n",
       "      <td>0</td>\n",
       "      <td>2014-01-21 00:10:00</td>\n",
       "      <td>1005</td>\n",
       "      <td>3e814130</td>\n",
       "      <td>07d7df22</td>\n",
       "      <td>a99f214a</td>\n",
       "      <td>0</td>\n",
       "      <td>20352</td>\n",
       "      <td>320</td>\n",
       "      <td>50</td>\n",
       "      <td>...</td>\n",
       "      <td>0</td>\n",
       "      <td>39</td>\n",
       "      <td>-1</td>\n",
       "      <td>157</td>\n",
       "      <td>0</td>\n",
       "      <td>99</td>\n",
       "      <td>99</td>\n",
       "      <td>0</td>\n",
       "      <td>0</td>\n",
       "      <td>99</td>\n",
       "    </tr>\n",
       "  </tbody>\n",
       "</table>\n",
       "<p>5 rows × 21 columns</p>\n",
       "</div>"
      ],
      "text/plain": [
       "                      click                hour    C1 site_category  \\\n",
       "id                                                                    \n",
       "10001264480619467364      0 2014-01-21 00:10:00  1002      50e219e0   \n",
       "10004482643316086592      0 2014-01-21 00:10:00  1005      50e219e0   \n",
       "10005951398749600249      0 2014-01-21 00:10:00  1005      28905ebd   \n",
       "10007164336863914220      1 2014-01-21 00:10:00  1005      28905ebd   \n",
       "10009635774586344851      0 2014-01-21 00:10:00  1005      3e814130   \n",
       "\n",
       "                     app_category device_id  device_conn_type    C14  C15  \\\n",
       "id                                                                          \n",
       "10001264480619467364     07d7df22  c357dbff                 0  21689  320   \n",
       "10004482643316086592     cef3e649  a99f214a                 0  21234  320   \n",
       "10005951398749600249     07d7df22  a99f214a                 0  15706  320   \n",
       "10007164336863914220     07d7df22  a99f214a                 0  15706  320   \n",
       "10009635774586344851     07d7df22  a99f214a                 0  20352  320   \n",
       "\n",
       "                      C16       ...        C18  C19     C20  C21  \\\n",
       "id                              ...                                \n",
       "10001264480619467364   50       ...          3  167  100191   23   \n",
       "10004482643316086592   50       ...          3  163  100088   61   \n",
       "10005951398749600249   50       ...          0   35      -1   79   \n",
       "10007164336863914220   50       ...          0   35      -1   79   \n",
       "10009635774586344851   50       ...          0   39      -1  157   \n",
       "\n",
       "                      banner_pos_n  site_id_n  site_domain_n  app_id_n  \\\n",
       "id                                                                       \n",
       "10001264480619467364             0         99             99         0   \n",
       "10004482643316086592             0          0             99        99   \n",
       "10005951398749600249             0          1             99         0   \n",
       "10007164336863914220             0          1             99         0   \n",
       "10009635774586344851             0         99             99         0   \n",
       "\n",
       "                      app_domain_n  device_model_n  \n",
       "id                                                  \n",
       "10001264480619467364             0              99  \n",
       "10004482643316086592             5              99  \n",
       "10005951398749600249             0              99  \n",
       "10007164336863914220             0              99  \n",
       "10009635774586344851             0              99  \n",
       "\n",
       "[5 rows x 21 columns]"
      ]
     },
     "execution_count": 124,
     "metadata": {},
     "output_type": "execute_result"
    }
   ],
   "source": [
    "data.head()"
   ]
  },
  {
   "cell_type": "markdown",
   "metadata": {},
   "source": [
    "<a id='3'></a>\n",
    "### Create Dummy Variables"
   ]
  },
  {
   "cell_type": "code",
   "execution_count": 58,
   "metadata": {},
   "outputs": [
    {
     "name": "stdout",
     "output_type": "stream",
     "text": [
      "Wall time: 3.56 s\n"
     ]
    }
   ],
   "source": [
    "%%time\n",
    "\n",
    "banner_pos_n = pd.get_dummies(data['banner_pos_n'],drop_first=True,prefix='bs')\n",
    "site_category_n = pd.get_dummies(data['site_category_n'],drop_first=True, prefix='sc')\n",
    "app_category_n = pd.get_dummies(data['app_category_n'],drop_first=True, prefix='ac')\n",
    "device_type_n = pd.get_dummies(data['device_type_n'],drop_first=True, prefix='dt')\n",
    "device_con_type_n = pd.get_dummies(data['device_conn_type'],drop_first=True, prefix='dct')\n",
    "site_id_n = pd.get_dummies(data['site_id_n'],drop_first=True, prefix='s_id')\n",
    "site_domain_n = pd.get_dummies(data['site_domain_n'],drop_first=True, prefix='s_dom')\n",
    "app_id_n = pd.get_dummies(data['app_id_n'],drop_first=True, prefix='app_id')\n",
    "device_model_n = pd.get_dummies(data['device_model_n'],drop_first=True, prefix='dev_mod')\n",
    "app_domain_n = pd.get_dummies(data['app_domain_n'],drop_first=True, prefix='app_dom')\n",
    "C1_n = pd.get_dummies(data['C1_n'],drop_first=True, prefix='C1')\n",
    "C14_n = pd.get_dummies(data['C14_n'],drop_first=True, prefix='C14')\n",
    "C15_n = pd.get_dummies(data['C15_n'],drop_first=True, prefix='C15')\n",
    "C16_n = pd.get_dummies(data['C16_n'],drop_first=True, prefix='C16')\n",
    "C17_n = pd.get_dummies(data['C17_n'],drop_first=True, prefix='C17')\n",
    "C18_n = pd.get_dummies(data['C18'],drop_first=True, prefix='C18')\n",
    "C19_n = pd.get_dummies(data['C19_n'],drop_first=True, prefix='C19')\n",
    "C20_n = pd.get_dummies(data['C20_n'],drop_first=True, prefix='C20')\n",
    "C21_n = pd.get_dummies(data['C21_n'],drop_first=True, prefix='C21')"
   ]
  },
  {
   "cell_type": "code",
   "execution_count": null,
   "metadata": {
    "collapsed": true,
    "scrolled": true
   },
   "outputs": [],
   "source": [
    "%%time\n",
    "\n",
    "banner_pos_n = pd.get_dummies(data_1['banner_pos_n'],drop_first=True,prefix='bs')\n",
    "site_category_n = pd.get_dummies(data_1['site_category_n'],drop_first=True, prefix='sc')\n",
    "app_category_n = pd.get_dummies(data_1['app_category_n'],drop_first=True, prefix='ac')\n",
    "device_type_n = pd.get_dummies(data_1['device_type_n'],drop_first=True, prefix='dt')\n",
    "device_conn_type_n = pd.get_dummies(data_1['device_conn_type'],drop_first=True, prefix='dct')"
   ]
  },
  {
   "cell_type": "code",
   "execution_count": 59,
   "metadata": {},
   "outputs": [
    {
     "name": "stdout",
     "output_type": "stream",
     "text": [
      "Wall time: 4.77 s\n"
     ]
    }
   ],
   "source": [
    "%%time\n",
    "\n",
    "banner_pos_n_h = pd.get_dummies(holdout_data['banner_pos_n_h'],drop_first=True,prefix='bs')\n",
    "site_category_n_h = pd.get_dummies(holdout_data['site_category_n_h'],drop_first=True, prefix='sc')\n",
    "app_category_n_h = pd.get_dummies(holdout_data['app_category_n_h'],drop_first=True, prefix='ac')\n",
    "device_type_n_h = pd.get_dummies(holdout_data['device_type_n_h'],drop_first=True, prefix='dt')\n",
    "device_con_type_n_h = pd.get_dummies(holdout_data['device_conn_type'],drop_first=True, prefix='dct')\n",
    "site_id_n_h = pd.get_dummies(holdout_data['site_id_n_h'],drop_first=True, prefix='s_id')\n",
    "site_domain_n_h = pd.get_dummies(holdout_data['site_domain_n_h'],drop_first=True, prefix='s_dom')\n",
    "app_id_n_h = pd.get_dummies(holdout_data['app_id_n_h'],drop_first=True, prefix='app_id')\n",
    "device_model_n_h = pd.get_dummies(holdout_data['device_model_n_h'],drop_first=True, prefix='dev_mod')\n",
    "app_domain_n_h = pd.get_dummies(holdout_data['app_domain_n_h'],drop_first=True, prefix='app_dom')\n",
    "C1_n_h = pd.get_dummies(holdout_data['C1_n_h'],drop_first=True, prefix='C1')\n",
    "C14_n_h = pd.get_dummies(holdout_data['C14_n_h'],drop_first=True, prefix='C14')\n",
    "C15_n_h = pd.get_dummies(holdout_data['C15_n_h'],drop_first=True, prefix='C15')\n",
    "C16_n_h = pd.get_dummies(holdout_data['C16_n_h'],drop_first=True, prefix='C16')\n",
    "C17_n_h = pd.get_dummies(holdout_data['C17_n_h'],drop_first=True, prefix='C17')\n",
    "C18_n_h = pd.get_dummies(holdout_data['C18'],drop_first=True, prefix='C18')\n",
    "C19_n_h = pd.get_dummies(holdout_data['C19_n_h'],drop_first=True, prefix='C19')\n",
    "C20_n_h = pd.get_dummies(holdout_data['C20_n_h'],drop_first=True, prefix='C20')\n",
    "C21_n_h = pd.get_dummies(holdout_data['C21_n_h'],drop_first=True, prefix='C21')"
   ]
  },
  {
   "cell_type": "code",
   "execution_count": 68,
   "metadata": {},
   "outputs": [
    {
     "data": {
      "text/plain": [
       "(4577464, 2)"
      ]
     },
     "execution_count": 68,
     "metadata": {},
     "output_type": "execute_result"
    }
   ],
   "source": [
    "banner_pos_n_h.shape"
   ]
  },
  {
   "cell_type": "code",
   "execution_count": 69,
   "metadata": {},
   "outputs": [
    {
     "data": {
      "text/plain": [
       "(4042896, 2)"
      ]
     },
     "execution_count": 69,
     "metadata": {},
     "output_type": "execute_result"
    }
   ],
   "source": [
    "banner_pos_n.shape"
   ]
  },
  {
   "cell_type": "code",
   "execution_count": 70,
   "metadata": {},
   "outputs": [
    {
     "data": {
      "text/plain": [
       "(4577464, 9)"
      ]
     },
     "execution_count": 70,
     "metadata": {},
     "output_type": "execute_result"
    }
   ],
   "source": [
    "site_category_n_h.shape"
   ]
  },
  {
   "cell_type": "code",
   "execution_count": 71,
   "metadata": {},
   "outputs": [
    {
     "data": {
      "text/plain": [
       "(4042896, 9)"
      ]
     },
     "execution_count": 71,
     "metadata": {},
     "output_type": "execute_result"
    }
   ],
   "source": [
    "site_category_n.shape"
   ]
  },
  {
   "cell_type": "code",
   "execution_count": 72,
   "metadata": {},
   "outputs": [
    {
     "data": {
      "text/plain": [
       "(4577464, 8)"
      ]
     },
     "execution_count": 72,
     "metadata": {},
     "output_type": "execute_result"
    }
   ],
   "source": [
    "app_category_n_h.shape"
   ]
  },
  {
   "cell_type": "code",
   "execution_count": 73,
   "metadata": {},
   "outputs": [
    {
     "data": {
      "text/plain": [
       "(4042896, 8)"
      ]
     },
     "execution_count": 73,
     "metadata": {},
     "output_type": "execute_result"
    }
   ],
   "source": [
    "app_category_n.shape"
   ]
  },
  {
   "cell_type": "code",
   "execution_count": 74,
   "metadata": {},
   "outputs": [
    {
     "data": {
      "text/plain": [
       "(4577464, 3)"
      ]
     },
     "execution_count": 74,
     "metadata": {},
     "output_type": "execute_result"
    }
   ],
   "source": [
    "device_type_n_h.shape"
   ]
  },
  {
   "cell_type": "code",
   "execution_count": 75,
   "metadata": {},
   "outputs": [
    {
     "data": {
      "text/plain": [
       "(4042896, 3)"
      ]
     },
     "execution_count": 75,
     "metadata": {},
     "output_type": "execute_result"
    }
   ],
   "source": [
    "device_type_n.shape"
   ]
  },
  {
   "cell_type": "code",
   "execution_count": 76,
   "metadata": {},
   "outputs": [
    {
     "data": {
      "text/plain": [
       "(4577464, 3)"
      ]
     },
     "execution_count": 76,
     "metadata": {},
     "output_type": "execute_result"
    }
   ],
   "source": [
    "device_con_type_n_h.shape"
   ]
  },
  {
   "cell_type": "code",
   "execution_count": 77,
   "metadata": {},
   "outputs": [
    {
     "data": {
      "text/plain": [
       "(4042896, 3)"
      ]
     },
     "execution_count": 77,
     "metadata": {},
     "output_type": "execute_result"
    }
   ],
   "source": [
    "device_con_type_n.shape"
   ]
  },
  {
   "cell_type": "code",
   "execution_count": 78,
   "metadata": {},
   "outputs": [
    {
     "data": {
      "text/plain": [
       "(4577464, 8)"
      ]
     },
     "execution_count": 78,
     "metadata": {},
     "output_type": "execute_result"
    }
   ],
   "source": [
    "site_id_n_h.shape"
   ]
  },
  {
   "cell_type": "code",
   "execution_count": 79,
   "metadata": {},
   "outputs": [
    {
     "data": {
      "text/plain": [
       "(4042896, 8)"
      ]
     },
     "execution_count": 79,
     "metadata": {},
     "output_type": "execute_result"
    }
   ],
   "source": [
    "site_id_n.shape"
   ]
  },
  {
   "cell_type": "code",
   "execution_count": 80,
   "metadata": {},
   "outputs": [
    {
     "data": {
      "text/plain": [
       "(4577464, 7)"
      ]
     },
     "execution_count": 80,
     "metadata": {},
     "output_type": "execute_result"
    }
   ],
   "source": [
    "site_domain_n_h.shape"
   ]
  },
  {
   "cell_type": "code",
   "execution_count": 81,
   "metadata": {},
   "outputs": [
    {
     "data": {
      "text/plain": [
       "(4042896, 7)"
      ]
     },
     "execution_count": 81,
     "metadata": {},
     "output_type": "execute_result"
    }
   ],
   "source": [
    "site_domain_n.shape"
   ]
  },
  {
   "cell_type": "code",
   "execution_count": 82,
   "metadata": {},
   "outputs": [
    {
     "data": {
      "text/plain": [
       "(4577464, 9)"
      ]
     },
     "execution_count": 82,
     "metadata": {},
     "output_type": "execute_result"
    }
   ],
   "source": [
    "app_id_n_h.shape"
   ]
  },
  {
   "cell_type": "code",
   "execution_count": 83,
   "metadata": {},
   "outputs": [
    {
     "data": {
      "text/plain": [
       "(4042896, 9)"
      ]
     },
     "execution_count": 83,
     "metadata": {},
     "output_type": "execute_result"
    }
   ],
   "source": [
    "app_id_n.shape"
   ]
  },
  {
   "cell_type": "code",
   "execution_count": 84,
   "metadata": {},
   "outputs": [
    {
     "data": {
      "text/plain": [
       "(4577464, 14)"
      ]
     },
     "execution_count": 84,
     "metadata": {},
     "output_type": "execute_result"
    }
   ],
   "source": [
    "device_model_n_h.shape"
   ]
  },
  {
   "cell_type": "code",
   "execution_count": 85,
   "metadata": {},
   "outputs": [
    {
     "data": {
      "text/plain": [
       "(4042896, 14)"
      ]
     },
     "execution_count": 85,
     "metadata": {},
     "output_type": "execute_result"
    }
   ],
   "source": [
    "device_model_n.shape"
   ]
  },
  {
   "cell_type": "code",
   "execution_count": 86,
   "metadata": {},
   "outputs": [
    {
     "data": {
      "text/plain": [
       "(4577464, 9)"
      ]
     },
     "execution_count": 86,
     "metadata": {},
     "output_type": "execute_result"
    }
   ],
   "source": [
    "app_domain_n_h.shape"
   ]
  },
  {
   "cell_type": "code",
   "execution_count": 87,
   "metadata": {},
   "outputs": [
    {
     "data": {
      "text/plain": [
       "(4042896, 9)"
      ]
     },
     "execution_count": 87,
     "metadata": {},
     "output_type": "execute_result"
    }
   ],
   "source": [
    "app_domain_n.shape"
   ]
  },
  {
   "cell_type": "code",
   "execution_count": 88,
   "metadata": {},
   "outputs": [
    {
     "data": {
      "text/plain": [
       "(4577464, 3)"
      ]
     },
     "execution_count": 88,
     "metadata": {},
     "output_type": "execute_result"
    }
   ],
   "source": [
    "C1_n_h.shape"
   ]
  },
  {
   "cell_type": "code",
   "execution_count": 89,
   "metadata": {},
   "outputs": [
    {
     "data": {
      "text/plain": [
       "(4577464, 21)"
      ]
     },
     "execution_count": 89,
     "metadata": {},
     "output_type": "execute_result"
    }
   ],
   "source": [
    "C14_n_h.shape"
   ]
  },
  {
   "cell_type": "code",
   "execution_count": 90,
   "metadata": {},
   "outputs": [
    {
     "data": {
      "text/plain": [
       "(4042896, 21)"
      ]
     },
     "execution_count": 90,
     "metadata": {},
     "output_type": "execute_result"
    }
   ],
   "source": [
    "C14_n.shape"
   ]
  },
  {
   "cell_type": "code",
   "execution_count": 91,
   "metadata": {},
   "outputs": [
    {
     "data": {
      "text/plain": [
       "(4577464, 2)"
      ]
     },
     "execution_count": 91,
     "metadata": {},
     "output_type": "execute_result"
    }
   ],
   "source": [
    "C15_n_h.shape"
   ]
  },
  {
   "cell_type": "code",
   "execution_count": 92,
   "metadata": {},
   "outputs": [
    {
     "data": {
      "text/plain": [
       "(4042896, 2)"
      ]
     },
     "execution_count": 92,
     "metadata": {},
     "output_type": "execute_result"
    }
   ],
   "source": [
    "C15_n.shape"
   ]
  },
  {
   "cell_type": "code",
   "execution_count": 93,
   "metadata": {},
   "outputs": [
    {
     "data": {
      "text/plain": [
       "(4577464, 1)"
      ]
     },
     "execution_count": 93,
     "metadata": {},
     "output_type": "execute_result"
    }
   ],
   "source": [
    "C16_n_h.shape"
   ]
  },
  {
   "cell_type": "code",
   "execution_count": 94,
   "metadata": {},
   "outputs": [
    {
     "data": {
      "text/plain": [
       "(4042896, 1)"
      ]
     },
     "execution_count": 94,
     "metadata": {},
     "output_type": "execute_result"
    }
   ],
   "source": [
    "C16_n.shape"
   ]
  },
  {
   "cell_type": "code",
   "execution_count": 95,
   "metadata": {},
   "outputs": [
    {
     "data": {
      "text/plain": [
       "(4577464, 24)"
      ]
     },
     "execution_count": 95,
     "metadata": {},
     "output_type": "execute_result"
    }
   ],
   "source": [
    "C17_n_h.shape"
   ]
  },
  {
   "cell_type": "code",
   "execution_count": 96,
   "metadata": {},
   "outputs": [
    {
     "data": {
      "text/plain": [
       "(4042896, 24)"
      ]
     },
     "execution_count": 96,
     "metadata": {},
     "output_type": "execute_result"
    }
   ],
   "source": [
    "C17_n.shape"
   ]
  },
  {
   "cell_type": "code",
   "execution_count": 97,
   "metadata": {},
   "outputs": [
    {
     "data": {
      "text/plain": [
       "(4577464, 3)"
      ]
     },
     "execution_count": 97,
     "metadata": {},
     "output_type": "execute_result"
    }
   ],
   "source": [
    "C18_n_h.shape"
   ]
  },
  {
   "cell_type": "code",
   "execution_count": 98,
   "metadata": {},
   "outputs": [
    {
     "data": {
      "text/plain": [
       "(4042896, 3)"
      ]
     },
     "execution_count": 98,
     "metadata": {},
     "output_type": "execute_result"
    }
   ],
   "source": [
    "C18_n.shape"
   ]
  },
  {
   "cell_type": "code",
   "execution_count": 99,
   "metadata": {},
   "outputs": [
    {
     "data": {
      "text/plain": [
       "(4577464, 17)"
      ]
     },
     "execution_count": 99,
     "metadata": {},
     "output_type": "execute_result"
    }
   ],
   "source": [
    "C19_n_h.shape"
   ]
  },
  {
   "cell_type": "code",
   "execution_count": 100,
   "metadata": {},
   "outputs": [
    {
     "data": {
      "text/plain": [
       "(4042896, 17)"
      ]
     },
     "execution_count": 100,
     "metadata": {},
     "output_type": "execute_result"
    }
   ],
   "source": [
    "C19_n.shape"
   ]
  },
  {
   "cell_type": "code",
   "execution_count": 101,
   "metadata": {},
   "outputs": [
    {
     "data": {
      "text/plain": [
       "(4577464, 15)"
      ]
     },
     "execution_count": 101,
     "metadata": {},
     "output_type": "execute_result"
    }
   ],
   "source": [
    "C20_n_h.shape"
   ]
  },
  {
   "cell_type": "code",
   "execution_count": 102,
   "metadata": {},
   "outputs": [
    {
     "data": {
      "text/plain": [
       "(4042896, 15)"
      ]
     },
     "execution_count": 102,
     "metadata": {},
     "output_type": "execute_result"
    }
   ],
   "source": [
    "C20_n.shape"
   ]
  },
  {
   "cell_type": "code",
   "execution_count": 103,
   "metadata": {},
   "outputs": [
    {
     "data": {
      "text/plain": [
       "(4577464, 17)"
      ]
     },
     "execution_count": 103,
     "metadata": {},
     "output_type": "execute_result"
    }
   ],
   "source": [
    "C21_n_h.shape"
   ]
  },
  {
   "cell_type": "code",
   "execution_count": 104,
   "metadata": {},
   "outputs": [
    {
     "data": {
      "text/plain": [
       "(4042896, 17)"
      ]
     },
     "execution_count": 104,
     "metadata": {},
     "output_type": "execute_result"
    }
   ],
   "source": [
    "C21_n.shape"
   ]
  },
  {
   "cell_type": "code",
   "execution_count": null,
   "metadata": {
    "collapsed": true,
    "scrolled": true
   },
   "outputs": [],
   "source": [
    "data_1.columns"
   ]
  },
  {
   "cell_type": "markdown",
   "metadata": {},
   "source": [
    "<a id='4.2'></a>\n",
    "### Concat dummary variables to numeric variables"
   ]
  },
  {
   "cell_type": "code",
   "execution_count": 60,
   "metadata": {
    "scrolled": true
   },
   "outputs": [
    {
     "name": "stdout",
     "output_type": "stream",
     "text": [
      "Wall time: 1.04 s\n"
     ]
    }
   ],
   "source": [
    "%%time\n",
    "\n",
    "#Data test\n",
    "\n",
    "comb_data = pd.concat([data.click, C1_n, C14_n, C15_n, C16_n, C17_n, C18_n, C19_n, C21_n,\n",
    "                       device_con_type_n, device_type_n, app_category_n, site_category_n, banner_pos_n, site_id_n, site_domain_n, app_id_n, \n",
    "                      device_model_n, app_domain_n],axis=1)"
   ]
  },
  {
   "cell_type": "code",
   "execution_count": 106,
   "metadata": {},
   "outputs": [
    {
     "data": {
      "text/plain": [
       "(4042896, 161)"
      ]
     },
     "execution_count": 106,
     "metadata": {},
     "output_type": "execute_result"
    }
   ],
   "source": [
    "comb_data.shape"
   ]
  },
  {
   "cell_type": "code",
   "execution_count": 61,
   "metadata": {
    "scrolled": true
   },
   "outputs": [
    {
     "name": "stdout",
     "output_type": "stream",
     "text": [
      "Wall time: 1.23 s\n"
     ]
    }
   ],
   "source": [
    "%%time\n",
    "\n",
    "#Data holdout test set\n",
    "\n",
    "comb_data_holdout = pd.concat([C1_n_h, C14_n_h, C15_n_h, C16_n_h, C17_n_h, C18_n_h, C19_n_h, C21_n_h, device_con_type_n_h, device_type_n_h,\n",
    "                               app_category_n_h, site_category_n_h, banner_pos_n_h, site_id_n_h, site_domain_n_h, app_id_n_h,\n",
    "                               device_model_n_h, app_domain_n_h],axis=1)"
   ]
  },
  {
   "cell_type": "code",
   "execution_count": 752,
   "metadata": {},
   "outputs": [
    {
     "data": {
      "text/plain": [
       "(4577464, 160)"
      ]
     },
     "execution_count": 752,
     "metadata": {},
     "output_type": "execute_result"
    }
   ],
   "source": [
    "comb_data_holdout.shape"
   ]
  },
  {
   "cell_type": "code",
   "execution_count": 467,
   "metadata": {
    "scrolled": true
   },
   "outputs": [
    {
     "data": {
      "text/html": [
       "<div>\n",
       "<style>\n",
       "    .dataframe thead tr:only-child th {\n",
       "        text-align: right;\n",
       "    }\n",
       "\n",
       "    .dataframe thead th {\n",
       "        text-align: left;\n",
       "    }\n",
       "\n",
       "    .dataframe tbody tr th {\n",
       "        vertical-align: top;\n",
       "    }\n",
       "</style>\n",
       "<table border=\"1\" class=\"dataframe\">\n",
       "  <thead>\n",
       "    <tr style=\"text-align: right;\">\n",
       "      <th></th>\n",
       "      <th>click</th>\n",
       "      <th>C1_1</th>\n",
       "      <th>C1_2</th>\n",
       "      <th>C1_99</th>\n",
       "      <th>C14_1</th>\n",
       "      <th>C14_3</th>\n",
       "      <th>C14_4</th>\n",
       "      <th>C14_5</th>\n",
       "      <th>C14_6</th>\n",
       "      <th>C14_7</th>\n",
       "      <th>...</th>\n",
       "      <th>dev_mod_99</th>\n",
       "      <th>app_dom_1</th>\n",
       "      <th>app_dom_2</th>\n",
       "      <th>app_dom_3</th>\n",
       "      <th>app_dom_4</th>\n",
       "      <th>app_dom_5</th>\n",
       "      <th>app_dom_6</th>\n",
       "      <th>app_dom_7</th>\n",
       "      <th>app_dom_8</th>\n",
       "      <th>app_dom_99</th>\n",
       "    </tr>\n",
       "    <tr>\n",
       "      <th>id</th>\n",
       "      <th></th>\n",
       "      <th></th>\n",
       "      <th></th>\n",
       "      <th></th>\n",
       "      <th></th>\n",
       "      <th></th>\n",
       "      <th></th>\n",
       "      <th></th>\n",
       "      <th></th>\n",
       "      <th></th>\n",
       "      <th></th>\n",
       "      <th></th>\n",
       "      <th></th>\n",
       "      <th></th>\n",
       "      <th></th>\n",
       "      <th></th>\n",
       "      <th></th>\n",
       "      <th></th>\n",
       "      <th></th>\n",
       "      <th></th>\n",
       "      <th></th>\n",
       "    </tr>\n",
       "  </thead>\n",
       "  <tbody>\n",
       "    <tr>\n",
       "      <th>10001264480619467364</th>\n",
       "      <td>0</td>\n",
       "      <td>1</td>\n",
       "      <td>0</td>\n",
       "      <td>0</td>\n",
       "      <td>0</td>\n",
       "      <td>0</td>\n",
       "      <td>0</td>\n",
       "      <td>0</td>\n",
       "      <td>0</td>\n",
       "      <td>0</td>\n",
       "      <td>...</td>\n",
       "      <td>1</td>\n",
       "      <td>0</td>\n",
       "      <td>0</td>\n",
       "      <td>0</td>\n",
       "      <td>0</td>\n",
       "      <td>0</td>\n",
       "      <td>0</td>\n",
       "      <td>0</td>\n",
       "      <td>0</td>\n",
       "      <td>0</td>\n",
       "    </tr>\n",
       "    <tr>\n",
       "      <th>10004482643316086592</th>\n",
       "      <td>0</td>\n",
       "      <td>0</td>\n",
       "      <td>0</td>\n",
       "      <td>0</td>\n",
       "      <td>0</td>\n",
       "      <td>0</td>\n",
       "      <td>0</td>\n",
       "      <td>0</td>\n",
       "      <td>0</td>\n",
       "      <td>0</td>\n",
       "      <td>...</td>\n",
       "      <td>1</td>\n",
       "      <td>0</td>\n",
       "      <td>0</td>\n",
       "      <td>0</td>\n",
       "      <td>0</td>\n",
       "      <td>1</td>\n",
       "      <td>0</td>\n",
       "      <td>0</td>\n",
       "      <td>0</td>\n",
       "      <td>0</td>\n",
       "    </tr>\n",
       "    <tr>\n",
       "      <th>10005951398749600249</th>\n",
       "      <td>0</td>\n",
       "      <td>0</td>\n",
       "      <td>0</td>\n",
       "      <td>0</td>\n",
       "      <td>0</td>\n",
       "      <td>0</td>\n",
       "      <td>0</td>\n",
       "      <td>0</td>\n",
       "      <td>0</td>\n",
       "      <td>0</td>\n",
       "      <td>...</td>\n",
       "      <td>1</td>\n",
       "      <td>0</td>\n",
       "      <td>0</td>\n",
       "      <td>0</td>\n",
       "      <td>0</td>\n",
       "      <td>0</td>\n",
       "      <td>0</td>\n",
       "      <td>0</td>\n",
       "      <td>0</td>\n",
       "      <td>0</td>\n",
       "    </tr>\n",
       "    <tr>\n",
       "      <th>10007164336863914220</th>\n",
       "      <td>1</td>\n",
       "      <td>0</td>\n",
       "      <td>0</td>\n",
       "      <td>0</td>\n",
       "      <td>0</td>\n",
       "      <td>0</td>\n",
       "      <td>0</td>\n",
       "      <td>0</td>\n",
       "      <td>0</td>\n",
       "      <td>0</td>\n",
       "      <td>...</td>\n",
       "      <td>1</td>\n",
       "      <td>0</td>\n",
       "      <td>0</td>\n",
       "      <td>0</td>\n",
       "      <td>0</td>\n",
       "      <td>0</td>\n",
       "      <td>0</td>\n",
       "      <td>0</td>\n",
       "      <td>0</td>\n",
       "      <td>0</td>\n",
       "    </tr>\n",
       "    <tr>\n",
       "      <th>10009635774586344851</th>\n",
       "      <td>0</td>\n",
       "      <td>0</td>\n",
       "      <td>0</td>\n",
       "      <td>0</td>\n",
       "      <td>0</td>\n",
       "      <td>0</td>\n",
       "      <td>0</td>\n",
       "      <td>0</td>\n",
       "      <td>0</td>\n",
       "      <td>0</td>\n",
       "      <td>...</td>\n",
       "      <td>1</td>\n",
       "      <td>0</td>\n",
       "      <td>0</td>\n",
       "      <td>0</td>\n",
       "      <td>0</td>\n",
       "      <td>0</td>\n",
       "      <td>0</td>\n",
       "      <td>0</td>\n",
       "      <td>0</td>\n",
       "      <td>0</td>\n",
       "    </tr>\n",
       "  </tbody>\n",
       "</table>\n",
       "<p>5 rows × 158 columns</p>\n",
       "</div>"
      ],
      "text/plain": [
       "                      click  C1_1  C1_2  C1_99  C14_1  C14_3  C14_4  C14_5  \\\n",
       "id                                                                           \n",
       "10001264480619467364      0     1     0      0      0      0      0      0   \n",
       "10004482643316086592      0     0     0      0      0      0      0      0   \n",
       "10005951398749600249      0     0     0      0      0      0      0      0   \n",
       "10007164336863914220      1     0     0      0      0      0      0      0   \n",
       "10009635774586344851      0     0     0      0      0      0      0      0   \n",
       "\n",
       "                      C14_6  C14_7     ...      dev_mod_99  app_dom_1  \\\n",
       "id                                     ...                              \n",
       "10001264480619467364      0      0     ...               1          0   \n",
       "10004482643316086592      0      0     ...               1          0   \n",
       "10005951398749600249      0      0     ...               1          0   \n",
       "10007164336863914220      0      0     ...               1          0   \n",
       "10009635774586344851      0      0     ...               1          0   \n",
       "\n",
       "                      app_dom_2  app_dom_3  app_dom_4  app_dom_5  app_dom_6  \\\n",
       "id                                                                            \n",
       "10001264480619467364          0          0          0          0          0   \n",
       "10004482643316086592          0          0          0          1          0   \n",
       "10005951398749600249          0          0          0          0          0   \n",
       "10007164336863914220          0          0          0          0          0   \n",
       "10009635774586344851          0          0          0          0          0   \n",
       "\n",
       "                      app_dom_7  app_dom_8  app_dom_99  \n",
       "id                                                      \n",
       "10001264480619467364          0          0           0  \n",
       "10004482643316086592          0          0           0  \n",
       "10005951398749600249          0          0           0  \n",
       "10007164336863914220          0          0           0  \n",
       "10009635774586344851          0          0           0  \n",
       "\n",
       "[5 rows x 158 columns]"
      ]
     },
     "execution_count": 467,
     "metadata": {},
     "output_type": "execute_result"
    }
   ],
   "source": [
    "comb_data.head()"
   ]
  },
  {
   "cell_type": "code",
   "execution_count": 468,
   "metadata": {
    "scrolled": true
   },
   "outputs": [
    {
     "data": {
      "text/plain": [
       "Index(['click', 'C1_1', 'C1_2', 'C1_99', 'C14_1', 'C14_3', 'C14_4', 'C14_5',\n",
       "       'C14_6', 'C14_7',\n",
       "       ...\n",
       "       'dev_mod_99', 'app_dom_1', 'app_dom_2', 'app_dom_3', 'app_dom_4',\n",
       "       'app_dom_5', 'app_dom_6', 'app_dom_7', 'app_dom_8', 'app_dom_99'],\n",
       "      dtype='object', length=158)"
      ]
     },
     "execution_count": 468,
     "metadata": {},
     "output_type": "execute_result"
    }
   ],
   "source": [
    "comb_data.columns"
   ]
  },
  {
   "cell_type": "code",
   "execution_count": 110,
   "metadata": {
    "scrolled": true
   },
   "outputs": [
    {
     "data": {
      "text/plain": [
       "(4042896, 161)"
      ]
     },
     "execution_count": 110,
     "metadata": {},
     "output_type": "execute_result"
    }
   ],
   "source": [
    "comb_data.shape"
   ]
  },
  {
   "cell_type": "code",
   "execution_count": 111,
   "metadata": {
    "scrolled": true
   },
   "outputs": [
    {
     "data": {
      "text/plain": [
       "(4577464, 160)"
      ]
     },
     "execution_count": 111,
     "metadata": {},
     "output_type": "execute_result"
    }
   ],
   "source": [
    "comb_data_holdout.shape"
   ]
  },
  {
   "cell_type": "code",
   "execution_count": 432,
   "metadata": {
    "scrolled": true
   },
   "outputs": [
    {
     "data": {
      "text/plain": [
       "Index(['C1_1.0', 'C1_2.0', 'C14_1', 'C14_3', 'C14_4', 'C14_5', 'C14_6',\n",
       "       'C14_7', 'C14_8', 'C14_9',\n",
       "       ...\n",
       "       'dev_mod_99', 'app_dom_1', 'app_dom_2', 'app_dom_3', 'app_dom_4',\n",
       "       'app_dom_5', 'app_dom_6', 'app_dom_7', 'app_dom_8', 'app_dom_99'],\n",
       "      dtype='object', length=142)"
      ]
     },
     "execution_count": 432,
     "metadata": {},
     "output_type": "execute_result"
    }
   ],
   "source": [
    "comb_data_holdout.columns"
   ]
  },
  {
   "cell_type": "code",
   "execution_count": 87,
   "metadata": {
    "scrolled": true
   },
   "outputs": [
    {
     "data": {
      "text/html": [
       "<div>\n",
       "<style>\n",
       "    .dataframe thead tr:only-child th {\n",
       "        text-align: right;\n",
       "    }\n",
       "\n",
       "    .dataframe thead th {\n",
       "        text-align: left;\n",
       "    }\n",
       "\n",
       "    .dataframe tbody tr th {\n",
       "        vertical-align: top;\n",
       "    }\n",
       "</style>\n",
       "<table border=\"1\" class=\"dataframe\">\n",
       "  <thead>\n",
       "    <tr style=\"text-align: right;\">\n",
       "      <th></th>\n",
       "      <th>click</th>\n",
       "      <th>C1_1</th>\n",
       "      <th>C1_2</th>\n",
       "      <th>C1_99</th>\n",
       "      <th>C14_1</th>\n",
       "      <th>C14_2</th>\n",
       "      <th>C14_3</th>\n",
       "      <th>C14_4</th>\n",
       "      <th>C14_5</th>\n",
       "      <th>C14_6</th>\n",
       "      <th>...</th>\n",
       "      <th>dev_mod_99</th>\n",
       "      <th>app_dom_1</th>\n",
       "      <th>app_dom_2</th>\n",
       "      <th>app_dom_3</th>\n",
       "      <th>app_dom_4</th>\n",
       "      <th>app_dom_5</th>\n",
       "      <th>app_dom_6</th>\n",
       "      <th>app_dom_7</th>\n",
       "      <th>app_dom_8</th>\n",
       "      <th>app_dom_99</th>\n",
       "    </tr>\n",
       "    <tr>\n",
       "      <th>id</th>\n",
       "      <th></th>\n",
       "      <th></th>\n",
       "      <th></th>\n",
       "      <th></th>\n",
       "      <th></th>\n",
       "      <th></th>\n",
       "      <th></th>\n",
       "      <th></th>\n",
       "      <th></th>\n",
       "      <th></th>\n",
       "      <th></th>\n",
       "      <th></th>\n",
       "      <th></th>\n",
       "      <th></th>\n",
       "      <th></th>\n",
       "      <th></th>\n",
       "      <th></th>\n",
       "      <th></th>\n",
       "      <th></th>\n",
       "      <th></th>\n",
       "      <th></th>\n",
       "    </tr>\n",
       "  </thead>\n",
       "  <tbody>\n",
       "    <tr>\n",
       "      <th>10001264480619467364</th>\n",
       "      <td>0</td>\n",
       "      <td>1</td>\n",
       "      <td>0</td>\n",
       "      <td>0</td>\n",
       "      <td>0</td>\n",
       "      <td>0</td>\n",
       "      <td>0</td>\n",
       "      <td>0</td>\n",
       "      <td>0</td>\n",
       "      <td>0</td>\n",
       "      <td>...</td>\n",
       "      <td>1</td>\n",
       "      <td>0</td>\n",
       "      <td>0</td>\n",
       "      <td>0</td>\n",
       "      <td>0</td>\n",
       "      <td>0</td>\n",
       "      <td>0</td>\n",
       "      <td>0</td>\n",
       "      <td>0</td>\n",
       "      <td>0</td>\n",
       "    </tr>\n",
       "    <tr>\n",
       "      <th>10004482643316086592</th>\n",
       "      <td>0</td>\n",
       "      <td>0</td>\n",
       "      <td>0</td>\n",
       "      <td>0</td>\n",
       "      <td>0</td>\n",
       "      <td>0</td>\n",
       "      <td>0</td>\n",
       "      <td>0</td>\n",
       "      <td>0</td>\n",
       "      <td>0</td>\n",
       "      <td>...</td>\n",
       "      <td>1</td>\n",
       "      <td>0</td>\n",
       "      <td>0</td>\n",
       "      <td>0</td>\n",
       "      <td>0</td>\n",
       "      <td>1</td>\n",
       "      <td>0</td>\n",
       "      <td>0</td>\n",
       "      <td>0</td>\n",
       "      <td>0</td>\n",
       "    </tr>\n",
       "    <tr>\n",
       "      <th>10005951398749600249</th>\n",
       "      <td>0</td>\n",
       "      <td>0</td>\n",
       "      <td>0</td>\n",
       "      <td>0</td>\n",
       "      <td>0</td>\n",
       "      <td>0</td>\n",
       "      <td>0</td>\n",
       "      <td>0</td>\n",
       "      <td>0</td>\n",
       "      <td>0</td>\n",
       "      <td>...</td>\n",
       "      <td>1</td>\n",
       "      <td>0</td>\n",
       "      <td>0</td>\n",
       "      <td>0</td>\n",
       "      <td>0</td>\n",
       "      <td>0</td>\n",
       "      <td>0</td>\n",
       "      <td>0</td>\n",
       "      <td>0</td>\n",
       "      <td>0</td>\n",
       "    </tr>\n",
       "    <tr>\n",
       "      <th>10007164336863914220</th>\n",
       "      <td>1</td>\n",
       "      <td>0</td>\n",
       "      <td>0</td>\n",
       "      <td>0</td>\n",
       "      <td>0</td>\n",
       "      <td>0</td>\n",
       "      <td>0</td>\n",
       "      <td>0</td>\n",
       "      <td>0</td>\n",
       "      <td>0</td>\n",
       "      <td>...</td>\n",
       "      <td>1</td>\n",
       "      <td>0</td>\n",
       "      <td>0</td>\n",
       "      <td>0</td>\n",
       "      <td>0</td>\n",
       "      <td>0</td>\n",
       "      <td>0</td>\n",
       "      <td>0</td>\n",
       "      <td>0</td>\n",
       "      <td>0</td>\n",
       "    </tr>\n",
       "    <tr>\n",
       "      <th>10009635774586344851</th>\n",
       "      <td>0</td>\n",
       "      <td>0</td>\n",
       "      <td>0</td>\n",
       "      <td>0</td>\n",
       "      <td>0</td>\n",
       "      <td>0</td>\n",
       "      <td>0</td>\n",
       "      <td>0</td>\n",
       "      <td>0</td>\n",
       "      <td>0</td>\n",
       "      <td>...</td>\n",
       "      <td>1</td>\n",
       "      <td>0</td>\n",
       "      <td>0</td>\n",
       "      <td>0</td>\n",
       "      <td>0</td>\n",
       "      <td>0</td>\n",
       "      <td>0</td>\n",
       "      <td>0</td>\n",
       "      <td>0</td>\n",
       "      <td>0</td>\n",
       "    </tr>\n",
       "  </tbody>\n",
       "</table>\n",
       "<p>5 rows × 161 columns</p>\n",
       "</div>"
      ],
      "text/plain": [
       "                      click  C1_1  C1_2  C1_99  C14_1  C14_2  C14_3  C14_4  \\\n",
       "id                                                                           \n",
       "10001264480619467364      0     1     0      0      0      0      0      0   \n",
       "10004482643316086592      0     0     0      0      0      0      0      0   \n",
       "10005951398749600249      0     0     0      0      0      0      0      0   \n",
       "10007164336863914220      1     0     0      0      0      0      0      0   \n",
       "10009635774586344851      0     0     0      0      0      0      0      0   \n",
       "\n",
       "                      C14_5  C14_6     ...      dev_mod_99  app_dom_1  \\\n",
       "id                                     ...                              \n",
       "10001264480619467364      0      0     ...               1          0   \n",
       "10004482643316086592      0      0     ...               1          0   \n",
       "10005951398749600249      0      0     ...               1          0   \n",
       "10007164336863914220      0      0     ...               1          0   \n",
       "10009635774586344851      0      0     ...               1          0   \n",
       "\n",
       "                      app_dom_2  app_dom_3  app_dom_4  app_dom_5  app_dom_6  \\\n",
       "id                                                                            \n",
       "10001264480619467364          0          0          0          0          0   \n",
       "10004482643316086592          0          0          0          1          0   \n",
       "10005951398749600249          0          0          0          0          0   \n",
       "10007164336863914220          0          0          0          0          0   \n",
       "10009635774586344851          0          0          0          0          0   \n",
       "\n",
       "                      app_dom_7  app_dom_8  app_dom_99  \n",
       "id                                                      \n",
       "10001264480619467364          0          0           0  \n",
       "10004482643316086592          0          0           0  \n",
       "10005951398749600249          0          0           0  \n",
       "10007164336863914220          0          0           0  \n",
       "10009635774586344851          0          0           0  \n",
       "\n",
       "[5 rows x 161 columns]"
      ]
     },
     "execution_count": 87,
     "metadata": {},
     "output_type": "execute_result"
    }
   ],
   "source": [
    "comb_data.head()"
   ]
  },
  {
   "cell_type": "code",
   "execution_count": 93,
   "metadata": {},
   "outputs": [
    {
     "data": {
      "text/plain": [
       "'C1_1'"
      ]
     },
     "execution_count": 93,
     "metadata": {},
     "output_type": "execute_result"
    }
   ],
   "source": [
    "comb_data.columns[1]"
   ]
  },
  {
   "cell_type": "code",
   "execution_count": null,
   "metadata": {
    "collapsed": true,
    "scrolled": true
   },
   "outputs": [],
   "source": [
    "comb_data_1.head()"
   ]
  },
  {
   "cell_type": "code",
   "execution_count": 109,
   "metadata": {
    "scrolled": true
   },
   "outputs": [
    {
     "data": {
      "text/plain": [
       "(4577464, 160)"
      ]
     },
     "execution_count": 109,
     "metadata": {},
     "output_type": "execute_result"
    }
   ],
   "source": [
    "comb_data_holdout.shape"
   ]
  },
  {
   "cell_type": "code",
   "execution_count": 100,
   "metadata": {
    "scrolled": true
   },
   "outputs": [
    {
     "data": {
      "text/html": [
       "<div>\n",
       "<style>\n",
       "    .dataframe thead tr:only-child th {\n",
       "        text-align: right;\n",
       "    }\n",
       "\n",
       "    .dataframe thead th {\n",
       "        text-align: left;\n",
       "    }\n",
       "\n",
       "    .dataframe tbody tr th {\n",
       "        vertical-align: top;\n",
       "    }\n",
       "</style>\n",
       "<table border=\"1\" class=\"dataframe\">\n",
       "  <thead>\n",
       "    <tr style=\"text-align: right;\">\n",
       "      <th></th>\n",
       "      <th>C1_1</th>\n",
       "      <th>C1_2</th>\n",
       "      <th>C1_99</th>\n",
       "      <th>C14_1</th>\n",
       "      <th>C14_2</th>\n",
       "      <th>C14_3</th>\n",
       "      <th>C14_4</th>\n",
       "      <th>C14_5</th>\n",
       "      <th>C14_6</th>\n",
       "      <th>C14_7</th>\n",
       "      <th>...</th>\n",
       "      <th>dev_mod_99</th>\n",
       "      <th>app_dom_1</th>\n",
       "      <th>app_dom_2</th>\n",
       "      <th>app_dom_3</th>\n",
       "      <th>app_dom_4</th>\n",
       "      <th>app_dom_5</th>\n",
       "      <th>app_dom_6</th>\n",
       "      <th>app_dom_7</th>\n",
       "      <th>app_dom_8</th>\n",
       "      <th>app_dom_99</th>\n",
       "    </tr>\n",
       "    <tr>\n",
       "      <th>id</th>\n",
       "      <th></th>\n",
       "      <th></th>\n",
       "      <th></th>\n",
       "      <th></th>\n",
       "      <th></th>\n",
       "      <th></th>\n",
       "      <th></th>\n",
       "      <th></th>\n",
       "      <th></th>\n",
       "      <th></th>\n",
       "      <th></th>\n",
       "      <th></th>\n",
       "      <th></th>\n",
       "      <th></th>\n",
       "      <th></th>\n",
       "      <th></th>\n",
       "      <th></th>\n",
       "      <th></th>\n",
       "      <th></th>\n",
       "      <th></th>\n",
       "      <th></th>\n",
       "    </tr>\n",
       "  </thead>\n",
       "  <tbody>\n",
       "    <tr>\n",
       "      <th>1.000017e+19</th>\n",
       "      <td>0</td>\n",
       "      <td>0</td>\n",
       "      <td>0</td>\n",
       "      <td>0</td>\n",
       "      <td>0</td>\n",
       "      <td>0</td>\n",
       "      <td>0</td>\n",
       "      <td>1</td>\n",
       "      <td>0</td>\n",
       "      <td>0</td>\n",
       "      <td>...</td>\n",
       "      <td>1</td>\n",
       "      <td>0</td>\n",
       "      <td>0</td>\n",
       "      <td>0</td>\n",
       "      <td>0</td>\n",
       "      <td>0</td>\n",
       "      <td>0</td>\n",
       "      <td>0</td>\n",
       "      <td>0</td>\n",
       "      <td>0</td>\n",
       "    </tr>\n",
       "    <tr>\n",
       "      <th>1.000018e+19</th>\n",
       "      <td>0</td>\n",
       "      <td>0</td>\n",
       "      <td>0</td>\n",
       "      <td>0</td>\n",
       "      <td>0</td>\n",
       "      <td>0</td>\n",
       "      <td>0</td>\n",
       "      <td>0</td>\n",
       "      <td>0</td>\n",
       "      <td>0</td>\n",
       "      <td>...</td>\n",
       "      <td>0</td>\n",
       "      <td>0</td>\n",
       "      <td>0</td>\n",
       "      <td>0</td>\n",
       "      <td>0</td>\n",
       "      <td>0</td>\n",
       "      <td>0</td>\n",
       "      <td>0</td>\n",
       "      <td>0</td>\n",
       "      <td>0</td>\n",
       "    </tr>\n",
       "    <tr>\n",
       "      <th>1.000055e+19</th>\n",
       "      <td>0</td>\n",
       "      <td>0</td>\n",
       "      <td>0</td>\n",
       "      <td>0</td>\n",
       "      <td>0</td>\n",
       "      <td>0</td>\n",
       "      <td>0</td>\n",
       "      <td>0</td>\n",
       "      <td>0</td>\n",
       "      <td>0</td>\n",
       "      <td>...</td>\n",
       "      <td>0</td>\n",
       "      <td>0</td>\n",
       "      <td>0</td>\n",
       "      <td>0</td>\n",
       "      <td>0</td>\n",
       "      <td>0</td>\n",
       "      <td>0</td>\n",
       "      <td>0</td>\n",
       "      <td>0</td>\n",
       "      <td>0</td>\n",
       "    </tr>\n",
       "    <tr>\n",
       "      <th>1.000109e+19</th>\n",
       "      <td>0</td>\n",
       "      <td>0</td>\n",
       "      <td>0</td>\n",
       "      <td>0</td>\n",
       "      <td>0</td>\n",
       "      <td>0</td>\n",
       "      <td>0</td>\n",
       "      <td>0</td>\n",
       "      <td>0</td>\n",
       "      <td>0</td>\n",
       "      <td>...</td>\n",
       "      <td>1</td>\n",
       "      <td>0</td>\n",
       "      <td>0</td>\n",
       "      <td>0</td>\n",
       "      <td>0</td>\n",
       "      <td>0</td>\n",
       "      <td>0</td>\n",
       "      <td>0</td>\n",
       "      <td>0</td>\n",
       "      <td>1</td>\n",
       "    </tr>\n",
       "    <tr>\n",
       "      <th>1.000138e+19</th>\n",
       "      <td>0</td>\n",
       "      <td>0</td>\n",
       "      <td>0</td>\n",
       "      <td>0</td>\n",
       "      <td>0</td>\n",
       "      <td>0</td>\n",
       "      <td>0</td>\n",
       "      <td>0</td>\n",
       "      <td>0</td>\n",
       "      <td>0</td>\n",
       "      <td>...</td>\n",
       "      <td>0</td>\n",
       "      <td>1</td>\n",
       "      <td>0</td>\n",
       "      <td>0</td>\n",
       "      <td>0</td>\n",
       "      <td>0</td>\n",
       "      <td>0</td>\n",
       "      <td>0</td>\n",
       "      <td>0</td>\n",
       "      <td>0</td>\n",
       "    </tr>\n",
       "  </tbody>\n",
       "</table>\n",
       "<p>5 rows × 160 columns</p>\n",
       "</div>"
      ],
      "text/plain": [
       "              C1_1  C1_2  C1_99  C14_1  C14_2  C14_3  C14_4  C14_5  C14_6  \\\n",
       "id                                                                          \n",
       "1.000017e+19     0     0      0      0      0      0      0      1      0   \n",
       "1.000018e+19     0     0      0      0      0      0      0      0      0   \n",
       "1.000055e+19     0     0      0      0      0      0      0      0      0   \n",
       "1.000109e+19     0     0      0      0      0      0      0      0      0   \n",
       "1.000138e+19     0     0      0      0      0      0      0      0      0   \n",
       "\n",
       "              C14_7     ...      dev_mod_99  app_dom_1  app_dom_2  app_dom_3  \\\n",
       "id                      ...                                                    \n",
       "1.000017e+19      0     ...               1          0          0          0   \n",
       "1.000018e+19      0     ...               0          0          0          0   \n",
       "1.000055e+19      0     ...               0          0          0          0   \n",
       "1.000109e+19      0     ...               1          0          0          0   \n",
       "1.000138e+19      0     ...               0          1          0          0   \n",
       "\n",
       "              app_dom_4  app_dom_5  app_dom_6  app_dom_7  app_dom_8  \\\n",
       "id                                                                    \n",
       "1.000017e+19          0          0          0          0          0   \n",
       "1.000018e+19          0          0          0          0          0   \n",
       "1.000055e+19          0          0          0          0          0   \n",
       "1.000109e+19          0          0          0          0          0   \n",
       "1.000138e+19          0          0          0          0          0   \n",
       "\n",
       "              app_dom_99  \n",
       "id                        \n",
       "1.000017e+19           0  \n",
       "1.000018e+19           0  \n",
       "1.000055e+19           0  \n",
       "1.000109e+19           1  \n",
       "1.000138e+19           0  \n",
       "\n",
       "[5 rows x 160 columns]"
      ]
     },
     "execution_count": 100,
     "metadata": {},
     "output_type": "execute_result"
    }
   ],
   "source": [
    "comb_data_holdout.head()"
   ]
  },
  {
   "cell_type": "markdown",
   "metadata": {},
   "source": [
    "### Data set ready for analysis: comb_data"
   ]
  },
  {
   "cell_type": "markdown",
   "metadata": {},
   "source": [
    "<a id='3.1'></a>\n",
    "## Split Test Data set into train & test:\n",
    "\n",
    "The test data set provided for the Kaggle competition did not include the dependent variable, click-thru. In order to evaluate the algorithms, this is needed. Therefore, I am going to split the \"test data\" set into a test data set and a train data set. I will use the \"train data\" as the holdout set. "
   ]
  },
  {
   "cell_type": "code",
   "execution_count": 62,
   "metadata": {
    "scrolled": true
   },
   "outputs": [
    {
     "name": "stdout",
     "output_type": "stream",
     "text": [
      "Wall time: 2.07 s\n"
     ]
    }
   ],
   "source": [
    "%%time\n",
    "\n",
    "#Data\n",
    "\n",
    "# Importing the dataset; [rows,columns], index start with 0\n",
    "X = comb_data.iloc[:, 1:].values\n",
    "y = comb_data.iloc[:, 0].values"
   ]
  },
  {
   "cell_type": "code",
   "execution_count": 64,
   "metadata": {
    "scrolled": true
   },
   "outputs": [
    {
     "name": "stdout",
     "output_type": "stream",
     "text": [
      "Wall time: 946 ms\n"
     ]
    }
   ],
   "source": [
    "%%time\n",
    "\n",
    "#Holdout Data\n",
    "\n",
    "# Importing the dataset; [rows,columns], index start with 0\n",
    "X_holdout = comb_data_holdout.values"
   ]
  },
  {
   "cell_type": "code",
   "execution_count": 114,
   "metadata": {
    "scrolled": true
   },
   "outputs": [
    {
     "data": {
      "text/plain": [
       "(4042896, 160)"
      ]
     },
     "execution_count": 114,
     "metadata": {},
     "output_type": "execute_result"
    }
   ],
   "source": [
    "X.shape"
   ]
  },
  {
   "cell_type": "code",
   "execution_count": 115,
   "metadata": {
    "scrolled": true
   },
   "outputs": [
    {
     "data": {
      "text/plain": [
       "(4042896,)"
      ]
     },
     "execution_count": 115,
     "metadata": {},
     "output_type": "execute_result"
    }
   ],
   "source": [
    "y.shape"
   ]
  },
  {
   "cell_type": "code",
   "execution_count": 116,
   "metadata": {
    "scrolled": true
   },
   "outputs": [
    {
     "data": {
      "text/plain": [
       "(4577464, 160)"
      ]
     },
     "execution_count": 116,
     "metadata": {},
     "output_type": "execute_result"
    }
   ],
   "source": [
    "X_holdout.shape"
   ]
  },
  {
   "cell_type": "code",
   "execution_count": 65,
   "metadata": {
    "scrolled": true
   },
   "outputs": [
    {
     "name": "stdout",
     "output_type": "stream",
     "text": [
      "Wall time: 4 s\n"
     ]
    }
   ],
   "source": [
    "%%time\n",
    "\n",
    "# Splitting the dataset into the Training set and Test set\n",
    "\n",
    "from sklearn.model_selection import train_test_split\n",
    "\n",
    "X_train, X_test, y_train, y_test = train_test_split(X, y, test_size = 0.2, random_state = 613)"
   ]
  },
  {
   "cell_type": "markdown",
   "metadata": {},
   "source": [
    "<a id='3.2'></a>\n",
    "## Scaling:\n",
    "\n",
    "In this case, I prefered to standardize and not normalize the features. The reason is that when you standardize, the test data can have samples that fall outside the normal range. If we normalize, the test data should have only values below the maximum in the training data for a certain feature. Standardization includes making the features 0 mean and unit standard deviation. Here, some features might be higher than +1 or lower than -1.\n",
    "\n",
    "Standardization = (x - mean(x))/std(x)\n",
    "\n",
    "Normalization = (x - min(x))/(max(x)-min(x))\n",
    "\n",
    "https://stats.stackexchange.com/questions/10289/whats-the-difference-between-normalization-and-standardization"
   ]
  },
  {
   "cell_type": "code",
   "execution_count": 66,
   "metadata": {
    "scrolled": true
   },
   "outputs": [
    {
     "name": "stdout",
     "output_type": "stream",
     "text": [
      "Wall time: 36.5 s\n"
     ]
    }
   ],
   "source": [
    "%%time\n",
    "\n",
    "# Feature Scaling, algorithm will converge much faster with scaling, i.e. decision trees\n",
    "\n",
    "from sklearn.preprocessing import StandardScaler\n",
    "sc_X = StandardScaler()\n",
    "X_train_sc = sc_X.fit_transform(X_train)\n",
    "X_test_sc = sc_X.transform(X_test) #already fit on train set"
   ]
  },
  {
   "cell_type": "code",
   "execution_count": 67,
   "metadata": {
    "scrolled": true
   },
   "outputs": [
    {
     "name": "stdout",
     "output_type": "stream",
     "text": [
      "Wall time: 49.7 s\n"
     ]
    }
   ],
   "source": [
    "%%time\n",
    "\n",
    "# Feature Scaling, algorithm will converge much faster with scaling, i.e. decision trees\n",
    "\n",
    "#holdout\n",
    "from sklearn.preprocessing import StandardScaler\n",
    "sc_X_H = StandardScaler()\n",
    "X_holdout_sc = sc_X_H.fit_transform(X_holdout)"
   ]
  },
  {
   "cell_type": "code",
   "execution_count": 120,
   "metadata": {
    "scrolled": true
   },
   "outputs": [
    {
     "data": {
      "text/plain": [
       "(3234316, 160)"
      ]
     },
     "execution_count": 120,
     "metadata": {},
     "output_type": "execute_result"
    }
   ],
   "source": [
    "X_train_sc.shape"
   ]
  },
  {
   "cell_type": "code",
   "execution_count": 121,
   "metadata": {
    "scrolled": true
   },
   "outputs": [
    {
     "data": {
      "text/plain": [
       "array([[-0.24137351, -0.15103571, -0.06410775, ..., -0.12789163,\n",
       "        -0.11569559, -0.20453498],\n",
       "       [-0.24137351, -0.15103571, -0.06410775, ..., -0.12789163,\n",
       "        -0.11569559, -0.20453498],\n",
       "       [-0.24137351, -0.15103571, -0.06410775, ..., -0.12789163,\n",
       "        -0.11569559, -0.20453498],\n",
       "       ..., \n",
       "       [-0.24137351, -0.15103571, -0.06410775, ..., -0.12789163,\n",
       "        -0.11569559, -0.20453498],\n",
       "       [-0.24137351, -0.15103571, -0.06410775, ..., -0.12789163,\n",
       "        -0.11569559, -0.20453498],\n",
       "       [-0.24137351, -0.15103571, -0.06410775, ..., -0.12789163,\n",
       "        -0.11569559, -0.20453498]])"
      ]
     },
     "execution_count": 121,
     "metadata": {},
     "output_type": "execute_result"
    }
   ],
   "source": [
    "X_train_sc"
   ]
  },
  {
   "cell_type": "code",
   "execution_count": 122,
   "metadata": {
    "scrolled": true
   },
   "outputs": [
    {
     "data": {
      "text/plain": [
       "(3234316,)"
      ]
     },
     "execution_count": 122,
     "metadata": {},
     "output_type": "execute_result"
    }
   ],
   "source": [
    "y_train.shape"
   ]
  },
  {
   "cell_type": "code",
   "execution_count": 123,
   "metadata": {
    "scrolled": true
   },
   "outputs": [
    {
     "data": {
      "text/plain": [
       "array([0, 1, 0, ..., 0, 0, 0], dtype=int64)"
      ]
     },
     "execution_count": 123,
     "metadata": {},
     "output_type": "execute_result"
    }
   ],
   "source": [
    "y_train"
   ]
  },
  {
   "cell_type": "code",
   "execution_count": 124,
   "metadata": {
    "scrolled": true
   },
   "outputs": [
    {
     "data": {
      "text/plain": [
       "(808580, 160)"
      ]
     },
     "execution_count": 124,
     "metadata": {},
     "output_type": "execute_result"
    }
   ],
   "source": [
    "X_test_sc.shape"
   ]
  },
  {
   "cell_type": "code",
   "execution_count": 125,
   "metadata": {
    "scrolled": true
   },
   "outputs": [
    {
     "data": {
      "text/plain": [
       "(4577464, 160)"
      ]
     },
     "execution_count": 125,
     "metadata": {},
     "output_type": "execute_result"
    }
   ],
   "source": [
    "X_holdout_sc.shape"
   ]
  },
  {
   "cell_type": "markdown",
   "metadata": {},
   "source": [
    "### Result:\n",
    "\n",
    "#### For analysis:\n",
    "X_train_sc\n",
    "\n",
    "y_train\n",
    "\n",
    "X_test_sc\n",
    "\n",
    "y_test\n",
    "\n",
    "X_holdout_sc"
   ]
  },
  {
   "cell_type": "markdown",
   "metadata": {},
   "source": [
    "### Functions"
   ]
  },
  {
   "cell_type": "code",
   "execution_count": 68,
   "metadata": {
    "scrolled": true
   },
   "outputs": [
    {
     "name": "stdout",
     "output_type": "stream",
     "text": [
      "Wall time: 0 ns\n"
     ]
    }
   ],
   "source": [
    "%%time\n",
    "\n",
    "def logistic_model(X_trn, y_trn, X_tst, y_tst):\n",
    "    \"\"\"create a function for logistic regression\"\"\"\n",
    "    \n",
    "    logreg = LogisticRegression(penalty='l1')\n",
    "    logreg.fit(X_trn, y_trn)\n",
    "    y_pred = logreg.predict(X_tst)\n",
    "\n",
    "    return get_scores(y_tst, y_pred)\n",
    "\n",
    "def logistic_model_w(X_trn, y_trn, X_tst, y_tst):\n",
    "    \"\"\"create a function for logistic regression\"\"\"\n",
    "    logreg = LogisticRegression(penalty='l1', class_weight={0:.1, 1:.9})\n",
    "    logreg.fit(X_trn, y_trn)\n",
    "    y_pred = logreg.predict(X_tst)\n",
    "\n",
    "    return get_scores(y_tst, y_pred)\n",
    "\n",
    "def get_scores(y_tst, pred):\n",
    "    print('Accuracy Score: {}\\n'.format(accuracy_score(y_tst, pred)))\n",
    "    print('Average Precision Score: {}\\n'.format(average_precision_score(y_tst, pred))) \n",
    "    print('Average F1 Score: {}'.format(f1_score(y_tst, pred)))\n",
    "\n",
    "def model_scores(y_tst, pred):\n",
    "    print('Accuracy Score: {}\\n'.format(accuracy_score(y_tst, pred)))\n",
    "    print('Average Precision Score: {}\\n'.format(average_precision_score(y_tst, pred))) \n",
    "    print('Average F1 Score: {}'.format(f1_score(y_tst, pred)))\n",
    "    \n",
    "    cnf_matrix=confusion_matrix(y_tst, pred)\n",
    "\n",
    "    fig= plt.figure(figsize=(6,3))\n",
    "\n",
    "    sns.heatmap(cnf_matrix, cmap=\"coolwarm_r\", annot=True, linewidths=0.5)\n",
    "    plt.title(\"Confusion_matrix\")\n",
    "    plt.xlabel(\"Predicted_class\")\n",
    "    plt.ylabel(\"Real class\")\n",
    "    plt.show()\n",
    "    print(\"\\n----------Classification Report------------------------------------\")\n",
    "    print(classification_report(y_tst,pred))\n",
    "    \n",
    "def make_roc_curve(estimator, X_trn, y_trn, X_tst, y_tst):\n",
    "    # ROC_AUC score\n",
    "    y_pred_score = estimator.fit(X_trn, y_trn.values.ravel()).decision_function(X_tst.values)\n",
    "\n",
    "    fp, tp, thresholds = roc_curve(y_tst.values.ravel(), y_pred_score)\n",
    "    roc_auc = auc(fp,tp)\n",
    "\n",
    "    # Plot ROC\n",
    "    plt.title('ROC_CURVE')\n",
    "    plt.plot(fp, tp, 'b',label='AUC = %0.2f'% roc_auc)\n",
    "    plt.legend(loc='lower right')\n",
    "    plt.plot([0,1],[0,1],'r--')\n",
    "    plt.xlim([-0.1,1.0])\n",
    "    plt.ylim([-0.1,1.01])\n",
    "    plt.ylabel('True Positive Rate')\n",
    "    plt.xlabel('False Positive Rate')\n",
    "    plt.show()\n",
    "\n",
    "def make_roc_curve_1(estimator, X_trn, y_trn, X_tst, y_tst):\n",
    "    # ROC_AUC score\n",
    "    y_pred_score = estimator.fit(X_trn, y_trn).decision_function(X_tst)\n",
    "\n",
    "    fp, tp, thresholds = roc_curve(y_tst, y_pred_score)\n",
    "    roc_auc = auc(fp,tp)\n",
    "\n",
    "    # Plot ROC\n",
    "    plt.title('ROC_CURVE')\n",
    "    plt.plot(fp, tp, 'b',label='AUC = %0.2f'% roc_auc)\n",
    "    plt.legend(loc='lower right')\n",
    "    plt.plot([0,1],[0,1],'r--')\n",
    "    plt.xlim([-0.1,1.0])\n",
    "    plt.ylim([-0.1,1.01])\n",
    "    plt.ylabel('True Positive Rate')\n",
    "    plt.xlabel('False Positive Rate')\n",
    "    plt.show()"
   ]
  },
  {
   "cell_type": "markdown",
   "metadata": {},
   "source": [
    "<a id='4.1'></a>\n",
    "### Logistic Regression"
   ]
  },
  {
   "cell_type": "code",
   "execution_count": 127,
   "metadata": {
    "scrolled": true
   },
   "outputs": [
    {
     "name": "stdout",
     "output_type": "stream",
     "text": [
      "Wall time: 13min 3s\n"
     ]
    }
   ],
   "source": [
    "%%time\n",
    "# Instantiate the classifier: log\n",
    "log = OneVsRestClassifier(LogisticRegression())\n",
    "\n",
    "# Fit the classifier to the training data\n",
    "log.fit(X_train_sc, y_train)"
   ]
  },
  {
   "cell_type": "code",
   "execution_count": 128,
   "metadata": {
    "scrolled": true
   },
   "outputs": [
    {
     "name": "stdout",
     "output_type": "stream",
     "text": [
      "Accuracy Score: 0.8308145143337703\n",
      "\n",
      "Average Precision Score: 0.1828251994166065\n",
      "\n",
      "Average F1 Score: 0.07037429666476393\n"
     ]
    },
    {
     "data": {
      "image/png": "[encoded data removed]",
      "text/plain": [
       "<matplotlib.figure.Figure at 0x22c89283278>"
      ]
     },
     "metadata": {},
     "output_type": "display_data"
    },
    {
     "name": "stdout",
     "output_type": "stream",
     "text": [
      "\n",
      "----------Classification Report------------------------------------\n",
      "             precision    recall  f1-score   support\n",
      "\n",
      "          0       0.83      0.99      0.91    671406\n",
      "          1       0.52      0.04      0.07    137174\n",
      "\n",
      "avg / total       0.78      0.83      0.77    808580\n",
      "\n"
     ]
    }
   ],
   "source": [
    "# Predicting the Test set results\n",
    "log_pred = log.predict(X_test_sc)\n",
    "model_scores(y_test, log_pred)"
   ]
  },
  {
   "cell_type": "markdown",
   "metadata": {},
   "source": [
    "#### Use your model to predict values on holdout data"
   ]
  },
  {
   "cell_type": "code",
   "execution_count": 129,
   "metadata": {
    "collapsed": true,
    "scrolled": true
   },
   "outputs": [],
   "source": [
    "# Generate predictions: predictions\n",
    "predictions_log = log.predict_proba(X_holdout_sc)"
   ]
  },
  {
   "cell_type": "code",
   "execution_count": 131,
   "metadata": {
    "collapsed": true
   },
   "outputs": [],
   "source": [
    "# Predicting the Test set results\n",
    "log_pred_prob = log.predict_proba(X_test_sc)"
   ]
  },
  {
   "cell_type": "markdown",
   "metadata": {},
   "source": [
    "The ROC curve represents how the classifier is performing. The x-axis is the false positive rate and the y-axis is the true positive rate or recall. We want the ROC curve to be as close to the upper left hand corner as possible, which shows that we have classified all instances correctly. The area under the curve is the percentage of tradeoff between sensitivity (true positives) and specificity (1-false positives)."
   ]
  },
  {
   "cell_type": "code",
   "execution_count": 132,
   "metadata": {},
   "outputs": [
    {
     "data": {
      "image/png": "[encoded data removed]",
      "text/plain": [
       "<matplotlib.figure.Figure at 0x22c890c2ef0>"
      ]
     },
     "metadata": {},
     "output_type": "display_data"
    }
   ],
   "source": [
    "import scikitplot as skplt\n",
    "\n",
    "#y_true = # ground truth labels\n",
    "#y_probas = # predicted probabilities generated by sklearn classifier\n",
    "skplt.metrics.plot_roc_curve(y_test, log_pred_prob, curves='macro')\n",
    "plt.show()"
   ]
  },
  {
   "cell_type": "markdown",
   "metadata": {},
   "source": [
    "<a id='4.2'></a>\n",
    "## Decision Tree"
   ]
  },
  {
   "cell_type": "code",
   "execution_count": 133,
   "metadata": {
    "scrolled": true
   },
   "outputs": [
    {
     "name": "stdout",
     "output_type": "stream",
     "text": [
      "accuracy: 0.8310754656311063\n"
     ]
    }
   ],
   "source": [
    "# Import the necessary modules\n",
    "from sklearn.model_selection import train_test_split\n",
    "from sklearn.tree import DecisionTreeClassifier\n",
    "import numpy as np\n",
    "\n",
    "# Instantiate the classifier: dt_clf_4\n",
    "dt_clf_4 = DecisionTreeClassifier(max_depth=4)\n",
    "\n",
    "# Fit the classifier to the training set\n",
    "dt_clf_4.fit(X_train_sc, y_train)\n",
    "\n",
    "# Predict the labels of the test set: y_pred_4\n",
    "y_pred_4 = dt_clf_4.predict(X_test_sc)\n",
    "\n",
    "# Compute the accuracy of the predictions: accuracy\n",
    "accuracy = float(np.sum(y_pred_4==y_test))/y_test.shape[0]\n",
    "print(\"accuracy:\", accuracy)"
   ]
  },
  {
   "cell_type": "code",
   "execution_count": 134,
   "metadata": {
    "scrolled": true
   },
   "outputs": [
    {
     "name": "stdout",
     "output_type": "stream",
     "text": [
      "Accuracy Score: 0.8310754656311063\n",
      "\n",
      "Average Precision Score: 0.17373024120503386\n",
      "\n",
      "Average F1 Score: 0.015709560492617226\n"
     ]
    },
    {
     "data": {
      "image/png": "[encoded data removed]",
      "text/plain": [
       "<matplotlib.figure.Figure at 0x22ca52b6c50>"
      ]
     },
     "metadata": {},
     "output_type": "display_data"
    },
    {
     "name": "stdout",
     "output_type": "stream",
     "text": [
      "\n",
      "----------Classification Report------------------------------------\n",
      "             precision    recall  f1-score   support\n",
      "\n",
      "          0       0.83      1.00      0.91    671406\n",
      "          1       0.68      0.01      0.02    137174\n",
      "\n",
      "avg / total       0.81      0.83      0.76    808580\n",
      "\n"
     ]
    }
   ],
   "source": [
    "# Predicting the Test set results\n",
    "dt_pred = dt_clf_4.predict(X_test_sc)\n",
    "model_scores(y_test, dt_pred)"
   ]
  },
  {
   "cell_type": "code",
   "execution_count": 135,
   "metadata": {
    "collapsed": true,
    "scrolled": true
   },
   "outputs": [],
   "source": [
    "# Predict the labels of the test set: y_pred_4\n",
    "y_pred_4_prob = dt_clf_4.predict_proba(X_test_sc)"
   ]
  },
  {
   "cell_type": "code",
   "execution_count": 136,
   "metadata": {
    "scrolled": true
   },
   "outputs": [
    {
     "data": {
      "image/png": "[encoded data removed]",
      "text/plain": [
       "<matplotlib.figure.Figure at 0x22d302d6780>"
      ]
     },
     "metadata": {},
     "output_type": "display_data"
    }
   ],
   "source": [
    "import scikitplot as skplt\n",
    "\n",
    "#y_true = # ground truth labels\n",
    "#y_probas = # predicted probabilities generated by sklearn classifier\n",
    "skplt.metrics.plot_roc_curve(y_test, y_pred_4_prob, curves='macro')\n",
    "plt.show()"
   ]
  },
  {
   "cell_type": "markdown",
   "metadata": {},
   "source": [
    "<a id='4.3'></a>\n",
    "# Random Forest Classifier\n",
    "\n",
    "Random Forest is an ensemble method that will do both classification and regression. Random forest takes a subsample of the data set using a technique called bootstrapping. What bootstrap does is it keeps the same length of the data but replaces on observation with a random observation from that sample. With this technique you may get multiples of the same observation, but the idea is that you are covering the entire population. From this sample it then generates a set of decisions based on a random sample of features. It decides the threshold of the feature, and makes a split. Each of the trees MSE value is averaged together to output the accuracy.\n",
    "\n",
    "Random Forest is a part of the CART (Classification and Regression Trees). The tree series stems off the basic idea of a decision tree with rules that split the data into different nodes.\n",
    "\n",
    "First, the Random Forest will be run without undersample or oversample.  Then it will be run with undersample and oversample."
   ]
  },
  {
   "cell_type": "code",
   "execution_count": 137,
   "metadata": {
    "collapsed": true,
    "scrolled": true
   },
   "outputs": [],
   "source": [
    "from sklearn.ensemble import RandomForestClassifier\n",
    "from sklearn.model_selection import GridSearchCV\n",
    "from sklearn.model_selection import RandomizedSearchCV\n",
    "from sklearn.metrics import confusion_matrix"
   ]
  },
  {
   "cell_type": "code",
   "execution_count": 138,
   "metadata": {
    "collapsed": true,
    "scrolled": true
   },
   "outputs": [],
   "source": [
    "#Time permitting, I would have used these params with Randomized Search CV\n",
    "# rf_params = {\n",
    "#    'n_estimators' : np.arange(100, 300, 50),\n",
    "#    'criterion' : ['gini','entropy'],\n",
    "#    'max_features' : ['auto', 'sqrt', 'log2'],\n",
    "#    'max_depth': np.arange(1, 10, 1),\n",
    "#    'min_samples_split' : np.arange(2, 10, 1)\n",
    "# }"
   ]
  },
  {
   "cell_type": "code",
   "execution_count": 139,
   "metadata": {
    "scrolled": true
   },
   "outputs": [
    {
     "name": "stdout",
     "output_type": "stream",
     "text": [
      "Wall time: 3min 56s\n"
     ]
    }
   ],
   "source": [
    "%%time\n",
    "\n",
    "rf = RandomForestClassifier()\n",
    "rf_model = rf.fit(X_train_sc, y_train)\n",
    "\n",
    "winsound.Beep(500,10000)"
   ]
  },
  {
   "cell_type": "code",
   "execution_count": 140,
   "metadata": {
    "collapsed": true,
    "scrolled": true
   },
   "outputs": [],
   "source": [
    "rf_pred = rf_model.predict(X_test_sc)"
   ]
  },
  {
   "cell_type": "code",
   "execution_count": 141,
   "metadata": {
    "collapsed": true,
    "scrolled": true
   },
   "outputs": [],
   "source": [
    "# Generate predictions: predictions\n",
    "predictions_rf = rf_model.predict_proba(X_holdout_sc)\n",
    "\n",
    "winsound.Beep(500,10000)"
   ]
  },
  {
   "cell_type": "code",
   "execution_count": 113,
   "metadata": {
    "collapsed": true,
    "scrolled": true
   },
   "outputs": [],
   "source": [
    "#Time permitting, I would used Randomized Search CV\n",
    "\n",
    "# %%time\n",
    "\n",
    "# rf = RandomForestClassifier()\n",
    "# grid_search = GridSearchCV(estimator = rf,\n",
    "#                             param_grid = rf_params,\n",
    "#                            scoring = 'accuracy',\n",
    "#                             cv = 1,\n",
    "#                             n_jobs = -1)\n",
    "# rf_grid = GridSearchCV(rf, param_grid=rf_params)\n",
    "# rf_model = rf_grid.fit(X_train_sc, y_train)\n",
    "\n",
    "# rf_pred = rf_model.predict(X_test_sc)\n",
    "\n",
    "# winsound.Beep(500,10000)"
   ]
  },
  {
   "cell_type": "code",
   "execution_count": 142,
   "metadata": {
    "scrolled": true
   },
   "outputs": [
    {
     "name": "stdout",
     "output_type": "stream",
     "text": [
      "Accuracy Score: 0.8324952385663756\n",
      "\n",
      "Average Precision Score: 0.19144528029836885\n",
      "\n",
      "Average F1 Score: 0.10054389331987436\n"
     ]
    },
    {
     "data": {
      "image/png": "[encoded data removed]",
      "text/plain": [
       "<matplotlib.figure.Figure at 0x22d2f43beb8>"
      ]
     },
     "metadata": {},
     "output_type": "display_data"
    },
    {
     "name": "stdout",
     "output_type": "stream",
     "text": [
      "\n",
      "----------Classification Report------------------------------------\n",
      "             precision    recall  f1-score   support\n",
      "\n",
      "          0       0.84      0.99      0.91    671406\n",
      "          1       0.56      0.06      0.10    137174\n",
      "\n",
      "avg / total       0.79      0.83      0.77    808580\n",
      "\n"
     ]
    }
   ],
   "source": [
    "model_scores(y_test, rf_pred)"
   ]
  },
  {
   "cell_type": "code",
   "execution_count": 143,
   "metadata": {
    "collapsed": true,
    "scrolled": true
   },
   "outputs": [],
   "source": [
    "# Predict the labels of the test set: y_pred_4\n",
    "y_pred_rf_prob = rf_model.predict_proba(X_test_sc)"
   ]
  },
  {
   "cell_type": "code",
   "execution_count": 144,
   "metadata": {
    "scrolled": true
   },
   "outputs": [
    {
     "data": {
      "image/png": "[encoded data removed]",
      "text/plain": [
       "<matplotlib.figure.Figure at 0x22d3007e748>"
      ]
     },
     "metadata": {},
     "output_type": "display_data"
    }
   ],
   "source": [
    "import scikitplot as skplt\n",
    "\n",
    "#y_true = # ground truth labels\n",
    "#y_probas = # predicted probabilities generated by sklearn classifier\n",
    "skplt.metrics.plot_roc_curve(y_test, y_pred_rf_prob, curves='macro')\n",
    "plt.show()"
   ]
  },
  {
   "cell_type": "markdown",
   "metadata": {},
   "source": [
    "<a id='4.4'></a>\n",
    "# XGBoost\n",
    "\n",
    "'Extreme Gradient Boosting' is another ensemble method that can handle both regression and classification. XGBoost is known for its speed and model performance. New models are added to the original to correct errors made by the original. Gradient boosting creates new models that predict the errors of the previous model and add them together for the final prediction. XGBoost uses gradient descent algorithm to minimize the loss when adding the new models. Gradient Descent is an itterative optimization algorithm that uses learning rate to find the optimal local minimum."
   ]
  },
  {
   "cell_type": "code",
   "execution_count": 69,
   "metadata": {
    "collapsed": true
   },
   "outputs": [],
   "source": [
    "# Create the DMatrix: dmatrix\n",
    "dmatrix = xgb.DMatrix(data=X_train_sc, label=y_train)\n",
    "\n",
    "winsound.Beep(500,10000)"
   ]
  },
  {
   "cell_type": "code",
   "execution_count": 146,
   "metadata": {
    "collapsed": true
   },
   "outputs": [],
   "source": [
    "# Create the parameter dictionary: params\n",
    "params = {\"objective\":\"reg:logistic\", \"max_depth\":3}\n",
    "\n",
    "# Perform cross-validation: cv_results\n",
    "cv_results = xgb.cv(dtrain=churn_dmatrix, params=params, nfold=3, num_boost_round=5, metrics=\"auc\", as_pandas=True, early_stopping_rounds=True, seed=123)\n",
    "\n",
    "winsound.Beep(500,10000)"
   ]
  },
  {
   "cell_type": "code",
   "execution_count": 147,
   "metadata": {},
   "outputs": [
    {
     "name": "stdout",
     "output_type": "stream",
     "text": [
      "   test-auc-mean  test-auc-std  train-auc-mean  train-auc-std\n",
      "0       0.617185      0.000354        0.617185       0.000177\n",
      "1       0.649586      0.000200        0.649586       0.000111\n",
      "2       0.652531      0.000246        0.652534       0.000120\n",
      "3       0.657518      0.000267        0.657517       0.000144\n",
      "4       0.661988      0.000484        0.662035       0.000134\n",
      "\n",
      "auc: 0.661988\n"
     ]
    }
   ],
   "source": [
    "# Print cv_results\n",
    "print(cv_results)\n",
    "\n",
    "# Print the AUC\n",
    "print(\"\\nauc: %f\" % ((cv_results[\"test-auc-mean\"]).iloc[-1]))"
   ]
  },
  {
   "cell_type": "code",
   "execution_count": 149,
   "metadata": {
    "scrolled": true
   },
   "outputs": [
    {
     "name": "stdout",
     "output_type": "stream",
     "text": [
      "   test-auc-mean  test-auc-std  train-auc-mean  train-auc-std\n",
      "0       0.617185      0.000354        0.617185       0.000177\n",
      "1       0.649586      0.000200        0.649586       0.000111\n",
      "2       0.652531      0.000246        0.652534       0.000120\n",
      "3       0.657518      0.000267        0.657517       0.000144\n",
      "4       0.661988      0.000484        0.662035       0.000134\n",
      "\n",
      "auc: 0.661988\n"
     ]
    }
   ],
   "source": [
    "# Create the DMatrix: churn_dmatrix\n",
    "churn_dmatrix = xgb.DMatrix(data=X_train_sc, label=y_train)\n",
    "\n",
    "# Create the parameter dictionary: params\n",
    "params = {\"objective\":\"reg:logistic\", \"max_depth\":3}\n",
    "\n",
    "# Perform cross-validation: cv_results\n",
    "cv_results = xgb.cv(dtrain=churn_dmatrix, params=params, nfold=3, num_boost_round=5, metrics=\"auc\", as_pandas=True, early_stopping_rounds=True, seed=123)\n",
    "\n",
    "# Print cv_results\n",
    "print(cv_results)\n",
    "\n",
    "# Print the AUC\n",
    "print(\"\\nauc: %f\" % ((cv_results[\"test-auc-mean\"]).iloc[-1]))\n",
    "\n",
    "winsound.Beep(500,10000)"
   ]
  },
  {
   "cell_type": "code",
   "execution_count": 150,
   "metadata": {
    "scrolled": true
   },
   "outputs": [
    {
     "name": "stdout",
     "output_type": "stream",
     "text": [
      "accuracy: 0.831056\n"
     ]
    }
   ],
   "source": [
    "# Instantiate the XGBClassifier: xg_cl\n",
    "xg_cl = xgb.XGBClassifier(objective='binary:logistic', n_estimators=10, seed=123)\n",
    "\n",
    "# Fit the classifier to the training set\n",
    "xg_cl.fit(X_train_sc, y_train)\n",
    "\n",
    "# Predict the labels of the test set: preds\n",
    "xgb_preds = xg_cl.predict(X_test_sc)\n",
    "\n",
    "# Compute the accuracy: accuracy\n",
    "accuracy = float(np.sum(xgb_preds==y_test))/y_test.shape[0]\n",
    "print(\"accuracy: %f\" % (accuracy))\n",
    "\n",
    "winsound.Beep(500,10000)"
   ]
  },
  {
   "cell_type": "code",
   "execution_count": 71,
   "metadata": {
    "collapsed": true,
    "scrolled": false
   },
   "outputs": [],
   "source": [
    "# Create the DMatrix: housing_dmatrix\n",
    "dmatrix = xgb.DMatrix(data=X_train_sc, label=y_train)\n",
    "\n",
    "# Create the parameter dictionary: params\n",
    "params = {\"objective\":\"binary:logistic\", \"max_depth\":4}\n",
    "\n",
    "# Train the model: xg_reg\n",
    "xg_reg = xgb.train(params=params, dtrain=dmatrix, num_boost_round=10)\n",
    "\n",
    "winsound.Beep(500,10000)"
   ]
  },
  {
   "cell_type": "code",
   "execution_count": 86,
   "metadata": {},
   "outputs": [
    {
     "data": {
      "image/png": "[encoded data removed]",
      "text/plain": [
       "<matplotlib.figure.Figure at 0x19d333e8cf8>"
      ]
     },
     "metadata": {},
     "output_type": "display_data"
    }
   ],
   "source": [
    "# Plot the feature importances\n",
    "#plt.subplots(figsize=(12,3))\n",
    "#xgb.plot_importance(xg_reg)\n",
    "fig, ax = plt.subplots(figsize=(15, 15))\n",
    "xgb.plot_importance(xg_reg, ax=ax)\n",
    "plt.show()\n",
    "\n",
    "winsound.Beep(500,10000)"
   ]
  },
  {
   "cell_type": "markdown",
   "metadata": {},
   "source": [
    "Most important features:\n",
    "    \n",
    "    1.F52\n",
    "    2.F89\n",
    "    3.F0\n",
    "    4.F114\n",
    "    5.F26: "
   ]
  },
  {
   "cell_type": "code",
   "execution_count": 147,
   "metadata": {},
   "outputs": [
    {
     "data": {
      "text/plain": [
       "Index(['click', 'C1', 'C15', 'C16', 'C17', 'C18', 'C19', 'C21', 'dct_2',\n",
       "       'dct_3', 'dct_5', 'ac_1', 'ac_2', 'ac_3', 'ac_4', 'ac_5', 'ac_6',\n",
       "       'ac_7', 'ac_99', 'sc_1', 'sc_2', 'sc_3', 'sc_4', 'sc_5', 'sc_6', 'sc_7',\n",
       "       'sc_8', 'sc_99'],\n",
       "      dtype='object')"
      ]
     },
     "execution_count": 147,
     "metadata": {},
     "output_type": "execute_result"
    }
   ],
   "source": [
    "comb_data.columns"
   ]
  },
  {
   "cell_type": "code",
   "execution_count": 152,
   "metadata": {
    "scrolled": true
   },
   "outputs": [
    {
     "name": "stdout",
     "output_type": "stream",
     "text": [
      "Accuracy Score: 0.8310556778550051\n",
      "\n",
      "Average Precision Score: 0.1736939366838118\n",
      "\n",
      "Average F1 Score: 0.01583539260678804\n"
     ]
    },
    {
     "data": {
      "image/png": "[encoded data removed]",
      "text/plain": [
       "<matplotlib.figure.Figure at 0x22d30928cf8>"
      ]
     },
     "metadata": {},
     "output_type": "display_data"
    },
    {
     "name": "stdout",
     "output_type": "stream",
     "text": [
      "\n",
      "----------Classification Report------------------------------------\n",
      "             precision    recall  f1-score   support\n",
      "\n",
      "          0       0.83      1.00      0.91    671406\n",
      "          1       0.67      0.01      0.02    137174\n",
      "\n",
      "avg / total       0.80      0.83      0.76    808580\n",
      "\n"
     ]
    }
   ],
   "source": [
    "model_scores(y_test, xgb_preds)"
   ]
  },
  {
   "cell_type": "code",
   "execution_count": 155,
   "metadata": {
    "collapsed": true,
    "scrolled": true
   },
   "outputs": [],
   "source": [
    "# Predict the labels of the test set: y_pred_4\n",
    "y_pred_xgb_prob = xg_cl.predict_proba(X_test_sc)\n",
    "\n",
    "winsound.Beep(500,10000)"
   ]
  },
  {
   "cell_type": "code",
   "execution_count": 156,
   "metadata": {
    "scrolled": true
   },
   "outputs": [
    {
     "data": {
      "image/png": "[encoded data removed]",
      "text/plain": [
       "<matplotlib.figure.Figure at 0x22d33dcba58>"
      ]
     },
     "metadata": {},
     "output_type": "display_data"
    }
   ],
   "source": [
    "import scikitplot as skplt\n",
    "\n",
    "#y_true = # ground truth labels\n",
    "#y_probas = # predicted probabilities generated by sklearn classifier\n",
    "skplt.metrics.plot_roc_curve(y_test, y_pred_xgb_prob, curves='macro')\n",
    "plt.show()\n",
    "\n",
    "winsound.Beep(500,10000)"
   ]
  },
  {
   "cell_type": "markdown",
   "metadata": {
    "collapsed": true
   },
   "source": [
    "<a id='5'></a>\n",
    "## Results:\n",
    "\n",
    "Of the four models that were used for this analysis: Logistic Regression, Decision Tree, Random Forest, and XGBoost, the best model was Random Forest with an accuracy of .83 and AUC of .72.\n",
    "\n",
    "| Model: |Logistic Regresion|Decision Tree|Random Forest Classifier|XGBosst|\n",
    "|--------|------------------|-------------|------------------------|-------|\n",
    "|Accuracy|        .83       |      .83    |           .83          |  .83  |\n",
    "|--------|------------------|-------------|------------------------|-------|\n",
    "|  AUC   |        .70       |      .64    |           .73          |  .66  |"
   ]
  }
 ],
 "metadata": {
  "kernelspec": {
   "display_name": "Python 3",
   "language": "python",
   "name": "python3"
  },
  "language_info": {
   "codemirror_mode": {
    "name": "ipython",
    "version": 3
   },
   "file_extension": ".py",
   "mimetype": "text/x-python",
   "name": "python",
   "nbconvert_exporter": "python",
   "pygments_lexer": "ipython3",
   "version": "3.6.3"
  }
 },
 "nbformat": 4,
 "nbformat_minor": 2
}
