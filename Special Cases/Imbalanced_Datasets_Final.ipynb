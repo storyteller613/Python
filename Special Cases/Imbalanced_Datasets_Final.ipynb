{
 "cells": [
  {
   "cell_type": "markdown",
   "metadata": {},
   "source": [
    "# Dealing with Imbalanced Data Sets\n",
    "\n",
    "Author: Jeff Gross\n",
    "\n",
    "The objective is to explore different approaches to tackling imbalanced data sets, in this case for fraud detection. This notebook will walk you through six classification algorithm with two over-sampling and three under-sampling techniques of working with unbalanced data, This data was retrieved from the kaggle website with the pre-processing step of the data already complete. \n",
    "\n",
    "Regular algorithms are often biased towards the majority class because of their loss functions attempt to optimize error rate, without taking the data distribution into consideration. In the worst case, minority examples are treated as outliers of the majority class and ignored.\n",
    "\n",
    "# Data Dictionary\n",
    "\n",
    "The dataset contains transactions made by credit cards in the month of September 2013 by european cardholders. All of the observations occur in a two day span, where we there were 492 frauds out of 284,807 transactions. The dataset was collected and analysed by the Machine Learning Group of ULB (Université Libre de Bruxelles) on big data mining and fraud detection. The data only contains numerical variables which are the result of a PCA transformation. The PCA transformation was for security and confidentiality reasons.\n",
    "\n",
    "* Features V1, V2, ... V28 are the principal components obtained with PCA\n",
    "* 'Time' contains the seconds elapsed between each transaction and the first transaction in the dataset\n",
    "* 'Amount' is the transaction Amount, this feature can be used for example-dependant cost-senstive learning. \n",
    "* 'Class' is the response variable and it takes value **1 in case of fraud and 0 otherwise.**\n",
    "\n",
    "\n",
    "**Contents:**\n",
    "* [Exploratory Data Analysis](#0)\n",
    "    * [Response Variable](#0.1)\n",
    "    * [Other Features](#0.2)\n",
    "    \n",
    "    \n",
    "* [Imbalanced Data](#1)\n",
    "\n",
    "\n",
    "* [Models](#2)\n",
    "    * [Logistic Regression with Imbalanced Data](#2.1)\n",
    "        * [Undersampling Techniques](#2.1.1)\n",
    "        * [Oversampling Techniques](#2.1.2)\n",
    "\n",
    "    * [Random Forest Classifier](#2.2)\n",
    "        * [Undersampling Techniques](#2.2.1)\n",
    "        * [Oversampling Techniques](#2.2.2)\n",
    "        \n",
    "    * [Support Vector Classifier](#2.3)\n",
    "        * [Undersampling Techniques](#2.3.1)\n",
    "        * [Oversampling Techniques](#2.3.2)\n",
    "    * [Extreme Gradient Boosting Classifier](#2.4)\n",
    "        * [Undersampling Techniques](#2.4.1)\n",
    "        * [Oversampling Techniques](#2.4.2)\n",
    "    * [Neural Network](#2.5)"
   ]
  },
  {
   "cell_type": "markdown",
   "metadata": {},
   "source": [
    "## Results\n",
    "\n",
    "The six different algorithms that were used in this study were logistic regression, random forest classifer, support vector classifier, XGBoost, and Neural Networks. The oversampling techniques were random over sampling and synthetic minority oversampling techinque (SMOTE). The undersampling techniques were random under sampling, edited nearest neighbor, and condensed nearest neighbors. I focused on the f1 score in my analysis.  It is also a valid measure of an accurate model. It is the harmonic mean of precision and recall, and will be more insensitive to imbalanced data.\n",
    "\n",
    "Of the six different algorithms that were used to predict this imbalanced data seet, the best algorithm was random forest classifier, without under or oversampling, with an average F1 score of .82.  Second place went to XGBoost without under or oversampling with an average F1 score of .68. Third place went to logistic regression utilizing an L1 regularization penalty with an average F1 score of .66 and logistic regression with under sampling utilizing edited nearest neighbors also with an average F1 score of .66. Fourth place went to Random Forest Classifier with oversampling using SMOTE with an average F1 score of .62. "
   ]
  },
  {
   "cell_type": "markdown",
   "metadata": {},
   "source": [
    "<a id='0'></a>\n",
    "# Exploratory Data Analysis\n",
    "In this first section of the notebook I will go through and explore some of the features. I will look at their structure in the dataset, look to validate the pre-processing steps, and visualize the data to get a better understanding.\n",
    "\n",
    "The dataset can be found here and downloaded for interactive use with this notebook:\n",
    "https://www.kaggle.com/dalpozz/creditcardfraud"
   ]
  },
  {
   "cell_type": "code",
   "execution_count": 1,
   "metadata": {
    "collapsed": true
   },
   "outputs": [],
   "source": [
    "import pandas as pd\n",
    "import numpy as np\n",
    "import matplotlib.pyplot as plt\n",
    "import seaborn as sns\n",
    "from collections import Counter\n",
    "import warnings\n",
    "warnings.filterwarnings('ignore')\n",
    "\n",
    "%matplotlib inline"
   ]
  },
  {
   "cell_type": "code",
   "execution_count": 2,
   "metadata": {
    "collapsed": true
   },
   "outputs": [],
   "source": [
    "# pandas function to read in a csv file\n",
    "df = pd.read_csv('creditcard.csv')"
   ]
  },
  {
   "cell_type": "code",
   "execution_count": 3,
   "metadata": {},
   "outputs": [
    {
     "name": "stdout",
     "output_type": "stream",
     "text": [
      "(284807, 31)\n"
     ]
    },
    {
     "data": {
      "text/html": [
       "<div>\n",
       "<style>\n",
       "    .dataframe thead tr:only-child th {\n",
       "        text-align: right;\n",
       "    }\n",
       "\n",
       "    .dataframe thead th {\n",
       "        text-align: left;\n",
       "    }\n",
       "\n",
       "    .dataframe tbody tr th {\n",
       "        vertical-align: top;\n",
       "    }\n",
       "</style>\n",
       "<table border=\"1\" class=\"dataframe\">\n",
       "  <thead>\n",
       "    <tr style=\"text-align: right;\">\n",
       "      <th></th>\n",
       "      <th>Time</th>\n",
       "      <th>V1</th>\n",
       "      <th>V2</th>\n",
       "      <th>V3</th>\n",
       "      <th>V4</th>\n",
       "      <th>V5</th>\n",
       "      <th>V6</th>\n",
       "      <th>V7</th>\n",
       "      <th>V8</th>\n",
       "      <th>V9</th>\n",
       "      <th>...</th>\n",
       "      <th>V21</th>\n",
       "      <th>V22</th>\n",
       "      <th>V23</th>\n",
       "      <th>V24</th>\n",
       "      <th>V25</th>\n",
       "      <th>V26</th>\n",
       "      <th>V27</th>\n",
       "      <th>V28</th>\n",
       "      <th>Amount</th>\n",
       "      <th>Class</th>\n",
       "    </tr>\n",
       "  </thead>\n",
       "  <tbody>\n",
       "    <tr>\n",
       "      <th>0</th>\n",
       "      <td>0.0</td>\n",
       "      <td>-1.359807</td>\n",
       "      <td>-0.072781</td>\n",
       "      <td>2.536347</td>\n",
       "      <td>1.378155</td>\n",
       "      <td>-0.338321</td>\n",
       "      <td>0.462388</td>\n",
       "      <td>0.239599</td>\n",
       "      <td>0.098698</td>\n",
       "      <td>0.363787</td>\n",
       "      <td>...</td>\n",
       "      <td>-0.018307</td>\n",
       "      <td>0.277838</td>\n",
       "      <td>-0.110474</td>\n",
       "      <td>0.066928</td>\n",
       "      <td>0.128539</td>\n",
       "      <td>-0.189115</td>\n",
       "      <td>0.133558</td>\n",
       "      <td>-0.021053</td>\n",
       "      <td>149.62</td>\n",
       "      <td>0</td>\n",
       "    </tr>\n",
       "    <tr>\n",
       "      <th>1</th>\n",
       "      <td>0.0</td>\n",
       "      <td>1.191857</td>\n",
       "      <td>0.266151</td>\n",
       "      <td>0.166480</td>\n",
       "      <td>0.448154</td>\n",
       "      <td>0.060018</td>\n",
       "      <td>-0.082361</td>\n",
       "      <td>-0.078803</td>\n",
       "      <td>0.085102</td>\n",
       "      <td>-0.255425</td>\n",
       "      <td>...</td>\n",
       "      <td>-0.225775</td>\n",
       "      <td>-0.638672</td>\n",
       "      <td>0.101288</td>\n",
       "      <td>-0.339846</td>\n",
       "      <td>0.167170</td>\n",
       "      <td>0.125895</td>\n",
       "      <td>-0.008983</td>\n",
       "      <td>0.014724</td>\n",
       "      <td>2.69</td>\n",
       "      <td>0</td>\n",
       "    </tr>\n",
       "    <tr>\n",
       "      <th>2</th>\n",
       "      <td>1.0</td>\n",
       "      <td>-1.358354</td>\n",
       "      <td>-1.340163</td>\n",
       "      <td>1.773209</td>\n",
       "      <td>0.379780</td>\n",
       "      <td>-0.503198</td>\n",
       "      <td>1.800499</td>\n",
       "      <td>0.791461</td>\n",
       "      <td>0.247676</td>\n",
       "      <td>-1.514654</td>\n",
       "      <td>...</td>\n",
       "      <td>0.247998</td>\n",
       "      <td>0.771679</td>\n",
       "      <td>0.909412</td>\n",
       "      <td>-0.689281</td>\n",
       "      <td>-0.327642</td>\n",
       "      <td>-0.139097</td>\n",
       "      <td>-0.055353</td>\n",
       "      <td>-0.059752</td>\n",
       "      <td>378.66</td>\n",
       "      <td>0</td>\n",
       "    </tr>\n",
       "    <tr>\n",
       "      <th>3</th>\n",
       "      <td>1.0</td>\n",
       "      <td>-0.966272</td>\n",
       "      <td>-0.185226</td>\n",
       "      <td>1.792993</td>\n",
       "      <td>-0.863291</td>\n",
       "      <td>-0.010309</td>\n",
       "      <td>1.247203</td>\n",
       "      <td>0.237609</td>\n",
       "      <td>0.377436</td>\n",
       "      <td>-1.387024</td>\n",
       "      <td>...</td>\n",
       "      <td>-0.108300</td>\n",
       "      <td>0.005274</td>\n",
       "      <td>-0.190321</td>\n",
       "      <td>-1.175575</td>\n",
       "      <td>0.647376</td>\n",
       "      <td>-0.221929</td>\n",
       "      <td>0.062723</td>\n",
       "      <td>0.061458</td>\n",
       "      <td>123.50</td>\n",
       "      <td>0</td>\n",
       "    </tr>\n",
       "    <tr>\n",
       "      <th>4</th>\n",
       "      <td>2.0</td>\n",
       "      <td>-1.158233</td>\n",
       "      <td>0.877737</td>\n",
       "      <td>1.548718</td>\n",
       "      <td>0.403034</td>\n",
       "      <td>-0.407193</td>\n",
       "      <td>0.095921</td>\n",
       "      <td>0.592941</td>\n",
       "      <td>-0.270533</td>\n",
       "      <td>0.817739</td>\n",
       "      <td>...</td>\n",
       "      <td>-0.009431</td>\n",
       "      <td>0.798278</td>\n",
       "      <td>-0.137458</td>\n",
       "      <td>0.141267</td>\n",
       "      <td>-0.206010</td>\n",
       "      <td>0.502292</td>\n",
       "      <td>0.219422</td>\n",
       "      <td>0.215153</td>\n",
       "      <td>69.99</td>\n",
       "      <td>0</td>\n",
       "    </tr>\n",
       "  </tbody>\n",
       "</table>\n",
       "<p>5 rows × 31 columns</p>\n",
       "</div>"
      ],
      "text/plain": [
       "   Time        V1        V2        V3        V4        V5        V6        V7  \\\n",
       "0   0.0 -1.359807 -0.072781  2.536347  1.378155 -0.338321  0.462388  0.239599   \n",
       "1   0.0  1.191857  0.266151  0.166480  0.448154  0.060018 -0.082361 -0.078803   \n",
       "2   1.0 -1.358354 -1.340163  1.773209  0.379780 -0.503198  1.800499  0.791461   \n",
       "3   1.0 -0.966272 -0.185226  1.792993 -0.863291 -0.010309  1.247203  0.237609   \n",
       "4   2.0 -1.158233  0.877737  1.548718  0.403034 -0.407193  0.095921  0.592941   \n",
       "\n",
       "         V8        V9  ...         V21       V22       V23       V24  \\\n",
       "0  0.098698  0.363787  ...   -0.018307  0.277838 -0.110474  0.066928   \n",
       "1  0.085102 -0.255425  ...   -0.225775 -0.638672  0.101288 -0.339846   \n",
       "2  0.247676 -1.514654  ...    0.247998  0.771679  0.909412 -0.689281   \n",
       "3  0.377436 -1.387024  ...   -0.108300  0.005274 -0.190321 -1.175575   \n",
       "4 -0.270533  0.817739  ...   -0.009431  0.798278 -0.137458  0.141267   \n",
       "\n",
       "        V25       V26       V27       V28  Amount  Class  \n",
       "0  0.128539 -0.189115  0.133558 -0.021053  149.62      0  \n",
       "1  0.167170  0.125895 -0.008983  0.014724    2.69      0  \n",
       "2 -0.327642 -0.139097 -0.055353 -0.059752  378.66      0  \n",
       "3  0.647376 -0.221929  0.062723  0.061458  123.50      0  \n",
       "4 -0.206010  0.502292  0.219422  0.215153   69.99      0  \n",
       "\n",
       "[5 rows x 31 columns]"
      ]
     },
     "execution_count": 3,
     "metadata": {},
     "output_type": "execute_result"
    }
   ],
   "source": [
    "print(df.shape)\n",
    "df.head()"
   ]
  },
  {
   "cell_type": "code",
   "execution_count": 4,
   "metadata": {
    "scrolled": true
   },
   "outputs": [
    {
     "name": "stdout",
     "output_type": "stream",
     "text": [
      "<class 'pandas.core.frame.DataFrame'>\n",
      "RangeIndex: 284807 entries, 0 to 284806\n",
      "Data columns (total 31 columns):\n",
      "Time      284807 non-null float64\n",
      "V1        284807 non-null float64\n",
      "V2        284807 non-null float64\n",
      "V3        284807 non-null float64\n",
      "V4        284807 non-null float64\n",
      "V5        284807 non-null float64\n",
      "V6        284807 non-null float64\n",
      "V7        284807 non-null float64\n",
      "V8        284807 non-null float64\n",
      "V9        284807 non-null float64\n",
      "V10       284807 non-null float64\n",
      "V11       284807 non-null float64\n",
      "V12       284807 non-null float64\n",
      "V13       284807 non-null float64\n",
      "V14       284807 non-null float64\n",
      "V15       284807 non-null float64\n",
      "V16       284807 non-null float64\n",
      "V17       284807 non-null float64\n",
      "V18       284807 non-null float64\n",
      "V19       284807 non-null float64\n",
      "V20       284807 non-null float64\n",
      "V21       284807 non-null float64\n",
      "V22       284807 non-null float64\n",
      "V23       284807 non-null float64\n",
      "V24       284807 non-null float64\n",
      "V25       284807 non-null float64\n",
      "V26       284807 non-null float64\n",
      "V27       284807 non-null float64\n",
      "V28       284807 non-null float64\n",
      "Amount    284807 non-null float64\n",
      "Class     284807 non-null int64\n",
      "dtypes: float64(30), int64(1)\n",
      "memory usage: 67.4 MB\n"
     ]
    }
   ],
   "source": [
    "df.info()"
   ]
  },
  {
   "cell_type": "markdown",
   "metadata": {},
   "source": [
    "<a id='0.1'></a>\n",
    "## Response Variable / Dependent Variable\n",
    "After getting an understanding for the structure of the data we can dive into different inquiries about certain features of the data. Like mentioned in the introduction the class has a very imbalanced data set where majority of the observations are non-fraudulant. There are only 492 fraud observations as it is noted below. "
   ]
  },
  {
   "cell_type": "code",
   "execution_count": 5,
   "metadata": {},
   "outputs": [
    {
     "data": {
      "text/plain": [
       "Counter({0: 284315, 1: 492})"
      ]
     },
     "execution_count": 5,
     "metadata": {},
     "output_type": "execute_result"
    }
   ],
   "source": [
    "Counter(df['Class'])"
   ]
  },
  {
   "cell_type": "code",
   "execution_count": 6,
   "metadata": {},
   "outputs": [
    {
     "data": {
      "image/png": "[encoded data removed]",
      "text/plain": [
       "<matplotlib.figure.Figure at 0xed63860>"
      ]
     },
     "metadata": {},
     "output_type": "display_data"
    }
   ],
   "source": [
    "sns.countplot(df['Class']);\n",
    "plt.title('Class Distribution');"
   ]
  },
  {
   "cell_type": "markdown",
   "metadata": {},
   "source": [
    "Below is an interactive map that incorporates a box plot for any selected feature with the x-axis represented by Class. This is very useful because you can see how each of the features are represented by the class. You might have a few features that are majority for one class or another."
   ]
  },
  {
   "cell_type": "code",
   "execution_count": 7,
   "metadata": {},
   "outputs": [
    {
     "data": {
      "application/vnd.jupyter.widget-view+json": {
       "model_id": "89bb810f255440ad8536bcae4e9cf571",
       "version_major": 2,
       "version_minor": 0
      },
      "text/plain": [
       "A Jupyter Widget"
      ]
     },
     "metadata": {},
     "output_type": "display_data"
    }
   ],
   "source": [
    "# this is an interactive map that allows you to look at the boxplot between the response and other variables. \n",
    "from ipywidgets import interact\n",
    "%matplotlib inline\n",
    "\n",
    "column_name = list(df.columns)\n",
    "\n",
    "@interact\n",
    "def box_plot(Feature= column_name):\n",
    "    sns.boxplot(df['Class'], df[Feature])"
   ]
  },
  {
   "cell_type": "markdown",
   "metadata": {},
   "source": [
    "We also know from the introduction that part of the pre-processing step was already completed, which we can see from zero missing values."
   ]
  },
  {
   "cell_type": "code",
   "execution_count": 8,
   "metadata": {
    "scrolled": true
   },
   "outputs": [
    {
     "data": {
      "text/plain": [
       "Time      0\n",
       "V1        0\n",
       "V2        0\n",
       "V3        0\n",
       "V4        0\n",
       "V5        0\n",
       "V6        0\n",
       "V7        0\n",
       "V8        0\n",
       "V9        0\n",
       "V10       0\n",
       "V11       0\n",
       "V12       0\n",
       "V13       0\n",
       "V14       0\n",
       "V15       0\n",
       "V16       0\n",
       "V17       0\n",
       "V18       0\n",
       "V19       0\n",
       "V20       0\n",
       "V21       0\n",
       "V22       0\n",
       "V23       0\n",
       "V24       0\n",
       "V25       0\n",
       "V26       0\n",
       "V27       0\n",
       "V28       0\n",
       "Amount    0\n",
       "Class     0\n",
       "dtype: int64"
      ]
     },
     "execution_count": 8,
     "metadata": {},
     "output_type": "execute_result"
    }
   ],
   "source": [
    "df.isnull().sum() # There is no missing or null values in this dataset"
   ]
  },
  {
   "cell_type": "markdown",
   "metadata": {},
   "source": [
    "Okay, so what does this dataset consist of? The describe function allows us to get a few of the descriptive statistics of each of the variables, which may be useful for the pca components since we do not necessarily know what they are. "
   ]
  },
  {
   "cell_type": "code",
   "execution_count": 9,
   "metadata": {
    "scrolled": true
   },
   "outputs": [
    {
     "data": {
      "text/html": [
       "<div>\n",
       "<style>\n",
       "    .dataframe thead tr:only-child th {\n",
       "        text-align: right;\n",
       "    }\n",
       "\n",
       "    .dataframe thead th {\n",
       "        text-align: left;\n",
       "    }\n",
       "\n",
       "    .dataframe tbody tr th {\n",
       "        vertical-align: top;\n",
       "    }\n",
       "</style>\n",
       "<table border=\"1\" class=\"dataframe\">\n",
       "  <thead>\n",
       "    <tr style=\"text-align: right;\">\n",
       "      <th></th>\n",
       "      <th>count</th>\n",
       "      <th>mean</th>\n",
       "      <th>std</th>\n",
       "      <th>min</th>\n",
       "      <th>25%</th>\n",
       "      <th>50%</th>\n",
       "      <th>75%</th>\n",
       "      <th>max</th>\n",
       "    </tr>\n",
       "  </thead>\n",
       "  <tbody>\n",
       "    <tr>\n",
       "      <th>Time</th>\n",
       "      <td>284807.0</td>\n",
       "      <td>9.481386e+04</td>\n",
       "      <td>47488.145955</td>\n",
       "      <td>0.000000</td>\n",
       "      <td>54201.500000</td>\n",
       "      <td>84692.000000</td>\n",
       "      <td>139320.500000</td>\n",
       "      <td>172792.000000</td>\n",
       "    </tr>\n",
       "    <tr>\n",
       "      <th>V1</th>\n",
       "      <td>284807.0</td>\n",
       "      <td>3.919560e-15</td>\n",
       "      <td>1.958696</td>\n",
       "      <td>-56.407510</td>\n",
       "      <td>-0.920373</td>\n",
       "      <td>0.018109</td>\n",
       "      <td>1.315642</td>\n",
       "      <td>2.454930</td>\n",
       "    </tr>\n",
       "    <tr>\n",
       "      <th>V2</th>\n",
       "      <td>284807.0</td>\n",
       "      <td>5.688174e-16</td>\n",
       "      <td>1.651309</td>\n",
       "      <td>-72.715728</td>\n",
       "      <td>-0.598550</td>\n",
       "      <td>0.065486</td>\n",
       "      <td>0.803724</td>\n",
       "      <td>22.057729</td>\n",
       "    </tr>\n",
       "    <tr>\n",
       "      <th>V3</th>\n",
       "      <td>284807.0</td>\n",
       "      <td>-8.769071e-15</td>\n",
       "      <td>1.516255</td>\n",
       "      <td>-48.325589</td>\n",
       "      <td>-0.890365</td>\n",
       "      <td>0.179846</td>\n",
       "      <td>1.027196</td>\n",
       "      <td>9.382558</td>\n",
       "    </tr>\n",
       "    <tr>\n",
       "      <th>V4</th>\n",
       "      <td>284807.0</td>\n",
       "      <td>2.782312e-15</td>\n",
       "      <td>1.415869</td>\n",
       "      <td>-5.683171</td>\n",
       "      <td>-0.848640</td>\n",
       "      <td>-0.019847</td>\n",
       "      <td>0.743341</td>\n",
       "      <td>16.875344</td>\n",
       "    </tr>\n",
       "    <tr>\n",
       "      <th>V5</th>\n",
       "      <td>284807.0</td>\n",
       "      <td>-1.552563e-15</td>\n",
       "      <td>1.380247</td>\n",
       "      <td>-113.743307</td>\n",
       "      <td>-0.691597</td>\n",
       "      <td>-0.054336</td>\n",
       "      <td>0.611926</td>\n",
       "      <td>34.801666</td>\n",
       "    </tr>\n",
       "    <tr>\n",
       "      <th>V6</th>\n",
       "      <td>284807.0</td>\n",
       "      <td>2.010663e-15</td>\n",
       "      <td>1.332271</td>\n",
       "      <td>-26.160506</td>\n",
       "      <td>-0.768296</td>\n",
       "      <td>-0.274187</td>\n",
       "      <td>0.398565</td>\n",
       "      <td>73.301626</td>\n",
       "    </tr>\n",
       "    <tr>\n",
       "      <th>V7</th>\n",
       "      <td>284807.0</td>\n",
       "      <td>-1.694249e-15</td>\n",
       "      <td>1.237094</td>\n",
       "      <td>-43.557242</td>\n",
       "      <td>-0.554076</td>\n",
       "      <td>0.040103</td>\n",
       "      <td>0.570436</td>\n",
       "      <td>120.589494</td>\n",
       "    </tr>\n",
       "    <tr>\n",
       "      <th>V8</th>\n",
       "      <td>284807.0</td>\n",
       "      <td>-1.927028e-16</td>\n",
       "      <td>1.194353</td>\n",
       "      <td>-73.216718</td>\n",
       "      <td>-0.208630</td>\n",
       "      <td>0.022358</td>\n",
       "      <td>0.327346</td>\n",
       "      <td>20.007208</td>\n",
       "    </tr>\n",
       "    <tr>\n",
       "      <th>V9</th>\n",
       "      <td>284807.0</td>\n",
       "      <td>-3.137024e-15</td>\n",
       "      <td>1.098632</td>\n",
       "      <td>-13.434066</td>\n",
       "      <td>-0.643098</td>\n",
       "      <td>-0.051429</td>\n",
       "      <td>0.597139</td>\n",
       "      <td>15.594995</td>\n",
       "    </tr>\n",
       "    <tr>\n",
       "      <th>V10</th>\n",
       "      <td>284807.0</td>\n",
       "      <td>1.768627e-15</td>\n",
       "      <td>1.088850</td>\n",
       "      <td>-24.588262</td>\n",
       "      <td>-0.535426</td>\n",
       "      <td>-0.092917</td>\n",
       "      <td>0.453923</td>\n",
       "      <td>23.745136</td>\n",
       "    </tr>\n",
       "    <tr>\n",
       "      <th>V11</th>\n",
       "      <td>284807.0</td>\n",
       "      <td>9.170318e-16</td>\n",
       "      <td>1.020713</td>\n",
       "      <td>-4.797473</td>\n",
       "      <td>-0.762494</td>\n",
       "      <td>-0.032757</td>\n",
       "      <td>0.739593</td>\n",
       "      <td>12.018913</td>\n",
       "    </tr>\n",
       "    <tr>\n",
       "      <th>V12</th>\n",
       "      <td>284807.0</td>\n",
       "      <td>-1.810658e-15</td>\n",
       "      <td>0.999201</td>\n",
       "      <td>-18.683715</td>\n",
       "      <td>-0.405571</td>\n",
       "      <td>0.140033</td>\n",
       "      <td>0.618238</td>\n",
       "      <td>7.848392</td>\n",
       "    </tr>\n",
       "    <tr>\n",
       "      <th>V13</th>\n",
       "      <td>284807.0</td>\n",
       "      <td>1.693438e-15</td>\n",
       "      <td>0.995274</td>\n",
       "      <td>-5.791881</td>\n",
       "      <td>-0.648539</td>\n",
       "      <td>-0.013568</td>\n",
       "      <td>0.662505</td>\n",
       "      <td>7.126883</td>\n",
       "    </tr>\n",
       "    <tr>\n",
       "      <th>V14</th>\n",
       "      <td>284807.0</td>\n",
       "      <td>1.479045e-15</td>\n",
       "      <td>0.958596</td>\n",
       "      <td>-19.214325</td>\n",
       "      <td>-0.425574</td>\n",
       "      <td>0.050601</td>\n",
       "      <td>0.493150</td>\n",
       "      <td>10.526766</td>\n",
       "    </tr>\n",
       "    <tr>\n",
       "      <th>V15</th>\n",
       "      <td>284807.0</td>\n",
       "      <td>3.482336e-15</td>\n",
       "      <td>0.915316</td>\n",
       "      <td>-4.498945</td>\n",
       "      <td>-0.582884</td>\n",
       "      <td>0.048072</td>\n",
       "      <td>0.648821</td>\n",
       "      <td>8.877742</td>\n",
       "    </tr>\n",
       "    <tr>\n",
       "      <th>V16</th>\n",
       "      <td>284807.0</td>\n",
       "      <td>1.392007e-15</td>\n",
       "      <td>0.876253</td>\n",
       "      <td>-14.129855</td>\n",
       "      <td>-0.468037</td>\n",
       "      <td>0.066413</td>\n",
       "      <td>0.523296</td>\n",
       "      <td>17.315112</td>\n",
       "    </tr>\n",
       "    <tr>\n",
       "      <th>V17</th>\n",
       "      <td>284807.0</td>\n",
       "      <td>-7.528491e-16</td>\n",
       "      <td>0.849337</td>\n",
       "      <td>-25.162799</td>\n",
       "      <td>-0.483748</td>\n",
       "      <td>-0.065676</td>\n",
       "      <td>0.399675</td>\n",
       "      <td>9.253526</td>\n",
       "    </tr>\n",
       "    <tr>\n",
       "      <th>V18</th>\n",
       "      <td>284807.0</td>\n",
       "      <td>4.328772e-16</td>\n",
       "      <td>0.838176</td>\n",
       "      <td>-9.498746</td>\n",
       "      <td>-0.498850</td>\n",
       "      <td>-0.003636</td>\n",
       "      <td>0.500807</td>\n",
       "      <td>5.041069</td>\n",
       "    </tr>\n",
       "    <tr>\n",
       "      <th>V19</th>\n",
       "      <td>284807.0</td>\n",
       "      <td>9.049732e-16</td>\n",
       "      <td>0.814041</td>\n",
       "      <td>-7.213527</td>\n",
       "      <td>-0.456299</td>\n",
       "      <td>0.003735</td>\n",
       "      <td>0.458949</td>\n",
       "      <td>5.591971</td>\n",
       "    </tr>\n",
       "    <tr>\n",
       "      <th>V20</th>\n",
       "      <td>284807.0</td>\n",
       "      <td>5.085503e-16</td>\n",
       "      <td>0.770925</td>\n",
       "      <td>-54.497720</td>\n",
       "      <td>-0.211721</td>\n",
       "      <td>-0.062481</td>\n",
       "      <td>0.133041</td>\n",
       "      <td>39.420904</td>\n",
       "    </tr>\n",
       "    <tr>\n",
       "      <th>V21</th>\n",
       "      <td>284807.0</td>\n",
       "      <td>1.537294e-16</td>\n",
       "      <td>0.734524</td>\n",
       "      <td>-34.830382</td>\n",
       "      <td>-0.228395</td>\n",
       "      <td>-0.029450</td>\n",
       "      <td>0.186377</td>\n",
       "      <td>27.202839</td>\n",
       "    </tr>\n",
       "    <tr>\n",
       "      <th>V22</th>\n",
       "      <td>284807.0</td>\n",
       "      <td>7.959909e-16</td>\n",
       "      <td>0.725702</td>\n",
       "      <td>-10.933144</td>\n",
       "      <td>-0.542350</td>\n",
       "      <td>0.006782</td>\n",
       "      <td>0.528554</td>\n",
       "      <td>10.503090</td>\n",
       "    </tr>\n",
       "    <tr>\n",
       "      <th>V23</th>\n",
       "      <td>284807.0</td>\n",
       "      <td>5.367590e-16</td>\n",
       "      <td>0.624460</td>\n",
       "      <td>-44.807735</td>\n",
       "      <td>-0.161846</td>\n",
       "      <td>-0.011193</td>\n",
       "      <td>0.147642</td>\n",
       "      <td>22.528412</td>\n",
       "    </tr>\n",
       "    <tr>\n",
       "      <th>V24</th>\n",
       "      <td>284807.0</td>\n",
       "      <td>4.458112e-15</td>\n",
       "      <td>0.605647</td>\n",
       "      <td>-2.836627</td>\n",
       "      <td>-0.354586</td>\n",
       "      <td>0.040976</td>\n",
       "      <td>0.439527</td>\n",
       "      <td>4.584549</td>\n",
       "    </tr>\n",
       "    <tr>\n",
       "      <th>V25</th>\n",
       "      <td>284807.0</td>\n",
       "      <td>1.453003e-15</td>\n",
       "      <td>0.521278</td>\n",
       "      <td>-10.295397</td>\n",
       "      <td>-0.317145</td>\n",
       "      <td>0.016594</td>\n",
       "      <td>0.350716</td>\n",
       "      <td>7.519589</td>\n",
       "    </tr>\n",
       "    <tr>\n",
       "      <th>V26</th>\n",
       "      <td>284807.0</td>\n",
       "      <td>1.699104e-15</td>\n",
       "      <td>0.482227</td>\n",
       "      <td>-2.604551</td>\n",
       "      <td>-0.326984</td>\n",
       "      <td>-0.052139</td>\n",
       "      <td>0.240952</td>\n",
       "      <td>3.517346</td>\n",
       "    </tr>\n",
       "    <tr>\n",
       "      <th>V27</th>\n",
       "      <td>284807.0</td>\n",
       "      <td>-3.660161e-16</td>\n",
       "      <td>0.403632</td>\n",
       "      <td>-22.565679</td>\n",
       "      <td>-0.070840</td>\n",
       "      <td>0.001342</td>\n",
       "      <td>0.091045</td>\n",
       "      <td>31.612198</td>\n",
       "    </tr>\n",
       "    <tr>\n",
       "      <th>V28</th>\n",
       "      <td>284807.0</td>\n",
       "      <td>-1.206049e-16</td>\n",
       "      <td>0.330083</td>\n",
       "      <td>-15.430084</td>\n",
       "      <td>-0.052960</td>\n",
       "      <td>0.011244</td>\n",
       "      <td>0.078280</td>\n",
       "      <td>33.847808</td>\n",
       "    </tr>\n",
       "    <tr>\n",
       "      <th>Amount</th>\n",
       "      <td>284807.0</td>\n",
       "      <td>8.834962e+01</td>\n",
       "      <td>250.120109</td>\n",
       "      <td>0.000000</td>\n",
       "      <td>5.600000</td>\n",
       "      <td>22.000000</td>\n",
       "      <td>77.165000</td>\n",
       "      <td>25691.160000</td>\n",
       "    </tr>\n",
       "    <tr>\n",
       "      <th>Class</th>\n",
       "      <td>284807.0</td>\n",
       "      <td>1.727486e-03</td>\n",
       "      <td>0.041527</td>\n",
       "      <td>0.000000</td>\n",
       "      <td>0.000000</td>\n",
       "      <td>0.000000</td>\n",
       "      <td>0.000000</td>\n",
       "      <td>1.000000</td>\n",
       "    </tr>\n",
       "  </tbody>\n",
       "</table>\n",
       "</div>"
      ],
      "text/plain": [
       "           count          mean           std         min           25%  \\\n",
       "Time    284807.0  9.481386e+04  47488.145955    0.000000  54201.500000   \n",
       "V1      284807.0  3.919560e-15      1.958696  -56.407510     -0.920373   \n",
       "V2      284807.0  5.688174e-16      1.651309  -72.715728     -0.598550   \n",
       "V3      284807.0 -8.769071e-15      1.516255  -48.325589     -0.890365   \n",
       "V4      284807.0  2.782312e-15      1.415869   -5.683171     -0.848640   \n",
       "V5      284807.0 -1.552563e-15      1.380247 -113.743307     -0.691597   \n",
       "V6      284807.0  2.010663e-15      1.332271  -26.160506     -0.768296   \n",
       "V7      284807.0 -1.694249e-15      1.237094  -43.557242     -0.554076   \n",
       "V8      284807.0 -1.927028e-16      1.194353  -73.216718     -0.208630   \n",
       "V9      284807.0 -3.137024e-15      1.098632  -13.434066     -0.643098   \n",
       "V10     284807.0  1.768627e-15      1.088850  -24.588262     -0.535426   \n",
       "V11     284807.0  9.170318e-16      1.020713   -4.797473     -0.762494   \n",
       "V12     284807.0 -1.810658e-15      0.999201  -18.683715     -0.405571   \n",
       "V13     284807.0  1.693438e-15      0.995274   -5.791881     -0.648539   \n",
       "V14     284807.0  1.479045e-15      0.958596  -19.214325     -0.425574   \n",
       "V15     284807.0  3.482336e-15      0.915316   -4.498945     -0.582884   \n",
       "V16     284807.0  1.392007e-15      0.876253  -14.129855     -0.468037   \n",
       "V17     284807.0 -7.528491e-16      0.849337  -25.162799     -0.483748   \n",
       "V18     284807.0  4.328772e-16      0.838176   -9.498746     -0.498850   \n",
       "V19     284807.0  9.049732e-16      0.814041   -7.213527     -0.456299   \n",
       "V20     284807.0  5.085503e-16      0.770925  -54.497720     -0.211721   \n",
       "V21     284807.0  1.537294e-16      0.734524  -34.830382     -0.228395   \n",
       "V22     284807.0  7.959909e-16      0.725702  -10.933144     -0.542350   \n",
       "V23     284807.0  5.367590e-16      0.624460  -44.807735     -0.161846   \n",
       "V24     284807.0  4.458112e-15      0.605647   -2.836627     -0.354586   \n",
       "V25     284807.0  1.453003e-15      0.521278  -10.295397     -0.317145   \n",
       "V26     284807.0  1.699104e-15      0.482227   -2.604551     -0.326984   \n",
       "V27     284807.0 -3.660161e-16      0.403632  -22.565679     -0.070840   \n",
       "V28     284807.0 -1.206049e-16      0.330083  -15.430084     -0.052960   \n",
       "Amount  284807.0  8.834962e+01    250.120109    0.000000      5.600000   \n",
       "Class   284807.0  1.727486e-03      0.041527    0.000000      0.000000   \n",
       "\n",
       "                 50%            75%            max  \n",
       "Time    84692.000000  139320.500000  172792.000000  \n",
       "V1          0.018109       1.315642       2.454930  \n",
       "V2          0.065486       0.803724      22.057729  \n",
       "V3          0.179846       1.027196       9.382558  \n",
       "V4         -0.019847       0.743341      16.875344  \n",
       "V5         -0.054336       0.611926      34.801666  \n",
       "V6         -0.274187       0.398565      73.301626  \n",
       "V7          0.040103       0.570436     120.589494  \n",
       "V8          0.022358       0.327346      20.007208  \n",
       "V9         -0.051429       0.597139      15.594995  \n",
       "V10        -0.092917       0.453923      23.745136  \n",
       "V11        -0.032757       0.739593      12.018913  \n",
       "V12         0.140033       0.618238       7.848392  \n",
       "V13        -0.013568       0.662505       7.126883  \n",
       "V14         0.050601       0.493150      10.526766  \n",
       "V15         0.048072       0.648821       8.877742  \n",
       "V16         0.066413       0.523296      17.315112  \n",
       "V17        -0.065676       0.399675       9.253526  \n",
       "V18        -0.003636       0.500807       5.041069  \n",
       "V19         0.003735       0.458949       5.591971  \n",
       "V20        -0.062481       0.133041      39.420904  \n",
       "V21        -0.029450       0.186377      27.202839  \n",
       "V22         0.006782       0.528554      10.503090  \n",
       "V23        -0.011193       0.147642      22.528412  \n",
       "V24         0.040976       0.439527       4.584549  \n",
       "V25         0.016594       0.350716       7.519589  \n",
       "V26        -0.052139       0.240952       3.517346  \n",
       "V27         0.001342       0.091045      31.612198  \n",
       "V28         0.011244       0.078280      33.847808  \n",
       "Amount     22.000000      77.165000   25691.160000  \n",
       "Class       0.000000       0.000000       1.000000  "
      ]
     },
     "execution_count": 9,
     "metadata": {},
     "output_type": "execute_result"
    }
   ],
   "source": [
    "# select any index value to get the summary statistics\n",
    "df.describe().transpose()"
   ]
  },
  {
   "cell_type": "markdown",
   "metadata": {},
   "source": [
    "Something to give us a better concept of what each PCA component entails below is an interactive scatterplot matrix of the class variable and any other specified feature in the data. The plot also gives the distribution for each of the features picked where you can determine if any transformations should be applied."
   ]
  },
  {
   "cell_type": "code",
   "execution_count": 10,
   "metadata": {
    "scrolled": false
   },
   "outputs": [
    {
     "data": {
      "application/vnd.jupyter.widget-view+json": {
       "model_id": "f54ab878ae81493db0260429c154b219",
       "version_major": 2,
       "version_minor": 0
      },
      "text/plain": [
       "A Jupyter Widget"
      ]
     },
     "metadata": {},
     "output_type": "display_data"
    },
    {
     "data": {
      "image/png": "[encoded data removed]",
      "text/plain": [
       "<matplotlib.figure.Figure at 0x1183b940>"
      ]
     },
     "metadata": {},
     "output_type": "display_data"
    }
   ],
   "source": [
    "%matplotlib inline\n",
    "\n",
    "@interact\n",
    "def sns_scatter(Feature_x=column_name, Feature_y=column_name):\n",
    "    \n",
    "    scatter_list = [Feature_x, Feature_y]\n",
    "\n",
    "    sns.set(color_codes=True)\n",
    "    sns.pairplot(df[scatter_list])"
   ]
  },
  {
   "cell_type": "markdown",
   "metadata": {},
   "source": [
    "<a id='1'></a>\n",
    "# Imbalanced Data:\n",
    "\n",
    "* **Accuracy paradox**: which is the case where we get a higher accuracy percentage because it is reflecting the underlying class distribution. The dataset is highly imbalanced, the positive class (frauds) account for 0.172% of all transactions.\n",
    "    * Conventional algorithms are often biased towards the majority class because their loss functions attempt to optimize quantities such as error rate, not taking the data distribution into consideration. \n",
    "    * In some cases, minority examples may even be treated as outliers of the majority class and ignored, or the learning algorithm generates a classifier that classifies every example as the majority class.\n",
    "\n",
    "**List of Techniques**\n",
    "1. **Collect more data**, which is not plausible in this case.\n",
    "2. **Use a different scoring method**. Accuracy will be biased towards the majority class, and the F1 or ROC_AUC score will be a better estimator for true positives. \n",
    "    A few key terms for classification and accuracy:\n",
    "\n",
    "    __Accuracy__ = TP+TN/Total\n",
    "\n",
    "    __Precison__ = TP/(TP+FP)\n",
    "\n",
    "    __Recall__ = TP/(TP+FN)\n",
    "\n",
    "    __F1__ = (Precison * Recall) / (Precison + Recall)\n",
    "\n",
    "    __TP__ = True positive, number of cases that were positive and predicted positive\n",
    "\n",
    "    __TN__ = True negative, number of cases that were negative and predicted negative\n",
    "\n",
    "    __FP__ = False possitve, number of cases that were negative and predicted positive \n",
    "\n",
    "    __FN__= False Negative, number of cases that were positive and predicted negative \n",
    "\n",
    "    It is always a trade off for which one will affect you more FP or FN, it comes down to the scope of the project or business goal.\n",
    "\n",
    "    Using accuracy yeilds a much higher result compared to the average_precision score (area under the precision-recall curve).This is because if one of the classes has a large sample size they are going to have more weight for the numerator, which when divided by the denominator will yeild a high accuracy. (Once you get to the classification report, look at the support column and you can verify the amount of imbalanced data in your sample.) \n",
    "\n",
    "    The f1 score is also a valid measure of an accurate model. This is the harmonic mean of precision and recall, and will be more insensitive to imbalanced data.\n",
    "\n",
    "3. **Resample the dataset** so that the sample you use to build the model is more balanced. \n",
    "\n",
    "    __imblearn.under_sampling__ deletes instances from the over-represented class. \n",
    "        \n",
    "    __imblearn.over_sampling__ adds copies of instances from the under-represented class (sampling with replacement).\n",
    "  \n",
    "    __Over-sampling followed by under-sampling__\n",
    "  \n",
    "4. **Try different algorithms**. For example decision trees use the decision boundary to split the data by looking at the class variable, and will allow both classes to be addressed. \n",
    "\n",
    "5. **Try penalizing the model**. There are different algorithms that are specific to penalizing class and weights. "
   ]
  },
  {
   "cell_type": "code",
   "execution_count": 11,
   "metadata": {
    "collapsed": true
   },
   "outputs": [],
   "source": [
    "def logistic_model(X_trn, y_trn, X_tst, y_tst):\n",
    "    \"\"\"create a function for logistic regression\"\"\"\n",
    "    \n",
    "    logreg = LogisticRegression(penalty='l1')\n",
    "    logreg.fit(X_trn, y_trn)\n",
    "    y_pred = logreg.predict(X_tst)\n",
    "\n",
    "    return get_scores(y_tst, y_pred)\n",
    "\n",
    "def get_scores(y_tst, pred):\n",
    "    print('Accuracy Score: {}\\n'.format(accuracy_score(y_tst, pred)))\n",
    "    print('Average Precision Score: {}\\n'.format(average_precision_score(y_tst, pred))) \n",
    "    print('Average F1 Score: {}'.format(f1_score(y_tst, pred)))\n",
    "\n",
    "def model_scores(y_tst, pred):\n",
    "    print('Accuracy Score: {}\\n'.format(accuracy_score(y_tst, pred)))\n",
    "    print('Average Precision Score: {}\\n'.format(average_precision_score(y_tst, pred))) \n",
    "    print('Average F1 Score: {}'.format(f1_score(y_tst, pred)))\n",
    "    \n",
    "    cnf_matrix=confusion_matrix(y_tst, pred)\n",
    "\n",
    "    fig= plt.figure(figsize=(6,3))\n",
    "\n",
    "    sns.heatmap(cnf_matrix, cmap=\"coolwarm_r\", annot=True, linewidths=0.5)\n",
    "    plt.title(\"Confusion_matrix\")\n",
    "    plt.xlabel(\"Predicted_class\")\n",
    "    plt.ylabel(\"Real class\")\n",
    "    plt.show()\n",
    "    print(\"\\n----------Classification Report------------------------------------\")\n",
    "    print(classification_report(y_tst,pred))\n",
    "    \n",
    "def make_roc_curve(estimator, X_trn, y_trn, X_tst, y_tst):\n",
    "    # ROC_AUC score\n",
    "    y_pred_score = estimator.fit(X_trn, y_trn.values.ravel()).decision_function(X_tst.values)\n",
    "\n",
    "    fp, tp, thresholds = roc_curve(y_tst.values.ravel(), y_pred_score)\n",
    "    roc_auc = auc(fp,tp)\n",
    "\n",
    "    # Plot ROC\n",
    "    plt.title('ROC_CURVE')\n",
    "    plt.plot(fp, tp, 'b',label='AUC = %0.2f'% roc_auc)\n",
    "    plt.legend(loc='lower right')\n",
    "    plt.plot([0,1],[0,1],'r--')\n",
    "    plt.xlim([-0.1,1.0])\n",
    "    plt.ylim([-0.1,1.01])\n",
    "    plt.ylabel('True Positive Rate')\n",
    "    plt.xlabel('False Positive Rate')\n",
    "    plt.show()"
   ]
  },
  {
   "cell_type": "markdown",
   "metadata": {},
   "source": [
    "<a id='2'></a>\n",
    "## Models"
   ]
  },
  {
   "cell_type": "markdown",
   "metadata": {},
   "source": [
    "<a id='2.1'></a>\n",
    "## Logistic Regression with the imbalanced classes\n",
    "\n",
    "I use logistic regression in this case to show the different methods of working with imbalanced data. The first model will start with the original train and test, then we will use under_sample and over_sampling methods to see which works best."
   ]
  },
  {
   "cell_type": "code",
   "execution_count": 12,
   "metadata": {},
   "outputs": [
    {
     "name": "stderr",
     "output_type": "stream",
     "text": [
      "C:\\Users\\Y\\.conda\\envs\\tensorflow\\lib\\site-packages\\sklearn\\cross_validation.py:41: DeprecationWarning: This module was deprecated in version 0.18 in favor of the model_selection module into which all the refactored classes and functions are moved. Also note that the interface of the new CV iterators are different from that of this module. This module will be removed in 0.20.\n",
      "  \"This module will be removed in 0.20.\", DeprecationWarning)\n"
     ]
    }
   ],
   "source": [
    "from sklearn.cross_validation import train_test_split\n",
    "from sklearn.preprocessing import minmax_scale\n",
    "from sklearn.linear_model import LogisticRegression\n",
    "from sklearn.metrics import classification_report, average_precision_score, precision_recall_fscore_support, accuracy_score\n",
    "from sklearn.metrics import roc_curve, auc, f1_score\n",
    "from collections import Counter"
   ]
  },
  {
   "cell_type": "markdown",
   "metadata": {},
   "source": [
    "I split the data into test and train, and print the class imbalance for each dataset with the initial imbalance at the top."
   ]
  },
  {
   "cell_type": "code",
   "execution_count": 26,
   "metadata": {
    "collapsed": true
   },
   "outputs": [],
   "source": [
    "y = df['Class']\n",
    "X = df.iloc[:,:-1]\n",
    "\n",
    "X_train, X_test, y_train, y_test = train_test_split(X, y, test_size=0.2, random_state=1)"
   ]
  },
  {
   "cell_type": "code",
   "execution_count": 14,
   "metadata": {},
   "outputs": [
    {
     "name": "stdout",
     "output_type": "stream",
     "text": [
      "Original Data Counter({0: 284315, 1: 492})\n",
      "Train Data Counter({0: 227440, 1: 405})\n",
      "Test Data Counter({0: 56875, 1: 87})\n"
     ]
    }
   ],
   "source": [
    "# one was to see the counts per class\n",
    "print('Original Data {}'.format(Counter(df['Class'])))\n",
    "print('Train Data {}'.format(Counter(y_train)))\n",
    "print('Test Data {}'.format(Counter(y_test)))"
   ]
  },
  {
   "cell_type": "code",
   "execution_count": 15,
   "metadata": {},
   "outputs": [
    {
     "data": {
      "text/plain": [
       "LogisticRegression(C=1.0, class_weight=None, dual=False, fit_intercept=True,\n",
       "          intercept_scaling=1, max_iter=100, multi_class='ovr', n_jobs=1,\n",
       "          penalty='l1', random_state=None, solver='liblinear', tol=0.0001,\n",
       "          verbose=0, warm_start=False)"
      ]
     },
     "execution_count": 15,
     "metadata": {},
     "output_type": "execute_result"
    }
   ],
   "source": [
    "logreg = LogisticRegression(penalty='l1')\n",
    "logreg.fit(X_train, y_train)"
   ]
  },
  {
   "cell_type": "code",
   "execution_count": 16,
   "metadata": {
    "scrolled": true
   },
   "outputs": [
    {
     "name": "stdout",
     "output_type": "stream",
     "text": [
      "Accuracy Score: 0.9991397773954567\n",
      "\n",
      "Average Precision Score: 0.45728395353457785\n",
      "\n",
      "Average F1 Score: 0.6620689655172414\n"
     ]
    }
   ],
   "source": [
    "logpred = logreg.predict(X_test)\n",
    "get_scores(y_test, logpred)"
   ]
  },
  {
   "cell_type": "markdown",
   "metadata": {},
   "source": [
    "The ROC curve represents how the classifier is performing. The x-axis is the false positive rate and the y-axis is the true positive rate or recall. We want the ROC curve to be as close to the upper left hand corner as possible, which shows that we have classified all instances correctly. The area under the curve is the percentage of tradeoff between sensitivity (true positives) and specificity (1-false positives)."
   ]
  },
  {
   "cell_type": "code",
   "execution_count": 17,
   "metadata": {},
   "outputs": [
    {
     "data": {
      "image/png": "[encoded data removed]",
      "text/plain": [
       "<matplotlib.figure.Figure at 0x1be8f9ff550>"
      ]
     },
     "metadata": {},
     "output_type": "display_data"
    }
   ],
   "source": [
    "make_roc_curve(logreg, X_train, y_train, X_test, y_test)"
   ]
  },
  {
   "cell_type": "markdown",
   "metadata": {},
   "source": [
    "<a id='2.1.1'></a>\n",
    "## Under_sampling Data\n",
    "\n",
    "Under-sampling will downsample the majority class. Some people view that the disadvantage to under-sampling is that valuable data is being discarded, and is making the independent variables look like they have a higher variance between features.\n",
    "\n",
    "One article that argues for undersampling with a mathematical foundation is called *Class Imbalance* (by Wallace, Small, Bradley, and Trikalinos4). Their argument is that two classes must be distinguishable in the tail of some distribution of an explanatory variable. \n",
    "\n",
    "**Random Under Sampling**: \n",
    "\n",
    "Drops data from the majority class at random, usually until response is balanced."
   ]
  },
  {
   "cell_type": "code",
   "execution_count": 13,
   "metadata": {
    "collapsed": true
   },
   "outputs": [],
   "source": [
    "from imblearn.under_sampling import RandomUnderSampler\n",
    "from imblearn.pipeline import make_pipeline\n",
    "from sklearn.model_selection import cross_val_score\n",
    "from sklearn.metrics import confusion_matrix"
   ]
  },
  {
   "cell_type": "code",
   "execution_count": 19,
   "metadata": {},
   "outputs": [
    {
     "name": "stdout",
     "output_type": "stream",
     "text": [
      "Original train set was 227845 and Random Under train set was 810.\n"
     ]
    }
   ],
   "source": [
    "rus = RandomUnderSampler(replacement=False, random_state = 1)\n",
    "X_train_rus, y_train_rus = rus.fit_sample(X_train, y_train)\n",
    "\n",
    "print('Original train set was {} and Random Under train set was {}.'.format(len(y_train), len(y_train_rus)))"
   ]
  },
  {
   "cell_type": "markdown",
   "metadata": {},
   "source": [
    "Now lets apply it to the Logistic Regression model and see its performance."
   ]
  },
  {
   "cell_type": "code",
   "execution_count": 20,
   "metadata": {},
   "outputs": [
    {
     "name": "stdout",
     "output_type": "stream",
     "text": [
      "Accuracy Score: 0.971911098627155\n",
      "\n",
      "Average Precision Score: 0.04105703451021875\n",
      "\n",
      "Average F1 Score: 0.08779931584948689\n"
     ]
    }
   ],
   "source": [
    "logistic_model(X_train_rus, y_train_rus, X_test, y_test)"
   ]
  },
  {
   "cell_type": "markdown",
   "metadata": {},
   "source": [
    "So the results were not too good running it through logistic regression. But that was just an example to show the steps of how to resample and apply it to the model. \n",
    "\n",
    "The next step will take what we have just done another step further and include that entire step into a pipeline. The pipeline runs the two in parallel and then fits the model on the train and test. \n",
    "\n",
    "As an additional step we will later go through and see how a gridsearch is then applied to run a cross validation itteration over the model."
   ]
  },
  {
   "cell_type": "code",
   "execution_count": 21,
   "metadata": {},
   "outputs": [
    {
     "name": "stdout",
     "output_type": "stream",
     "text": [
      "Average Cross Validated F1 Score: 0.113664347258\n"
     ]
    }
   ],
   "source": [
    "random_imb_pipe = make_pipeline(RandomUnderSampler(replacement=False, random_state=1), LogisticRegression())\n",
    "scores_f1 = cross_val_score(random_imb_pipe, X_train, y_train, cv=10, scoring='f1')\n",
    "\n",
    "print('Average Cross Validated F1 Score:',np.mean(scores_f1))"
   ]
  },
  {
   "cell_type": "code",
   "execution_count": 25,
   "metadata": {},
   "outputs": [
    {
     "name": "stdout",
     "output_type": "stream",
     "text": [
      "Accuracy Score: 0.9991222218320986\n",
      "\n",
      "Average Precision Score: 0.4645019039729779\n",
      "\n",
      "Average F1 Score: 0.6753246753246753\n"
     ]
    },
    {
     "data": {
      "image/png": "[encoded data removed]",
      "text/plain": [
       "<matplotlib.figure.Figure at 0x1be8febfba8>"
      ]
     },
     "metadata": {},
     "output_type": "display_data"
    },
    {
     "name": "stdout",
     "output_type": "stream",
     "text": [
      "\n",
      "----------Classification Report------------------------------------\n",
      "             precision    recall  f1-score   support\n",
      "\n",
      "          0       1.00      1.00      1.00     56875\n",
      "          1       0.78      0.60      0.68        87\n",
      "\n",
      "avg / total       1.00      1.00      1.00     56962\n",
      "\n"
     ]
    }
   ],
   "source": [
    "log = LogisticRegression()\n",
    "log_model = log.fit(X_train, y_train)\n",
    "\n",
    "log_pred = log_model.predict(X_test)\n",
    "\n",
    "model_scores(y_test, log_pred)"
   ]
  },
  {
   "cell_type": "markdown",
   "metadata": {},
   "source": [
    "**Edited Nearest Neighbors**: \n",
    "\n",
    "Removes all instances that are misclassified nearest neighbors from the training set.\n",
    "\n",
    "In a sense it take cares of outliers or boundary issues, because removes nearest neighbors in the classified 'all' section. That means if there are a few data points that are not being classified towards a specific class, and tend to be classified as anything. Below we will do a similar logistic regression model using this function to see the results."
   ]
  },
  {
   "cell_type": "code",
   "execution_count": 15,
   "metadata": {
    "collapsed": true
   },
   "outputs": [],
   "source": [
    "from imblearn.under_sampling import EditedNearestNeighbours"
   ]
  },
  {
   "cell_type": "code",
   "execution_count": 21,
   "metadata": {},
   "outputs": [
    {
     "name": "stdout",
     "output_type": "stream",
     "text": [
      "('Original Training set & Edited Nearesr Neighbors Sample set:', [227845, 227186])\n"
     ]
    }
   ],
   "source": [
    "ekk = EditedNearestNeighbours(n_neighbors=5, random_state = 1)\n",
    "X_train_enn5, y_train_enn5 = ekk.fit_sample(X_train, y_train)\n",
    "\n",
    "print('Original Training set & Edited Nearesr Neighbors Sample set:', [len(y_train), len(y_train_enn5)])"
   ]
  },
  {
   "cell_type": "markdown",
   "metadata": {},
   "source": [
    "Unlike the random sampling, this method barely shrunk the data. If you noticed the parameters that I have been using are the default parameters, which can be adjusted. Lets try the same model again with an increased n_neighbors at 10."
   ]
  },
  {
   "cell_type": "code",
   "execution_count": 27,
   "metadata": {
    "collapsed": true
   },
   "outputs": [],
   "source": [
    "from imblearn.under_sampling import EditedNearestNeighbours"
   ]
  },
  {
   "cell_type": "code",
   "execution_count": 22,
   "metadata": {},
   "outputs": [
    {
     "name": "stdout",
     "output_type": "stream",
     "text": [
      "('Original Training set & Edited Nearesr Neighbors Sample set:', [227845, 226237])\n"
     ]
    }
   ],
   "source": [
    "enn = EditedNearestNeighbours(n_neighbors=10, random_state = 1)\n",
    "X_train_enn10, y_train_enn10 = ekk.fit_sample(X_train, y_train)\n",
    "\n",
    "print('Original Training set & Edited Nearesr Neighbors Sample set:', [len(y_train), len(y_train_enn10)])"
   ]
  },
  {
   "cell_type": "markdown",
   "metadata": {},
   "source": [
    "Even with ten we are still only 1000 parameters off. Lets see what the results show then adjust the parameters one more time."
   ]
  },
  {
   "cell_type": "code",
   "execution_count": 23,
   "metadata": {},
   "outputs": [
    {
     "name": "stdout",
     "output_type": "stream",
     "text": [
      "Accuracy Score: 0.999139777395\n",
      "\n",
      "Average Precision Score: 0.457283953535\n",
      "\n",
      "Average F1 Score: 0.662068965517\n"
     ]
    }
   ],
   "source": [
    "logistic_model(X_train_enn10, y_train_enn10, X_test, y_test)"
   ]
  },
  {
   "cell_type": "code",
   "execution_count": 24,
   "metadata": {},
   "outputs": [
    {
     "name": "stdout",
     "output_type": "stream",
     "text": [
      "('Average Cross Validated F1 Score:', 0.68150267180585933)\n"
     ]
    }
   ],
   "source": [
    "enn_imb_pipe = make_pipeline(EditedNearestNeighbours(n_neighbors=15, random_state=1), LogisticRegression())\n",
    "scores_f1 = cross_val_score(ekk_imb_pipe, X_train, y_train, cv=10, scoring='f1')\n",
    "\n",
    "print('Average Cross Validated F1 Score:',np.mean(scores_f1))"
   ]
  },
  {
   "cell_type": "code",
   "execution_count": 29,
   "metadata": {},
   "outputs": [
    {
     "name": "stdout",
     "output_type": "stream",
     "text": [
      "Accuracy Score: 0.9989466661985184\n",
      "\n",
      "Average Precision Score: 0.38449276292298706\n",
      "\n",
      "Average F1 Score: 0.6153846153846154\n"
     ]
    },
    {
     "data": {
      "image/png": "[encoded data removed]",
      "text/plain": [
       "<matplotlib.figure.Figure at 0x1be914d7da0>"
      ]
     },
     "metadata": {},
     "output_type": "display_data"
    },
    {
     "name": "stdout",
     "output_type": "stream",
     "text": [
      "\n",
      "----------Classification Report------------------------------------\n",
      "             precision    recall  f1-score   support\n",
      "\n",
      "          0       1.00      1.00      1.00     56875\n",
      "          1       0.70      0.55      0.62        87\n",
      "\n",
      "avg / total       1.00      1.00      1.00     56962\n",
      "\n"
     ]
    }
   ],
   "source": [
    "enn_15 = EditedNearestNeighbours(n_neighbors=15, random_state = 1)\n",
    "X_train_enn15, y_train_enn15 = enn_15.fit_sample(X_train, y_train)\n",
    "\n",
    "log = LogisticRegression()\n",
    "log_enn15 = log.fit(X_train_enn15, y_train_enn15)\n",
    "\n",
    "log_pred_enn15 = log_enn15.predict(X_test)\n",
    "\n",
    "model_scores(y_test, log_pred_enn15)"
   ]
  },
  {
   "cell_type": "markdown",
   "metadata": {},
   "source": [
    "Well the edited nearest neighbor with 15 is performing a lot better, even if the class is still very imbalanced. \n",
    "\n",
    "Another one similar to edited nearest neighbors is condensed nearest neighbors.\n",
    "\n",
    "**Condensed Nearest Neighbors**:\n",
    "\n",
    "Opposite of edited nearest neighbors it will itteratively add points to data misclassified by K-nearest neighbors. Generally will remove a lot of points from majority class. "
   ]
  },
  {
   "cell_type": "code",
   "execution_count": 16,
   "metadata": {
    "collapsed": true
   },
   "outputs": [],
   "source": [
    "from imblearn.under_sampling import CondensedNearestNeighbour"
   ]
  },
  {
   "cell_type": "code",
   "execution_count": null,
   "metadata": {
    "collapsed": true
   },
   "outputs": [],
   "source": [
    "cnn = CondensedNearestNeighbour(n_neighbors=5, random_state = 1)\n",
    "X_train_cnn5, y_train_cnn5 = cnn.fit_sample(X_train, y_train)\n",
    "\n",
    "print('Original Training set & Condensed Nearest Neighbor Sample set:', [len(y_train), len(y_train_cnn5)])"
   ]
  },
  {
   "cell_type": "code",
   "execution_count": 51,
   "metadata": {},
   "outputs": [
    {
     "name": "stdout",
     "output_type": "stream",
     "text": [
      "Accuracy Score: 0.987395105509\n",
      "\n",
      "Average Precision Score: 0.0790783049954\n",
      "\n",
      "Average F1 Score: 0.168981481481\n"
     ]
    }
   ],
   "source": [
    "logistic_model(X_train_cnn5, y_train_cnn5, X_test, y_test)"
   ]
  },
  {
   "cell_type": "code",
   "execution_count": 31,
   "metadata": {},
   "outputs": [
    {
     "name": "stdout",
     "output_type": "stream",
     "text": [
      "Accuracy Score: 0.9914504406446403\n",
      "\n",
      "Average Precision Score: 0.10459814657793791\n",
      "\n",
      "Average F1 Score: 0.22328548644338117\n"
     ]
    },
    {
     "data": {
      "image/png": "[encoded data removed]",
      "text/plain": [
       "<matplotlib.figure.Figure at 0x1be927ad0b8>"
      ]
     },
     "metadata": {},
     "output_type": "display_data"
    },
    {
     "name": "stdout",
     "output_type": "stream",
     "text": [
      "\n",
      "----------Classification Report------------------------------------\n",
      "             precision    recall  f1-score   support\n",
      "\n",
      "          0       1.00      0.99      1.00     56875\n",
      "          1       0.13      0.80      0.22        87\n",
      "\n",
      "avg / total       1.00      0.99      0.99     56962\n",
      "\n"
     ]
    }
   ],
   "source": [
    "cnn_5 = CondensedNearestNeighbour(n_neighbors=5, random_state = 1)\n",
    "X_train_cnn5, y_train_cnn5 = cnn_5.fit_sample(X_train, y_train)\n",
    "\n",
    "log = LogisticRegression()\n",
    "log_cnn5 = log.fit(X_train_cnn5, y_train_cnn5)\n",
    "\n",
    "log_pred_cnn5 = log_cnn5.predict(X_test)\n",
    "\n",
    "model_scores(y_test, log_pred_cnn5)"
   ]
  },
  {
   "cell_type": "markdown",
   "metadata": {},
   "source": [
    "<a id='2.1.2'></a>\n",
    "### Over_sampling Data\n",
    "\n",
    "Over-sampling will randomly replicate minority class values to increase the sample size. Since it is replicating instances, we have to keep in mind that variables will now appear to have lower variance. However, because we are replicating instances it also means we are replicating the number of errors. So when a classifier makes a false negative error, the new sampled dataset will not make new errors for that replicated point.\n",
    "\n",
    "**Random Over_sampling**: \n",
    "\n",
    "This method is similar to the way random under_sampling works, however in this case it duplicates instances in the minority class at random."
   ]
  },
  {
   "cell_type": "code",
   "execution_count": 33,
   "metadata": {
    "collapsed": true
   },
   "outputs": [],
   "source": [
    "from imblearn.over_sampling import RandomOverSampler"
   ]
  },
  {
   "cell_type": "code",
   "execution_count": 25,
   "metadata": {},
   "outputs": [
    {
     "name": "stdout",
     "output_type": "stream",
     "text": [
      "('Original Training set & Random Over Sample set:', [227845, 454880])\n"
     ]
    }
   ],
   "source": [
    "ros = RandomOverSampler(random_state = 1)\n",
    "X_train_ros, y_train_ros = ros.fit_sample(X_train, y_train)\n",
    "\n",
    "print('Original Training set & Random Over Sample set:', [len(y_train), len(y_train_ros)])"
   ]
  },
  {
   "cell_type": "code",
   "execution_count": 26,
   "metadata": {},
   "outputs": [
    {
     "name": "stdout",
     "output_type": "stream",
     "text": [
      "Accuracy Score: 0.981636880728\n",
      "\n",
      "Average Precision Score: 0.0614059467273\n",
      "\n",
      "Average F1 Score: 0.128333333333\n"
     ]
    }
   ],
   "source": [
    "logistic_model(X_train_ros, y_train_ros, X_test, y_test)"
   ]
  },
  {
   "cell_type": "code",
   "execution_count": 67,
   "metadata": {},
   "outputs": [
    {
     "name": "stdout",
     "output_type": "stream",
     "text": [
      "('Average Cross Validated F1 Score:', 0.11475340047207494)\n"
     ]
    }
   ],
   "source": [
    "ros_pipe = make_pipeline(RandomOverSampler(random_state=1), LogisticRegression())\n",
    "scores_f1 = cross_val_score(ros_pipe, X_train, y_train, cv=10, scoring='f1')\n",
    "\n",
    "print('Average Cross Validated F1 Score:',np.mean(scores_f1))"
   ]
  },
  {
   "cell_type": "code",
   "execution_count": 35,
   "metadata": {},
   "outputs": [
    {
     "name": "stdout",
     "output_type": "stream",
     "text": [
      "Accuracy Score: 0.975667989185773\n",
      "\n",
      "Average Precision Score: 0.042635309764672176\n",
      "\n",
      "Average F1 Score: 0.09530026109660573\n"
     ]
    },
    {
     "data": {
      "image/png": "[encoded data removed]",
      "text/plain": [
       "<matplotlib.figure.Figure at 0x1be8febf0f0>"
      ]
     },
     "metadata": {},
     "output_type": "display_data"
    },
    {
     "name": "stdout",
     "output_type": "stream",
     "text": [
      "\n",
      "----------Classification Report------------------------------------\n",
      "             precision    recall  f1-score   support\n",
      "\n",
      "          0       1.00      0.98      0.99     56875\n",
      "          1       0.05      0.84      0.10        87\n",
      "\n",
      "avg / total       1.00      0.98      0.99     56962\n",
      "\n"
     ]
    }
   ],
   "source": [
    "ros = RandomOverSampler(random_state = 1)\n",
    "X_train_ros, y_train_ros = ros.fit_sample(X_train, y_train)\n",
    "\n",
    "log = LogisticRegression()\n",
    "log_ros = log.fit(X_train_ros, y_train_ros)\n",
    "\n",
    "log_pred_ros = log_ros.predict(X_test)\n",
    "\n",
    "model_scores(y_test, log_pred_ros)"
   ]
  },
  {
   "cell_type": "markdown",
   "metadata": {},
   "source": [
    "**SMOTE** (Synthetic Minority Oversampling TEchnique):\n",
    "\n",
    "This techniques creates new data points from the minority class by interpolating between existing ones. Only used for continuous data.\n",
    "1. It ignores the majority class\n",
    "2. Then for every minority instance it selects K-nearest neighbors\n",
    "3. Then creates new data points from the first instance to each of its k-nearest neighbors"
   ]
  },
  {
   "cell_type": "code",
   "execution_count": 38,
   "metadata": {
    "collapsed": true
   },
   "outputs": [],
   "source": [
    "from imblearn.over_sampling import SMOTE"
   ]
  },
  {
   "cell_type": "code",
   "execution_count": 27,
   "metadata": {},
   "outputs": [
    {
     "name": "stdout",
     "output_type": "stream",
     "text": [
      "Resampled dataset shape Counter({0: 227440, 1: 227440})\n",
      "((454880L,), (454880L, 30L))\n"
     ]
    }
   ],
   "source": [
    "sm = SMOTE()\n",
    "X_train_sm, y_train_sm = sm.fit_sample(X_train, y_train)\n",
    "\n",
    "print('Resampled dataset shape {}'.format(Counter(y_train_sm)))\n",
    "print(y_train_sm.shape, X_train_sm.shape)"
   ]
  },
  {
   "cell_type": "code",
   "execution_count": 28,
   "metadata": {},
   "outputs": [
    {
     "name": "stdout",
     "output_type": "stream",
     "text": [
      "Accuracy Score: 0.992802219023\n",
      "\n",
      "Average Precision Score: 0.127856924235\n",
      "\n",
      "Average F1 Score: 0.259927797834\n"
     ]
    }
   ],
   "source": [
    "logistic_model(X_train_sm, y_train_sm, X_test, y_test)"
   ]
  },
  {
   "cell_type": "code",
   "execution_count": 72,
   "metadata": {},
   "outputs": [
    {
     "name": "stdout",
     "output_type": "stream",
     "text": [
      "('Average Cross Validated F1 Score:', 0.19015121164382262)\n"
     ]
    }
   ],
   "source": [
    "sm_pipe = make_pipeline(SMOTE(), LogisticRegression())\n",
    "scores_f1 = cross_val_score(sm_pipe, X_train, y_train, cv=10, scoring='f1')\n",
    "\n",
    "print('Average Cross Validated F1 Score:',np.mean(scores_f1))"
   ]
  },
  {
   "cell_type": "code",
   "execution_count": null,
   "metadata": {
    "collapsed": true
   },
   "outputs": [],
   "source": [
    "sm_pred = sm_pipe.predict(X_test)\n",
    "\n",
    "model_scores(y_test, sm_pred)"
   ]
  },
  {
   "cell_type": "code",
   "execution_count": 40,
   "metadata": {},
   "outputs": [
    {
     "name": "stdout",
     "output_type": "stream",
     "text": [
      "Accuracy Score: 0.9861311049471577\n",
      "\n",
      "Average Precision Score: 0.07239286100034384\n",
      "\n",
      "Average F1 Score: 0.155982905982906\n"
     ]
    },
    {
     "data": {
      "image/png": "[encoded data removed]",
      "text/plain": [
       "<matplotlib.figure.Figure at 0x1be9250c6a0>"
      ]
     },
     "metadata": {},
     "output_type": "display_data"
    },
    {
     "name": "stdout",
     "output_type": "stream",
     "text": [
      "\n",
      "----------Classification Report------------------------------------\n",
      "             precision    recall  f1-score   support\n",
      "\n",
      "          0       1.00      0.99      0.99     56875\n",
      "          1       0.09      0.84      0.16        87\n",
      "\n",
      "avg / total       1.00      0.99      0.99     56962\n",
      "\n"
     ]
    }
   ],
   "source": [
    "sm = SMOTE()\n",
    "X_train_sm, y_train_sm = sm.fit_sample(X_train, y_train)\n",
    "\n",
    "log = LogisticRegression()\n",
    "log_sm = log.fit(X_train_sm, y_train_sm)\n",
    "\n",
    "log_pred_sm = log_sm.predict(X_test)\n",
    "\n",
    "model_scores(y_test, log_pred_sm)"
   ]
  },
  {
   "cell_type": "markdown",
   "metadata": {},
   "source": [
    "<a id='2.2'></a>\n",
    "# Random Forest Classifier\n",
    "\n",
    "Random Forest is an ensemble method that will do both classification and regression. Random forest takes a subsample of the data set using a technique called bootstrapping. What bootstrap does is it keeps the same length of the data but replaces on observation with a random observation from that sample. With this technique you may get multiples of the same observation, but the idea is that you are covering the entire population. From this sample it then generates a set of decisions based on a random sample of features. It decides the threshold of the feature, and makes a split. Each of the trees MSE value is averaged together to output the accuracy.\n",
    "\n",
    "Random Forest is a part of the CART (Classification and Regression Trees). The tree series stems off the basic idea of a decision tree with rules that split the data into different nodes.\n",
    "\n",
    "First, the Random Forest will be run without undersample or oversample.  Then it will be run with undersample and oversample. "
   ]
  },
  {
   "cell_type": "code",
   "execution_count": 22,
   "metadata": {
    "collapsed": true
   },
   "outputs": [],
   "source": [
    "from sklearn.ensemble import RandomForestClassifier\n",
    "from sklearn.model_selection import GridSearchCV\n",
    "from sklearn.metrics import confusion_matrix"
   ]
  },
  {
   "cell_type": "markdown",
   "metadata": {},
   "source": [
    "### RF without undersample/oversample\n",
    "\n",
    "As general model for comparison I want to show how well random forest performs without oversampling and undersampling."
   ]
  },
  {
   "cell_type": "code",
   "execution_count": 47,
   "metadata": {
    "collapsed": true
   },
   "outputs": [],
   "source": [
    "rf_params = {\n",
    "    'n_estimators' : [100, 150],\n",
    "    'max_depth': [5, 7],\n",
    "    'min_samples_split' : [2, 3],\n",
    "}"
   ]
  },
  {
   "cell_type": "code",
   "execution_count": 48,
   "metadata": {},
   "outputs": [
    {
     "name": "stdout",
     "output_type": "stream",
     "text": [
      "Accuracy Score: 0.999508444226\n",
      "\n",
      "Average Precision Score: 0.681327149269\n",
      "\n",
      "Average F1 Score: 0.818181818182\n"
     ]
    },
    {
     "data": {
      "image/png": "[encoded data removed]",
      "text/plain": [
       "<matplotlib.figure.Figure at 0x10d808d0>"
      ]
     },
     "metadata": {},
     "output_type": "display_data"
    },
    {
     "name": "stdout",
     "output_type": "stream",
     "text": [
      "\n",
      "----------Classification Report------------------------------------\n",
      "             precision    recall  f1-score   support\n",
      "\n",
      "          0       1.00      1.00      1.00     56875\n",
      "          1       0.94      0.72      0.82        87\n",
      "\n",
      "avg / total       1.00      1.00      1.00     56962\n",
      "\n"
     ]
    }
   ],
   "source": [
    "rf = RandomForestClassifier(n_jobs=-1)\n",
    "rf_grid = GridSearchCV(rf, param_grid=rf_params)\n",
    "rf_model = rf_grid.fit(X_train, y_train)\n",
    "\n",
    "rf_pred = rf_model.predict(X_test)\n",
    "\n",
    "model_scores(y_test, rf_pred)"
   ]
  },
  {
   "cell_type": "markdown",
   "metadata": {},
   "source": [
    "<a id='2.2.1'></a>\n",
    "### RF with CondensedNearestNeighbour - undersampling"
   ]
  },
  {
   "cell_type": "code",
   "execution_count": 21,
   "metadata": {
    "collapsed": true
   },
   "outputs": [],
   "source": [
    "from imblearn.under_sampling import CondensedNearestNeighbour"
   ]
  },
  {
   "cell_type": "code",
   "execution_count": 73,
   "metadata": {},
   "outputs": [
    {
     "name": "stdout",
     "output_type": "stream",
     "text": [
      "('Original Training set & Condensed Nearest Neighbor Sample set:', [227845, 810])\n"
     ]
    }
   ],
   "source": [
    "ckk = CondensedNearestNeighbour(n_neighbors=5, random_state = 1)\n",
    "X_train_cnn5, y_train_cnn5 = ckk.fit_sample(X_train, y_train)\n",
    "\n",
    "print('Original Training set & Condensed Nearest Neighbor Sample set:', [len(y_train), len(y_train_sample)])"
   ]
  },
  {
   "cell_type": "code",
   "execution_count": 90,
   "metadata": {
    "collapsed": true
   },
   "outputs": [],
   "source": [
    "rf_params = {\n",
    "    'n_estimators' : np.arange(50, 150, 10),\n",
    "    'max_depth': np.arange(5, 7, 1),\n",
    "    'min_samples_split' : [2, 3],\n",
    "}"
   ]
  },
  {
   "cell_type": "code",
   "execution_count": 91,
   "metadata": {},
   "outputs": [
    {
     "name": "stdout",
     "output_type": "stream",
     "text": [
      "Accuracy Score: 0.997893332397\n",
      "\n",
      "Average Precision Score: 0.325858208048\n",
      "\n",
      "Average F1 Score: 0.538461538462\n"
     ]
    },
    {
     "data": {
      "image/png": "[encoded data removed]",
      "text/plain": [
       "<matplotlib.figure.Figure at 0xf3173c8>"
      ]
     },
     "metadata": {},
     "output_type": "display_data"
    },
    {
     "name": "stdout",
     "output_type": "stream",
     "text": [
      "\n",
      "----------Classification Report------------------------------------\n",
      "             precision    recall  f1-score   support\n",
      "\n",
      "          0       1.00      1.00      1.00     56875\n",
      "          1       0.40      0.80      0.54        87\n",
      "\n",
      "avg / total       1.00      1.00      1.00     56962\n",
      "\n"
     ]
    }
   ],
   "source": [
    "rf_1 = RandomForestClassifier(n_jobs=-1)\n",
    "rf_grid_1 = GridSearchCV(rf_1, param_grid=rf_params)\n",
    "rf_model_1 = rf_grid_1.fit(X_train_cnn5, y_train_cnn5)\n",
    "\n",
    "rf_pred_1 = rf_model_1.predict(X_test)\n",
    "\n",
    "model_scores(y_test, rf_pred_1)"
   ]
  },
  {
   "cell_type": "markdown",
   "metadata": {},
   "source": [
    "<a id='2.2.2'></a>\n",
    "### RF with SMOTE - oversampling"
   ]
  },
  {
   "cell_type": "code",
   "execution_count": 20,
   "metadata": {
    "collapsed": true
   },
   "outputs": [],
   "source": [
    "from imblearn.over_sampling import SMOTE"
   ]
  },
  {
   "cell_type": "code",
   "execution_count": 24,
   "metadata": {
    "collapsed": true
   },
   "outputs": [],
   "source": [
    "sm = SMOTE(random_state=1)\n",
    "X_train_sm, y_train_sm = sm.fit_sample(X_train, y_train)"
   ]
  },
  {
   "cell_type": "code",
   "execution_count": 44,
   "metadata": {
    "collapsed": true
   },
   "outputs": [],
   "source": [
    "rf_params = {\n",
    "    'n_estimators' : np.arange(100, 150, 10),\n",
    "    'max_depth': np.arange(5, 10, 1),\n",
    "    'min_samples_split' : [2, 3],\n",
    "}"
   ]
  },
  {
   "cell_type": "code",
   "execution_count": 45,
   "metadata": {},
   "outputs": [
    {
     "name": "stdout",
     "output_type": "stream",
     "text": [
      "Accuracy Score: 0.9984375548611355\n",
      "\n",
      "Average Precision Score: 0.41411654520605556\n",
      "\n",
      "Average F1 Score: 0.6212765957446809\n"
     ]
    },
    {
     "data": {
      "image/png": "[encoded data removed]",
      "text/plain": [
       "<matplotlib.figure.Figure at 0x1be914a7320>"
      ]
     },
     "metadata": {},
     "output_type": "display_data"
    },
    {
     "name": "stdout",
     "output_type": "stream",
     "text": [
      "\n",
      "----------Classification Report------------------------------------\n",
      "             precision    recall  f1-score   support\n",
      "\n",
      "          0       1.00      1.00      1.00     56875\n",
      "          1       0.49      0.84      0.62        87\n",
      "\n",
      "avg / total       1.00      1.00      1.00     56962\n",
      "\n"
     ]
    }
   ],
   "source": [
    "rfs = RandomForestClassifier()\n",
    "rfs_grid = GridSearchCV(rfs, param_grid=rf_params)\n",
    "rfs_model = rfs_grid.fit(X_train_sm, y_train_sm)\n",
    "\n",
    "rfs_pred = rfs_model.predict(X_test)\n",
    "\n",
    "model_scores(y_test, rfs_pred)"
   ]
  },
  {
   "cell_type": "markdown",
   "metadata": {
    "collapsed": true
   },
   "source": [
    "<a id='2.3'></a>\n",
    "# Support Vector Classifier\n",
    "\n",
    "Is a form of support vectore machines, which are very effective in high dimensional spaces and is memory effecient by using a subset of training points in the decision function. The classifier uses the same type of kernel function. \n",
    "\n",
    "If it is radial basis function then it uses an activation function to project n-dimensions of feature space. It then tries to optimize the boundaries on either side of the decision line with an expected error value. It can also include gradient descent where it attempts to fit coefficient weights by the finding the optimum local minimum. \n",
    "\n",
    "The linear function does not transorm the data into n-dimesions but it attempts to create a linear line through the data. If there are multiple classes then it becomes a one-verse-all method. \n",
    "\n",
    "**Parameters:**\n",
    "\n",
    "**C**: is the penalty parameter, which trades off misclassification. A low C makes the decision surface smooth, white high C aims at classifying all training examples correctly. This allows the model to select more or less samples as support vectors.\n",
    "\n",
    "**kernel**: is the type of kernel function or algorthim that would be applied to svc. For instance if it is linear there will be no activation function applied, which in other words it would not bring the feature space to n-dimension transformation. \n",
    "\n",
    "**gamma**: shows how far the influence of the training data point reaches. Low values mean far and high values mean close.\n",
    "\n",
    "**step_out**: step size when extrapolating, used with kind:svm. Extrapolate means to estimate something by assuming that the current method will remain applicable for further instances outside of data scope. \n",
    "\n",
    "**kind**: the type of SMOTE algorithm, which would be 'regular', 'svc', 'borderline1', or 'borderline2'."
   ]
  },
  {
   "cell_type": "code",
   "execution_count": 17,
   "metadata": {
    "collapsed": true
   },
   "outputs": [],
   "source": [
    "#imports\n",
    "from sklearn.svm import SVC"
   ]
  },
  {
   "cell_type": "markdown",
   "metadata": {},
   "source": [
    "### SVC without undersampling/ oversampling"
   ]
  },
  {
   "cell_type": "code",
   "execution_count": 66,
   "metadata": {
    "collapsed": true
   },
   "outputs": [],
   "source": [
    "X_train, X_test, y_train, y_test = train_test_split(X, y, test_size=0.2, random_state=1)"
   ]
  },
  {
   "cell_type": "code",
   "execution_count": 68,
   "metadata": {
    "collapsed": true
   },
   "outputs": [],
   "source": [
    "svc_params = {\n",
    "    'C': np.arange(0.1, 5, 0.5),\n",
    "    'kernel': ['rbf'],\n",
    "    'gamma': np.arange(0.1, 5, 0.5),\n",
    "    'max_iter':[1000]\n",
    "}"
   ]
  },
  {
   "cell_type": "code",
   "execution_count": 70,
   "metadata": {
    "collapsed": true
   },
   "outputs": [],
   "source": [
    "svc_clf = SVC()\n",
    "svc_grid = GridSearchCV(svc_clf, param_grid=svc_params)\n",
    "#svc_model = svc_grid.fit(X_train, y_train)\n",
    "\n",
    "#svc_pred = svc_model.predict(X_test)\n",
    "\n",
    "#model_scores(y_test, svc_pred)"
   ]
  },
  {
   "cell_type": "markdown",
   "metadata": {},
   "source": [
    "Accuracy Score: 0.998542888241\n",
    "\n",
    "Average Precision Score: 0.047434123253\n",
    "\n",
    "Average F1 Score: 0.0879120879121\n",
    "\n",
    "\n",
    "----------Classification Report------------------------------------\n",
    "             precision    recall  f1-score   support\n",
    "\n",
    "          0       1.00      1.00      1.00     56875\n",
    "          1       1.00      0.05      0.09        87\n",
    "\n",
    "avg / total       1.00      1.00      1.00     56962"
   ]
  },
  {
   "cell_type": "markdown",
   "metadata": {},
   "source": [
    "<a id='2.3.1'></a>\n",
    "### SVC with CondensedNearestNeighbour - undersampling"
   ]
  },
  {
   "cell_type": "code",
   "execution_count": 37,
   "metadata": {},
   "outputs": [
    {
     "name": "stdout",
     "output_type": "stream",
     "text": [
      "Original Training set & Condensed Nearest Neighbor Sample set: [227845, 1063]\n"
     ]
    }
   ],
   "source": [
    "from imblearn.under_sampling import CondensedNearestNeighbour\n",
    "cnn = CondensedNearestNeighbour(n_neighbors=10, random_state = 1)\n",
    "X_train_cnn10, y_train_cnn10 = cnn.fit_sample(X_train, y_train)\n",
    "\n",
    "print('Original Training set & Condensed Nearest Neighbor Sample set:', [len(y_train), len(y_train_cnn10)])"
   ]
  },
  {
   "cell_type": "code",
   "execution_count": 39,
   "metadata": {
    "collapsed": true
   },
   "outputs": [],
   "source": [
    "X_train_cnn10=pd.DataFrame(data=X_train_cnn10)"
   ]
  },
  {
   "cell_type": "code",
   "execution_count": 40,
   "metadata": {},
   "outputs": [
    {
     "data": {
      "text/html": [
       "<div>\n",
       "<style>\n",
       "    .dataframe thead tr:only-child th {\n",
       "        text-align: right;\n",
       "    }\n",
       "\n",
       "    .dataframe thead th {\n",
       "        text-align: left;\n",
       "    }\n",
       "\n",
       "    .dataframe tbody tr th {\n",
       "        vertical-align: top;\n",
       "    }\n",
       "</style>\n",
       "<table border=\"1\" class=\"dataframe\">\n",
       "  <thead>\n",
       "    <tr style=\"text-align: right;\">\n",
       "      <th></th>\n",
       "      <th>0</th>\n",
       "      <th>1</th>\n",
       "      <th>2</th>\n",
       "      <th>3</th>\n",
       "      <th>4</th>\n",
       "      <th>5</th>\n",
       "      <th>6</th>\n",
       "      <th>7</th>\n",
       "      <th>8</th>\n",
       "      <th>9</th>\n",
       "      <th>...</th>\n",
       "      <th>20</th>\n",
       "      <th>21</th>\n",
       "      <th>22</th>\n",
       "      <th>23</th>\n",
       "      <th>24</th>\n",
       "      <th>25</th>\n",
       "      <th>26</th>\n",
       "      <th>27</th>\n",
       "      <th>28</th>\n",
       "      <th>29</th>\n",
       "    </tr>\n",
       "  </thead>\n",
       "  <tbody>\n",
       "    <tr>\n",
       "      <th>0</th>\n",
       "      <td>36379.0</td>\n",
       "      <td>0.960045</td>\n",
       "      <td>-1.701390</td>\n",
       "      <td>0.090809</td>\n",
       "      <td>-2.416616</td>\n",
       "      <td>-1.778207</td>\n",
       "      <td>-1.187327</td>\n",
       "      <td>-0.352306</td>\n",
       "      <td>-0.313573</td>\n",
       "      <td>1.055548</td>\n",
       "      <td>...</td>\n",
       "      <td>0.001703</td>\n",
       "      <td>-0.208095</td>\n",
       "      <td>-0.342909</td>\n",
       "      <td>-0.261466</td>\n",
       "      <td>0.414765</td>\n",
       "      <td>0.551794</td>\n",
       "      <td>-0.760302</td>\n",
       "      <td>0.067309</td>\n",
       "      <td>0.072245</td>\n",
       "      <td>242.72</td>\n",
       "    </tr>\n",
       "    <tr>\n",
       "      <th>1</th>\n",
       "      <td>23610.0</td>\n",
       "      <td>1.387525</td>\n",
       "      <td>-0.547811</td>\n",
       "      <td>0.076422</td>\n",
       "      <td>-0.739334</td>\n",
       "      <td>-0.519887</td>\n",
       "      <td>-0.026007</td>\n",
       "      <td>-0.694673</td>\n",
       "      <td>-0.052100</td>\n",
       "      <td>0.378187</td>\n",
       "      <td>...</td>\n",
       "      <td>-0.469630</td>\n",
       "      <td>-0.658299</td>\n",
       "      <td>-1.307286</td>\n",
       "      <td>-0.013221</td>\n",
       "      <td>-0.912415</td>\n",
       "      <td>0.163178</td>\n",
       "      <td>0.920997</td>\n",
       "      <td>-0.096560</td>\n",
       "      <td>-0.014846</td>\n",
       "      <td>31.35</td>\n",
       "    </tr>\n",
       "    <tr>\n",
       "      <th>2</th>\n",
       "      <td>36516.0</td>\n",
       "      <td>1.021179</td>\n",
       "      <td>-0.194114</td>\n",
       "      <td>1.207791</td>\n",
       "      <td>1.738369</td>\n",
       "      <td>-0.659824</td>\n",
       "      <td>0.631864</td>\n",
       "      <td>-0.434168</td>\n",
       "      <td>0.227422</td>\n",
       "      <td>1.116400</td>\n",
       "      <td>...</td>\n",
       "      <td>-0.090960</td>\n",
       "      <td>-0.386993</td>\n",
       "      <td>-0.664598</td>\n",
       "      <td>0.047173</td>\n",
       "      <td>0.106897</td>\n",
       "      <td>0.443932</td>\n",
       "      <td>-0.515898</td>\n",
       "      <td>0.091188</td>\n",
       "      <td>0.035959</td>\n",
       "      <td>41.29</td>\n",
       "    </tr>\n",
       "    <tr>\n",
       "      <th>3</th>\n",
       "      <td>60465.0</td>\n",
       "      <td>-1.134453</td>\n",
       "      <td>0.636843</td>\n",
       "      <td>2.457241</td>\n",
       "      <td>1.317848</td>\n",
       "      <td>0.605755</td>\n",
       "      <td>0.143546</td>\n",
       "      <td>0.242076</td>\n",
       "      <td>0.371466</td>\n",
       "      <td>-1.315582</td>\n",
       "      <td>...</td>\n",
       "      <td>-0.040412</td>\n",
       "      <td>0.328508</td>\n",
       "      <td>0.683118</td>\n",
       "      <td>-0.114294</td>\n",
       "      <td>0.203942</td>\n",
       "      <td>0.035426</td>\n",
       "      <td>-0.090987</td>\n",
       "      <td>0.057247</td>\n",
       "      <td>0.102961</td>\n",
       "      <td>23.27</td>\n",
       "    </tr>\n",
       "    <tr>\n",
       "      <th>4</th>\n",
       "      <td>7309.0</td>\n",
       "      <td>-0.851343</td>\n",
       "      <td>0.062000</td>\n",
       "      <td>1.406917</td>\n",
       "      <td>-1.669375</td>\n",
       "      <td>0.462639</td>\n",
       "      <td>-0.150804</td>\n",
       "      <td>0.403887</td>\n",
       "      <td>0.200460</td>\n",
       "      <td>1.968672</td>\n",
       "      <td>...</td>\n",
       "      <td>-0.301203</td>\n",
       "      <td>-0.400262</td>\n",
       "      <td>-1.096108</td>\n",
       "      <td>0.023423</td>\n",
       "      <td>-0.842077</td>\n",
       "      <td>-0.301144</td>\n",
       "      <td>0.932506</td>\n",
       "      <td>-0.088128</td>\n",
       "      <td>0.076487</td>\n",
       "      <td>45.00</td>\n",
       "    </tr>\n",
       "  </tbody>\n",
       "</table>\n",
       "<p>5 rows × 30 columns</p>\n",
       "</div>"
      ],
      "text/plain": [
       "        0         1         2         3         4         5         6   \\\n",
       "0  36379.0  0.960045 -1.701390  0.090809 -2.416616 -1.778207 -1.187327   \n",
       "1  23610.0  1.387525 -0.547811  0.076422 -0.739334 -0.519887 -0.026007   \n",
       "2  36516.0  1.021179 -0.194114  1.207791  1.738369 -0.659824  0.631864   \n",
       "3  60465.0 -1.134453  0.636843  2.457241  1.317848  0.605755  0.143546   \n",
       "4   7309.0 -0.851343  0.062000  1.406917 -1.669375  0.462639 -0.150804   \n",
       "\n",
       "         7         8         9    ...          20        21        22  \\\n",
       "0 -0.352306 -0.313573  1.055548   ...    0.001703 -0.208095 -0.342909   \n",
       "1 -0.694673 -0.052100  0.378187   ...   -0.469630 -0.658299 -1.307286   \n",
       "2 -0.434168  0.227422  1.116400   ...   -0.090960 -0.386993 -0.664598   \n",
       "3  0.242076  0.371466 -1.315582   ...   -0.040412  0.328508  0.683118   \n",
       "4  0.403887  0.200460  1.968672   ...   -0.301203 -0.400262 -1.096108   \n",
       "\n",
       "         23        24        25        26        27        28      29  \n",
       "0 -0.261466  0.414765  0.551794 -0.760302  0.067309  0.072245  242.72  \n",
       "1 -0.013221 -0.912415  0.163178  0.920997 -0.096560 -0.014846   31.35  \n",
       "2  0.047173  0.106897  0.443932 -0.515898  0.091188  0.035959   41.29  \n",
       "3 -0.114294  0.203942  0.035426 -0.090987  0.057247  0.102961   23.27  \n",
       "4  0.023423 -0.842077 -0.301144  0.932506 -0.088128  0.076487   45.00  \n",
       "\n",
       "[5 rows x 30 columns]"
      ]
     },
     "execution_count": 40,
     "metadata": {},
     "output_type": "execute_result"
    }
   ],
   "source": [
    "X_train_cnn10.head()"
   ]
  },
  {
   "cell_type": "code",
   "execution_count": 43,
   "metadata": {
    "collapsed": true
   },
   "outputs": [],
   "source": [
    "X_train_cnn10.columns = ['Time', 'V1', 'V2', 'V3', 'V4', 'V5', 'V6', 'V7', 'V8', 'V9', 'V10', 'V11', 'V12', 'V13', 'V14', 'V15', 'V16', 'V17', 'V18', 'V19', 'V20', 'V21', 'V22', 'V23', 'V24', 'V25', 'V26', 'V27', 'V28', 'Amount']"
   ]
  },
  {
   "cell_type": "code",
   "execution_count": 44,
   "metadata": {
    "collapsed": true
   },
   "outputs": [],
   "source": [
    "#X_train_cnn10_1 = pd.DataFrame(X_train_cnn10,columns='Time V1 V2 V3 V4 V5 V6 V7 V8 V9 V10 V11 V12 V13 V14 V15 V16 V17 V18 V19 V20 V21 V22 V23 V24 V25 V26 V27 V28 Amount'.split())"
   ]
  },
  {
   "cell_type": "code",
   "execution_count": 46,
   "metadata": {},
   "outputs": [
    {
     "data": {
      "text/html": [
       "<div>\n",
       "<style>\n",
       "    .dataframe thead tr:only-child th {\n",
       "        text-align: right;\n",
       "    }\n",
       "\n",
       "    .dataframe thead th {\n",
       "        text-align: left;\n",
       "    }\n",
       "\n",
       "    .dataframe tbody tr th {\n",
       "        vertical-align: top;\n",
       "    }\n",
       "</style>\n",
       "<table border=\"1\" class=\"dataframe\">\n",
       "  <thead>\n",
       "    <tr style=\"text-align: right;\">\n",
       "      <th></th>\n",
       "      <th>Time</th>\n",
       "      <th>V1</th>\n",
       "      <th>V2</th>\n",
       "      <th>V3</th>\n",
       "      <th>V4</th>\n",
       "      <th>V5</th>\n",
       "      <th>V6</th>\n",
       "      <th>V7</th>\n",
       "      <th>V8</th>\n",
       "      <th>V9</th>\n",
       "      <th>...</th>\n",
       "      <th>V20</th>\n",
       "      <th>V21</th>\n",
       "      <th>V22</th>\n",
       "      <th>V23</th>\n",
       "      <th>V24</th>\n",
       "      <th>V25</th>\n",
       "      <th>V26</th>\n",
       "      <th>V27</th>\n",
       "      <th>V28</th>\n",
       "      <th>Amount</th>\n",
       "    </tr>\n",
       "  </thead>\n",
       "  <tbody>\n",
       "    <tr>\n",
       "      <th>0</th>\n",
       "      <td>36379.0</td>\n",
       "      <td>0.960045</td>\n",
       "      <td>-1.701390</td>\n",
       "      <td>0.090809</td>\n",
       "      <td>-2.416616</td>\n",
       "      <td>-1.778207</td>\n",
       "      <td>-1.187327</td>\n",
       "      <td>-0.352306</td>\n",
       "      <td>-0.313573</td>\n",
       "      <td>1.055548</td>\n",
       "      <td>...</td>\n",
       "      <td>0.001703</td>\n",
       "      <td>-0.208095</td>\n",
       "      <td>-0.342909</td>\n",
       "      <td>-0.261466</td>\n",
       "      <td>0.414765</td>\n",
       "      <td>0.551794</td>\n",
       "      <td>-0.760302</td>\n",
       "      <td>0.067309</td>\n",
       "      <td>0.072245</td>\n",
       "      <td>242.72</td>\n",
       "    </tr>\n",
       "    <tr>\n",
       "      <th>1</th>\n",
       "      <td>23610.0</td>\n",
       "      <td>1.387525</td>\n",
       "      <td>-0.547811</td>\n",
       "      <td>0.076422</td>\n",
       "      <td>-0.739334</td>\n",
       "      <td>-0.519887</td>\n",
       "      <td>-0.026007</td>\n",
       "      <td>-0.694673</td>\n",
       "      <td>-0.052100</td>\n",
       "      <td>0.378187</td>\n",
       "      <td>...</td>\n",
       "      <td>-0.469630</td>\n",
       "      <td>-0.658299</td>\n",
       "      <td>-1.307286</td>\n",
       "      <td>-0.013221</td>\n",
       "      <td>-0.912415</td>\n",
       "      <td>0.163178</td>\n",
       "      <td>0.920997</td>\n",
       "      <td>-0.096560</td>\n",
       "      <td>-0.014846</td>\n",
       "      <td>31.35</td>\n",
       "    </tr>\n",
       "    <tr>\n",
       "      <th>2</th>\n",
       "      <td>36516.0</td>\n",
       "      <td>1.021179</td>\n",
       "      <td>-0.194114</td>\n",
       "      <td>1.207791</td>\n",
       "      <td>1.738369</td>\n",
       "      <td>-0.659824</td>\n",
       "      <td>0.631864</td>\n",
       "      <td>-0.434168</td>\n",
       "      <td>0.227422</td>\n",
       "      <td>1.116400</td>\n",
       "      <td>...</td>\n",
       "      <td>-0.090960</td>\n",
       "      <td>-0.386993</td>\n",
       "      <td>-0.664598</td>\n",
       "      <td>0.047173</td>\n",
       "      <td>0.106897</td>\n",
       "      <td>0.443932</td>\n",
       "      <td>-0.515898</td>\n",
       "      <td>0.091188</td>\n",
       "      <td>0.035959</td>\n",
       "      <td>41.29</td>\n",
       "    </tr>\n",
       "    <tr>\n",
       "      <th>3</th>\n",
       "      <td>60465.0</td>\n",
       "      <td>-1.134453</td>\n",
       "      <td>0.636843</td>\n",
       "      <td>2.457241</td>\n",
       "      <td>1.317848</td>\n",
       "      <td>0.605755</td>\n",
       "      <td>0.143546</td>\n",
       "      <td>0.242076</td>\n",
       "      <td>0.371466</td>\n",
       "      <td>-1.315582</td>\n",
       "      <td>...</td>\n",
       "      <td>-0.040412</td>\n",
       "      <td>0.328508</td>\n",
       "      <td>0.683118</td>\n",
       "      <td>-0.114294</td>\n",
       "      <td>0.203942</td>\n",
       "      <td>0.035426</td>\n",
       "      <td>-0.090987</td>\n",
       "      <td>0.057247</td>\n",
       "      <td>0.102961</td>\n",
       "      <td>23.27</td>\n",
       "    </tr>\n",
       "    <tr>\n",
       "      <th>4</th>\n",
       "      <td>7309.0</td>\n",
       "      <td>-0.851343</td>\n",
       "      <td>0.062000</td>\n",
       "      <td>1.406917</td>\n",
       "      <td>-1.669375</td>\n",
       "      <td>0.462639</td>\n",
       "      <td>-0.150804</td>\n",
       "      <td>0.403887</td>\n",
       "      <td>0.200460</td>\n",
       "      <td>1.968672</td>\n",
       "      <td>...</td>\n",
       "      <td>-0.301203</td>\n",
       "      <td>-0.400262</td>\n",
       "      <td>-1.096108</td>\n",
       "      <td>0.023423</td>\n",
       "      <td>-0.842077</td>\n",
       "      <td>-0.301144</td>\n",
       "      <td>0.932506</td>\n",
       "      <td>-0.088128</td>\n",
       "      <td>0.076487</td>\n",
       "      <td>45.00</td>\n",
       "    </tr>\n",
       "  </tbody>\n",
       "</table>\n",
       "<p>5 rows × 30 columns</p>\n",
       "</div>"
      ],
      "text/plain": [
       "      Time        V1        V2        V3        V4        V5        V6  \\\n",
       "0  36379.0  0.960045 -1.701390  0.090809 -2.416616 -1.778207 -1.187327   \n",
       "1  23610.0  1.387525 -0.547811  0.076422 -0.739334 -0.519887 -0.026007   \n",
       "2  36516.0  1.021179 -0.194114  1.207791  1.738369 -0.659824  0.631864   \n",
       "3  60465.0 -1.134453  0.636843  2.457241  1.317848  0.605755  0.143546   \n",
       "4   7309.0 -0.851343  0.062000  1.406917 -1.669375  0.462639 -0.150804   \n",
       "\n",
       "         V7        V8        V9   ...         V20       V21       V22  \\\n",
       "0 -0.352306 -0.313573  1.055548   ...    0.001703 -0.208095 -0.342909   \n",
       "1 -0.694673 -0.052100  0.378187   ...   -0.469630 -0.658299 -1.307286   \n",
       "2 -0.434168  0.227422  1.116400   ...   -0.090960 -0.386993 -0.664598   \n",
       "3  0.242076  0.371466 -1.315582   ...   -0.040412  0.328508  0.683118   \n",
       "4  0.403887  0.200460  1.968672   ...   -0.301203 -0.400262 -1.096108   \n",
       "\n",
       "        V23       V24       V25       V26       V27       V28  Amount  \n",
       "0 -0.261466  0.414765  0.551794 -0.760302  0.067309  0.072245  242.72  \n",
       "1 -0.013221 -0.912415  0.163178  0.920997 -0.096560 -0.014846   31.35  \n",
       "2  0.047173  0.106897  0.443932 -0.515898  0.091188  0.035959   41.29  \n",
       "3 -0.114294  0.203942  0.035426 -0.090987  0.057247  0.102961   23.27  \n",
       "4  0.023423 -0.842077 -0.301144  0.932506 -0.088128  0.076487   45.00  \n",
       "\n",
       "[5 rows x 30 columns]"
      ]
     },
     "execution_count": 46,
     "metadata": {},
     "output_type": "execute_result"
    }
   ],
   "source": [
    "X_train_cnn10.head()"
   ]
  },
  {
   "cell_type": "code",
   "execution_count": 47,
   "metadata": {
    "collapsed": true
   },
   "outputs": [],
   "source": [
    "X_train_cnn10.set_index('Time', inplace=True)"
   ]
  },
  {
   "cell_type": "code",
   "execution_count": 48,
   "metadata": {},
   "outputs": [
    {
     "data": {
      "text/html": [
       "<div>\n",
       "<style>\n",
       "    .dataframe thead tr:only-child th {\n",
       "        text-align: right;\n",
       "    }\n",
       "\n",
       "    .dataframe thead th {\n",
       "        text-align: left;\n",
       "    }\n",
       "\n",
       "    .dataframe tbody tr th {\n",
       "        vertical-align: top;\n",
       "    }\n",
       "</style>\n",
       "<table border=\"1\" class=\"dataframe\">\n",
       "  <thead>\n",
       "    <tr style=\"text-align: right;\">\n",
       "      <th></th>\n",
       "      <th>V1</th>\n",
       "      <th>V2</th>\n",
       "      <th>V3</th>\n",
       "      <th>V4</th>\n",
       "      <th>V5</th>\n",
       "      <th>V6</th>\n",
       "      <th>V7</th>\n",
       "      <th>V8</th>\n",
       "      <th>V9</th>\n",
       "      <th>V10</th>\n",
       "      <th>...</th>\n",
       "      <th>V20</th>\n",
       "      <th>V21</th>\n",
       "      <th>V22</th>\n",
       "      <th>V23</th>\n",
       "      <th>V24</th>\n",
       "      <th>V25</th>\n",
       "      <th>V26</th>\n",
       "      <th>V27</th>\n",
       "      <th>V28</th>\n",
       "      <th>Amount</th>\n",
       "    </tr>\n",
       "    <tr>\n",
       "      <th>Time</th>\n",
       "      <th></th>\n",
       "      <th></th>\n",
       "      <th></th>\n",
       "      <th></th>\n",
       "      <th></th>\n",
       "      <th></th>\n",
       "      <th></th>\n",
       "      <th></th>\n",
       "      <th></th>\n",
       "      <th></th>\n",
       "      <th></th>\n",
       "      <th></th>\n",
       "      <th></th>\n",
       "      <th></th>\n",
       "      <th></th>\n",
       "      <th></th>\n",
       "      <th></th>\n",
       "      <th></th>\n",
       "      <th></th>\n",
       "      <th></th>\n",
       "      <th></th>\n",
       "    </tr>\n",
       "  </thead>\n",
       "  <tbody>\n",
       "    <tr>\n",
       "      <th>36379.0</th>\n",
       "      <td>0.960045</td>\n",
       "      <td>-1.701390</td>\n",
       "      <td>0.090809</td>\n",
       "      <td>-2.416616</td>\n",
       "      <td>-1.778207</td>\n",
       "      <td>-1.187327</td>\n",
       "      <td>-0.352306</td>\n",
       "      <td>-0.313573</td>\n",
       "      <td>1.055548</td>\n",
       "      <td>-0.919723</td>\n",
       "      <td>...</td>\n",
       "      <td>0.001703</td>\n",
       "      <td>-0.208095</td>\n",
       "      <td>-0.342909</td>\n",
       "      <td>-0.261466</td>\n",
       "      <td>0.414765</td>\n",
       "      <td>0.551794</td>\n",
       "      <td>-0.760302</td>\n",
       "      <td>0.067309</td>\n",
       "      <td>0.072245</td>\n",
       "      <td>242.72</td>\n",
       "    </tr>\n",
       "    <tr>\n",
       "      <th>23610.0</th>\n",
       "      <td>1.387525</td>\n",
       "      <td>-0.547811</td>\n",
       "      <td>0.076422</td>\n",
       "      <td>-0.739334</td>\n",
       "      <td>-0.519887</td>\n",
       "      <td>-0.026007</td>\n",
       "      <td>-0.694673</td>\n",
       "      <td>-0.052100</td>\n",
       "      <td>0.378187</td>\n",
       "      <td>0.488238</td>\n",
       "      <td>...</td>\n",
       "      <td>-0.469630</td>\n",
       "      <td>-0.658299</td>\n",
       "      <td>-1.307286</td>\n",
       "      <td>-0.013221</td>\n",
       "      <td>-0.912415</td>\n",
       "      <td>0.163178</td>\n",
       "      <td>0.920997</td>\n",
       "      <td>-0.096560</td>\n",
       "      <td>-0.014846</td>\n",
       "      <td>31.35</td>\n",
       "    </tr>\n",
       "    <tr>\n",
       "      <th>36516.0</th>\n",
       "      <td>1.021179</td>\n",
       "      <td>-0.194114</td>\n",
       "      <td>1.207791</td>\n",
       "      <td>1.738369</td>\n",
       "      <td>-0.659824</td>\n",
       "      <td>0.631864</td>\n",
       "      <td>-0.434168</td>\n",
       "      <td>0.227422</td>\n",
       "      <td>1.116400</td>\n",
       "      <td>-0.456468</td>\n",
       "      <td>...</td>\n",
       "      <td>-0.090960</td>\n",
       "      <td>-0.386993</td>\n",
       "      <td>-0.664598</td>\n",
       "      <td>0.047173</td>\n",
       "      <td>0.106897</td>\n",
       "      <td>0.443932</td>\n",
       "      <td>-0.515898</td>\n",
       "      <td>0.091188</td>\n",
       "      <td>0.035959</td>\n",
       "      <td>41.29</td>\n",
       "    </tr>\n",
       "    <tr>\n",
       "      <th>60465.0</th>\n",
       "      <td>-1.134453</td>\n",
       "      <td>0.636843</td>\n",
       "      <td>2.457241</td>\n",
       "      <td>1.317848</td>\n",
       "      <td>0.605755</td>\n",
       "      <td>0.143546</td>\n",
       "      <td>0.242076</td>\n",
       "      <td>0.371466</td>\n",
       "      <td>-1.315582</td>\n",
       "      <td>0.050471</td>\n",
       "      <td>...</td>\n",
       "      <td>-0.040412</td>\n",
       "      <td>0.328508</td>\n",
       "      <td>0.683118</td>\n",
       "      <td>-0.114294</td>\n",
       "      <td>0.203942</td>\n",
       "      <td>0.035426</td>\n",
       "      <td>-0.090987</td>\n",
       "      <td>0.057247</td>\n",
       "      <td>0.102961</td>\n",
       "      <td>23.27</td>\n",
       "    </tr>\n",
       "    <tr>\n",
       "      <th>7309.0</th>\n",
       "      <td>-0.851343</td>\n",
       "      <td>0.062000</td>\n",
       "      <td>1.406917</td>\n",
       "      <td>-1.669375</td>\n",
       "      <td>0.462639</td>\n",
       "      <td>-0.150804</td>\n",
       "      <td>0.403887</td>\n",
       "      <td>0.200460</td>\n",
       "      <td>1.968672</td>\n",
       "      <td>-1.666708</td>\n",
       "      <td>...</td>\n",
       "      <td>-0.301203</td>\n",
       "      <td>-0.400262</td>\n",
       "      <td>-1.096108</td>\n",
       "      <td>0.023423</td>\n",
       "      <td>-0.842077</td>\n",
       "      <td>-0.301144</td>\n",
       "      <td>0.932506</td>\n",
       "      <td>-0.088128</td>\n",
       "      <td>0.076487</td>\n",
       "      <td>45.00</td>\n",
       "    </tr>\n",
       "  </tbody>\n",
       "</table>\n",
       "<p>5 rows × 29 columns</p>\n",
       "</div>"
      ],
      "text/plain": [
       "               V1        V2        V3        V4        V5        V6        V7  \\\n",
       "Time                                                                            \n",
       "36379.0  0.960045 -1.701390  0.090809 -2.416616 -1.778207 -1.187327 -0.352306   \n",
       "23610.0  1.387525 -0.547811  0.076422 -0.739334 -0.519887 -0.026007 -0.694673   \n",
       "36516.0  1.021179 -0.194114  1.207791  1.738369 -0.659824  0.631864 -0.434168   \n",
       "60465.0 -1.134453  0.636843  2.457241  1.317848  0.605755  0.143546  0.242076   \n",
       "7309.0  -0.851343  0.062000  1.406917 -1.669375  0.462639 -0.150804  0.403887   \n",
       "\n",
       "               V8        V9       V10   ...         V20       V21       V22  \\\n",
       "Time                                    ...                                   \n",
       "36379.0 -0.313573  1.055548 -0.919723   ...    0.001703 -0.208095 -0.342909   \n",
       "23610.0 -0.052100  0.378187  0.488238   ...   -0.469630 -0.658299 -1.307286   \n",
       "36516.0  0.227422  1.116400 -0.456468   ...   -0.090960 -0.386993 -0.664598   \n",
       "60465.0  0.371466 -1.315582  0.050471   ...   -0.040412  0.328508  0.683118   \n",
       "7309.0   0.200460  1.968672 -1.666708   ...   -0.301203 -0.400262 -1.096108   \n",
       "\n",
       "              V23       V24       V25       V26       V27       V28  Amount  \n",
       "Time                                                                         \n",
       "36379.0 -0.261466  0.414765  0.551794 -0.760302  0.067309  0.072245  242.72  \n",
       "23610.0 -0.013221 -0.912415  0.163178  0.920997 -0.096560 -0.014846   31.35  \n",
       "36516.0  0.047173  0.106897  0.443932 -0.515898  0.091188  0.035959   41.29  \n",
       "60465.0 -0.114294  0.203942  0.035426 -0.090987  0.057247  0.102961   23.27  \n",
       "7309.0   0.023423 -0.842077 -0.301144  0.932506 -0.088128  0.076487   45.00  \n",
       "\n",
       "[5 rows x 29 columns]"
      ]
     },
     "execution_count": 48,
     "metadata": {},
     "output_type": "execute_result"
    }
   ],
   "source": [
    "X_train_cnn10.head()"
   ]
  },
  {
   "cell_type": "code",
   "execution_count": 50,
   "metadata": {
    "collapsed": true
   },
   "outputs": [],
   "source": [
    "del X_train_cnn10.index.name"
   ]
  },
  {
   "cell_type": "code",
   "execution_count": 51,
   "metadata": {},
   "outputs": [
    {
     "data": {
      "text/html": [
       "<div>\n",
       "<style>\n",
       "    .dataframe thead tr:only-child th {\n",
       "        text-align: right;\n",
       "    }\n",
       "\n",
       "    .dataframe thead th {\n",
       "        text-align: left;\n",
       "    }\n",
       "\n",
       "    .dataframe tbody tr th {\n",
       "        vertical-align: top;\n",
       "    }\n",
       "</style>\n",
       "<table border=\"1\" class=\"dataframe\">\n",
       "  <thead>\n",
       "    <tr style=\"text-align: right;\">\n",
       "      <th></th>\n",
       "      <th>V1</th>\n",
       "      <th>V2</th>\n",
       "      <th>V3</th>\n",
       "      <th>V4</th>\n",
       "      <th>V5</th>\n",
       "      <th>V6</th>\n",
       "      <th>V7</th>\n",
       "      <th>V8</th>\n",
       "      <th>V9</th>\n",
       "      <th>V10</th>\n",
       "      <th>...</th>\n",
       "      <th>V20</th>\n",
       "      <th>V21</th>\n",
       "      <th>V22</th>\n",
       "      <th>V23</th>\n",
       "      <th>V24</th>\n",
       "      <th>V25</th>\n",
       "      <th>V26</th>\n",
       "      <th>V27</th>\n",
       "      <th>V28</th>\n",
       "      <th>Amount</th>\n",
       "    </tr>\n",
       "  </thead>\n",
       "  <tbody>\n",
       "    <tr>\n",
       "      <th>36379.0</th>\n",
       "      <td>0.960045</td>\n",
       "      <td>-1.701390</td>\n",
       "      <td>0.090809</td>\n",
       "      <td>-2.416616</td>\n",
       "      <td>-1.778207</td>\n",
       "      <td>-1.187327</td>\n",
       "      <td>-0.352306</td>\n",
       "      <td>-0.313573</td>\n",
       "      <td>1.055548</td>\n",
       "      <td>-0.919723</td>\n",
       "      <td>...</td>\n",
       "      <td>0.001703</td>\n",
       "      <td>-0.208095</td>\n",
       "      <td>-0.342909</td>\n",
       "      <td>-0.261466</td>\n",
       "      <td>0.414765</td>\n",
       "      <td>0.551794</td>\n",
       "      <td>-0.760302</td>\n",
       "      <td>0.067309</td>\n",
       "      <td>0.072245</td>\n",
       "      <td>242.72</td>\n",
       "    </tr>\n",
       "    <tr>\n",
       "      <th>23610.0</th>\n",
       "      <td>1.387525</td>\n",
       "      <td>-0.547811</td>\n",
       "      <td>0.076422</td>\n",
       "      <td>-0.739334</td>\n",
       "      <td>-0.519887</td>\n",
       "      <td>-0.026007</td>\n",
       "      <td>-0.694673</td>\n",
       "      <td>-0.052100</td>\n",
       "      <td>0.378187</td>\n",
       "      <td>0.488238</td>\n",
       "      <td>...</td>\n",
       "      <td>-0.469630</td>\n",
       "      <td>-0.658299</td>\n",
       "      <td>-1.307286</td>\n",
       "      <td>-0.013221</td>\n",
       "      <td>-0.912415</td>\n",
       "      <td>0.163178</td>\n",
       "      <td>0.920997</td>\n",
       "      <td>-0.096560</td>\n",
       "      <td>-0.014846</td>\n",
       "      <td>31.35</td>\n",
       "    </tr>\n",
       "    <tr>\n",
       "      <th>36516.0</th>\n",
       "      <td>1.021179</td>\n",
       "      <td>-0.194114</td>\n",
       "      <td>1.207791</td>\n",
       "      <td>1.738369</td>\n",
       "      <td>-0.659824</td>\n",
       "      <td>0.631864</td>\n",
       "      <td>-0.434168</td>\n",
       "      <td>0.227422</td>\n",
       "      <td>1.116400</td>\n",
       "      <td>-0.456468</td>\n",
       "      <td>...</td>\n",
       "      <td>-0.090960</td>\n",
       "      <td>-0.386993</td>\n",
       "      <td>-0.664598</td>\n",
       "      <td>0.047173</td>\n",
       "      <td>0.106897</td>\n",
       "      <td>0.443932</td>\n",
       "      <td>-0.515898</td>\n",
       "      <td>0.091188</td>\n",
       "      <td>0.035959</td>\n",
       "      <td>41.29</td>\n",
       "    </tr>\n",
       "    <tr>\n",
       "      <th>60465.0</th>\n",
       "      <td>-1.134453</td>\n",
       "      <td>0.636843</td>\n",
       "      <td>2.457241</td>\n",
       "      <td>1.317848</td>\n",
       "      <td>0.605755</td>\n",
       "      <td>0.143546</td>\n",
       "      <td>0.242076</td>\n",
       "      <td>0.371466</td>\n",
       "      <td>-1.315582</td>\n",
       "      <td>0.050471</td>\n",
       "      <td>...</td>\n",
       "      <td>-0.040412</td>\n",
       "      <td>0.328508</td>\n",
       "      <td>0.683118</td>\n",
       "      <td>-0.114294</td>\n",
       "      <td>0.203942</td>\n",
       "      <td>0.035426</td>\n",
       "      <td>-0.090987</td>\n",
       "      <td>0.057247</td>\n",
       "      <td>0.102961</td>\n",
       "      <td>23.27</td>\n",
       "    </tr>\n",
       "    <tr>\n",
       "      <th>7309.0</th>\n",
       "      <td>-0.851343</td>\n",
       "      <td>0.062000</td>\n",
       "      <td>1.406917</td>\n",
       "      <td>-1.669375</td>\n",
       "      <td>0.462639</td>\n",
       "      <td>-0.150804</td>\n",
       "      <td>0.403887</td>\n",
       "      <td>0.200460</td>\n",
       "      <td>1.968672</td>\n",
       "      <td>-1.666708</td>\n",
       "      <td>...</td>\n",
       "      <td>-0.301203</td>\n",
       "      <td>-0.400262</td>\n",
       "      <td>-1.096108</td>\n",
       "      <td>0.023423</td>\n",
       "      <td>-0.842077</td>\n",
       "      <td>-0.301144</td>\n",
       "      <td>0.932506</td>\n",
       "      <td>-0.088128</td>\n",
       "      <td>0.076487</td>\n",
       "      <td>45.00</td>\n",
       "    </tr>\n",
       "  </tbody>\n",
       "</table>\n",
       "<p>5 rows × 29 columns</p>\n",
       "</div>"
      ],
      "text/plain": [
       "               V1        V2        V3        V4        V5        V6        V7  \\\n",
       "36379.0  0.960045 -1.701390  0.090809 -2.416616 -1.778207 -1.187327 -0.352306   \n",
       "23610.0  1.387525 -0.547811  0.076422 -0.739334 -0.519887 -0.026007 -0.694673   \n",
       "36516.0  1.021179 -0.194114  1.207791  1.738369 -0.659824  0.631864 -0.434168   \n",
       "60465.0 -1.134453  0.636843  2.457241  1.317848  0.605755  0.143546  0.242076   \n",
       "7309.0  -0.851343  0.062000  1.406917 -1.669375  0.462639 -0.150804  0.403887   \n",
       "\n",
       "               V8        V9       V10   ...         V20       V21       V22  \\\n",
       "36379.0 -0.313573  1.055548 -0.919723   ...    0.001703 -0.208095 -0.342909   \n",
       "23610.0 -0.052100  0.378187  0.488238   ...   -0.469630 -0.658299 -1.307286   \n",
       "36516.0  0.227422  1.116400 -0.456468   ...   -0.090960 -0.386993 -0.664598   \n",
       "60465.0  0.371466 -1.315582  0.050471   ...   -0.040412  0.328508  0.683118   \n",
       "7309.0   0.200460  1.968672 -1.666708   ...   -0.301203 -0.400262 -1.096108   \n",
       "\n",
       "              V23       V24       V25       V26       V27       V28  Amount  \n",
       "36379.0 -0.261466  0.414765  0.551794 -0.760302  0.067309  0.072245  242.72  \n",
       "23610.0 -0.013221 -0.912415  0.163178  0.920997 -0.096560 -0.014846   31.35  \n",
       "36516.0  0.047173  0.106897  0.443932 -0.515898  0.091188  0.035959   41.29  \n",
       "60465.0 -0.114294  0.203942  0.035426 -0.090987  0.057247  0.102961   23.27  \n",
       "7309.0   0.023423 -0.842077 -0.301144  0.932506 -0.088128  0.076487   45.00  \n",
       "\n",
       "[5 rows x 29 columns]"
      ]
     },
     "execution_count": 51,
     "metadata": {},
     "output_type": "execute_result"
    }
   ],
   "source": [
    "X_train_cnn10.head()"
   ]
  },
  {
   "cell_type": "code",
   "execution_count": 52,
   "metadata": {},
   "outputs": [
    {
     "data": {
      "text/plain": [
       "array([0, 0, 0, ..., 1, 1, 1], dtype=int64)"
      ]
     },
     "execution_count": 52,
     "metadata": {},
     "output_type": "execute_result"
    }
   ],
   "source": [
    "y_train_cnn10"
   ]
  },
  {
   "cell_type": "code",
   "execution_count": 53,
   "metadata": {},
   "outputs": [
    {
     "data": {
      "text/plain": [
       "(1063,)"
      ]
     },
     "execution_count": 53,
     "metadata": {},
     "output_type": "execute_result"
    }
   ],
   "source": [
    "y_train_cnn10.shape"
   ]
  },
  {
   "cell_type": "code",
   "execution_count": null,
   "metadata": {
    "collapsed": true
   },
   "outputs": [],
   "source": [
    "#y_train_cnn5_1 = np.delete(y_train_cnn5, [0])"
   ]
  },
  {
   "cell_type": "code",
   "execution_count": 60,
   "metadata": {},
   "outputs": [
    {
     "data": {
      "text/plain": [
       "(56962, 30)"
      ]
     },
     "execution_count": 60,
     "metadata": {},
     "output_type": "execute_result"
    }
   ],
   "source": [
    "X_test.shape"
   ]
  },
  {
   "cell_type": "code",
   "execution_count": 61,
   "metadata": {
    "collapsed": true
   },
   "outputs": [],
   "source": [
    "X_test.drop('Time', axis=1, inplace=True)"
   ]
  },
  {
   "cell_type": "code",
   "execution_count": 62,
   "metadata": {},
   "outputs": [
    {
     "data": {
      "text/plain": [
       "(56962, 29)"
      ]
     },
     "execution_count": 62,
     "metadata": {},
     "output_type": "execute_result"
    }
   ],
   "source": [
    "X_test.shape"
   ]
  },
  {
   "cell_type": "code",
   "execution_count": 54,
   "metadata": {
    "collapsed": true
   },
   "outputs": [],
   "source": [
    "svc_params = {\n",
    "    'C': [0.5, 1, 1.5, 2],\n",
    "    'kernel': ['rbf', 'linear'],\n",
    "    'gamma': [1, 3, 5],\n",
    "    'max_iter':[1000]\n",
    "}"
   ]
  },
  {
   "cell_type": "code",
   "execution_count": 63,
   "metadata": {},
   "outputs": [
    {
     "name": "stdout",
     "output_type": "stream",
     "text": [
      "Accuracy Score: 0.21210631649169623\n",
      "\n",
      "Average Precision Score: 0.0016917730738400614\n",
      "\n",
      "Average F1 Score: 0.003419638495359062\n"
     ]
    },
    {
     "data": {
      "image/png": "[encoded data removed]",
      "text/plain": [
       "<matplotlib.figure.Figure at 0x24e095c9240>"
      ]
     },
     "metadata": {},
     "output_type": "display_data"
    },
    {
     "name": "stdout",
     "output_type": "stream",
     "text": [
      "\n",
      "----------Classification Report------------------------------------\n",
      "             precision    recall  f1-score   support\n",
      "\n",
      "          0       1.00      0.21      0.35     56875\n",
      "          1       0.00      0.89      0.00        87\n",
      "\n",
      "avg / total       1.00      0.21      0.35     56962\n",
      "\n"
     ]
    }
   ],
   "source": [
    "svc = SVC()\n",
    "svc_grid = GridSearchCV(svc, param_grid=svc_params)\n",
    "svc_model_cnn10 = svc_grid.fit(X_train_cnn10, y_train_cnn10)\n",
    "\n",
    "svc_pred_cnn10 = svc_model_cnn10.predict(X_test)\n",
    "\n",
    "model_scores(y_test, svc_pred_cnn10)"
   ]
  },
  {
   "cell_type": "markdown",
   "metadata": {},
   "source": [
    "<a id='2.3.2'></a>\n",
    "### SVC with SMOTE - oversampling"
   ]
  },
  {
   "cell_type": "code",
   "execution_count": 22,
   "metadata": {
    "collapsed": true
   },
   "outputs": [],
   "source": [
    "from imblearn.over_sampling import SMOTE\n",
    "\n",
    "sm = SMOTE(random_state=1)\n",
    "X_train_smote, y_train_smote = sm.fit_sample(X_train, y_train)"
   ]
  },
  {
   "cell_type": "code",
   "execution_count": 128,
   "metadata": {
    "collapsed": true
   },
   "outputs": [],
   "source": [
    "svc_params_2 = {\n",
    "    'C': [0.5, 1, 1.5, 2],\n",
    "    'kernel': ['rbf', 'linear'],\n",
    "    'gamma': [1, 3, 5],\n",
    "    'max_iter':[1000]\n",
    "}"
   ]
  },
  {
   "cell_type": "code",
   "execution_count": 133,
   "metadata": {},
   "outputs": [
    {
     "data": {
      "text/html": [
       "<div>\n",
       "<style>\n",
       "    .dataframe thead tr:only-child th {\n",
       "        text-align: right;\n",
       "    }\n",
       "\n",
       "    .dataframe thead th {\n",
       "        text-align: left;\n",
       "    }\n",
       "\n",
       "    .dataframe tbody tr th {\n",
       "        vertical-align: top;\n",
       "    }\n",
       "</style>\n",
       "<table border=\"1\" class=\"dataframe\">\n",
       "  <thead>\n",
       "    <tr style=\"text-align: right;\">\n",
       "      <th></th>\n",
       "      <th>0</th>\n",
       "      <th>1</th>\n",
       "      <th>2</th>\n",
       "      <th>3</th>\n",
       "      <th>4</th>\n",
       "      <th>5</th>\n",
       "      <th>6</th>\n",
       "      <th>7</th>\n",
       "      <th>8</th>\n",
       "      <th>9</th>\n",
       "      <th>...</th>\n",
       "      <th>20</th>\n",
       "      <th>21</th>\n",
       "      <th>22</th>\n",
       "      <th>23</th>\n",
       "      <th>24</th>\n",
       "      <th>25</th>\n",
       "      <th>26</th>\n",
       "      <th>27</th>\n",
       "      <th>28</th>\n",
       "      <th>29</th>\n",
       "    </tr>\n",
       "  </thead>\n",
       "  <tbody>\n",
       "    <tr>\n",
       "      <th>0</th>\n",
       "      <td>23610.0</td>\n",
       "      <td>1.387525</td>\n",
       "      <td>-0.547811</td>\n",
       "      <td>0.076422</td>\n",
       "      <td>-0.739334</td>\n",
       "      <td>-0.519887</td>\n",
       "      <td>-0.026007</td>\n",
       "      <td>-0.694673</td>\n",
       "      <td>-0.052100</td>\n",
       "      <td>0.378187</td>\n",
       "      <td>...</td>\n",
       "      <td>-0.469630</td>\n",
       "      <td>-0.658299</td>\n",
       "      <td>-1.307286</td>\n",
       "      <td>-0.013221</td>\n",
       "      <td>-0.912415</td>\n",
       "      <td>0.163178</td>\n",
       "      <td>0.920997</td>\n",
       "      <td>-0.096560</td>\n",
       "      <td>-0.014846</td>\n",
       "      <td>31.35</td>\n",
       "    </tr>\n",
       "    <tr>\n",
       "      <th>1</th>\n",
       "      <td>36516.0</td>\n",
       "      <td>1.021179</td>\n",
       "      <td>-0.194114</td>\n",
       "      <td>1.207791</td>\n",
       "      <td>1.738369</td>\n",
       "      <td>-0.659824</td>\n",
       "      <td>0.631864</td>\n",
       "      <td>-0.434168</td>\n",
       "      <td>0.227422</td>\n",
       "      <td>1.116400</td>\n",
       "      <td>...</td>\n",
       "      <td>-0.090960</td>\n",
       "      <td>-0.386993</td>\n",
       "      <td>-0.664598</td>\n",
       "      <td>0.047173</td>\n",
       "      <td>0.106897</td>\n",
       "      <td>0.443932</td>\n",
       "      <td>-0.515898</td>\n",
       "      <td>0.091188</td>\n",
       "      <td>0.035959</td>\n",
       "      <td>41.29</td>\n",
       "    </tr>\n",
       "    <tr>\n",
       "      <th>2</th>\n",
       "      <td>60465.0</td>\n",
       "      <td>-1.134453</td>\n",
       "      <td>0.636843</td>\n",
       "      <td>2.457241</td>\n",
       "      <td>1.317848</td>\n",
       "      <td>0.605755</td>\n",
       "      <td>0.143546</td>\n",
       "      <td>0.242076</td>\n",
       "      <td>0.371466</td>\n",
       "      <td>-1.315582</td>\n",
       "      <td>...</td>\n",
       "      <td>-0.040412</td>\n",
       "      <td>0.328508</td>\n",
       "      <td>0.683118</td>\n",
       "      <td>-0.114294</td>\n",
       "      <td>0.203942</td>\n",
       "      <td>0.035426</td>\n",
       "      <td>-0.090987</td>\n",
       "      <td>0.057247</td>\n",
       "      <td>0.102961</td>\n",
       "      <td>23.27</td>\n",
       "    </tr>\n",
       "    <tr>\n",
       "      <th>3</th>\n",
       "      <td>7309.0</td>\n",
       "      <td>-0.851343</td>\n",
       "      <td>0.062000</td>\n",
       "      <td>1.406917</td>\n",
       "      <td>-1.669375</td>\n",
       "      <td>0.462639</td>\n",
       "      <td>-0.150804</td>\n",
       "      <td>0.403887</td>\n",
       "      <td>0.200460</td>\n",
       "      <td>1.968672</td>\n",
       "      <td>...</td>\n",
       "      <td>-0.301203</td>\n",
       "      <td>-0.400262</td>\n",
       "      <td>-1.096108</td>\n",
       "      <td>0.023423</td>\n",
       "      <td>-0.842077</td>\n",
       "      <td>-0.301144</td>\n",
       "      <td>0.932506</td>\n",
       "      <td>-0.088128</td>\n",
       "      <td>0.076487</td>\n",
       "      <td>45.00</td>\n",
       "    </tr>\n",
       "    <tr>\n",
       "      <th>4</th>\n",
       "      <td>115111.0</td>\n",
       "      <td>-0.040314</td>\n",
       "      <td>0.545458</td>\n",
       "      <td>0.831788</td>\n",
       "      <td>-0.515723</td>\n",
       "      <td>0.128584</td>\n",
       "      <td>-0.112466</td>\n",
       "      <td>0.027800</td>\n",
       "      <td>0.222503</td>\n",
       "      <td>0.639397</td>\n",
       "      <td>...</td>\n",
       "      <td>-0.120943</td>\n",
       "      <td>0.102439</td>\n",
       "      <td>0.351638</td>\n",
       "      <td>0.180840</td>\n",
       "      <td>0.572238</td>\n",
       "      <td>-1.486248</td>\n",
       "      <td>0.147366</td>\n",
       "      <td>0.253324</td>\n",
       "      <td>0.291266</td>\n",
       "      <td>9.84</td>\n",
       "    </tr>\n",
       "  </tbody>\n",
       "</table>\n",
       "<p>5 rows × 30 columns</p>\n",
       "</div>"
      ],
      "text/plain": [
       "         0         1         2         3         4         5         6   \\\n",
       "0   23610.0  1.387525 -0.547811  0.076422 -0.739334 -0.519887 -0.026007   \n",
       "1   36516.0  1.021179 -0.194114  1.207791  1.738369 -0.659824  0.631864   \n",
       "2   60465.0 -1.134453  0.636843  2.457241  1.317848  0.605755  0.143546   \n",
       "3    7309.0 -0.851343  0.062000  1.406917 -1.669375  0.462639 -0.150804   \n",
       "4  115111.0 -0.040314  0.545458  0.831788 -0.515723  0.128584 -0.112466   \n",
       "\n",
       "         7         8         9   ...          20        21        22  \\\n",
       "0 -0.694673 -0.052100  0.378187  ...   -0.469630 -0.658299 -1.307286   \n",
       "1 -0.434168  0.227422  1.116400  ...   -0.090960 -0.386993 -0.664598   \n",
       "2  0.242076  0.371466 -1.315582  ...   -0.040412  0.328508  0.683118   \n",
       "3  0.403887  0.200460  1.968672  ...   -0.301203 -0.400262 -1.096108   \n",
       "4  0.027800  0.222503  0.639397  ...   -0.120943  0.102439  0.351638   \n",
       "\n",
       "         23        24        25        26        27        28     29  \n",
       "0 -0.013221 -0.912415  0.163178  0.920997 -0.096560 -0.014846  31.35  \n",
       "1  0.047173  0.106897  0.443932 -0.515898  0.091188  0.035959  41.29  \n",
       "2 -0.114294  0.203942  0.035426 -0.090987  0.057247  0.102961  23.27  \n",
       "3  0.023423 -0.842077 -0.301144  0.932506 -0.088128  0.076487  45.00  \n",
       "4  0.180840  0.572238 -1.486248  0.147366  0.253324  0.291266   9.84  \n",
       "\n",
       "[5 rows x 30 columns]"
      ]
     },
     "execution_count": 133,
     "metadata": {},
     "output_type": "execute_result"
    }
   ],
   "source": [
    "X_train_smote.head()"
   ]
  },
  {
   "cell_type": "code",
   "execution_count": 134,
   "metadata": {
    "collapsed": true
   },
   "outputs": [],
   "source": [
    "X_train_smote_1 = X_train_smote.set_index(0)"
   ]
  },
  {
   "cell_type": "code",
   "execution_count": 135,
   "metadata": {},
   "outputs": [
    {
     "data": {
      "text/html": [
       "<div>\n",
       "<style>\n",
       "    .dataframe thead tr:only-child th {\n",
       "        text-align: right;\n",
       "    }\n",
       "\n",
       "    .dataframe thead th {\n",
       "        text-align: left;\n",
       "    }\n",
       "\n",
       "    .dataframe tbody tr th {\n",
       "        vertical-align: top;\n",
       "    }\n",
       "</style>\n",
       "<table border=\"1\" class=\"dataframe\">\n",
       "  <thead>\n",
       "    <tr style=\"text-align: right;\">\n",
       "      <th></th>\n",
       "      <th>1</th>\n",
       "      <th>2</th>\n",
       "      <th>3</th>\n",
       "      <th>4</th>\n",
       "      <th>5</th>\n",
       "      <th>6</th>\n",
       "      <th>7</th>\n",
       "      <th>8</th>\n",
       "      <th>9</th>\n",
       "      <th>10</th>\n",
       "      <th>...</th>\n",
       "      <th>20</th>\n",
       "      <th>21</th>\n",
       "      <th>22</th>\n",
       "      <th>23</th>\n",
       "      <th>24</th>\n",
       "      <th>25</th>\n",
       "      <th>26</th>\n",
       "      <th>27</th>\n",
       "      <th>28</th>\n",
       "      <th>29</th>\n",
       "    </tr>\n",
       "    <tr>\n",
       "      <th>0</th>\n",
       "      <th></th>\n",
       "      <th></th>\n",
       "      <th></th>\n",
       "      <th></th>\n",
       "      <th></th>\n",
       "      <th></th>\n",
       "      <th></th>\n",
       "      <th></th>\n",
       "      <th></th>\n",
       "      <th></th>\n",
       "      <th></th>\n",
       "      <th></th>\n",
       "      <th></th>\n",
       "      <th></th>\n",
       "      <th></th>\n",
       "      <th></th>\n",
       "      <th></th>\n",
       "      <th></th>\n",
       "      <th></th>\n",
       "      <th></th>\n",
       "      <th></th>\n",
       "    </tr>\n",
       "  </thead>\n",
       "  <tbody>\n",
       "    <tr>\n",
       "      <th>23610.0</th>\n",
       "      <td>1.387525</td>\n",
       "      <td>-0.547811</td>\n",
       "      <td>0.076422</td>\n",
       "      <td>-0.739334</td>\n",
       "      <td>-0.519887</td>\n",
       "      <td>-0.026007</td>\n",
       "      <td>-0.694673</td>\n",
       "      <td>-0.052100</td>\n",
       "      <td>0.378187</td>\n",
       "      <td>0.488238</td>\n",
       "      <td>...</td>\n",
       "      <td>-0.469630</td>\n",
       "      <td>-0.658299</td>\n",
       "      <td>-1.307286</td>\n",
       "      <td>-0.013221</td>\n",
       "      <td>-0.912415</td>\n",
       "      <td>0.163178</td>\n",
       "      <td>0.920997</td>\n",
       "      <td>-0.096560</td>\n",
       "      <td>-0.014846</td>\n",
       "      <td>31.35</td>\n",
       "    </tr>\n",
       "    <tr>\n",
       "      <th>36516.0</th>\n",
       "      <td>1.021179</td>\n",
       "      <td>-0.194114</td>\n",
       "      <td>1.207791</td>\n",
       "      <td>1.738369</td>\n",
       "      <td>-0.659824</td>\n",
       "      <td>0.631864</td>\n",
       "      <td>-0.434168</td>\n",
       "      <td>0.227422</td>\n",
       "      <td>1.116400</td>\n",
       "      <td>-0.456468</td>\n",
       "      <td>...</td>\n",
       "      <td>-0.090960</td>\n",
       "      <td>-0.386993</td>\n",
       "      <td>-0.664598</td>\n",
       "      <td>0.047173</td>\n",
       "      <td>0.106897</td>\n",
       "      <td>0.443932</td>\n",
       "      <td>-0.515898</td>\n",
       "      <td>0.091188</td>\n",
       "      <td>0.035959</td>\n",
       "      <td>41.29</td>\n",
       "    </tr>\n",
       "    <tr>\n",
       "      <th>60465.0</th>\n",
       "      <td>-1.134453</td>\n",
       "      <td>0.636843</td>\n",
       "      <td>2.457241</td>\n",
       "      <td>1.317848</td>\n",
       "      <td>0.605755</td>\n",
       "      <td>0.143546</td>\n",
       "      <td>0.242076</td>\n",
       "      <td>0.371466</td>\n",
       "      <td>-1.315582</td>\n",
       "      <td>0.050471</td>\n",
       "      <td>...</td>\n",
       "      <td>-0.040412</td>\n",
       "      <td>0.328508</td>\n",
       "      <td>0.683118</td>\n",
       "      <td>-0.114294</td>\n",
       "      <td>0.203942</td>\n",
       "      <td>0.035426</td>\n",
       "      <td>-0.090987</td>\n",
       "      <td>0.057247</td>\n",
       "      <td>0.102961</td>\n",
       "      <td>23.27</td>\n",
       "    </tr>\n",
       "    <tr>\n",
       "      <th>7309.0</th>\n",
       "      <td>-0.851343</td>\n",
       "      <td>0.062000</td>\n",
       "      <td>1.406917</td>\n",
       "      <td>-1.669375</td>\n",
       "      <td>0.462639</td>\n",
       "      <td>-0.150804</td>\n",
       "      <td>0.403887</td>\n",
       "      <td>0.200460</td>\n",
       "      <td>1.968672</td>\n",
       "      <td>-1.666708</td>\n",
       "      <td>...</td>\n",
       "      <td>-0.301203</td>\n",
       "      <td>-0.400262</td>\n",
       "      <td>-1.096108</td>\n",
       "      <td>0.023423</td>\n",
       "      <td>-0.842077</td>\n",
       "      <td>-0.301144</td>\n",
       "      <td>0.932506</td>\n",
       "      <td>-0.088128</td>\n",
       "      <td>0.076487</td>\n",
       "      <td>45.00</td>\n",
       "    </tr>\n",
       "    <tr>\n",
       "      <th>115111.0</th>\n",
       "      <td>-0.040314</td>\n",
       "      <td>0.545458</td>\n",
       "      <td>0.831788</td>\n",
       "      <td>-0.515723</td>\n",
       "      <td>0.128584</td>\n",
       "      <td>-0.112466</td>\n",
       "      <td>0.027800</td>\n",
       "      <td>0.222503</td>\n",
       "      <td>0.639397</td>\n",
       "      <td>-1.146686</td>\n",
       "      <td>...</td>\n",
       "      <td>-0.120943</td>\n",
       "      <td>0.102439</td>\n",
       "      <td>0.351638</td>\n",
       "      <td>0.180840</td>\n",
       "      <td>0.572238</td>\n",
       "      <td>-1.486248</td>\n",
       "      <td>0.147366</td>\n",
       "      <td>0.253324</td>\n",
       "      <td>0.291266</td>\n",
       "      <td>9.84</td>\n",
       "    </tr>\n",
       "  </tbody>\n",
       "</table>\n",
       "<p>5 rows × 29 columns</p>\n",
       "</div>"
      ],
      "text/plain": [
       "                1         2         3         4         5         6   \\\n",
       "0                                                                      \n",
       "23610.0   1.387525 -0.547811  0.076422 -0.739334 -0.519887 -0.026007   \n",
       "36516.0   1.021179 -0.194114  1.207791  1.738369 -0.659824  0.631864   \n",
       "60465.0  -1.134453  0.636843  2.457241  1.317848  0.605755  0.143546   \n",
       "7309.0   -0.851343  0.062000  1.406917 -1.669375  0.462639 -0.150804   \n",
       "115111.0 -0.040314  0.545458  0.831788 -0.515723  0.128584 -0.112466   \n",
       "\n",
       "                7         8         9         10  ...          20        21  \\\n",
       "0                                                 ...                         \n",
       "23610.0  -0.694673 -0.052100  0.378187  0.488238  ...   -0.469630 -0.658299   \n",
       "36516.0  -0.434168  0.227422  1.116400 -0.456468  ...   -0.090960 -0.386993   \n",
       "60465.0   0.242076  0.371466 -1.315582  0.050471  ...   -0.040412  0.328508   \n",
       "7309.0    0.403887  0.200460  1.968672 -1.666708  ...   -0.301203 -0.400262   \n",
       "115111.0  0.027800  0.222503  0.639397 -1.146686  ...   -0.120943  0.102439   \n",
       "\n",
       "                22        23        24        25        26        27  \\\n",
       "0                                                                      \n",
       "23610.0  -1.307286 -0.013221 -0.912415  0.163178  0.920997 -0.096560   \n",
       "36516.0  -0.664598  0.047173  0.106897  0.443932 -0.515898  0.091188   \n",
       "60465.0   0.683118 -0.114294  0.203942  0.035426 -0.090987  0.057247   \n",
       "7309.0   -1.096108  0.023423 -0.842077 -0.301144  0.932506 -0.088128   \n",
       "115111.0  0.351638  0.180840  0.572238 -1.486248  0.147366  0.253324   \n",
       "\n",
       "                28     29  \n",
       "0                          \n",
       "23610.0  -0.014846  31.35  \n",
       "36516.0   0.035959  41.29  \n",
       "60465.0   0.102961  23.27  \n",
       "7309.0    0.076487  45.00  \n",
       "115111.0  0.291266   9.84  \n",
       "\n",
       "[5 rows x 29 columns]"
      ]
     },
     "execution_count": 135,
     "metadata": {},
     "output_type": "execute_result"
    }
   ],
   "source": [
    "X_train_smote_1.head()"
   ]
  },
  {
   "cell_type": "code",
   "execution_count": 136,
   "metadata": {
    "collapsed": true
   },
   "outputs": [],
   "source": [
    "X_train_smote_1.columns = ['V1', 'V2', 'V3', 'V4', 'V5', 'V6', 'V7', 'V8', 'V9', 'V10', 'V11', 'V12', 'V13', 'V14', 'V15', 'V16', 'V17', 'V18', 'V19', 'V20', 'V21', 'V22', 'V23', 'V24', 'V25', 'V26', 'V27', 'V28', 'Amount']"
   ]
  },
  {
   "cell_type": "code",
   "execution_count": 137,
   "metadata": {
    "collapsed": true
   },
   "outputs": [],
   "source": [
    "del X_train_smote_1.index.name"
   ]
  },
  {
   "cell_type": "code",
   "execution_count": 138,
   "metadata": {},
   "outputs": [
    {
     "data": {
      "text/html": [
       "<div>\n",
       "<style>\n",
       "    .dataframe thead tr:only-child th {\n",
       "        text-align: right;\n",
       "    }\n",
       "\n",
       "    .dataframe thead th {\n",
       "        text-align: left;\n",
       "    }\n",
       "\n",
       "    .dataframe tbody tr th {\n",
       "        vertical-align: top;\n",
       "    }\n",
       "</style>\n",
       "<table border=\"1\" class=\"dataframe\">\n",
       "  <thead>\n",
       "    <tr style=\"text-align: right;\">\n",
       "      <th></th>\n",
       "      <th>V1</th>\n",
       "      <th>V2</th>\n",
       "      <th>V3</th>\n",
       "      <th>V4</th>\n",
       "      <th>V5</th>\n",
       "      <th>V6</th>\n",
       "      <th>V7</th>\n",
       "      <th>V8</th>\n",
       "      <th>V9</th>\n",
       "      <th>V10</th>\n",
       "      <th>...</th>\n",
       "      <th>V20</th>\n",
       "      <th>V21</th>\n",
       "      <th>V22</th>\n",
       "      <th>V23</th>\n",
       "      <th>V24</th>\n",
       "      <th>V25</th>\n",
       "      <th>V26</th>\n",
       "      <th>V27</th>\n",
       "      <th>V28</th>\n",
       "      <th>Amount</th>\n",
       "    </tr>\n",
       "  </thead>\n",
       "  <tbody>\n",
       "    <tr>\n",
       "      <th>23610.0</th>\n",
       "      <td>1.387525</td>\n",
       "      <td>-0.547811</td>\n",
       "      <td>0.076422</td>\n",
       "      <td>-0.739334</td>\n",
       "      <td>-0.519887</td>\n",
       "      <td>-0.026007</td>\n",
       "      <td>-0.694673</td>\n",
       "      <td>-0.052100</td>\n",
       "      <td>0.378187</td>\n",
       "      <td>0.488238</td>\n",
       "      <td>...</td>\n",
       "      <td>-0.469630</td>\n",
       "      <td>-0.658299</td>\n",
       "      <td>-1.307286</td>\n",
       "      <td>-0.013221</td>\n",
       "      <td>-0.912415</td>\n",
       "      <td>0.163178</td>\n",
       "      <td>0.920997</td>\n",
       "      <td>-0.096560</td>\n",
       "      <td>-0.014846</td>\n",
       "      <td>31.35</td>\n",
       "    </tr>\n",
       "    <tr>\n",
       "      <th>36516.0</th>\n",
       "      <td>1.021179</td>\n",
       "      <td>-0.194114</td>\n",
       "      <td>1.207791</td>\n",
       "      <td>1.738369</td>\n",
       "      <td>-0.659824</td>\n",
       "      <td>0.631864</td>\n",
       "      <td>-0.434168</td>\n",
       "      <td>0.227422</td>\n",
       "      <td>1.116400</td>\n",
       "      <td>-0.456468</td>\n",
       "      <td>...</td>\n",
       "      <td>-0.090960</td>\n",
       "      <td>-0.386993</td>\n",
       "      <td>-0.664598</td>\n",
       "      <td>0.047173</td>\n",
       "      <td>0.106897</td>\n",
       "      <td>0.443932</td>\n",
       "      <td>-0.515898</td>\n",
       "      <td>0.091188</td>\n",
       "      <td>0.035959</td>\n",
       "      <td>41.29</td>\n",
       "    </tr>\n",
       "    <tr>\n",
       "      <th>60465.0</th>\n",
       "      <td>-1.134453</td>\n",
       "      <td>0.636843</td>\n",
       "      <td>2.457241</td>\n",
       "      <td>1.317848</td>\n",
       "      <td>0.605755</td>\n",
       "      <td>0.143546</td>\n",
       "      <td>0.242076</td>\n",
       "      <td>0.371466</td>\n",
       "      <td>-1.315582</td>\n",
       "      <td>0.050471</td>\n",
       "      <td>...</td>\n",
       "      <td>-0.040412</td>\n",
       "      <td>0.328508</td>\n",
       "      <td>0.683118</td>\n",
       "      <td>-0.114294</td>\n",
       "      <td>0.203942</td>\n",
       "      <td>0.035426</td>\n",
       "      <td>-0.090987</td>\n",
       "      <td>0.057247</td>\n",
       "      <td>0.102961</td>\n",
       "      <td>23.27</td>\n",
       "    </tr>\n",
       "    <tr>\n",
       "      <th>7309.0</th>\n",
       "      <td>-0.851343</td>\n",
       "      <td>0.062000</td>\n",
       "      <td>1.406917</td>\n",
       "      <td>-1.669375</td>\n",
       "      <td>0.462639</td>\n",
       "      <td>-0.150804</td>\n",
       "      <td>0.403887</td>\n",
       "      <td>0.200460</td>\n",
       "      <td>1.968672</td>\n",
       "      <td>-1.666708</td>\n",
       "      <td>...</td>\n",
       "      <td>-0.301203</td>\n",
       "      <td>-0.400262</td>\n",
       "      <td>-1.096108</td>\n",
       "      <td>0.023423</td>\n",
       "      <td>-0.842077</td>\n",
       "      <td>-0.301144</td>\n",
       "      <td>0.932506</td>\n",
       "      <td>-0.088128</td>\n",
       "      <td>0.076487</td>\n",
       "      <td>45.00</td>\n",
       "    </tr>\n",
       "    <tr>\n",
       "      <th>115111.0</th>\n",
       "      <td>-0.040314</td>\n",
       "      <td>0.545458</td>\n",
       "      <td>0.831788</td>\n",
       "      <td>-0.515723</td>\n",
       "      <td>0.128584</td>\n",
       "      <td>-0.112466</td>\n",
       "      <td>0.027800</td>\n",
       "      <td>0.222503</td>\n",
       "      <td>0.639397</td>\n",
       "      <td>-1.146686</td>\n",
       "      <td>...</td>\n",
       "      <td>-0.120943</td>\n",
       "      <td>0.102439</td>\n",
       "      <td>0.351638</td>\n",
       "      <td>0.180840</td>\n",
       "      <td>0.572238</td>\n",
       "      <td>-1.486248</td>\n",
       "      <td>0.147366</td>\n",
       "      <td>0.253324</td>\n",
       "      <td>0.291266</td>\n",
       "      <td>9.84</td>\n",
       "    </tr>\n",
       "  </tbody>\n",
       "</table>\n",
       "<p>5 rows × 29 columns</p>\n",
       "</div>"
      ],
      "text/plain": [
       "                V1        V2        V3        V4        V5        V6  \\\n",
       "23610.0   1.387525 -0.547811  0.076422 -0.739334 -0.519887 -0.026007   \n",
       "36516.0   1.021179 -0.194114  1.207791  1.738369 -0.659824  0.631864   \n",
       "60465.0  -1.134453  0.636843  2.457241  1.317848  0.605755  0.143546   \n",
       "7309.0   -0.851343  0.062000  1.406917 -1.669375  0.462639 -0.150804   \n",
       "115111.0 -0.040314  0.545458  0.831788 -0.515723  0.128584 -0.112466   \n",
       "\n",
       "                V7        V8        V9       V10   ...         V20       V21  \\\n",
       "23610.0  -0.694673 -0.052100  0.378187  0.488238   ...   -0.469630 -0.658299   \n",
       "36516.0  -0.434168  0.227422  1.116400 -0.456468   ...   -0.090960 -0.386993   \n",
       "60465.0   0.242076  0.371466 -1.315582  0.050471   ...   -0.040412  0.328508   \n",
       "7309.0    0.403887  0.200460  1.968672 -1.666708   ...   -0.301203 -0.400262   \n",
       "115111.0  0.027800  0.222503  0.639397 -1.146686   ...   -0.120943  0.102439   \n",
       "\n",
       "               V22       V23       V24       V25       V26       V27  \\\n",
       "23610.0  -1.307286 -0.013221 -0.912415  0.163178  0.920997 -0.096560   \n",
       "36516.0  -0.664598  0.047173  0.106897  0.443932 -0.515898  0.091188   \n",
       "60465.0   0.683118 -0.114294  0.203942  0.035426 -0.090987  0.057247   \n",
       "7309.0   -1.096108  0.023423 -0.842077 -0.301144  0.932506 -0.088128   \n",
       "115111.0  0.351638  0.180840  0.572238 -1.486248  0.147366  0.253324   \n",
       "\n",
       "               V28  Amount  \n",
       "23610.0  -0.014846   31.35  \n",
       "36516.0   0.035959   41.29  \n",
       "60465.0   0.102961   23.27  \n",
       "7309.0    0.076487   45.00  \n",
       "115111.0  0.291266    9.84  \n",
       "\n",
       "[5 rows x 29 columns]"
      ]
     },
     "execution_count": 138,
     "metadata": {},
     "output_type": "execute_result"
    }
   ],
   "source": [
    "X_train_smote_1.head()"
   ]
  },
  {
   "cell_type": "code",
   "execution_count": 139,
   "metadata": {},
   "outputs": [
    {
     "data": {
      "text/plain": [
       "(454880, 29)"
      ]
     },
     "execution_count": 139,
     "metadata": {},
     "output_type": "execute_result"
    }
   ],
   "source": [
    "X_train_smote_1.shape"
   ]
  },
  {
   "cell_type": "code",
   "execution_count": 140,
   "metadata": {},
   "outputs": [
    {
     "data": {
      "text/plain": [
       "(56962, 29)"
      ]
     },
     "execution_count": 140,
     "metadata": {},
     "output_type": "execute_result"
    }
   ],
   "source": [
    "X_test.shape"
   ]
  },
  {
   "cell_type": "code",
   "execution_count": 141,
   "metadata": {},
   "outputs": [
    {
     "name": "stdout",
     "output_type": "stream",
     "text": [
      "Accuracy Score: 0.997682665637\n",
      "\n",
      "Average Precision Score: 0.0321428378131\n",
      "\n",
      "Average F1 Score: 0.175\n"
     ]
    },
    {
     "data": {
      "image/png": "[encoded data removed]",
      "text/plain": [
       "<matplotlib.figure.Figure at 0x168c3978>"
      ]
     },
     "metadata": {},
     "output_type": "display_data"
    },
    {
     "name": "stdout",
     "output_type": "stream",
     "text": [
      "\n",
      "----------Classification Report------------------------------------\n",
      "             precision    recall  f1-score   support\n",
      "\n",
      "          0       1.00      1.00      1.00     56875\n",
      "          1       0.19      0.16      0.17        87\n",
      "\n",
      "avg / total       1.00      1.00      1.00     56962\n",
      "\n"
     ]
    }
   ],
   "source": [
    "svc = SVC()\n",
    "svc_grid_smote = GridSearchCV(svc, param_grid=svc_params_2)\n",
    "svc_model_smote = svc_grid_smote.fit(X_train_smote_1, y_train_smote)\n",
    "\n",
    "svc_pred_smote = svc_model_smote.predict(X_test)\n",
    "\n",
    "model_scores(y_test, svc_pred_smote)"
   ]
  },
  {
   "cell_type": "markdown",
   "metadata": {},
   "source": [
    "<a id='2.4'></a>\n",
    "# XGBoost\n",
    "\n",
    "'Extreme Gradient Boosting' is another ensemble method that can handle both regression and classification. XGBoost is known for its speed and model performance. New models are added to the original to correct errors made by the original. Gradient boosting creates new models that predict the errors of the previous model and add them together for the final prediction. XGBoost uses gradient descent algorithm to minimize the loss when adding the new models. Gradient Descent is an itterative optimization algorithm that uses learning rate to find the optimal local minimum."
   ]
  },
  {
   "cell_type": "code",
   "execution_count": 44,
   "metadata": {
    "collapsed": true
   },
   "outputs": [],
   "source": [
    "from xgboost.sklearn import XGBClassifier"
   ]
  },
  {
   "cell_type": "markdown",
   "metadata": {},
   "source": [
    "XGBoost without undersampling/ oversampling"
   ]
  },
  {
   "cell_type": "code",
   "execution_count": 47,
   "metadata": {
    "collapsed": true
   },
   "outputs": [],
   "source": [
    "xg_params = {\n",
    "    'colsample_bytree': [0.2],\n",
    "    'gamma':[0.01],\n",
    "    'learning_rate':[0.001, 0.01],\n",
    "    'max_depth':np.arange(3,7,1),\n",
    "    'n_estimators':[4000, 5000],                                                                  \n",
    "    'reg_alpha':[0.5,0.9],\n",
    "    'reg_lambda':[0.3, 0.4, 0.5],\n",
    "    'subsample': [0.2]\n",
    "}"
   ]
  },
  {
   "cell_type": "code",
   "execution_count": 57,
   "metadata": {
    "collapsed": true
   },
   "outputs": [],
   "source": [
    "xg_params = {\n",
    "    'colsample_bytree': [0.2],\n",
    "    'learning_rate':[0.001, 0.01],\n",
    "    'max_depth':np.arange(3,4,1),\n",
    "    'n_estimators':[1,2],                                                                  \n",
    "}"
   ]
  },
  {
   "cell_type": "code",
   "execution_count": 58,
   "metadata": {},
   "outputs": [
    {
     "name": "stdout",
     "output_type": "stream",
     "text": [
      "Accuracy Score: 0.999104666269\n",
      "\n",
      "Average Precision Score: 0.461844836609\n",
      "\n",
      "Average F1 Score: 0.675159235669\n"
     ]
    },
    {
     "data": {
      "image/png": "[encoded data removed]",
      "text/plain": [
       "<matplotlib.figure.Figure at 0xeb49b70>"
      ]
     },
     "metadata": {},
     "output_type": "display_data"
    },
    {
     "name": "stdout",
     "output_type": "stream",
     "text": [
      "\n",
      "----------Classification Report------------------------------------\n",
      "             precision    recall  f1-score   support\n",
      "\n",
      "          0       1.00      1.00      1.00     56875\n",
      "          1       0.76      0.61      0.68        87\n",
      "\n",
      "avg / total       1.00      1.00      1.00     56962\n",
      "\n"
     ]
    }
   ],
   "source": [
    "xgb_clf = XGBClassifier()\n",
    "xgb_grid = GridSearchCV(xgb_clf, param_grid=xg_params)\n",
    "xgb_model = xgb_grid.fit(X_train, y_train)\n",
    "\n",
    "xgb_pred = xgb_model.predict(X_test)\n",
    "\n",
    "model_scores(y_test, xgb_pred)"
   ]
  },
  {
   "cell_type": "markdown",
   "metadata": {},
   "source": [
    "<a id='2.4.1'></a>\n",
    "### XGBoost with CondensedNearestNeighbour - undersampling"
   ]
  },
  {
   "cell_type": "code",
   "execution_count": 70,
   "metadata": {
    "collapsed": true
   },
   "outputs": [],
   "source": [
    "y = df['Class']\n",
    "X = df.iloc[:,:-1]\n",
    "\n",
    "X_train, X_test, y_train, y_test = train_test_split(X, y, test_size=0.2, random_state=1)"
   ]
  },
  {
   "cell_type": "code",
   "execution_count": 72,
   "metadata": {},
   "outputs": [
    {
     "data": {
      "text/html": [
       "<div>\n",
       "<style>\n",
       "    .dataframe thead tr:only-child th {\n",
       "        text-align: right;\n",
       "    }\n",
       "\n",
       "    .dataframe thead th {\n",
       "        text-align: left;\n",
       "    }\n",
       "\n",
       "    .dataframe tbody tr th {\n",
       "        vertical-align: top;\n",
       "    }\n",
       "</style>\n",
       "<table border=\"1\" class=\"dataframe\">\n",
       "  <thead>\n",
       "    <tr style=\"text-align: right;\">\n",
       "      <th></th>\n",
       "      <th>Time</th>\n",
       "      <th>V1</th>\n",
       "      <th>V2</th>\n",
       "      <th>V3</th>\n",
       "      <th>V4</th>\n",
       "      <th>V5</th>\n",
       "      <th>V6</th>\n",
       "      <th>V7</th>\n",
       "      <th>V8</th>\n",
       "      <th>V9</th>\n",
       "      <th>...</th>\n",
       "      <th>V20</th>\n",
       "      <th>V21</th>\n",
       "      <th>V22</th>\n",
       "      <th>V23</th>\n",
       "      <th>V24</th>\n",
       "      <th>V25</th>\n",
       "      <th>V26</th>\n",
       "      <th>V27</th>\n",
       "      <th>V28</th>\n",
       "      <th>Amount</th>\n",
       "    </tr>\n",
       "  </thead>\n",
       "  <tbody>\n",
       "    <tr>\n",
       "      <th>13367</th>\n",
       "      <td>23610.0</td>\n",
       "      <td>1.387525</td>\n",
       "      <td>-0.547811</td>\n",
       "      <td>0.076422</td>\n",
       "      <td>-0.739334</td>\n",
       "      <td>-0.519887</td>\n",
       "      <td>-0.026007</td>\n",
       "      <td>-0.694673</td>\n",
       "      <td>-0.052100</td>\n",
       "      <td>0.378187</td>\n",
       "      <td>...</td>\n",
       "      <td>-0.469630</td>\n",
       "      <td>-0.658299</td>\n",
       "      <td>-1.307286</td>\n",
       "      <td>-0.013221</td>\n",
       "      <td>-0.912415</td>\n",
       "      <td>0.163178</td>\n",
       "      <td>0.920997</td>\n",
       "      <td>-0.096560</td>\n",
       "      <td>-0.014846</td>\n",
       "      <td>31.35</td>\n",
       "    </tr>\n",
       "    <tr>\n",
       "      <th>31788</th>\n",
       "      <td>36516.0</td>\n",
       "      <td>1.021179</td>\n",
       "      <td>-0.194114</td>\n",
       "      <td>1.207791</td>\n",
       "      <td>1.738369</td>\n",
       "      <td>-0.659824</td>\n",
       "      <td>0.631864</td>\n",
       "      <td>-0.434168</td>\n",
       "      <td>0.227422</td>\n",
       "      <td>1.116400</td>\n",
       "      <td>...</td>\n",
       "      <td>-0.090960</td>\n",
       "      <td>-0.386993</td>\n",
       "      <td>-0.664598</td>\n",
       "      <td>0.047173</td>\n",
       "      <td>0.106897</td>\n",
       "      <td>0.443932</td>\n",
       "      <td>-0.515898</td>\n",
       "      <td>0.091188</td>\n",
       "      <td>0.035959</td>\n",
       "      <td>41.29</td>\n",
       "    </tr>\n",
       "    <tr>\n",
       "      <th>84796</th>\n",
       "      <td>60465.0</td>\n",
       "      <td>-1.134453</td>\n",
       "      <td>0.636843</td>\n",
       "      <td>2.457241</td>\n",
       "      <td>1.317848</td>\n",
       "      <td>0.605755</td>\n",
       "      <td>0.143546</td>\n",
       "      <td>0.242076</td>\n",
       "      <td>0.371466</td>\n",
       "      <td>-1.315582</td>\n",
       "      <td>...</td>\n",
       "      <td>-0.040412</td>\n",
       "      <td>0.328508</td>\n",
       "      <td>0.683118</td>\n",
       "      <td>-0.114294</td>\n",
       "      <td>0.203942</td>\n",
       "      <td>0.035426</td>\n",
       "      <td>-0.090987</td>\n",
       "      <td>0.057247</td>\n",
       "      <td>0.102961</td>\n",
       "      <td>23.27</td>\n",
       "    </tr>\n",
       "    <tr>\n",
       "      <th>6243</th>\n",
       "      <td>7309.0</td>\n",
       "      <td>-0.851343</td>\n",
       "      <td>0.062000</td>\n",
       "      <td>1.406917</td>\n",
       "      <td>-1.669375</td>\n",
       "      <td>0.462639</td>\n",
       "      <td>-0.150804</td>\n",
       "      <td>0.403887</td>\n",
       "      <td>0.200460</td>\n",
       "      <td>1.968672</td>\n",
       "      <td>...</td>\n",
       "      <td>-0.301203</td>\n",
       "      <td>-0.400262</td>\n",
       "      <td>-1.096108</td>\n",
       "      <td>0.023423</td>\n",
       "      <td>-0.842077</td>\n",
       "      <td>-0.301144</td>\n",
       "      <td>0.932506</td>\n",
       "      <td>-0.088128</td>\n",
       "      <td>0.076487</td>\n",
       "      <td>45.00</td>\n",
       "    </tr>\n",
       "    <tr>\n",
       "      <th>162432</th>\n",
       "      <td>115111.0</td>\n",
       "      <td>-0.040314</td>\n",
       "      <td>0.545458</td>\n",
       "      <td>0.831788</td>\n",
       "      <td>-0.515723</td>\n",
       "      <td>0.128584</td>\n",
       "      <td>-0.112466</td>\n",
       "      <td>0.027800</td>\n",
       "      <td>0.222503</td>\n",
       "      <td>0.639397</td>\n",
       "      <td>...</td>\n",
       "      <td>-0.120943</td>\n",
       "      <td>0.102439</td>\n",
       "      <td>0.351638</td>\n",
       "      <td>0.180840</td>\n",
       "      <td>0.572238</td>\n",
       "      <td>-1.486248</td>\n",
       "      <td>0.147366</td>\n",
       "      <td>0.253324</td>\n",
       "      <td>0.291266</td>\n",
       "      <td>9.84</td>\n",
       "    </tr>\n",
       "  </tbody>\n",
       "</table>\n",
       "<p>5 rows × 30 columns</p>\n",
       "</div>"
      ],
      "text/plain": [
       "            Time        V1        V2        V3        V4        V5        V6  \\\n",
       "13367    23610.0  1.387525 -0.547811  0.076422 -0.739334 -0.519887 -0.026007   \n",
       "31788    36516.0  1.021179 -0.194114  1.207791  1.738369 -0.659824  0.631864   \n",
       "84796    60465.0 -1.134453  0.636843  2.457241  1.317848  0.605755  0.143546   \n",
       "6243      7309.0 -0.851343  0.062000  1.406917 -1.669375  0.462639 -0.150804   \n",
       "162432  115111.0 -0.040314  0.545458  0.831788 -0.515723  0.128584 -0.112466   \n",
       "\n",
       "              V7        V8        V9   ...         V20       V21       V22  \\\n",
       "13367  -0.694673 -0.052100  0.378187   ...   -0.469630 -0.658299 -1.307286   \n",
       "31788  -0.434168  0.227422  1.116400   ...   -0.090960 -0.386993 -0.664598   \n",
       "84796   0.242076  0.371466 -1.315582   ...   -0.040412  0.328508  0.683118   \n",
       "6243    0.403887  0.200460  1.968672   ...   -0.301203 -0.400262 -1.096108   \n",
       "162432  0.027800  0.222503  0.639397   ...   -0.120943  0.102439  0.351638   \n",
       "\n",
       "             V23       V24       V25       V26       V27       V28  Amount  \n",
       "13367  -0.013221 -0.912415  0.163178  0.920997 -0.096560 -0.014846   31.35  \n",
       "31788   0.047173  0.106897  0.443932 -0.515898  0.091188  0.035959   41.29  \n",
       "84796  -0.114294  0.203942  0.035426 -0.090987  0.057247  0.102961   23.27  \n",
       "6243    0.023423 -0.842077 -0.301144  0.932506 -0.088128  0.076487   45.00  \n",
       "162432  0.180840  0.572238 -1.486248  0.147366  0.253324  0.291266    9.84  \n",
       "\n",
       "[5 rows x 30 columns]"
      ]
     },
     "execution_count": 72,
     "metadata": {},
     "output_type": "execute_result"
    }
   ],
   "source": [
    "X_train.head()"
   ]
  },
  {
   "cell_type": "code",
   "execution_count": 81,
   "metadata": {},
   "outputs": [
    {
     "data": {
      "text/html": [
       "<div>\n",
       "<style>\n",
       "    .dataframe thead tr:only-child th {\n",
       "        text-align: right;\n",
       "    }\n",
       "\n",
       "    .dataframe thead th {\n",
       "        text-align: left;\n",
       "    }\n",
       "\n",
       "    .dataframe tbody tr th {\n",
       "        vertical-align: top;\n",
       "    }\n",
       "</style>\n",
       "<table border=\"1\" class=\"dataframe\">\n",
       "  <thead>\n",
       "    <tr style=\"text-align: right;\">\n",
       "      <th></th>\n",
       "      <th>0.96004477841</th>\n",
       "      <th>-1.70139046508</th>\n",
       "      <th>0.0908094234302</th>\n",
       "      <th>-2.41661619494</th>\n",
       "      <th>-1.77820654553</th>\n",
       "      <th>-1.18732680223</th>\n",
       "      <th>-0.352306213855</th>\n",
       "      <th>-0.313572547083</th>\n",
       "      <th>1.05554792428</th>\n",
       "      <th>-0.919723163939</th>\n",
       "      <th>...</th>\n",
       "      <th>0.00170311193799</th>\n",
       "      <th>-0.208095442515</th>\n",
       "      <th>-0.342908830246</th>\n",
       "      <th>-0.261466166547</th>\n",
       "      <th>0.414764864706</th>\n",
       "      <th>0.551794005848</th>\n",
       "      <th>-0.760301537445</th>\n",
       "      <th>0.0673091880764</th>\n",
       "      <th>0.0722448856884</th>\n",
       "      <th>242.72</th>\n",
       "    </tr>\n",
       "  </thead>\n",
       "  <tbody>\n",
       "    <tr>\n",
       "      <th>23610.0</th>\n",
       "      <td>1.387525</td>\n",
       "      <td>-0.547811</td>\n",
       "      <td>0.076422</td>\n",
       "      <td>-0.739334</td>\n",
       "      <td>-0.519887</td>\n",
       "      <td>-0.026007</td>\n",
       "      <td>-0.694673</td>\n",
       "      <td>-0.052100</td>\n",
       "      <td>0.378187</td>\n",
       "      <td>0.488238</td>\n",
       "      <td>...</td>\n",
       "      <td>-0.469630</td>\n",
       "      <td>-0.658299</td>\n",
       "      <td>-1.307286</td>\n",
       "      <td>-0.013221</td>\n",
       "      <td>-0.912415</td>\n",
       "      <td>0.163178</td>\n",
       "      <td>0.920997</td>\n",
       "      <td>-0.096560</td>\n",
       "      <td>-0.014846</td>\n",
       "      <td>31.35</td>\n",
       "    </tr>\n",
       "    <tr>\n",
       "      <th>36516.0</th>\n",
       "      <td>1.021179</td>\n",
       "      <td>-0.194114</td>\n",
       "      <td>1.207791</td>\n",
       "      <td>1.738369</td>\n",
       "      <td>-0.659824</td>\n",
       "      <td>0.631864</td>\n",
       "      <td>-0.434168</td>\n",
       "      <td>0.227422</td>\n",
       "      <td>1.116400</td>\n",
       "      <td>-0.456468</td>\n",
       "      <td>...</td>\n",
       "      <td>-0.090960</td>\n",
       "      <td>-0.386993</td>\n",
       "      <td>-0.664598</td>\n",
       "      <td>0.047173</td>\n",
       "      <td>0.106897</td>\n",
       "      <td>0.443932</td>\n",
       "      <td>-0.515898</td>\n",
       "      <td>0.091188</td>\n",
       "      <td>0.035959</td>\n",
       "      <td>41.29</td>\n",
       "    </tr>\n",
       "    <tr>\n",
       "      <th>60465.0</th>\n",
       "      <td>-1.134453</td>\n",
       "      <td>0.636843</td>\n",
       "      <td>2.457241</td>\n",
       "      <td>1.317848</td>\n",
       "      <td>0.605755</td>\n",
       "      <td>0.143546</td>\n",
       "      <td>0.242076</td>\n",
       "      <td>0.371466</td>\n",
       "      <td>-1.315582</td>\n",
       "      <td>0.050471</td>\n",
       "      <td>...</td>\n",
       "      <td>-0.040412</td>\n",
       "      <td>0.328508</td>\n",
       "      <td>0.683118</td>\n",
       "      <td>-0.114294</td>\n",
       "      <td>0.203942</td>\n",
       "      <td>0.035426</td>\n",
       "      <td>-0.090987</td>\n",
       "      <td>0.057247</td>\n",
       "      <td>0.102961</td>\n",
       "      <td>23.27</td>\n",
       "    </tr>\n",
       "    <tr>\n",
       "      <th>7309.0</th>\n",
       "      <td>-0.851343</td>\n",
       "      <td>0.062000</td>\n",
       "      <td>1.406917</td>\n",
       "      <td>-1.669375</td>\n",
       "      <td>0.462639</td>\n",
       "      <td>-0.150804</td>\n",
       "      <td>0.403887</td>\n",
       "      <td>0.200460</td>\n",
       "      <td>1.968672</td>\n",
       "      <td>-1.666708</td>\n",
       "      <td>...</td>\n",
       "      <td>-0.301203</td>\n",
       "      <td>-0.400262</td>\n",
       "      <td>-1.096108</td>\n",
       "      <td>0.023423</td>\n",
       "      <td>-0.842077</td>\n",
       "      <td>-0.301144</td>\n",
       "      <td>0.932506</td>\n",
       "      <td>-0.088128</td>\n",
       "      <td>0.076487</td>\n",
       "      <td>45.00</td>\n",
       "    </tr>\n",
       "    <tr>\n",
       "      <th>115111.0</th>\n",
       "      <td>-0.040314</td>\n",
       "      <td>0.545458</td>\n",
       "      <td>0.831788</td>\n",
       "      <td>-0.515723</td>\n",
       "      <td>0.128584</td>\n",
       "      <td>-0.112466</td>\n",
       "      <td>0.027800</td>\n",
       "      <td>0.222503</td>\n",
       "      <td>0.639397</td>\n",
       "      <td>-1.146686</td>\n",
       "      <td>...</td>\n",
       "      <td>-0.120943</td>\n",
       "      <td>0.102439</td>\n",
       "      <td>0.351638</td>\n",
       "      <td>0.180840</td>\n",
       "      <td>0.572238</td>\n",
       "      <td>-1.486248</td>\n",
       "      <td>0.147366</td>\n",
       "      <td>0.253324</td>\n",
       "      <td>0.291266</td>\n",
       "      <td>9.84</td>\n",
       "    </tr>\n",
       "  </tbody>\n",
       "</table>\n",
       "<p>5 rows × 29 columns</p>\n",
       "</div>"
      ],
      "text/plain": [
       "           0.960045    -1.701390     0.090809    -2.416616    -1.778207    \\\n",
       "23610.0      1.387525    -0.547811     0.076422    -0.739334    -0.519887   \n",
       "36516.0      1.021179    -0.194114     1.207791     1.738369    -0.659824   \n",
       "60465.0     -1.134453     0.636843     2.457241     1.317848     0.605755   \n",
       "7309.0      -0.851343     0.062000     1.406917    -1.669375     0.462639   \n",
       "115111.0    -0.040314     0.545458     0.831788    -0.515723     0.128584   \n",
       "\n",
       "          -1.187327    -0.352306    -0.313573     1.055548    -0.919723    \\\n",
       "23610.0     -0.026007    -0.694673    -0.052100     0.378187     0.488238   \n",
       "36516.0      0.631864    -0.434168     0.227422     1.116400    -0.456468   \n",
       "60465.0      0.143546     0.242076     0.371466    -1.315582     0.050471   \n",
       "7309.0      -0.150804     0.403887     0.200460     1.968672    -1.666708   \n",
       "115111.0    -0.112466     0.027800     0.222503     0.639397    -1.146686   \n",
       "\n",
       "             ...        0.001703    -0.208095    -0.342909    -0.261466    \\\n",
       "23610.0      ...         -0.469630    -0.658299    -1.307286    -0.013221   \n",
       "36516.0      ...         -0.090960    -0.386993    -0.664598     0.047173   \n",
       "60465.0      ...         -0.040412     0.328508     0.683118    -0.114294   \n",
       "7309.0       ...         -0.301203    -0.400262    -1.096108     0.023423   \n",
       "115111.0     ...         -0.120943     0.102439     0.351638     0.180840   \n",
       "\n",
       "           0.414765     0.551794    -0.760302     0.067309     0.072245    \\\n",
       "23610.0     -0.912415     0.163178     0.920997    -0.096560    -0.014846   \n",
       "36516.0      0.106897     0.443932    -0.515898     0.091188     0.035959   \n",
       "60465.0      0.203942     0.035426    -0.090987     0.057247     0.102961   \n",
       "7309.0      -0.842077    -0.301144     0.932506    -0.088128     0.076487   \n",
       "115111.0     0.572238    -1.486248     0.147366     0.253324     0.291266   \n",
       "\n",
       "           242.720000  \n",
       "23610.0         31.35  \n",
       "36516.0         41.29  \n",
       "60465.0         23.27  \n",
       "7309.0          45.00  \n",
       "115111.0         9.84  \n",
       "\n",
       "[5 rows x 29 columns]"
      ]
     },
     "execution_count": 81,
     "metadata": {},
     "output_type": "execute_result"
    }
   ],
   "source": [
    "X_train_cnn5.head()"
   ]
  },
  {
   "cell_type": "code",
   "execution_count": null,
   "metadata": {
    "collapsed": true
   },
   "outputs": [],
   "source": [
    "X_train_cnn5.head()"
   ]
  },
  {
   "cell_type": "code",
   "execution_count": 76,
   "metadata": {
    "collapsed": true
   },
   "outputs": [],
   "source": [
    "X_train_cnn5_1 = pd.DataFrame(X_train_cnn5,columns='Time V1 V2 V3 V4 V5 V6 V7 V8 V9 V10 V11 V12 V13 V14 V15 V16 V17 V18 V19 V20 V21 V22 V23 V24 V25 V26 V27 V28 Amount'.split())"
   ]
  },
  {
   "cell_type": "code",
   "execution_count": 23,
   "metadata": {
    "collapsed": true
   },
   "outputs": [],
   "source": [
    "ckk = CondensedNearestNeighbour(n_neighbors=5, random_state = 1)\n",
    "X_train_cnn5, y_train_cnn5 = ckk.fit_sample(X_train, y_train)"
   ]
  },
  {
   "cell_type": "code",
   "execution_count": 65,
   "metadata": {
    "collapsed": true
   },
   "outputs": [],
   "source": [
    "X_train_cnn5 = pd.DataFrame(data=X_train_cnn5)"
   ]
  },
  {
   "cell_type": "code",
   "execution_count": 66,
   "metadata": {},
   "outputs": [
    {
     "data": {
      "text/html": [
       "<div>\n",
       "<style>\n",
       "    .dataframe thead tr:only-child th {\n",
       "        text-align: right;\n",
       "    }\n",
       "\n",
       "    .dataframe thead th {\n",
       "        text-align: left;\n",
       "    }\n",
       "\n",
       "    .dataframe tbody tr th {\n",
       "        vertical-align: top;\n",
       "    }\n",
       "</style>\n",
       "<table border=\"1\" class=\"dataframe\">\n",
       "  <thead>\n",
       "    <tr style=\"text-align: right;\">\n",
       "      <th></th>\n",
       "      <th>0.96004477841</th>\n",
       "      <th>-1.70139046508</th>\n",
       "      <th>0.0908094234302</th>\n",
       "      <th>-2.41661619494</th>\n",
       "      <th>-1.77820654553</th>\n",
       "      <th>-1.18732680223</th>\n",
       "      <th>-0.352306213855</th>\n",
       "      <th>-0.313572547083</th>\n",
       "      <th>1.05554792428</th>\n",
       "      <th>-0.919723163939</th>\n",
       "      <th>...</th>\n",
       "      <th>0.00170311193799</th>\n",
       "      <th>-0.208095442515</th>\n",
       "      <th>-0.342908830246</th>\n",
       "      <th>-0.261466166547</th>\n",
       "      <th>0.414764864706</th>\n",
       "      <th>0.551794005848</th>\n",
       "      <th>-0.760301537445</th>\n",
       "      <th>0.0673091880764</th>\n",
       "      <th>0.0722448856884</th>\n",
       "      <th>242.72</th>\n",
       "    </tr>\n",
       "  </thead>\n",
       "  <tbody>\n",
       "    <tr>\n",
       "      <th>23610.0</th>\n",
       "      <td>1.387525</td>\n",
       "      <td>-0.547811</td>\n",
       "      <td>0.076422</td>\n",
       "      <td>-0.739334</td>\n",
       "      <td>-0.519887</td>\n",
       "      <td>-0.026007</td>\n",
       "      <td>-0.694673</td>\n",
       "      <td>-0.052100</td>\n",
       "      <td>0.378187</td>\n",
       "      <td>0.488238</td>\n",
       "      <td>...</td>\n",
       "      <td>-0.469630</td>\n",
       "      <td>-0.658299</td>\n",
       "      <td>-1.307286</td>\n",
       "      <td>-0.013221</td>\n",
       "      <td>-0.912415</td>\n",
       "      <td>0.163178</td>\n",
       "      <td>0.920997</td>\n",
       "      <td>-0.096560</td>\n",
       "      <td>-0.014846</td>\n",
       "      <td>31.35</td>\n",
       "    </tr>\n",
       "    <tr>\n",
       "      <th>36516.0</th>\n",
       "      <td>1.021179</td>\n",
       "      <td>-0.194114</td>\n",
       "      <td>1.207791</td>\n",
       "      <td>1.738369</td>\n",
       "      <td>-0.659824</td>\n",
       "      <td>0.631864</td>\n",
       "      <td>-0.434168</td>\n",
       "      <td>0.227422</td>\n",
       "      <td>1.116400</td>\n",
       "      <td>-0.456468</td>\n",
       "      <td>...</td>\n",
       "      <td>-0.090960</td>\n",
       "      <td>-0.386993</td>\n",
       "      <td>-0.664598</td>\n",
       "      <td>0.047173</td>\n",
       "      <td>0.106897</td>\n",
       "      <td>0.443932</td>\n",
       "      <td>-0.515898</td>\n",
       "      <td>0.091188</td>\n",
       "      <td>0.035959</td>\n",
       "      <td>41.29</td>\n",
       "    </tr>\n",
       "    <tr>\n",
       "      <th>60465.0</th>\n",
       "      <td>-1.134453</td>\n",
       "      <td>0.636843</td>\n",
       "      <td>2.457241</td>\n",
       "      <td>1.317848</td>\n",
       "      <td>0.605755</td>\n",
       "      <td>0.143546</td>\n",
       "      <td>0.242076</td>\n",
       "      <td>0.371466</td>\n",
       "      <td>-1.315582</td>\n",
       "      <td>0.050471</td>\n",
       "      <td>...</td>\n",
       "      <td>-0.040412</td>\n",
       "      <td>0.328508</td>\n",
       "      <td>0.683118</td>\n",
       "      <td>-0.114294</td>\n",
       "      <td>0.203942</td>\n",
       "      <td>0.035426</td>\n",
       "      <td>-0.090987</td>\n",
       "      <td>0.057247</td>\n",
       "      <td>0.102961</td>\n",
       "      <td>23.27</td>\n",
       "    </tr>\n",
       "    <tr>\n",
       "      <th>7309.0</th>\n",
       "      <td>-0.851343</td>\n",
       "      <td>0.062000</td>\n",
       "      <td>1.406917</td>\n",
       "      <td>-1.669375</td>\n",
       "      <td>0.462639</td>\n",
       "      <td>-0.150804</td>\n",
       "      <td>0.403887</td>\n",
       "      <td>0.200460</td>\n",
       "      <td>1.968672</td>\n",
       "      <td>-1.666708</td>\n",
       "      <td>...</td>\n",
       "      <td>-0.301203</td>\n",
       "      <td>-0.400262</td>\n",
       "      <td>-1.096108</td>\n",
       "      <td>0.023423</td>\n",
       "      <td>-0.842077</td>\n",
       "      <td>-0.301144</td>\n",
       "      <td>0.932506</td>\n",
       "      <td>-0.088128</td>\n",
       "      <td>0.076487</td>\n",
       "      <td>45.00</td>\n",
       "    </tr>\n",
       "    <tr>\n",
       "      <th>115111.0</th>\n",
       "      <td>-0.040314</td>\n",
       "      <td>0.545458</td>\n",
       "      <td>0.831788</td>\n",
       "      <td>-0.515723</td>\n",
       "      <td>0.128584</td>\n",
       "      <td>-0.112466</td>\n",
       "      <td>0.027800</td>\n",
       "      <td>0.222503</td>\n",
       "      <td>0.639397</td>\n",
       "      <td>-1.146686</td>\n",
       "      <td>...</td>\n",
       "      <td>-0.120943</td>\n",
       "      <td>0.102439</td>\n",
       "      <td>0.351638</td>\n",
       "      <td>0.180840</td>\n",
       "      <td>0.572238</td>\n",
       "      <td>-1.486248</td>\n",
       "      <td>0.147366</td>\n",
       "      <td>0.253324</td>\n",
       "      <td>0.291266</td>\n",
       "      <td>9.84</td>\n",
       "    </tr>\n",
       "  </tbody>\n",
       "</table>\n",
       "<p>5 rows × 29 columns</p>\n",
       "</div>"
      ],
      "text/plain": [
       "           0.960045    -1.701390     0.090809    -2.416616    -1.778207    \\\n",
       "23610.0      1.387525    -0.547811     0.076422    -0.739334    -0.519887   \n",
       "36516.0      1.021179    -0.194114     1.207791     1.738369    -0.659824   \n",
       "60465.0     -1.134453     0.636843     2.457241     1.317848     0.605755   \n",
       "7309.0      -0.851343     0.062000     1.406917    -1.669375     0.462639   \n",
       "115111.0    -0.040314     0.545458     0.831788    -0.515723     0.128584   \n",
       "\n",
       "          -1.187327    -0.352306    -0.313573     1.055548    -0.919723    \\\n",
       "23610.0     -0.026007    -0.694673    -0.052100     0.378187     0.488238   \n",
       "36516.0      0.631864    -0.434168     0.227422     1.116400    -0.456468   \n",
       "60465.0      0.143546     0.242076     0.371466    -1.315582     0.050471   \n",
       "7309.0      -0.150804     0.403887     0.200460     1.968672    -1.666708   \n",
       "115111.0    -0.112466     0.027800     0.222503     0.639397    -1.146686   \n",
       "\n",
       "             ...        0.001703    -0.208095    -0.342909    -0.261466    \\\n",
       "23610.0      ...         -0.469630    -0.658299    -1.307286    -0.013221   \n",
       "36516.0      ...         -0.090960    -0.386993    -0.664598     0.047173   \n",
       "60465.0      ...         -0.040412     0.328508     0.683118    -0.114294   \n",
       "7309.0       ...         -0.301203    -0.400262    -1.096108     0.023423   \n",
       "115111.0     ...         -0.120943     0.102439     0.351638     0.180840   \n",
       "\n",
       "           0.414765     0.551794    -0.760302     0.067309     0.072245    \\\n",
       "23610.0     -0.912415     0.163178     0.920997    -0.096560    -0.014846   \n",
       "36516.0      0.106897     0.443932    -0.515898     0.091188     0.035959   \n",
       "60465.0      0.203942     0.035426    -0.090987     0.057247     0.102961   \n",
       "7309.0      -0.842077    -0.301144     0.932506    -0.088128     0.076487   \n",
       "115111.0     0.572238    -1.486248     0.147366     0.253324     0.291266   \n",
       "\n",
       "           242.720000  \n",
       "23610.0         31.35  \n",
       "36516.0         41.29  \n",
       "60465.0         23.27  \n",
       "7309.0          45.00  \n",
       "115111.0         9.84  \n",
       "\n",
       "[5 rows x 29 columns]"
      ]
     },
     "execution_count": 66,
     "metadata": {},
     "output_type": "execute_result"
    }
   ],
   "source": [
    "X_train_cnn5.head()"
   ]
  },
  {
   "cell_type": "code",
   "execution_count": 24,
   "metadata": {
    "collapsed": true
   },
   "outputs": [],
   "source": [
    "xg_params = {\n",
    "    'colsample_bytree': [0.2],\n",
    "    'gamma':[0.01],\n",
    "    'learning_rate':[0.001, 0.01],\n",
    "    'max_depth':np.arange(3,7,1),\n",
    "    'n_estimators':[4000, 5000],                                                                  \n",
    "    'reg_alpha':[0.5,0.9],\n",
    "    'reg_lambda':[0.3, 0.4, 0.5],\n",
    "    'subsample': [0.2]\n",
    "}"
   ]
  },
  {
   "cell_type": "code",
   "execution_count": 28,
   "metadata": {},
   "outputs": [
    {
     "data": {
      "text/html": [
       "<div>\n",
       "<style>\n",
       "    .dataframe thead tr:only-child th {\n",
       "        text-align: right;\n",
       "    }\n",
       "\n",
       "    .dataframe thead th {\n",
       "        text-align: left;\n",
       "    }\n",
       "\n",
       "    .dataframe tbody tr th {\n",
       "        vertical-align: top;\n",
       "    }\n",
       "</style>\n",
       "<table border=\"1\" class=\"dataframe\">\n",
       "  <thead>\n",
       "    <tr style=\"text-align: right;\">\n",
       "      <th></th>\n",
       "      <th>Time</th>\n",
       "      <th>V1</th>\n",
       "      <th>V2</th>\n",
       "      <th>V3</th>\n",
       "      <th>V4</th>\n",
       "      <th>V5</th>\n",
       "      <th>V6</th>\n",
       "      <th>V7</th>\n",
       "      <th>V8</th>\n",
       "      <th>V9</th>\n",
       "      <th>...</th>\n",
       "      <th>V20</th>\n",
       "      <th>V21</th>\n",
       "      <th>V22</th>\n",
       "      <th>V23</th>\n",
       "      <th>V24</th>\n",
       "      <th>V25</th>\n",
       "      <th>V26</th>\n",
       "      <th>V27</th>\n",
       "      <th>V28</th>\n",
       "      <th>Amount</th>\n",
       "    </tr>\n",
       "  </thead>\n",
       "  <tbody>\n",
       "    <tr>\n",
       "      <th>169876</th>\n",
       "      <td>119907.0</td>\n",
       "      <td>-0.611712</td>\n",
       "      <td>-0.769705</td>\n",
       "      <td>-0.149759</td>\n",
       "      <td>-0.224877</td>\n",
       "      <td>2.028577</td>\n",
       "      <td>-2.019887</td>\n",
       "      <td>0.292491</td>\n",
       "      <td>-0.523020</td>\n",
       "      <td>0.358468</td>\n",
       "      <td>...</td>\n",
       "      <td>-0.196039</td>\n",
       "      <td>-0.075208</td>\n",
       "      <td>0.045536</td>\n",
       "      <td>0.380739</td>\n",
       "      <td>0.023440</td>\n",
       "      <td>-2.220686</td>\n",
       "      <td>-0.201146</td>\n",
       "      <td>0.066501</td>\n",
       "      <td>0.221180</td>\n",
       "      <td>1.79</td>\n",
       "    </tr>\n",
       "    <tr>\n",
       "      <th>127467</th>\n",
       "      <td>78340.0</td>\n",
       "      <td>-0.814682</td>\n",
       "      <td>1.319219</td>\n",
       "      <td>1.329415</td>\n",
       "      <td>0.027273</td>\n",
       "      <td>-0.284871</td>\n",
       "      <td>-0.653985</td>\n",
       "      <td>0.321552</td>\n",
       "      <td>0.435975</td>\n",
       "      <td>-0.704298</td>\n",
       "      <td>...</td>\n",
       "      <td>-0.009041</td>\n",
       "      <td>-0.128619</td>\n",
       "      <td>-0.368565</td>\n",
       "      <td>0.090660</td>\n",
       "      <td>0.401147</td>\n",
       "      <td>-0.261034</td>\n",
       "      <td>0.080621</td>\n",
       "      <td>0.162427</td>\n",
       "      <td>0.059456</td>\n",
       "      <td>1.98</td>\n",
       "    </tr>\n",
       "    <tr>\n",
       "      <th>137900</th>\n",
       "      <td>82382.0</td>\n",
       "      <td>-0.318193</td>\n",
       "      <td>1.118618</td>\n",
       "      <td>0.969864</td>\n",
       "      <td>-0.127052</td>\n",
       "      <td>0.569563</td>\n",
       "      <td>-0.532484</td>\n",
       "      <td>0.706252</td>\n",
       "      <td>-0.064966</td>\n",
       "      <td>-0.463271</td>\n",
       "      <td>...</td>\n",
       "      <td>0.206028</td>\n",
       "      <td>-0.305402</td>\n",
       "      <td>-0.774704</td>\n",
       "      <td>-0.123884</td>\n",
       "      <td>-0.495687</td>\n",
       "      <td>-0.018148</td>\n",
       "      <td>0.121679</td>\n",
       "      <td>0.249050</td>\n",
       "      <td>0.092516</td>\n",
       "      <td>0.89</td>\n",
       "    </tr>\n",
       "    <tr>\n",
       "      <th>21513</th>\n",
       "      <td>31717.0</td>\n",
       "      <td>-1.328271</td>\n",
       "      <td>1.018378</td>\n",
       "      <td>1.775426</td>\n",
       "      <td>-1.574193</td>\n",
       "      <td>-0.117696</td>\n",
       "      <td>-0.457733</td>\n",
       "      <td>0.681867</td>\n",
       "      <td>-0.031641</td>\n",
       "      <td>0.383872</td>\n",
       "      <td>...</td>\n",
       "      <td>0.315823</td>\n",
       "      <td>-0.220815</td>\n",
       "      <td>-0.419013</td>\n",
       "      <td>-0.239197</td>\n",
       "      <td>0.009967</td>\n",
       "      <td>0.232829</td>\n",
       "      <td>0.814177</td>\n",
       "      <td>0.098797</td>\n",
       "      <td>-0.004273</td>\n",
       "      <td>15.98</td>\n",
       "    </tr>\n",
       "    <tr>\n",
       "      <th>134700</th>\n",
       "      <td>80923.0</td>\n",
       "      <td>1.276712</td>\n",
       "      <td>0.617120</td>\n",
       "      <td>-0.578014</td>\n",
       "      <td>0.879173</td>\n",
       "      <td>0.061706</td>\n",
       "      <td>-1.472002</td>\n",
       "      <td>0.373692</td>\n",
       "      <td>-0.287204</td>\n",
       "      <td>-0.084482</td>\n",
       "      <td>...</td>\n",
       "      <td>-0.105286</td>\n",
       "      <td>-0.160161</td>\n",
       "      <td>-0.430404</td>\n",
       "      <td>-0.076738</td>\n",
       "      <td>0.258708</td>\n",
       "      <td>0.552170</td>\n",
       "      <td>0.370701</td>\n",
       "      <td>-0.034255</td>\n",
       "      <td>0.041709</td>\n",
       "      <td>0.76</td>\n",
       "    </tr>\n",
       "  </tbody>\n",
       "</table>\n",
       "<p>5 rows × 30 columns</p>\n",
       "</div>"
      ],
      "text/plain": [
       "            Time        V1        V2        V3        V4        V5        V6  \\\n",
       "169876  119907.0 -0.611712 -0.769705 -0.149759 -0.224877  2.028577 -2.019887   \n",
       "127467   78340.0 -0.814682  1.319219  1.329415  0.027273 -0.284871 -0.653985   \n",
       "137900   82382.0 -0.318193  1.118618  0.969864 -0.127052  0.569563 -0.532484   \n",
       "21513    31717.0 -1.328271  1.018378  1.775426 -1.574193 -0.117696 -0.457733   \n",
       "134700   80923.0  1.276712  0.617120 -0.578014  0.879173  0.061706 -1.472002   \n",
       "\n",
       "              V7        V8        V9   ...         V20       V21       V22  \\\n",
       "169876  0.292491 -0.523020  0.358468   ...   -0.196039 -0.075208  0.045536   \n",
       "127467  0.321552  0.435975 -0.704298   ...   -0.009041 -0.128619 -0.368565   \n",
       "137900  0.706252 -0.064966 -0.463271   ...    0.206028 -0.305402 -0.774704   \n",
       "21513   0.681867 -0.031641  0.383872   ...    0.315823 -0.220815 -0.419013   \n",
       "134700  0.373692 -0.287204 -0.084482   ...   -0.105286 -0.160161 -0.430404   \n",
       "\n",
       "             V23       V24       V25       V26       V27       V28  Amount  \n",
       "169876  0.380739  0.023440 -2.220686 -0.201146  0.066501  0.221180    1.79  \n",
       "127467  0.090660  0.401147 -0.261034  0.080621  0.162427  0.059456    1.98  \n",
       "137900 -0.123884 -0.495687 -0.018148  0.121679  0.249050  0.092516    0.89  \n",
       "21513  -0.239197  0.009967  0.232829  0.814177  0.098797 -0.004273   15.98  \n",
       "134700 -0.076738  0.258708  0.552170  0.370701 -0.034255  0.041709    0.76  \n",
       "\n",
       "[5 rows x 30 columns]"
      ]
     },
     "execution_count": 28,
     "metadata": {},
     "output_type": "execute_result"
    }
   ],
   "source": [
    "X_test.head()"
   ]
  },
  {
   "cell_type": "code",
   "execution_count": 89,
   "metadata": {},
   "outputs": [
    {
     "data": {
      "text/plain": [
       "(1352L,)"
      ]
     },
     "execution_count": 89,
     "metadata": {},
     "output_type": "execute_result"
    }
   ],
   "source": [
    "y_train_cnn5.shape"
   ]
  },
  {
   "cell_type": "code",
   "execution_count": 92,
   "metadata": {
    "collapsed": true
   },
   "outputs": [],
   "source": [
    "y_train_cnn5_1 = np.delete(y_train_cnn5, [0])"
   ]
  },
  {
   "cell_type": "code",
   "execution_count": 93,
   "metadata": {},
   "outputs": [
    {
     "data": {
      "text/plain": [
       "(1351, 30)"
      ]
     },
     "execution_count": 93,
     "metadata": {},
     "output_type": "execute_result"
    }
   ],
   "source": [
    "X_train_cnn5_1.shape"
   ]
  },
  {
   "cell_type": "code",
   "execution_count": 96,
   "metadata": {},
   "outputs": [
    {
     "data": {
      "text/html": [
       "<div>\n",
       "<style>\n",
       "    .dataframe thead tr:only-child th {\n",
       "        text-align: right;\n",
       "    }\n",
       "\n",
       "    .dataframe thead th {\n",
       "        text-align: left;\n",
       "    }\n",
       "\n",
       "    .dataframe tbody tr th {\n",
       "        vertical-align: top;\n",
       "    }\n",
       "</style>\n",
       "<table border=\"1\" class=\"dataframe\">\n",
       "  <thead>\n",
       "    <tr style=\"text-align: right;\">\n",
       "      <th></th>\n",
       "      <th>Time</th>\n",
       "      <th>V1</th>\n",
       "      <th>V2</th>\n",
       "      <th>V3</th>\n",
       "      <th>V4</th>\n",
       "      <th>V5</th>\n",
       "      <th>V6</th>\n",
       "      <th>V7</th>\n",
       "      <th>V8</th>\n",
       "      <th>V9</th>\n",
       "      <th>...</th>\n",
       "      <th>V20</th>\n",
       "      <th>V21</th>\n",
       "      <th>V22</th>\n",
       "      <th>V23</th>\n",
       "      <th>V24</th>\n",
       "      <th>V25</th>\n",
       "      <th>V26</th>\n",
       "      <th>V27</th>\n",
       "      <th>V28</th>\n",
       "      <th>Amount</th>\n",
       "    </tr>\n",
       "  </thead>\n",
       "  <tbody>\n",
       "    <tr>\n",
       "      <th>169876</th>\n",
       "      <td>119907.0</td>\n",
       "      <td>-0.611712</td>\n",
       "      <td>-0.769705</td>\n",
       "      <td>-0.149759</td>\n",
       "      <td>-0.224877</td>\n",
       "      <td>2.028577</td>\n",
       "      <td>-2.019887</td>\n",
       "      <td>0.292491</td>\n",
       "      <td>-0.523020</td>\n",
       "      <td>0.358468</td>\n",
       "      <td>...</td>\n",
       "      <td>-0.196039</td>\n",
       "      <td>-0.075208</td>\n",
       "      <td>0.045536</td>\n",
       "      <td>0.380739</td>\n",
       "      <td>0.023440</td>\n",
       "      <td>-2.220686</td>\n",
       "      <td>-0.201146</td>\n",
       "      <td>0.066501</td>\n",
       "      <td>0.221180</td>\n",
       "      <td>1.79</td>\n",
       "    </tr>\n",
       "    <tr>\n",
       "      <th>127467</th>\n",
       "      <td>78340.0</td>\n",
       "      <td>-0.814682</td>\n",
       "      <td>1.319219</td>\n",
       "      <td>1.329415</td>\n",
       "      <td>0.027273</td>\n",
       "      <td>-0.284871</td>\n",
       "      <td>-0.653985</td>\n",
       "      <td>0.321552</td>\n",
       "      <td>0.435975</td>\n",
       "      <td>-0.704298</td>\n",
       "      <td>...</td>\n",
       "      <td>-0.009041</td>\n",
       "      <td>-0.128619</td>\n",
       "      <td>-0.368565</td>\n",
       "      <td>0.090660</td>\n",
       "      <td>0.401147</td>\n",
       "      <td>-0.261034</td>\n",
       "      <td>0.080621</td>\n",
       "      <td>0.162427</td>\n",
       "      <td>0.059456</td>\n",
       "      <td>1.98</td>\n",
       "    </tr>\n",
       "    <tr>\n",
       "      <th>137900</th>\n",
       "      <td>82382.0</td>\n",
       "      <td>-0.318193</td>\n",
       "      <td>1.118618</td>\n",
       "      <td>0.969864</td>\n",
       "      <td>-0.127052</td>\n",
       "      <td>0.569563</td>\n",
       "      <td>-0.532484</td>\n",
       "      <td>0.706252</td>\n",
       "      <td>-0.064966</td>\n",
       "      <td>-0.463271</td>\n",
       "      <td>...</td>\n",
       "      <td>0.206028</td>\n",
       "      <td>-0.305402</td>\n",
       "      <td>-0.774704</td>\n",
       "      <td>-0.123884</td>\n",
       "      <td>-0.495687</td>\n",
       "      <td>-0.018148</td>\n",
       "      <td>0.121679</td>\n",
       "      <td>0.249050</td>\n",
       "      <td>0.092516</td>\n",
       "      <td>0.89</td>\n",
       "    </tr>\n",
       "    <tr>\n",
       "      <th>21513</th>\n",
       "      <td>31717.0</td>\n",
       "      <td>-1.328271</td>\n",
       "      <td>1.018378</td>\n",
       "      <td>1.775426</td>\n",
       "      <td>-1.574193</td>\n",
       "      <td>-0.117696</td>\n",
       "      <td>-0.457733</td>\n",
       "      <td>0.681867</td>\n",
       "      <td>-0.031641</td>\n",
       "      <td>0.383872</td>\n",
       "      <td>...</td>\n",
       "      <td>0.315823</td>\n",
       "      <td>-0.220815</td>\n",
       "      <td>-0.419013</td>\n",
       "      <td>-0.239197</td>\n",
       "      <td>0.009967</td>\n",
       "      <td>0.232829</td>\n",
       "      <td>0.814177</td>\n",
       "      <td>0.098797</td>\n",
       "      <td>-0.004273</td>\n",
       "      <td>15.98</td>\n",
       "    </tr>\n",
       "    <tr>\n",
       "      <th>134700</th>\n",
       "      <td>80923.0</td>\n",
       "      <td>1.276712</td>\n",
       "      <td>0.617120</td>\n",
       "      <td>-0.578014</td>\n",
       "      <td>0.879173</td>\n",
       "      <td>0.061706</td>\n",
       "      <td>-1.472002</td>\n",
       "      <td>0.373692</td>\n",
       "      <td>-0.287204</td>\n",
       "      <td>-0.084482</td>\n",
       "      <td>...</td>\n",
       "      <td>-0.105286</td>\n",
       "      <td>-0.160161</td>\n",
       "      <td>-0.430404</td>\n",
       "      <td>-0.076738</td>\n",
       "      <td>0.258708</td>\n",
       "      <td>0.552170</td>\n",
       "      <td>0.370701</td>\n",
       "      <td>-0.034255</td>\n",
       "      <td>0.041709</td>\n",
       "      <td>0.76</td>\n",
       "    </tr>\n",
       "  </tbody>\n",
       "</table>\n",
       "<p>5 rows × 30 columns</p>\n",
       "</div>"
      ],
      "text/plain": [
       "            Time        V1        V2        V3        V4        V5        V6  \\\n",
       "169876  119907.0 -0.611712 -0.769705 -0.149759 -0.224877  2.028577 -2.019887   \n",
       "127467   78340.0 -0.814682  1.319219  1.329415  0.027273 -0.284871 -0.653985   \n",
       "137900   82382.0 -0.318193  1.118618  0.969864 -0.127052  0.569563 -0.532484   \n",
       "21513    31717.0 -1.328271  1.018378  1.775426 -1.574193 -0.117696 -0.457733   \n",
       "134700   80923.0  1.276712  0.617120 -0.578014  0.879173  0.061706 -1.472002   \n",
       "\n",
       "              V7        V8        V9   ...         V20       V21       V22  \\\n",
       "169876  0.292491 -0.523020  0.358468   ...   -0.196039 -0.075208  0.045536   \n",
       "127467  0.321552  0.435975 -0.704298   ...   -0.009041 -0.128619 -0.368565   \n",
       "137900  0.706252 -0.064966 -0.463271   ...    0.206028 -0.305402 -0.774704   \n",
       "21513   0.681867 -0.031641  0.383872   ...    0.315823 -0.220815 -0.419013   \n",
       "134700  0.373692 -0.287204 -0.084482   ...   -0.105286 -0.160161 -0.430404   \n",
       "\n",
       "             V23       V24       V25       V26       V27       V28  Amount  \n",
       "169876  0.380739  0.023440 -2.220686 -0.201146  0.066501  0.221180    1.79  \n",
       "127467  0.090660  0.401147 -0.261034  0.080621  0.162427  0.059456    1.98  \n",
       "137900 -0.123884 -0.495687 -0.018148  0.121679  0.249050  0.092516    0.89  \n",
       "21513  -0.239197  0.009967  0.232829  0.814177  0.098797 -0.004273   15.98  \n",
       "134700 -0.076738  0.258708  0.552170  0.370701 -0.034255  0.041709    0.76  \n",
       "\n",
       "[5 rows x 30 columns]"
      ]
     },
     "execution_count": 96,
     "metadata": {},
     "output_type": "execute_result"
    }
   ],
   "source": [
    "X_test.head()"
   ]
  },
  {
   "cell_type": "code",
   "execution_count": 97,
   "metadata": {
    "collapsed": true
   },
   "outputs": [],
   "source": [
    "X_test.drop('Time', axis=1, inplace=True)"
   ]
  },
  {
   "cell_type": "code",
   "execution_count": 99,
   "metadata": {},
   "outputs": [
    {
     "data": {
      "text/html": [
       "<div>\n",
       "<style>\n",
       "    .dataframe thead tr:only-child th {\n",
       "        text-align: right;\n",
       "    }\n",
       "\n",
       "    .dataframe thead th {\n",
       "        text-align: left;\n",
       "    }\n",
       "\n",
       "    .dataframe tbody tr th {\n",
       "        vertical-align: top;\n",
       "    }\n",
       "</style>\n",
       "<table border=\"1\" class=\"dataframe\">\n",
       "  <thead>\n",
       "    <tr style=\"text-align: right;\">\n",
       "      <th></th>\n",
       "      <th>V1</th>\n",
       "      <th>V2</th>\n",
       "      <th>V3</th>\n",
       "      <th>V4</th>\n",
       "      <th>V5</th>\n",
       "      <th>V6</th>\n",
       "      <th>V7</th>\n",
       "      <th>V8</th>\n",
       "      <th>V9</th>\n",
       "      <th>V10</th>\n",
       "      <th>...</th>\n",
       "      <th>V20</th>\n",
       "      <th>V21</th>\n",
       "      <th>V22</th>\n",
       "      <th>V23</th>\n",
       "      <th>V24</th>\n",
       "      <th>V25</th>\n",
       "      <th>V26</th>\n",
       "      <th>V27</th>\n",
       "      <th>V28</th>\n",
       "      <th>Amount</th>\n",
       "    </tr>\n",
       "  </thead>\n",
       "  <tbody>\n",
       "    <tr>\n",
       "      <th>169876</th>\n",
       "      <td>-0.611712</td>\n",
       "      <td>-0.769705</td>\n",
       "      <td>-0.149759</td>\n",
       "      <td>-0.224877</td>\n",
       "      <td>2.028577</td>\n",
       "      <td>-2.019887</td>\n",
       "      <td>0.292491</td>\n",
       "      <td>-0.523020</td>\n",
       "      <td>0.358468</td>\n",
       "      <td>0.070050</td>\n",
       "      <td>...</td>\n",
       "      <td>-0.196039</td>\n",
       "      <td>-0.075208</td>\n",
       "      <td>0.045536</td>\n",
       "      <td>0.380739</td>\n",
       "      <td>0.023440</td>\n",
       "      <td>-2.220686</td>\n",
       "      <td>-0.201146</td>\n",
       "      <td>0.066501</td>\n",
       "      <td>0.221180</td>\n",
       "      <td>1.79</td>\n",
       "    </tr>\n",
       "    <tr>\n",
       "      <th>127467</th>\n",
       "      <td>-0.814682</td>\n",
       "      <td>1.319219</td>\n",
       "      <td>1.329415</td>\n",
       "      <td>0.027273</td>\n",
       "      <td>-0.284871</td>\n",
       "      <td>-0.653985</td>\n",
       "      <td>0.321552</td>\n",
       "      <td>0.435975</td>\n",
       "      <td>-0.704298</td>\n",
       "      <td>-0.600684</td>\n",
       "      <td>...</td>\n",
       "      <td>-0.009041</td>\n",
       "      <td>-0.128619</td>\n",
       "      <td>-0.368565</td>\n",
       "      <td>0.090660</td>\n",
       "      <td>0.401147</td>\n",
       "      <td>-0.261034</td>\n",
       "      <td>0.080621</td>\n",
       "      <td>0.162427</td>\n",
       "      <td>0.059456</td>\n",
       "      <td>1.98</td>\n",
       "    </tr>\n",
       "    <tr>\n",
       "      <th>137900</th>\n",
       "      <td>-0.318193</td>\n",
       "      <td>1.118618</td>\n",
       "      <td>0.969864</td>\n",
       "      <td>-0.127052</td>\n",
       "      <td>0.569563</td>\n",
       "      <td>-0.532484</td>\n",
       "      <td>0.706252</td>\n",
       "      <td>-0.064966</td>\n",
       "      <td>-0.463271</td>\n",
       "      <td>-0.528357</td>\n",
       "      <td>...</td>\n",
       "      <td>0.206028</td>\n",
       "      <td>-0.305402</td>\n",
       "      <td>-0.774704</td>\n",
       "      <td>-0.123884</td>\n",
       "      <td>-0.495687</td>\n",
       "      <td>-0.018148</td>\n",
       "      <td>0.121679</td>\n",
       "      <td>0.249050</td>\n",
       "      <td>0.092516</td>\n",
       "      <td>0.89</td>\n",
       "    </tr>\n",
       "    <tr>\n",
       "      <th>21513</th>\n",
       "      <td>-1.328271</td>\n",
       "      <td>1.018378</td>\n",
       "      <td>1.775426</td>\n",
       "      <td>-1.574193</td>\n",
       "      <td>-0.117696</td>\n",
       "      <td>-0.457733</td>\n",
       "      <td>0.681867</td>\n",
       "      <td>-0.031641</td>\n",
       "      <td>0.383872</td>\n",
       "      <td>0.334853</td>\n",
       "      <td>...</td>\n",
       "      <td>0.315823</td>\n",
       "      <td>-0.220815</td>\n",
       "      <td>-0.419013</td>\n",
       "      <td>-0.239197</td>\n",
       "      <td>0.009967</td>\n",
       "      <td>0.232829</td>\n",
       "      <td>0.814177</td>\n",
       "      <td>0.098797</td>\n",
       "      <td>-0.004273</td>\n",
       "      <td>15.98</td>\n",
       "    </tr>\n",
       "    <tr>\n",
       "      <th>134700</th>\n",
       "      <td>1.276712</td>\n",
       "      <td>0.617120</td>\n",
       "      <td>-0.578014</td>\n",
       "      <td>0.879173</td>\n",
       "      <td>0.061706</td>\n",
       "      <td>-1.472002</td>\n",
       "      <td>0.373692</td>\n",
       "      <td>-0.287204</td>\n",
       "      <td>-0.084482</td>\n",
       "      <td>-0.696578</td>\n",
       "      <td>...</td>\n",
       "      <td>-0.105286</td>\n",
       "      <td>-0.160161</td>\n",
       "      <td>-0.430404</td>\n",
       "      <td>-0.076738</td>\n",
       "      <td>0.258708</td>\n",
       "      <td>0.552170</td>\n",
       "      <td>0.370701</td>\n",
       "      <td>-0.034255</td>\n",
       "      <td>0.041709</td>\n",
       "      <td>0.76</td>\n",
       "    </tr>\n",
       "  </tbody>\n",
       "</table>\n",
       "<p>5 rows × 29 columns</p>\n",
       "</div>"
      ],
      "text/plain": [
       "              V1        V2        V3        V4        V5        V6        V7  \\\n",
       "169876 -0.611712 -0.769705 -0.149759 -0.224877  2.028577 -2.019887  0.292491   \n",
       "127467 -0.814682  1.319219  1.329415  0.027273 -0.284871 -0.653985  0.321552   \n",
       "137900 -0.318193  1.118618  0.969864 -0.127052  0.569563 -0.532484  0.706252   \n",
       "21513  -1.328271  1.018378  1.775426 -1.574193 -0.117696 -0.457733  0.681867   \n",
       "134700  1.276712  0.617120 -0.578014  0.879173  0.061706 -1.472002  0.373692   \n",
       "\n",
       "              V8        V9       V10   ...         V20       V21       V22  \\\n",
       "169876 -0.523020  0.358468  0.070050   ...   -0.196039 -0.075208  0.045536   \n",
       "127467  0.435975 -0.704298 -0.600684   ...   -0.009041 -0.128619 -0.368565   \n",
       "137900 -0.064966 -0.463271 -0.528357   ...    0.206028 -0.305402 -0.774704   \n",
       "21513  -0.031641  0.383872  0.334853   ...    0.315823 -0.220815 -0.419013   \n",
       "134700 -0.287204 -0.084482 -0.696578   ...   -0.105286 -0.160161 -0.430404   \n",
       "\n",
       "             V23       V24       V25       V26       V27       V28  Amount  \n",
       "169876  0.380739  0.023440 -2.220686 -0.201146  0.066501  0.221180    1.79  \n",
       "127467  0.090660  0.401147 -0.261034  0.080621  0.162427  0.059456    1.98  \n",
       "137900 -0.123884 -0.495687 -0.018148  0.121679  0.249050  0.092516    0.89  \n",
       "21513  -0.239197  0.009967  0.232829  0.814177  0.098797 -0.004273   15.98  \n",
       "134700 -0.076738  0.258708  0.552170  0.370701 -0.034255  0.041709    0.76  \n",
       "\n",
       "[5 rows x 29 columns]"
      ]
     },
     "execution_count": 99,
     "metadata": {},
     "output_type": "execute_result"
    }
   ],
   "source": [
    "X_test.head()"
   ]
  },
  {
   "cell_type": "code",
   "execution_count": 102,
   "metadata": {},
   "outputs": [
    {
     "data": {
      "text/plain": [
       "169876    0\n",
       "127467    0\n",
       "137900    0\n",
       "21513     0\n",
       "134700    0\n",
       "Name: Class, dtype: int64"
      ]
     },
     "execution_count": 102,
     "metadata": {},
     "output_type": "execute_result"
    }
   ],
   "source": [
    "y_test.head()"
   ]
  },
  {
   "cell_type": "code",
   "execution_count": 103,
   "metadata": {},
   "outputs": [
    {
     "name": "stdout",
     "output_type": "stream",
     "text": [
      "Accuracy Score: 0.991415329518\n",
      "\n",
      "Average Precision Score: 0.0892348341273\n",
      "\n",
      "Average F1 Score: 0.207455429498\n"
     ]
    },
    {
     "data": {
      "image/png": "[encoded data removed]",
      "text/plain": [
       "<matplotlib.figure.Figure at 0x1607cf60>"
      ]
     },
     "metadata": {},
     "output_type": "display_data"
    },
    {
     "name": "stdout",
     "output_type": "stream",
     "text": [
      "\n",
      "----------Classification Report------------------------------------\n",
      "             precision    recall  f1-score   support\n",
      "\n",
      "          0       1.00      0.99      1.00     56875\n",
      "          1       0.12      0.74      0.21        87\n",
      "\n",
      "avg / total       1.00      0.99      0.99     56962\n",
      "\n"
     ]
    }
   ],
   "source": [
    "xgb = XGBClassifier()\n",
    "xgb_grid_cnn5 = GridSearchCV(xgb, param_grid=xg_params)\n",
    "xgb_model_cnn5 = xgb_grid_cnn5.fit(X_train_cnn5, y_train_cnn5_1)\n",
    "\n",
    "xgb_pred_cnn5 = xgb_model_cnn5.predict(X_test)\n",
    "\n",
    "model_scores(y_test, xgb_pred_cnn5)"
   ]
  },
  {
   "cell_type": "markdown",
   "metadata": {},
   "source": [
    "<a id='2.4.2'></a>\n",
    "### XGBoost with  SMOTE- oversampling"
   ]
  },
  {
   "cell_type": "code",
   "execution_count": 105,
   "metadata": {
    "collapsed": true
   },
   "outputs": [],
   "source": [
    "from imblearn.over_sampling import SMOTE\n",
    "\n",
    "sm = SMOTE(random_state=1)\n",
    "X_train_smote, y_train_smote = sm.fit_sample(X_train, y_train)"
   ]
  },
  {
   "cell_type": "code",
   "execution_count": 106,
   "metadata": {
    "collapsed": true
   },
   "outputs": [],
   "source": [
    "X_train_smote = pd.DataFrame(data=X_train_smote)"
   ]
  },
  {
   "cell_type": "code",
   "execution_count": 108,
   "metadata": {},
   "outputs": [
    {
     "data": {
      "text/html": [
       "<div>\n",
       "<style>\n",
       "    .dataframe thead tr:only-child th {\n",
       "        text-align: right;\n",
       "    }\n",
       "\n",
       "    .dataframe thead th {\n",
       "        text-align: left;\n",
       "    }\n",
       "\n",
       "    .dataframe tbody tr th {\n",
       "        vertical-align: top;\n",
       "    }\n",
       "</style>\n",
       "<table border=\"1\" class=\"dataframe\">\n",
       "  <thead>\n",
       "    <tr style=\"text-align: right;\">\n",
       "      <th></th>\n",
       "      <th>0</th>\n",
       "      <th>1</th>\n",
       "      <th>2</th>\n",
       "      <th>3</th>\n",
       "      <th>4</th>\n",
       "      <th>5</th>\n",
       "      <th>6</th>\n",
       "      <th>7</th>\n",
       "      <th>8</th>\n",
       "      <th>9</th>\n",
       "      <th>...</th>\n",
       "      <th>20</th>\n",
       "      <th>21</th>\n",
       "      <th>22</th>\n",
       "      <th>23</th>\n",
       "      <th>24</th>\n",
       "      <th>25</th>\n",
       "      <th>26</th>\n",
       "      <th>27</th>\n",
       "      <th>28</th>\n",
       "      <th>29</th>\n",
       "    </tr>\n",
       "  </thead>\n",
       "  <tbody>\n",
       "    <tr>\n",
       "      <th>0</th>\n",
       "      <td>23610.0</td>\n",
       "      <td>1.387525</td>\n",
       "      <td>-0.547811</td>\n",
       "      <td>0.076422</td>\n",
       "      <td>-0.739334</td>\n",
       "      <td>-0.519887</td>\n",
       "      <td>-0.026007</td>\n",
       "      <td>-0.694673</td>\n",
       "      <td>-0.052100</td>\n",
       "      <td>0.378187</td>\n",
       "      <td>...</td>\n",
       "      <td>-0.469630</td>\n",
       "      <td>-0.658299</td>\n",
       "      <td>-1.307286</td>\n",
       "      <td>-0.013221</td>\n",
       "      <td>-0.912415</td>\n",
       "      <td>0.163178</td>\n",
       "      <td>0.920997</td>\n",
       "      <td>-0.096560</td>\n",
       "      <td>-0.014846</td>\n",
       "      <td>31.35</td>\n",
       "    </tr>\n",
       "    <tr>\n",
       "      <th>1</th>\n",
       "      <td>36516.0</td>\n",
       "      <td>1.021179</td>\n",
       "      <td>-0.194114</td>\n",
       "      <td>1.207791</td>\n",
       "      <td>1.738369</td>\n",
       "      <td>-0.659824</td>\n",
       "      <td>0.631864</td>\n",
       "      <td>-0.434168</td>\n",
       "      <td>0.227422</td>\n",
       "      <td>1.116400</td>\n",
       "      <td>...</td>\n",
       "      <td>-0.090960</td>\n",
       "      <td>-0.386993</td>\n",
       "      <td>-0.664598</td>\n",
       "      <td>0.047173</td>\n",
       "      <td>0.106897</td>\n",
       "      <td>0.443932</td>\n",
       "      <td>-0.515898</td>\n",
       "      <td>0.091188</td>\n",
       "      <td>0.035959</td>\n",
       "      <td>41.29</td>\n",
       "    </tr>\n",
       "    <tr>\n",
       "      <th>2</th>\n",
       "      <td>60465.0</td>\n",
       "      <td>-1.134453</td>\n",
       "      <td>0.636843</td>\n",
       "      <td>2.457241</td>\n",
       "      <td>1.317848</td>\n",
       "      <td>0.605755</td>\n",
       "      <td>0.143546</td>\n",
       "      <td>0.242076</td>\n",
       "      <td>0.371466</td>\n",
       "      <td>-1.315582</td>\n",
       "      <td>...</td>\n",
       "      <td>-0.040412</td>\n",
       "      <td>0.328508</td>\n",
       "      <td>0.683118</td>\n",
       "      <td>-0.114294</td>\n",
       "      <td>0.203942</td>\n",
       "      <td>0.035426</td>\n",
       "      <td>-0.090987</td>\n",
       "      <td>0.057247</td>\n",
       "      <td>0.102961</td>\n",
       "      <td>23.27</td>\n",
       "    </tr>\n",
       "    <tr>\n",
       "      <th>3</th>\n",
       "      <td>7309.0</td>\n",
       "      <td>-0.851343</td>\n",
       "      <td>0.062000</td>\n",
       "      <td>1.406917</td>\n",
       "      <td>-1.669375</td>\n",
       "      <td>0.462639</td>\n",
       "      <td>-0.150804</td>\n",
       "      <td>0.403887</td>\n",
       "      <td>0.200460</td>\n",
       "      <td>1.968672</td>\n",
       "      <td>...</td>\n",
       "      <td>-0.301203</td>\n",
       "      <td>-0.400262</td>\n",
       "      <td>-1.096108</td>\n",
       "      <td>0.023423</td>\n",
       "      <td>-0.842077</td>\n",
       "      <td>-0.301144</td>\n",
       "      <td>0.932506</td>\n",
       "      <td>-0.088128</td>\n",
       "      <td>0.076487</td>\n",
       "      <td>45.00</td>\n",
       "    </tr>\n",
       "    <tr>\n",
       "      <th>4</th>\n",
       "      <td>115111.0</td>\n",
       "      <td>-0.040314</td>\n",
       "      <td>0.545458</td>\n",
       "      <td>0.831788</td>\n",
       "      <td>-0.515723</td>\n",
       "      <td>0.128584</td>\n",
       "      <td>-0.112466</td>\n",
       "      <td>0.027800</td>\n",
       "      <td>0.222503</td>\n",
       "      <td>0.639397</td>\n",
       "      <td>...</td>\n",
       "      <td>-0.120943</td>\n",
       "      <td>0.102439</td>\n",
       "      <td>0.351638</td>\n",
       "      <td>0.180840</td>\n",
       "      <td>0.572238</td>\n",
       "      <td>-1.486248</td>\n",
       "      <td>0.147366</td>\n",
       "      <td>0.253324</td>\n",
       "      <td>0.291266</td>\n",
       "      <td>9.84</td>\n",
       "    </tr>\n",
       "  </tbody>\n",
       "</table>\n",
       "<p>5 rows × 30 columns</p>\n",
       "</div>"
      ],
      "text/plain": [
       "         0         1         2         3         4         5         6   \\\n",
       "0   23610.0  1.387525 -0.547811  0.076422 -0.739334 -0.519887 -0.026007   \n",
       "1   36516.0  1.021179 -0.194114  1.207791  1.738369 -0.659824  0.631864   \n",
       "2   60465.0 -1.134453  0.636843  2.457241  1.317848  0.605755  0.143546   \n",
       "3    7309.0 -0.851343  0.062000  1.406917 -1.669375  0.462639 -0.150804   \n",
       "4  115111.0 -0.040314  0.545458  0.831788 -0.515723  0.128584 -0.112466   \n",
       "\n",
       "         7         8         9   ...          20        21        22  \\\n",
       "0 -0.694673 -0.052100  0.378187  ...   -0.469630 -0.658299 -1.307286   \n",
       "1 -0.434168  0.227422  1.116400  ...   -0.090960 -0.386993 -0.664598   \n",
       "2  0.242076  0.371466 -1.315582  ...   -0.040412  0.328508  0.683118   \n",
       "3  0.403887  0.200460  1.968672  ...   -0.301203 -0.400262 -1.096108   \n",
       "4  0.027800  0.222503  0.639397  ...   -0.120943  0.102439  0.351638   \n",
       "\n",
       "         23        24        25        26        27        28     29  \n",
       "0 -0.013221 -0.912415  0.163178  0.920997 -0.096560 -0.014846  31.35  \n",
       "1  0.047173  0.106897  0.443932 -0.515898  0.091188  0.035959  41.29  \n",
       "2 -0.114294  0.203942  0.035426 -0.090987  0.057247  0.102961  23.27  \n",
       "3  0.023423 -0.842077 -0.301144  0.932506 -0.088128  0.076487  45.00  \n",
       "4  0.180840  0.572238 -1.486248  0.147366  0.253324  0.291266   9.84  \n",
       "\n",
       "[5 rows x 30 columns]"
      ]
     },
     "execution_count": 108,
     "metadata": {},
     "output_type": "execute_result"
    }
   ],
   "source": [
    "X_train_smote.head()"
   ]
  },
  {
   "cell_type": "code",
   "execution_count": 111,
   "metadata": {
    "collapsed": true
   },
   "outputs": [],
   "source": [
    "X_train_smote_1 = X_train_smote.set_index(0)"
   ]
  },
  {
   "cell_type": "code",
   "execution_count": 112,
   "metadata": {},
   "outputs": [
    {
     "data": {
      "text/html": [
       "<div>\n",
       "<style>\n",
       "    .dataframe thead tr:only-child th {\n",
       "        text-align: right;\n",
       "    }\n",
       "\n",
       "    .dataframe thead th {\n",
       "        text-align: left;\n",
       "    }\n",
       "\n",
       "    .dataframe tbody tr th {\n",
       "        vertical-align: top;\n",
       "    }\n",
       "</style>\n",
       "<table border=\"1\" class=\"dataframe\">\n",
       "  <thead>\n",
       "    <tr style=\"text-align: right;\">\n",
       "      <th></th>\n",
       "      <th>1</th>\n",
       "      <th>2</th>\n",
       "      <th>3</th>\n",
       "      <th>4</th>\n",
       "      <th>5</th>\n",
       "      <th>6</th>\n",
       "      <th>7</th>\n",
       "      <th>8</th>\n",
       "      <th>9</th>\n",
       "      <th>10</th>\n",
       "      <th>...</th>\n",
       "      <th>20</th>\n",
       "      <th>21</th>\n",
       "      <th>22</th>\n",
       "      <th>23</th>\n",
       "      <th>24</th>\n",
       "      <th>25</th>\n",
       "      <th>26</th>\n",
       "      <th>27</th>\n",
       "      <th>28</th>\n",
       "      <th>29</th>\n",
       "    </tr>\n",
       "    <tr>\n",
       "      <th>0</th>\n",
       "      <th></th>\n",
       "      <th></th>\n",
       "      <th></th>\n",
       "      <th></th>\n",
       "      <th></th>\n",
       "      <th></th>\n",
       "      <th></th>\n",
       "      <th></th>\n",
       "      <th></th>\n",
       "      <th></th>\n",
       "      <th></th>\n",
       "      <th></th>\n",
       "      <th></th>\n",
       "      <th></th>\n",
       "      <th></th>\n",
       "      <th></th>\n",
       "      <th></th>\n",
       "      <th></th>\n",
       "      <th></th>\n",
       "      <th></th>\n",
       "      <th></th>\n",
       "    </tr>\n",
       "  </thead>\n",
       "  <tbody>\n",
       "    <tr>\n",
       "      <th>23610.0</th>\n",
       "      <td>1.387525</td>\n",
       "      <td>-0.547811</td>\n",
       "      <td>0.076422</td>\n",
       "      <td>-0.739334</td>\n",
       "      <td>-0.519887</td>\n",
       "      <td>-0.026007</td>\n",
       "      <td>-0.694673</td>\n",
       "      <td>-0.052100</td>\n",
       "      <td>0.378187</td>\n",
       "      <td>0.488238</td>\n",
       "      <td>...</td>\n",
       "      <td>-0.469630</td>\n",
       "      <td>-0.658299</td>\n",
       "      <td>-1.307286</td>\n",
       "      <td>-0.013221</td>\n",
       "      <td>-0.912415</td>\n",
       "      <td>0.163178</td>\n",
       "      <td>0.920997</td>\n",
       "      <td>-0.096560</td>\n",
       "      <td>-0.014846</td>\n",
       "      <td>31.35</td>\n",
       "    </tr>\n",
       "    <tr>\n",
       "      <th>36516.0</th>\n",
       "      <td>1.021179</td>\n",
       "      <td>-0.194114</td>\n",
       "      <td>1.207791</td>\n",
       "      <td>1.738369</td>\n",
       "      <td>-0.659824</td>\n",
       "      <td>0.631864</td>\n",
       "      <td>-0.434168</td>\n",
       "      <td>0.227422</td>\n",
       "      <td>1.116400</td>\n",
       "      <td>-0.456468</td>\n",
       "      <td>...</td>\n",
       "      <td>-0.090960</td>\n",
       "      <td>-0.386993</td>\n",
       "      <td>-0.664598</td>\n",
       "      <td>0.047173</td>\n",
       "      <td>0.106897</td>\n",
       "      <td>0.443932</td>\n",
       "      <td>-0.515898</td>\n",
       "      <td>0.091188</td>\n",
       "      <td>0.035959</td>\n",
       "      <td>41.29</td>\n",
       "    </tr>\n",
       "    <tr>\n",
       "      <th>60465.0</th>\n",
       "      <td>-1.134453</td>\n",
       "      <td>0.636843</td>\n",
       "      <td>2.457241</td>\n",
       "      <td>1.317848</td>\n",
       "      <td>0.605755</td>\n",
       "      <td>0.143546</td>\n",
       "      <td>0.242076</td>\n",
       "      <td>0.371466</td>\n",
       "      <td>-1.315582</td>\n",
       "      <td>0.050471</td>\n",
       "      <td>...</td>\n",
       "      <td>-0.040412</td>\n",
       "      <td>0.328508</td>\n",
       "      <td>0.683118</td>\n",
       "      <td>-0.114294</td>\n",
       "      <td>0.203942</td>\n",
       "      <td>0.035426</td>\n",
       "      <td>-0.090987</td>\n",
       "      <td>0.057247</td>\n",
       "      <td>0.102961</td>\n",
       "      <td>23.27</td>\n",
       "    </tr>\n",
       "    <tr>\n",
       "      <th>7309.0</th>\n",
       "      <td>-0.851343</td>\n",
       "      <td>0.062000</td>\n",
       "      <td>1.406917</td>\n",
       "      <td>-1.669375</td>\n",
       "      <td>0.462639</td>\n",
       "      <td>-0.150804</td>\n",
       "      <td>0.403887</td>\n",
       "      <td>0.200460</td>\n",
       "      <td>1.968672</td>\n",
       "      <td>-1.666708</td>\n",
       "      <td>...</td>\n",
       "      <td>-0.301203</td>\n",
       "      <td>-0.400262</td>\n",
       "      <td>-1.096108</td>\n",
       "      <td>0.023423</td>\n",
       "      <td>-0.842077</td>\n",
       "      <td>-0.301144</td>\n",
       "      <td>0.932506</td>\n",
       "      <td>-0.088128</td>\n",
       "      <td>0.076487</td>\n",
       "      <td>45.00</td>\n",
       "    </tr>\n",
       "    <tr>\n",
       "      <th>115111.0</th>\n",
       "      <td>-0.040314</td>\n",
       "      <td>0.545458</td>\n",
       "      <td>0.831788</td>\n",
       "      <td>-0.515723</td>\n",
       "      <td>0.128584</td>\n",
       "      <td>-0.112466</td>\n",
       "      <td>0.027800</td>\n",
       "      <td>0.222503</td>\n",
       "      <td>0.639397</td>\n",
       "      <td>-1.146686</td>\n",
       "      <td>...</td>\n",
       "      <td>-0.120943</td>\n",
       "      <td>0.102439</td>\n",
       "      <td>0.351638</td>\n",
       "      <td>0.180840</td>\n",
       "      <td>0.572238</td>\n",
       "      <td>-1.486248</td>\n",
       "      <td>0.147366</td>\n",
       "      <td>0.253324</td>\n",
       "      <td>0.291266</td>\n",
       "      <td>9.84</td>\n",
       "    </tr>\n",
       "  </tbody>\n",
       "</table>\n",
       "<p>5 rows × 29 columns</p>\n",
       "</div>"
      ],
      "text/plain": [
       "                1         2         3         4         5         6   \\\n",
       "0                                                                      \n",
       "23610.0   1.387525 -0.547811  0.076422 -0.739334 -0.519887 -0.026007   \n",
       "36516.0   1.021179 -0.194114  1.207791  1.738369 -0.659824  0.631864   \n",
       "60465.0  -1.134453  0.636843  2.457241  1.317848  0.605755  0.143546   \n",
       "7309.0   -0.851343  0.062000  1.406917 -1.669375  0.462639 -0.150804   \n",
       "115111.0 -0.040314  0.545458  0.831788 -0.515723  0.128584 -0.112466   \n",
       "\n",
       "                7         8         9         10  ...          20        21  \\\n",
       "0                                                 ...                         \n",
       "23610.0  -0.694673 -0.052100  0.378187  0.488238  ...   -0.469630 -0.658299   \n",
       "36516.0  -0.434168  0.227422  1.116400 -0.456468  ...   -0.090960 -0.386993   \n",
       "60465.0   0.242076  0.371466 -1.315582  0.050471  ...   -0.040412  0.328508   \n",
       "7309.0    0.403887  0.200460  1.968672 -1.666708  ...   -0.301203 -0.400262   \n",
       "115111.0  0.027800  0.222503  0.639397 -1.146686  ...   -0.120943  0.102439   \n",
       "\n",
       "                22        23        24        25        26        27  \\\n",
       "0                                                                      \n",
       "23610.0  -1.307286 -0.013221 -0.912415  0.163178  0.920997 -0.096560   \n",
       "36516.0  -0.664598  0.047173  0.106897  0.443932 -0.515898  0.091188   \n",
       "60465.0   0.683118 -0.114294  0.203942  0.035426 -0.090987  0.057247   \n",
       "7309.0   -1.096108  0.023423 -0.842077 -0.301144  0.932506 -0.088128   \n",
       "115111.0  0.351638  0.180840  0.572238 -1.486248  0.147366  0.253324   \n",
       "\n",
       "                28     29  \n",
       "0                          \n",
       "23610.0  -0.014846  31.35  \n",
       "36516.0   0.035959  41.29  \n",
       "60465.0   0.102961  23.27  \n",
       "7309.0    0.076487  45.00  \n",
       "115111.0  0.291266   9.84  \n",
       "\n",
       "[5 rows x 29 columns]"
      ]
     },
     "execution_count": 112,
     "metadata": {},
     "output_type": "execute_result"
    }
   ],
   "source": [
    "X_train_smote_1.head()"
   ]
  },
  {
   "cell_type": "code",
   "execution_count": 113,
   "metadata": {
    "collapsed": true
   },
   "outputs": [],
   "source": [
    "X_train_smote_1.columns = ['V1', 'V2', 'V3', 'V4', 'V5', 'V6', 'V7', 'V8', 'V9', 'V10', 'V11', 'V12', 'V13', 'V14', 'V15', 'V16', 'V17', 'V18', 'V19', 'V20', 'V21', 'V22', 'V23', 'V24', 'V25', 'V26', 'V27', 'V28', 'Amount']"
   ]
  },
  {
   "cell_type": "code",
   "execution_count": 116,
   "metadata": {
    "collapsed": true
   },
   "outputs": [],
   "source": [
    "del X_train_smote_1.index.name"
   ]
  },
  {
   "cell_type": "code",
   "execution_count": 117,
   "metadata": {},
   "outputs": [
    {
     "data": {
      "text/html": [
       "<div>\n",
       "<style>\n",
       "    .dataframe thead tr:only-child th {\n",
       "        text-align: right;\n",
       "    }\n",
       "\n",
       "    .dataframe thead th {\n",
       "        text-align: left;\n",
       "    }\n",
       "\n",
       "    .dataframe tbody tr th {\n",
       "        vertical-align: top;\n",
       "    }\n",
       "</style>\n",
       "<table border=\"1\" class=\"dataframe\">\n",
       "  <thead>\n",
       "    <tr style=\"text-align: right;\">\n",
       "      <th></th>\n",
       "      <th>V1</th>\n",
       "      <th>V2</th>\n",
       "      <th>V3</th>\n",
       "      <th>V4</th>\n",
       "      <th>V5</th>\n",
       "      <th>V6</th>\n",
       "      <th>V7</th>\n",
       "      <th>V8</th>\n",
       "      <th>V9</th>\n",
       "      <th>V10</th>\n",
       "      <th>...</th>\n",
       "      <th>V20</th>\n",
       "      <th>V21</th>\n",
       "      <th>V22</th>\n",
       "      <th>V23</th>\n",
       "      <th>V24</th>\n",
       "      <th>V25</th>\n",
       "      <th>V26</th>\n",
       "      <th>V27</th>\n",
       "      <th>V28</th>\n",
       "      <th>Amount</th>\n",
       "    </tr>\n",
       "  </thead>\n",
       "  <tbody>\n",
       "    <tr>\n",
       "      <th>23610.0</th>\n",
       "      <td>1.387525</td>\n",
       "      <td>-0.547811</td>\n",
       "      <td>0.076422</td>\n",
       "      <td>-0.739334</td>\n",
       "      <td>-0.519887</td>\n",
       "      <td>-0.026007</td>\n",
       "      <td>-0.694673</td>\n",
       "      <td>-0.052100</td>\n",
       "      <td>0.378187</td>\n",
       "      <td>0.488238</td>\n",
       "      <td>...</td>\n",
       "      <td>-0.469630</td>\n",
       "      <td>-0.658299</td>\n",
       "      <td>-1.307286</td>\n",
       "      <td>-0.013221</td>\n",
       "      <td>-0.912415</td>\n",
       "      <td>0.163178</td>\n",
       "      <td>0.920997</td>\n",
       "      <td>-0.096560</td>\n",
       "      <td>-0.014846</td>\n",
       "      <td>31.35</td>\n",
       "    </tr>\n",
       "    <tr>\n",
       "      <th>36516.0</th>\n",
       "      <td>1.021179</td>\n",
       "      <td>-0.194114</td>\n",
       "      <td>1.207791</td>\n",
       "      <td>1.738369</td>\n",
       "      <td>-0.659824</td>\n",
       "      <td>0.631864</td>\n",
       "      <td>-0.434168</td>\n",
       "      <td>0.227422</td>\n",
       "      <td>1.116400</td>\n",
       "      <td>-0.456468</td>\n",
       "      <td>...</td>\n",
       "      <td>-0.090960</td>\n",
       "      <td>-0.386993</td>\n",
       "      <td>-0.664598</td>\n",
       "      <td>0.047173</td>\n",
       "      <td>0.106897</td>\n",
       "      <td>0.443932</td>\n",
       "      <td>-0.515898</td>\n",
       "      <td>0.091188</td>\n",
       "      <td>0.035959</td>\n",
       "      <td>41.29</td>\n",
       "    </tr>\n",
       "    <tr>\n",
       "      <th>60465.0</th>\n",
       "      <td>-1.134453</td>\n",
       "      <td>0.636843</td>\n",
       "      <td>2.457241</td>\n",
       "      <td>1.317848</td>\n",
       "      <td>0.605755</td>\n",
       "      <td>0.143546</td>\n",
       "      <td>0.242076</td>\n",
       "      <td>0.371466</td>\n",
       "      <td>-1.315582</td>\n",
       "      <td>0.050471</td>\n",
       "      <td>...</td>\n",
       "      <td>-0.040412</td>\n",
       "      <td>0.328508</td>\n",
       "      <td>0.683118</td>\n",
       "      <td>-0.114294</td>\n",
       "      <td>0.203942</td>\n",
       "      <td>0.035426</td>\n",
       "      <td>-0.090987</td>\n",
       "      <td>0.057247</td>\n",
       "      <td>0.102961</td>\n",
       "      <td>23.27</td>\n",
       "    </tr>\n",
       "    <tr>\n",
       "      <th>7309.0</th>\n",
       "      <td>-0.851343</td>\n",
       "      <td>0.062000</td>\n",
       "      <td>1.406917</td>\n",
       "      <td>-1.669375</td>\n",
       "      <td>0.462639</td>\n",
       "      <td>-0.150804</td>\n",
       "      <td>0.403887</td>\n",
       "      <td>0.200460</td>\n",
       "      <td>1.968672</td>\n",
       "      <td>-1.666708</td>\n",
       "      <td>...</td>\n",
       "      <td>-0.301203</td>\n",
       "      <td>-0.400262</td>\n",
       "      <td>-1.096108</td>\n",
       "      <td>0.023423</td>\n",
       "      <td>-0.842077</td>\n",
       "      <td>-0.301144</td>\n",
       "      <td>0.932506</td>\n",
       "      <td>-0.088128</td>\n",
       "      <td>0.076487</td>\n",
       "      <td>45.00</td>\n",
       "    </tr>\n",
       "    <tr>\n",
       "      <th>115111.0</th>\n",
       "      <td>-0.040314</td>\n",
       "      <td>0.545458</td>\n",
       "      <td>0.831788</td>\n",
       "      <td>-0.515723</td>\n",
       "      <td>0.128584</td>\n",
       "      <td>-0.112466</td>\n",
       "      <td>0.027800</td>\n",
       "      <td>0.222503</td>\n",
       "      <td>0.639397</td>\n",
       "      <td>-1.146686</td>\n",
       "      <td>...</td>\n",
       "      <td>-0.120943</td>\n",
       "      <td>0.102439</td>\n",
       "      <td>0.351638</td>\n",
       "      <td>0.180840</td>\n",
       "      <td>0.572238</td>\n",
       "      <td>-1.486248</td>\n",
       "      <td>0.147366</td>\n",
       "      <td>0.253324</td>\n",
       "      <td>0.291266</td>\n",
       "      <td>9.84</td>\n",
       "    </tr>\n",
       "  </tbody>\n",
       "</table>\n",
       "<p>5 rows × 29 columns</p>\n",
       "</div>"
      ],
      "text/plain": [
       "                V1        V2        V3        V4        V5        V6  \\\n",
       "23610.0   1.387525 -0.547811  0.076422 -0.739334 -0.519887 -0.026007   \n",
       "36516.0   1.021179 -0.194114  1.207791  1.738369 -0.659824  0.631864   \n",
       "60465.0  -1.134453  0.636843  2.457241  1.317848  0.605755  0.143546   \n",
       "7309.0   -0.851343  0.062000  1.406917 -1.669375  0.462639 -0.150804   \n",
       "115111.0 -0.040314  0.545458  0.831788 -0.515723  0.128584 -0.112466   \n",
       "\n",
       "                V7        V8        V9       V10   ...         V20       V21  \\\n",
       "23610.0  -0.694673 -0.052100  0.378187  0.488238   ...   -0.469630 -0.658299   \n",
       "36516.0  -0.434168  0.227422  1.116400 -0.456468   ...   -0.090960 -0.386993   \n",
       "60465.0   0.242076  0.371466 -1.315582  0.050471   ...   -0.040412  0.328508   \n",
       "7309.0    0.403887  0.200460  1.968672 -1.666708   ...   -0.301203 -0.400262   \n",
       "115111.0  0.027800  0.222503  0.639397 -1.146686   ...   -0.120943  0.102439   \n",
       "\n",
       "               V22       V23       V24       V25       V26       V27  \\\n",
       "23610.0  -1.307286 -0.013221 -0.912415  0.163178  0.920997 -0.096560   \n",
       "36516.0  -0.664598  0.047173  0.106897  0.443932 -0.515898  0.091188   \n",
       "60465.0   0.683118 -0.114294  0.203942  0.035426 -0.090987  0.057247   \n",
       "7309.0   -1.096108  0.023423 -0.842077 -0.301144  0.932506 -0.088128   \n",
       "115111.0  0.351638  0.180840  0.572238 -1.486248  0.147366  0.253324   \n",
       "\n",
       "               V28  Amount  \n",
       "23610.0  -0.014846   31.35  \n",
       "36516.0   0.035959   41.29  \n",
       "60465.0   0.102961   23.27  \n",
       "7309.0    0.076487   45.00  \n",
       "115111.0  0.291266    9.84  \n",
       "\n",
       "[5 rows x 29 columns]"
      ]
     },
     "execution_count": 117,
     "metadata": {},
     "output_type": "execute_result"
    }
   ],
   "source": [
    "X_train_smote_1.head()"
   ]
  },
  {
   "cell_type": "code",
   "execution_count": 118,
   "metadata": {},
   "outputs": [
    {
     "data": {
      "text/plain": [
       "(454880, 29)"
      ]
     },
     "execution_count": 118,
     "metadata": {},
     "output_type": "execute_result"
    }
   ],
   "source": [
    "X_train_smote_1.shape"
   ]
  },
  {
   "cell_type": "code",
   "execution_count": 119,
   "metadata": {},
   "outputs": [
    {
     "data": {
      "text/plain": [
       "(454880L,)"
      ]
     },
     "execution_count": 119,
     "metadata": {},
     "output_type": "execute_result"
    }
   ],
   "source": [
    "y_train_smote.shape"
   ]
  },
  {
   "cell_type": "code",
   "execution_count": null,
   "metadata": {
    "collapsed": true
   },
   "outputs": [],
   "source": [
    "xg_params = {\n",
    "    'colsample_bytree': [0.2],\n",
    "    'gamma':[0.01],\n",
    "    'learning_rate':[0.001, 0.01],\n",
    "    'max_depth':np.arange(3,7,1),\n",
    "    'n_estimators':[4000, 5000],                                                                  \n",
    "    'reg_alpha':[0.5,0.9],\n",
    "    'reg_lambda':[0.3, 0.4, 0.5],\n",
    "    'subsample': [0.2]\n",
    "}"
   ]
  },
  {
   "cell_type": "code",
   "execution_count": 122,
   "metadata": {},
   "outputs": [
    {
     "name": "stdout",
     "output_type": "stream",
     "text": [
      "Accuracy Score: 0.975825989256\n",
      "\n",
      "Average Precision Score: 0.0376052424411\n",
      "\n",
      "Average F1 Score: 0.0898876404494\n"
     ]
    },
    {
     "data": {
      "image/png": "[encoded data removed]",
      "text/plain": [
       "<matplotlib.figure.Figure at 0x15fb8fd0>"
      ]
     },
     "metadata": {},
     "output_type": "display_data"
    },
    {
     "name": "stdout",
     "output_type": "stream",
     "text": [
      "\n",
      "----------Classification Report------------------------------------\n",
      "             precision    recall  f1-score   support\n",
      "\n",
      "          0       1.00      0.98      0.99     56875\n",
      "          1       0.05      0.78      0.09        87\n",
      "\n",
      "avg / total       1.00      0.98      0.99     56962\n",
      "\n"
     ]
    }
   ],
   "source": [
    "xgb = XGBClassifier()\n",
    "xgb_grid_smote = GridSearchCV(xgb, param_grid=xg_params)\n",
    "xgb_model_smote = xgb_grid_smote.fit(X_train_smote_1, y_train_smote)\n",
    "\n",
    "xgb_pred_smote = xgb_model_smote.predict(X_test)\n",
    "\n",
    "model_scores(y_test, xgb_pred_smote)"
   ]
  },
  {
   "cell_type": "markdown",
   "metadata": {},
   "source": [
    "<a id='2.5'></a>\n",
    "# Neural Network\n",
    "\n",
    "Neural networks are modeled after biological neural networks and attempt to allow computers to learn in asimilar manner to humans. This is called reinforcement learning.  Use cases for neural networks include pattern recognition, time series predictions, signal processing, image recognition, and anomaly detection.\n",
    "\n",
    "The basic structure of a Artificial Neural Networks (ANN) is an input layer, hidden layers, and an output layer.  Real values from the data go in the input layer. The hidden layer is the Layers in between input and output. Three or more hidden layers is a deep network. Final estimate of the output is in the output layer. The ReLu and tanh activation functions tend to have the best performance.\n",
    "\n",
    "Cost functions, which will allow us to measure how well these neurons are performing. It measures how far off we are from the expected value. We can use our neurons and the measurement of error (our cost function) and then attempt to correct our prediction using Gradient Descent. Gradient descent is an optimization algorithm for finding the minimum of a function. To find a local minimum, we take steps proportional to the negative of the gradient. Using gradient descent we can figure out the best parameters for minimizing our cost, for example, finding the best values for the weights of the neuron inputs.\n",
    "\n",
    "We use back propagation to quickly adjust the optimal parameters or weights across our entire network. Backpropagation works by calculating  the error at the output and then distributes back through the network layers. It relies heavily on the chain rule to go back through the network and calculate these errors. \n"
   ]
  },
  {
   "cell_type": "code",
   "execution_count": 71,
   "metadata": {},
   "outputs": [
    {
     "name": "stderr",
     "output_type": "stream",
     "text": [
      "Using TensorFlow backend.\n"
     ]
    }
   ],
   "source": [
    "# Import necessary modules\n",
    "import keras\n",
    "from keras.layers import Dense\n",
    "from keras.models import Sequential"
   ]
  },
  {
   "cell_type": "code",
   "execution_count": 87,
   "metadata": {
    "collapsed": true
   },
   "outputs": [],
   "source": [
    "# Save the number of columns in predictors: n_cols\n",
    "n_cols = predictors.shape[1]"
   ]
  },
  {
   "cell_type": "code",
   "execution_count": 72,
   "metadata": {
    "collapsed": true
   },
   "outputs": [],
   "source": [
    "# Set up the model: model\n",
    "model = Sequential()"
   ]
  },
  {
   "cell_type": "code",
   "execution_count": 73,
   "metadata": {
    "collapsed": true
   },
   "outputs": [],
   "source": [
    "# pandas function to read in a csv file\n",
    "df = pd.read_csv('creditcard.csv')"
   ]
  },
  {
   "cell_type": "code",
   "execution_count": 74,
   "metadata": {
    "collapsed": true
   },
   "outputs": [],
   "source": [
    "target = df['Class']\n",
    "predictors = df.iloc[:,:-1]"
   ]
  },
  {
   "cell_type": "code",
   "execution_count": 75,
   "metadata": {
    "collapsed": true
   },
   "outputs": [],
   "source": [
    "target = np.array( target, dtype=np.int ) \n",
    "predictors = np.array( predictors, dtype=np.float32 )"
   ]
  },
  {
   "cell_type": "code",
   "execution_count": 76,
   "metadata": {
    "collapsed": true
   },
   "outputs": [],
   "source": [
    "# Set up the model: model\n",
    "model = Sequential()"
   ]
  },
  {
   "cell_type": "code",
   "execution_count": 81,
   "metadata": {
    "collapsed": true
   },
   "outputs": [],
   "source": [
    "# Add the first layer\n",
    "model.add(Dense(100, activation='relu', input_shape=(n_cols,)))"
   ]
  },
  {
   "cell_type": "code",
   "execution_count": 82,
   "metadata": {
    "collapsed": true
   },
   "outputs": [],
   "source": [
    "# Add the second layer\n",
    "model.add(Dense(100, activation='relu'))"
   ]
  },
  {
   "cell_type": "code",
   "execution_count": 83,
   "metadata": {
    "collapsed": true
   },
   "outputs": [],
   "source": [
    "# Add the third layer\n",
    "model.add(Dense(100, activation='relu'))"
   ]
  },
  {
   "cell_type": "code",
   "execution_count": 84,
   "metadata": {
    "collapsed": true
   },
   "outputs": [],
   "source": [
    "# Add the output layer\n",
    "model.add(Dense(1))"
   ]
  },
  {
   "cell_type": "code",
   "execution_count": 85,
   "metadata": {},
   "outputs": [
    {
     "name": "stdout",
     "output_type": "stream",
     "text": [
      "\n",
      "\n",
      "Testing model with learning rate: 0.000001\n",
      "\n",
      "Train on 199364 samples, validate on 85443 samples\n",
      "Epoch 1/30\n",
      "199364/199364 [==============================] - 10s - loss: 1.0792 - acc: 5.0160e-06 - val_loss: 0.0204 - val_acc: 0.0000e+00\n",
      "Epoch 2/30\n",
      "199364/199364 [==============================] - 10s - loss: 0.0310 - acc: 0.0000e+00 - val_loss: 0.0204 - val_acc: 0.0000e+00\n",
      "Epoch 3/30\n",
      "199364/199364 [==============================] - 10s - loss: 0.0310 - acc: 0.0000e+00 - val_loss: 0.0204 - val_acc: 0.0000e+00\n",
      "Epoch 4/30\n",
      "199364/199364 [==============================] - 10s - loss: 0.0310 - acc: 0.0000e+00 - val_loss: 0.0204 - val_acc: 0.0000e+00\n",
      "\n",
      "\n",
      "Testing model with learning rate: 0.010000\n",
      "\n",
      "Train on 199364 samples, validate on 85443 samples\n",
      "Epoch 1/30\n",
      "199364/199364 [==============================] - 10s - loss: 0.0310 - acc: 0.0000e+00 - val_loss: 0.0204 - val_acc: 0.0000e+00\n",
      "Epoch 2/30\n",
      "199364/199364 [==============================] - 10s - loss: 0.0310 - acc: 0.0000e+00 - val_loss: 0.0204 - val_acc: 0.0000e+00\n",
      "Epoch 3/30\n",
      "199364/199364 [==============================] - 10s - loss: 0.0310 - acc: 0.0000e+00 - val_loss: 0.0204 - val_acc: 0.0000e+00\n",
      "Epoch 4/30\n",
      "199364/199364 [==============================] - 10s - loss: 0.0310 - acc: 0.0000e+00 - val_loss: 0.0204 - val_acc: 0.0000e+00\n",
      "\n",
      "\n",
      "Testing model with learning rate: 1.000000\n",
      "\n",
      "Train on 199364 samples, validate on 85443 samples\n",
      "Epoch 1/30\n",
      "199364/199364 [==============================] - 10s - loss: 0.0310 - acc: 0.0000e+00 - val_loss: 0.0204 - val_acc: 0.0000e+00\n",
      "Epoch 2/30\n",
      "199364/199364 [==============================] - 10s - loss: 0.0310 - acc: 0.0000e+00 - val_loss: 0.0204 - val_acc: 0.0000e+00 - acc: 0.0000e+\n",
      "Epoch 3/30\n",
      "199364/199364 [==============================] - 10s - loss: 0.0310 - acc: 0.0000e+00 - val_loss: 0.0204 - val_acc: 0.0000e+00\n",
      "Epoch 4/30\n",
      "199364/199364 [==============================] - 11s - loss: 0.0310 - acc: 0.0000e+00 - val_loss: 0.0204 - val_acc: 0.0000e+00\n"
     ]
    }
   ],
   "source": [
    "# Import the SGD optimizer\n",
    "from keras.optimizers import SGD\n",
    "\n",
    "# Import EarlyStopping\n",
    "from keras.callbacks import EarlyStopping\n",
    "\n",
    "# Create list of learning rates: lr_to_test\n",
    "lr_to_test = [.000001, 0.01, 1]\n",
    "\n",
    "# Loop over learning rates\n",
    "for lr in lr_to_test:\n",
    "    print('\\n\\nTesting model with learning rate: %f\\n'%lr )\n",
    "    \n",
    "    # Create SGD optimizer with specified learning rate: my_optimizer\n",
    "    my_optimizer = SGD(lr=lr)\n",
    "    \n",
    "    # Compile the model\n",
    "    model.compile(optimizer='sgd', loss='binary_crossentropy', metrics=['accuracy'])\n",
    "    #model.compile(loss='binary_crossentropy', optimizer='sgd, metrics=['accuracy'])\n",
    "    \n",
    "    # Define early_stopping_monitor\n",
    "    early_stopping_monitor = EarlyStopping(patience=2)\n",
    "\n",
    "    # Fit the model\n",
    "    model.fit(predictors, target, validation_split=.3, epochs=30, callbacks=[early_stopping_monitor])"
   ]
  },
  {
   "cell_type": "markdown",
   "metadata": {
    "collapsed": true
   },
   "source": [
    "## Results\n",
    "\n",
    "The six different algorithms that were used in this study were logistic regression, random forest classifer, support vector classifier, XGBoost, and Neural Networks. The oversampling techniques were random over sampling and synthetic minority oversampling techinque (SMOTE). The undersampling techniques were random under sampling, edited nearest neighbor, and condensed nearest neighbors. I focused on the f1 score in my analysis.  It is also a valid measure of an accurate model. It is the harmonic mean of precision and recall, and will be more insensitive to imbalanced data.\n",
    "\n",
    "Of the six different algorithms that were used to predict this imbalanced data seet, the best algorithm was random forest classifier, without under or oversampling, with an average F1 score of .82.  Second place went to XGBoost without under or oversampling with an average F1 score of .68. Third place went to logistic regression utilizing an L1 regularization penalty with an average F1 score of .66 and logistic regression with under sampling utilizing edited nearest neighbors also with an average F1 score of .66. Fourth place went to Random Forest Classifier with oversampling using SMOTE with an average F1 score of .62. "
   ]
  }
 ],
 "metadata": {
  "anaconda-cloud": {},
  "kernelspec": {
   "display_name": "Python 2",
   "language": "python",
   "name": "python2"
  },
  "language_info": {
   "codemirror_mode": {
    "name": "ipython",
    "version": 2
   },
   "file_extension": ".py",
   "mimetype": "text/x-python",
   "name": "python",
   "nbconvert_exporter": "python",
   "pygments_lexer": "ipython2",
   "version": "2.7.14"
  },
  "widgets": {
   "state": {
    "6678932194ae419e924e62e42278f7e0": {
     "views": [
      {
       "cell_index": 35
      }
     ]
    },
    "ca037cb860df44e49b29d4682be07547": {
     "views": [
      {
       "cell_index": 10
      }
     ]
    }
   },
   "version": "1.2.0"
  }
 },
 "nbformat": 4,
 "nbformat_minor": 1
}
